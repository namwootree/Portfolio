{
  "cells": [
    {
      "cell_type": "markdown",
      "metadata": {
        "id": "view-in-github",
        "colab_type": "text"
      },
      "source": [
        "<a href=\"https://colab.research.google.com/github/namwootree/Portfolio/blob/main/Personal/%ED%8C%94%EB%8B%B9%EB%8C%90%20%ED%99%8D%EC%88%98%20%EC%95%88%EC%A0%84%EC%9A%B4%EC%98%81%EC%97%90%20%EB%94%B0%EB%A5%B8%20%ED%95%9C%EA%B0%95%20%EC%88%98%EC%9C%84%EC%98%88%EC%B8%A1%20AI%20%EA%B2%BD%EC%A7%84%EB%8C%80%ED%9A%8C/GRU.ipynb\" target=\"_parent\"><img src=\"https://colab.research.google.com/assets/colab-badge.svg\" alt=\"Open In Colab\"/></a>"
      ]
    },
    {
      "cell_type": "code",
      "execution_count": 1,
      "metadata": {
        "id": "4AMPi41U14EL"
      },
      "outputs": [],
      "source": [
        "import warnings\n",
        "warnings.filterwarnings(\"ignore\")"
      ]
    },
    {
      "cell_type": "code",
      "execution_count": 2,
      "metadata": {
        "colab": {
          "base_uri": "https://localhost:8080/"
        },
        "id": "URtkCEO616BV",
        "outputId": "57b13464-b935-4303-c05f-1c5e4f58048f"
      },
      "outputs": [
        {
          "output_type": "stream",
          "name": "stdout",
          "text": [
            "Mounted at /content/drive\n"
          ]
        }
      ],
      "source": [
        "from google.colab import drive\n",
        "drive.mount('/content/drive')"
      ]
    },
    {
      "cell_type": "code",
      "execution_count": 3,
      "metadata": {
        "id": "WRMXW8WA1kpL"
      },
      "outputs": [],
      "source": [
        "import pandas as pd\n",
        "import numpy as np\n",
        "\n",
        "from glob import glob\n",
        "from tqdm import tqdm\n",
        "from scipy import interpolate\n",
        "\n",
        "import tensorflow as tf\n",
        "from keras.models import Sequential\n",
        "from keras.layers import Dense, LSTM, GRU, AveragePooling1D, GlobalAveragePooling1D\n",
        "\n",
        "import os"
      ]
    },
    {
      "cell_type": "code",
      "source": [
        "# GPU 자원이 부족한 경우 아래 코드를 이용하세요\n",
        "from tensorflow.compat.v1 import ConfigProto\n",
        "from tensorflow.compat.v1 import InteractiveSession\n",
        "\n",
        "config = ConfigProto()\n",
        "config.gpu_options.allow_growth = True\n",
        "session = InteractiveSession(config=config)"
      ],
      "metadata": {
        "id": "afkcsLzd-XOV"
      },
      "execution_count": 4,
      "outputs": []
    },
    {
      "cell_type": "code",
      "execution_count": 5,
      "metadata": {
        "colab": {
          "base_uri": "https://localhost:8080/"
        },
        "id": "ePmmIZfA1yIp",
        "outputId": "e7074d91-8af6-45c9-d129-55c892f46f4b"
      },
      "outputs": [
        {
          "output_type": "execute_result",
          "data": {
            "text/plain": [
              "['/content/drive/MyDrive/시계열/팔당댐/water_data/data_2012.csv',\n",
              " '/content/drive/MyDrive/시계열/팔당댐/water_data/data_2013.csv',\n",
              " '/content/drive/MyDrive/시계열/팔당댐/water_data/data_2014.csv',\n",
              " '/content/drive/MyDrive/시계열/팔당댐/water_data/data_2015.csv',\n",
              " '/content/drive/MyDrive/시계열/팔당댐/water_data/data_2016.csv',\n",
              " '/content/drive/MyDrive/시계열/팔당댐/water_data/data_2017.csv',\n",
              " '/content/drive/MyDrive/시계열/팔당댐/water_data/data_2018.csv',\n",
              " '/content/drive/MyDrive/시계열/팔당댐/water_data/data_2019.csv',\n",
              " '/content/drive/MyDrive/시계열/팔당댐/water_data/data_2020.csv',\n",
              " '/content/drive/MyDrive/시계열/팔당댐/water_data/data_2021.csv',\n",
              " '/content/drive/MyDrive/시계열/팔당댐/water_data/data_2022.csv']"
            ]
          },
          "metadata": {},
          "execution_count": 5
        }
      ],
      "source": [
        "w_list = sorted(glob(\"/content/drive/MyDrive/시계열/팔당댐/water_data/*.csv\"))\n",
        "w_list"
      ]
    },
    {
      "cell_type": "code",
      "execution_count": 6,
      "metadata": {
        "colab": {
          "base_uri": "https://localhost:8080/"
        },
        "id": "xyYzU7ysTzyz",
        "outputId": "92ea3a97-1445-4f9b-af0d-2a92b41e0ab2"
      },
      "outputs": [
        {
          "output_type": "execute_result",
          "data": {
            "text/plain": [
              "(26496, 15)"
            ]
          },
          "metadata": {},
          "execution_count": 6
        }
      ],
      "source": [
        "pd.read_csv(w_list[0]).shape"
      ]
    },
    {
      "cell_type": "code",
      "execution_count": 7,
      "metadata": {
        "colab": {
          "base_uri": "https://localhost:8080/",
          "height": 288
        },
        "id": "37vMw6QxT2CM",
        "outputId": "1c049ba2-5695-4004-f28b-22c945f1da6e"
      },
      "outputs": [
        {
          "output_type": "execute_result",
          "data": {
            "text/plain": [
              "              ymdhm     swl    inf     sfw   ecpc  tototf  tide_level  \\\n",
              "0  2012-05-01 00:00  24.800  555.0  219.07  24.93   555.0       445.0   \n",
              "1  2012-05-01 00:10  24.794  464.6  218.86  25.15   562.9       449.0   \n",
              "2  2012-05-01 00:20  24.789  478.1  218.69  25.31   576.4       451.0   \n",
              "3  2012-05-01 00:30  24.789  464.8  218.69  25.31   563.1       452.0   \n",
              "\n",
              "   wl_1018662  fw_1018662  wl_1018680  fw_1018680  wl_1018683  fw_1018683  \\\n",
              "0       310.7      469.05       300.2         0.0       290.0      729.80   \n",
              "1       314.7      498.00       300.2         0.0       290.0      731.48   \n",
              "2       313.7      490.68       301.2         0.0       290.0      726.42   \n",
              "3       311.7      476.21       301.2         0.0       290.0      726.42   \n",
              "\n",
              "   wl_1019630  fw_1019630  \n",
              "0       275.3      540.18  \n",
              "1       275.3      540.18  \n",
              "2       275.3      540.18  \n",
              "3       276.3      552.17  "
            ],
            "text/html": [
              "\n",
              "  <div id=\"df-053026ff-8436-46a4-81aa-d4eed6465bfe\">\n",
              "    <div class=\"colab-df-container\">\n",
              "      <div>\n",
              "<style scoped>\n",
              "    .dataframe tbody tr th:only-of-type {\n",
              "        vertical-align: middle;\n",
              "    }\n",
              "\n",
              "    .dataframe tbody tr th {\n",
              "        vertical-align: top;\n",
              "    }\n",
              "\n",
              "    .dataframe thead th {\n",
              "        text-align: right;\n",
              "    }\n",
              "</style>\n",
              "<table border=\"1\" class=\"dataframe\">\n",
              "  <thead>\n",
              "    <tr style=\"text-align: right;\">\n",
              "      <th></th>\n",
              "      <th>ymdhm</th>\n",
              "      <th>swl</th>\n",
              "      <th>inf</th>\n",
              "      <th>sfw</th>\n",
              "      <th>ecpc</th>\n",
              "      <th>tototf</th>\n",
              "      <th>tide_level</th>\n",
              "      <th>wl_1018662</th>\n",
              "      <th>fw_1018662</th>\n",
              "      <th>wl_1018680</th>\n",
              "      <th>fw_1018680</th>\n",
              "      <th>wl_1018683</th>\n",
              "      <th>fw_1018683</th>\n",
              "      <th>wl_1019630</th>\n",
              "      <th>fw_1019630</th>\n",
              "    </tr>\n",
              "  </thead>\n",
              "  <tbody>\n",
              "    <tr>\n",
              "      <th>0</th>\n",
              "      <td>2012-05-01 00:00</td>\n",
              "      <td>24.800</td>\n",
              "      <td>555.0</td>\n",
              "      <td>219.07</td>\n",
              "      <td>24.93</td>\n",
              "      <td>555.0</td>\n",
              "      <td>445.0</td>\n",
              "      <td>310.7</td>\n",
              "      <td>469.05</td>\n",
              "      <td>300.2</td>\n",
              "      <td>0.0</td>\n",
              "      <td>290.0</td>\n",
              "      <td>729.80</td>\n",
              "      <td>275.3</td>\n",
              "      <td>540.18</td>\n",
              "    </tr>\n",
              "    <tr>\n",
              "      <th>1</th>\n",
              "      <td>2012-05-01 00:10</td>\n",
              "      <td>24.794</td>\n",
              "      <td>464.6</td>\n",
              "      <td>218.86</td>\n",
              "      <td>25.15</td>\n",
              "      <td>562.9</td>\n",
              "      <td>449.0</td>\n",
              "      <td>314.7</td>\n",
              "      <td>498.00</td>\n",
              "      <td>300.2</td>\n",
              "      <td>0.0</td>\n",
              "      <td>290.0</td>\n",
              "      <td>731.48</td>\n",
              "      <td>275.3</td>\n",
              "      <td>540.18</td>\n",
              "    </tr>\n",
              "    <tr>\n",
              "      <th>2</th>\n",
              "      <td>2012-05-01 00:20</td>\n",
              "      <td>24.789</td>\n",
              "      <td>478.1</td>\n",
              "      <td>218.69</td>\n",
              "      <td>25.31</td>\n",
              "      <td>576.4</td>\n",
              "      <td>451.0</td>\n",
              "      <td>313.7</td>\n",
              "      <td>490.68</td>\n",
              "      <td>301.2</td>\n",
              "      <td>0.0</td>\n",
              "      <td>290.0</td>\n",
              "      <td>726.42</td>\n",
              "      <td>275.3</td>\n",
              "      <td>540.18</td>\n",
              "    </tr>\n",
              "    <tr>\n",
              "      <th>3</th>\n",
              "      <td>2012-05-01 00:30</td>\n",
              "      <td>24.789</td>\n",
              "      <td>464.8</td>\n",
              "      <td>218.69</td>\n",
              "      <td>25.31</td>\n",
              "      <td>563.1</td>\n",
              "      <td>452.0</td>\n",
              "      <td>311.7</td>\n",
              "      <td>476.21</td>\n",
              "      <td>301.2</td>\n",
              "      <td>0.0</td>\n",
              "      <td>290.0</td>\n",
              "      <td>726.42</td>\n",
              "      <td>276.3</td>\n",
              "      <td>552.17</td>\n",
              "    </tr>\n",
              "  </tbody>\n",
              "</table>\n",
              "</div>\n",
              "      <button class=\"colab-df-convert\" onclick=\"convertToInteractive('df-053026ff-8436-46a4-81aa-d4eed6465bfe')\"\n",
              "              title=\"Convert this dataframe to an interactive table.\"\n",
              "              style=\"display:none;\">\n",
              "        \n",
              "  <svg xmlns=\"http://www.w3.org/2000/svg\" height=\"24px\"viewBox=\"0 0 24 24\"\n",
              "       width=\"24px\">\n",
              "    <path d=\"M0 0h24v24H0V0z\" fill=\"none\"/>\n",
              "    <path d=\"M18.56 5.44l.94 2.06.94-2.06 2.06-.94-2.06-.94-.94-2.06-.94 2.06-2.06.94zm-11 1L8.5 8.5l.94-2.06 2.06-.94-2.06-.94L8.5 2.5l-.94 2.06-2.06.94zm10 10l.94 2.06.94-2.06 2.06-.94-2.06-.94-.94-2.06-.94 2.06-2.06.94z\"/><path d=\"M17.41 7.96l-1.37-1.37c-.4-.4-.92-.59-1.43-.59-.52 0-1.04.2-1.43.59L10.3 9.45l-7.72 7.72c-.78.78-.78 2.05 0 2.83L4 21.41c.39.39.9.59 1.41.59.51 0 1.02-.2 1.41-.59l7.78-7.78 2.81-2.81c.8-.78.8-2.07 0-2.86zM5.41 20L4 18.59l7.72-7.72 1.47 1.35L5.41 20z\"/>\n",
              "  </svg>\n",
              "      </button>\n",
              "      \n",
              "  <style>\n",
              "    .colab-df-container {\n",
              "      display:flex;\n",
              "      flex-wrap:wrap;\n",
              "      gap: 12px;\n",
              "    }\n",
              "\n",
              "    .colab-df-convert {\n",
              "      background-color: #E8F0FE;\n",
              "      border: none;\n",
              "      border-radius: 50%;\n",
              "      cursor: pointer;\n",
              "      display: none;\n",
              "      fill: #1967D2;\n",
              "      height: 32px;\n",
              "      padding: 0 0 0 0;\n",
              "      width: 32px;\n",
              "    }\n",
              "\n",
              "    .colab-df-convert:hover {\n",
              "      background-color: #E2EBFA;\n",
              "      box-shadow: 0px 1px 2px rgba(60, 64, 67, 0.3), 0px 1px 3px 1px rgba(60, 64, 67, 0.15);\n",
              "      fill: #174EA6;\n",
              "    }\n",
              "\n",
              "    [theme=dark] .colab-df-convert {\n",
              "      background-color: #3B4455;\n",
              "      fill: #D2E3FC;\n",
              "    }\n",
              "\n",
              "    [theme=dark] .colab-df-convert:hover {\n",
              "      background-color: #434B5C;\n",
              "      box-shadow: 0px 1px 3px 1px rgba(0, 0, 0, 0.15);\n",
              "      filter: drop-shadow(0px 1px 2px rgba(0, 0, 0, 0.3));\n",
              "      fill: #FFFFFF;\n",
              "    }\n",
              "  </style>\n",
              "\n",
              "      <script>\n",
              "        const buttonEl =\n",
              "          document.querySelector('#df-053026ff-8436-46a4-81aa-d4eed6465bfe button.colab-df-convert');\n",
              "        buttonEl.style.display =\n",
              "          google.colab.kernel.accessAllowed ? 'block' : 'none';\n",
              "\n",
              "        async function convertToInteractive(key) {\n",
              "          const element = document.querySelector('#df-053026ff-8436-46a4-81aa-d4eed6465bfe');\n",
              "          const dataTable =\n",
              "            await google.colab.kernel.invokeFunction('convertToInteractive',\n",
              "                                                     [key], {});\n",
              "          if (!dataTable) return;\n",
              "\n",
              "          const docLinkHtml = 'Like what you see? Visit the ' +\n",
              "            '<a target=\"_blank\" href=https://colab.research.google.com/notebooks/data_table.ipynb>data table notebook</a>'\n",
              "            + ' to learn more about interactive tables.';\n",
              "          element.innerHTML = '';\n",
              "          dataTable['output_type'] = 'display_data';\n",
              "          await google.colab.output.renderOutput(dataTable, element);\n",
              "          const docLink = document.createElement('div');\n",
              "          docLink.innerHTML = docLinkHtml;\n",
              "          element.appendChild(docLink);\n",
              "        }\n",
              "      </script>\n",
              "    </div>\n",
              "  </div>\n",
              "  "
            ]
          },
          "metadata": {},
          "execution_count": 7
        }
      ],
      "source": [
        "pd.read_csv(w_list[0]).head(4)"
      ]
    },
    {
      "cell_type": "code",
      "execution_count": 8,
      "metadata": {
        "colab": {
          "base_uri": "https://localhost:8080/"
        },
        "id": "kt2rQh7_T4A9",
        "outputId": "22de12b2-f4be-4f30-b2df-c8046be2d889"
      },
      "outputs": [
        {
          "output_type": "stream",
          "name": "stderr",
          "text": [
            "100%|██████████| 26064/26064 [00:27<00:00, 957.62it/s]\n",
            "100%|██████████| 26064/26064 [00:26<00:00, 985.74it/s]\n",
            "100%|██████████| 26064/26064 [00:26<00:00, 975.00it/s]\n",
            "100%|██████████| 26064/26064 [00:26<00:00, 989.18it/s]\n",
            "100%|██████████| 26064/26064 [00:26<00:00, 975.59it/s]\n",
            "100%|██████████| 26064/26064 [00:26<00:00, 984.78it/s]\n",
            "100%|██████████| 26064/26064 [00:26<00:00, 970.23it/s]\n",
            "100%|██████████| 26064/26064 [00:26<00:00, 991.28it/s]\n",
            "100%|██████████| 26064/26064 [00:25<00:00, 1020.06it/s]\n",
            "100%|██████████| 26064/26064 [00:26<00:00, 1000.73it/s]\n"
          ]
        }
      ],
      "source": [
        "train_data = []\n",
        "train_label = []\n",
        "num = 0\n",
        "\n",
        "for i in w_list[:-1]:\n",
        "    \n",
        "    tmp = pd.read_csv(i)\n",
        "    tmp = tmp.replace(\" \", np.nan)\n",
        "    tmp = tmp.interpolate(method = 'cubic')\n",
        "    tmp = tmp.fillna(0)\n",
        "    \n",
        "    for j in tqdm(range(len(tmp)-432)):\n",
        "        train_data.append(np.array(tmp.loc[j:j + 431, [\"swl\", \"inf\", \"sfw\", \"ecpc\",\n",
        "                                                       \"tototf\", \"tide_level\",\n",
        "                                                       \"fw_1018662\", \"fw_1018680\",\n",
        "                                                       \"fw_1018683\", \"fw_1019630\"]]).astype(float))\n",
        "        \n",
        "        train_label.append(np.array(tmp.loc[j + 432, [\"wl_1018662\", \"wl_1018680\",\n",
        "                                                      \"wl_1018683\", \"wl_1019630\"]]).astype(float))"
      ]
    },
    {
      "cell_type": "code",
      "execution_count": 9,
      "metadata": {
        "colab": {
          "base_uri": "https://localhost:8080/"
        },
        "id": "ICTm5qtfT_wL",
        "outputId": "2e4ff8e8-1ea1-4514-b9eb-93643e81b40d"
      },
      "outputs": [
        {
          "output_type": "stream",
          "name": "stdout",
          "text": [
            "(260640, 432, 10)\n",
            "(260640, 4)\n"
          ]
        }
      ],
      "source": [
        "train_data = np.array(train_data)\n",
        "train_label = np.array(train_label)\n",
        "\n",
        "print(train_data.shape)\n",
        "print(train_label.shape)"
      ]
    },
    {
      "cell_type": "code",
      "execution_count": 10,
      "metadata": {
        "id": "cm9imhcOW0Ku",
        "colab": {
          "base_uri": "https://localhost:8080/"
        },
        "outputId": "c8687522-2b5c-4cab-a585-d2a3adce56c3"
      },
      "outputs": [
        {
          "output_type": "stream",
          "name": "stderr",
          "text": [
            "100%|██████████| 6912/6912 [00:07<00:00, 916.25it/s]\n"
          ]
        }
      ],
      "source": [
        "test_data = []\n",
        "test_label = []\n",
        "\n",
        "tmp = pd.read_csv(w_list[-1])\n",
        "tmp = tmp.replace(\" \", np.nan)\n",
        "\n",
        "# 이전값을 사용\n",
        "tmp = tmp.fillna(method = 'pad')\n",
        "tmp = tmp.fillna(0)\n",
        "    \n",
        "#tmp.loc[:, [\"wl_1018662\", \"wl_1018680\", \"wl_1018683\", \"wl_1019630\"]] = tmp.loc[:, [\"wl_1018662\", \"wl_1018680\", \"wl_1018683\", \"wl_1019630\"]]*100\n",
        "    \n",
        "for j in tqdm(range(4032, len(tmp)-432)):\n",
        "    test_data.append(np.array(tmp.loc[j:j + 431, [\"swl\", \"inf\", \"sfw\", \"ecpc\",\n",
        "                                                    \"tototf\", \"tide_level\",\n",
        "                                                    \"fw_1018662\", \"fw_1018680\",\n",
        "                                                    \"fw_1018683\", \"fw_1019630\"]]).astype(float))\n",
        "        \n",
        "    test_label.append(np.array(tmp.loc[j + 432, [\"wl_1018662\", \"wl_1018680\",\n",
        "                                                    \"wl_1018683\", \"wl_1019630\"]]).astype(float))"
      ]
    },
    {
      "cell_type": "code",
      "execution_count": 11,
      "metadata": {
        "id": "ZSM-7KGz_DpV",
        "colab": {
          "base_uri": "https://localhost:8080/"
        },
        "outputId": "f9c5b074-1eba-4a5d-db11-939b618a43ba"
      },
      "outputs": [
        {
          "output_type": "stream",
          "name": "stdout",
          "text": [
            "(6912, 432, 10)\n",
            "(6912, 4)\n"
          ]
        }
      ],
      "source": [
        "test_data = np.array(test_data)\n",
        "test_label = np.array(test_label)\n",
        "\n",
        "print(test_data.shape)\n",
        "print(test_label.shape)"
      ]
    },
    {
      "cell_type": "code",
      "execution_count": 12,
      "metadata": {
        "id": "FWJoHj_2V7xU"
      },
      "outputs": [],
      "source": [
        "# Deep Neural Network\n",
        "from tensorflow.keras import layers, models\n",
        "from keras.layers.core import Dense, Activation, Dropout\n",
        "from keras.layers.recurrent import LSTM, GRU\n",
        "from keras.models import Sequential\n",
        "import time"
      ]
    },
    {
      "cell_type": "code",
      "execution_count": 13,
      "metadata": {
        "id": "nueLESQOaPmJ"
      },
      "outputs": [],
      "source": [
        "from tensorflow.keras.metrics import RootMeanSquaredError"
      ]
    },
    {
      "cell_type": "code",
      "execution_count": 14,
      "metadata": {
        "id": "vcQfwyIvc50w"
      },
      "outputs": [],
      "source": [
        "from keras import backend as K\n",
        "\n",
        "def root_mean_squared_error(y_true, y_pred):\n",
        "        return K.sqrt(K.mean(K.square(y_pred - y_true), axis=-1)) "
      ]
    },
    {
      "cell_type": "code",
      "source": [
        "tf.keras.initializers.Initializer()\n",
        "input_shape = (train_data[0].shape[0], train_data[0].shape[1])\n",
        "\n",
        "model = Sequential()\n",
        "model.add(GRU(512, input_shape=input_shape, return_sequences=True, dropout=0.2))\n",
        "model.add(GRU(512, dropout=0.2))\n",
        "model.add(Dense(256, activation = 'relu'))\n",
        "model.add(Dropout(0.2))\n",
        "model.add(Dense(128, activation = 'relu'))\n",
        "model.add(Dropout(0.2))\n",
        "model.add(Dense(4, activation = 'relu'))\n"
      ],
      "metadata": {
        "id": "xRPKH-SpBP5o"
      },
      "execution_count": 15,
      "outputs": []
    },
    {
      "cell_type": "code",
      "source": [
        "optimizer = tf.keras.optimizers.Adadelta(\n",
        "    learning_rate=0.001, rho=0.95, epsilon=1e-07)"
      ],
      "metadata": {
        "id": "Cn92lf3CKL86"
      },
      "execution_count": 16,
      "outputs": []
    },
    {
      "cell_type": "code",
      "source": [
        "model.compile(optimizer = optimizer, loss = root_mean_squared_error, metrics=[RootMeanSquaredError()])"
      ],
      "metadata": {
        "id": "lDPw2Ki7L604"
      },
      "execution_count": 17,
      "outputs": []
    },
    {
      "cell_type": "code",
      "execution_count": null,
      "metadata": {
        "colab": {
          "base_uri": "https://localhost:8080/"
        },
        "id": "QYdKkHw8WhcJ",
        "outputId": "9871a6a9-f1fb-41ae-8e87-1773add00fde"
      },
      "outputs": [
        {
          "output_type": "stream",
          "name": "stdout",
          "text": [
            "Epoch 1/10\n",
            "3666/3666 [==============================] - 9828s 3s/step - loss: 118.7333 - root_mean_squared_error: 172.4123 - val_loss: 20.9838 - val_root_mean_squared_error: 26.7974\n",
            "Epoch 2/10\n",
            "3666/3666 [==============================] - 9714s 3s/step - loss: 47.6196 - root_mean_squared_error: 71.9928 - val_loss: 17.9294 - val_root_mean_squared_error: 22.4381\n",
            "Epoch 3/10\n",
            "3666/3666 [==============================] - 9455s 3s/step - loss: 42.9650 - root_mean_squared_error: 64.7251 - val_loss: 13.6887 - val_root_mean_squared_error: 16.8122\n",
            "Epoch 4/10\n",
            "3666/3666 [==============================] - 9626s 3s/step - loss: 40.2654 - root_mean_squared_error: 59.8261 - val_loss: 12.8562 - val_root_mean_squared_error: 15.7975\n",
            "Epoch 5/10\n",
            "3666/3666 [==============================] - 9810s 3s/step - loss: 38.7510 - root_mean_squared_error: 56.7164 - val_loss: 13.5816 - val_root_mean_squared_error: 16.9027\n",
            "Epoch 6/10\n",
            "3666/3666 [==============================] - 9881s 3s/step - loss: 37.4972 - root_mean_squared_error: 54.0503 - val_loss: 14.0898 - val_root_mean_squared_error: 17.4820\n",
            "Epoch 7/10\n",
            "3666/3666 [==============================] - 9857s 3s/step - loss: 36.4747 - root_mean_squared_error: 51.9672 - val_loss: 15.4945 - val_root_mean_squared_error: 18.7728\n",
            "Epoch 8/10\n",
            "3592/3666 [============================>.] - ETA: 3:15 - loss: 35.6012 - root_mean_squared_error: 50.2431"
          ]
        }
      ],
      "source": [
        "model.fit(train_data, train_label, epochs=10, batch_size=64, validation_split=0.1)"
      ]
    },
    {
      "cell_type": "code",
      "execution_count": null,
      "metadata": {
        "id": "8-M1gfmK_F1_"
      },
      "outputs": [],
      "source": [
        "pred = model.predict(test_data)\n",
        "pred = pd.DataFrame(pred)"
      ]
    },
    {
      "cell_type": "code",
      "execution_count": null,
      "metadata": {
        "id": "S7uGFEZK_H7j"
      },
      "outputs": [],
      "source": [
        "sample_submission = pd.read_csv(\"/content/drive/MyDrive/시계열/팔당댐/sample_submission.csv\")\n",
        "\n",
        "sample_submission[\"wl_1018662\"] = pred[0]\n",
        "sample_submission[\"wl_1018680\"] = pred[1]\n",
        "sample_submission[\"wl_1018683\"] = pred[2]\n",
        "sample_submission[\"wl_1019630\"] = pred[3]"
      ]
    },
    {
      "cell_type": "code",
      "execution_count": null,
      "metadata": {
        "id": "X9uWFP25_TA7"
      },
      "outputs": [],
      "source": [
        "sample_submission.to_csv(\"다층_lstm.csv\", index = False)"
      ]
    },
    {
      "cell_type": "code",
      "execution_count": null,
      "metadata": {
        "id": "TC_jQWIwVEuc"
      },
      "outputs": [],
      "source": [
        ""
      ]
    }
  ],
  "metadata": {
    "colab": {
      "background_execution": "on",
      "collapsed_sections": [],
      "machine_shape": "hm",
      "name": "LSTM.ipynb",
      "provenance": [],
      "include_colab_link": true
    },
    "gpuClass": "standard",
    "kernelspec": {
      "display_name": "Python 3",
      "name": "python3"
    },
    "language_info": {
      "name": "python"
    },
    "accelerator": "GPU"
  },
  "nbformat": 4,
  "nbformat_minor": 0
}