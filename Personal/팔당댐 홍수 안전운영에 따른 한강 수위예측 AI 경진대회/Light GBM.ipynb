{
 "cells": [
  {
   "cell_type": "markdown",
   "metadata": {
    "id": "yoWCWwcfCrRW"
   },
   "source": [
    "# Explaining "
   ]
  },
  {
   "cell_type": "markdown",
   "metadata": {
    "id": "TT6gpM1oCvsu"
   },
   "source": [
    "│   ├ ymdhm : 년월일시분\n",
    "\n",
    "│   ├ swl : 팔당댐 현재수위 (단위: El.m)\n",
    "\n",
    "│   ├ inf : 팔당댐 유입량 (단위: m^3/s)\n",
    "\n",
    "│   ├ sfw : 팔당댐 저수량 (단위: 만m^3)\n",
    "\n",
    "│   ├ ecpc : 팔당댐 공용량 (단위: 백만m^3)\n",
    "\n",
    "│   ├ tototf : 총 방류량 (단위: m^3/s)\n",
    "\n",
    "│   ├ tide_level : 강화대교 조위 (단위: cm)\n",
    "\n",
    "│   ├ wl_1018662 : 청담대교 수위 (단위: cm)\n",
    "\n",
    "│   ├ fw_1018662 : 청담대교 유량 (단위: m^3/s)\n",
    "\n",
    "│   ├ wl_1018680 : 잠수교 수위 (단위: cm)\n",
    "\n",
    "│   ├ fw_1018680 : 잠수교 유량 (단위: m^3/s)\n",
    "\n",
    "│   ├ wl_1018683 : 한강대교 수위 (단위: cm)\n",
    "\n",
    "│   ├ fw_1018683 : 한강대교 유량 (단위: m^3/s)\n",
    "\n",
    "│   ├ wl_1019630 : 행주대교 수위 (단위: cm)\n",
    "\n",
    "│   └ fw_1019630 : 행주대교 유량 (단위: m^3/s)\n",
    "\n",
    "│   ├ rf_10184100 : 대곡교 강수량\n",
    "\n",
    "│   ├ rf_10184110 : 진관교 강수량\n",
    "\n",
    "│   └ rf_10184140 : 송정동 강수량"
   ]
  },
  {
   "cell_type": "markdown",
   "metadata": {
    "id": "oCwX74buUeGE"
   },
   "source": [
    "# Setting"
   ]
  },
  {
   "cell_type": "code",
   "execution_count": 1,
   "metadata": {
    "id": "zMuxzLfYIkIP"
   },
   "outputs": [],
   "source": [
    "import warnings\n",
    "warnings.filterwarnings(\"ignore\")"
   ]
  },
  {
   "cell_type": "code",
   "execution_count": 2,
   "metadata": {
    "colab": {
     "base_uri": "https://localhost:8080/"
    },
    "id": "l2BSL3GHInru",
    "outputId": "5a3677e6-efd0-4200-fdc5-57f23f1b79ea"
   },
   "outputs": [],
   "source": [
    "# from google.colab import drive\n",
    "# drive.mount('/content/drive')"
   ]
  },
  {
   "cell_type": "code",
   "execution_count": 3,
   "metadata": {
    "id": "4Pv9xw2_LY3e"
   },
   "outputs": [],
   "source": [
    "import os\n",
    "\n",
    "import numpy as np\n",
    "import pandas as pd\n",
    "\n",
    "from tqdm.notebook import tqdm"
   ]
  },
  {
   "cell_type": "code",
   "execution_count": 4,
   "metadata": {
    "id": "-r8B2-NXzqX6"
   },
   "outputs": [],
   "source": [
    "import matplotlib.pyplot as plt\n",
    "import matplotlib as mpl\n",
    "import seaborn as sns"
   ]
  },
  {
   "cell_type": "code",
   "execution_count": 5,
   "metadata": {
    "id": "rnusETwrYANL"
   },
   "outputs": [],
   "source": [
    "from sklearn.impute import KNNImputer"
   ]
  },
  {
   "cell_type": "markdown",
   "metadata": {
    "id": "zFiWuFCmU0Pm"
   },
   "source": [
    "# Load Data"
   ]
  },
  {
   "cell_type": "code",
   "execution_count": 6,
   "metadata": {
    "id": "8vD0DrRWKONs"
   },
   "outputs": [],
   "source": [
    "def read_csv_by_dir(path, index_col=None):\n",
    "\n",
    "    df_raw = pd.DataFrame()\n",
    "\n",
    "    for files in os.listdir(path):\n",
    "\n",
    "        if files.endswith('.csv'):\n",
    "\n",
    "            df = pd.read_csv('/'.join([path,files]), index_col=index_col)\n",
    "\n",
    "        df_raw = pd.concat((df_raw,df),axis=0)\n",
    "        \n",
    "    return df_raw"
   ]
  },
  {
   "cell_type": "code",
   "execution_count": 7,
   "metadata": {
    "id": "6Cx0e2vSLZMN"
   },
   "outputs": [],
   "source": [
    "# path = '/content/drive/MyDrive/시계열/팔당댐'\n",
    "path = '/Users/namwoo/Desktop/팔당댐'\n",
    "\n",
    "df_rf_raw = read_csv_by_dir('/'.join([path,'rf_data']), index_col=None)\n",
    "\n",
    "df_water_raw = read_csv_by_dir('/'.join([path,'water_data']), index_col=None)\n",
    "\n",
    "submission_raw = pd.read_csv('/'.join([path,'sample_submission.csv']), index_col=0)"
   ]
  },
  {
   "cell_type": "code",
   "execution_count": 8,
   "metadata": {
    "id": "fSHmjSwWLk93"
   },
   "outputs": [],
   "source": [
    "# raw_data 보존하기\n",
    "df_rf = df_rf_raw.copy()\n",
    "df_rf.name = \"rain_data\"\n",
    "\n",
    "df_water = df_water_raw.copy()\n",
    "df_water.name = \"water_data\"\n",
    "\n",
    "submission = submission_raw.copy()\n",
    "submission.name = \"submission\""
   ]
  },
  {
   "cell_type": "code",
   "execution_count": 9,
   "metadata": {
    "colab": {
     "base_uri": "https://localhost:8080/",
     "height": 702
    },
    "id": "r_FHOuUQLovY",
    "outputId": "b2261373-c84f-4326-e2b6-9f36118461c5"
   },
   "outputs": [
    {
     "data": {
      "text/html": [
       "<div>\n",
       "<style scoped>\n",
       "    .dataframe tbody tr th:only-of-type {\n",
       "        vertical-align: middle;\n",
       "    }\n",
       "\n",
       "    .dataframe tbody tr th {\n",
       "        vertical-align: top;\n",
       "    }\n",
       "\n",
       "    .dataframe thead th {\n",
       "        text-align: right;\n",
       "    }\n",
       "</style>\n",
       "<table border=\"1\" class=\"dataframe\">\n",
       "  <thead>\n",
       "    <tr style=\"text-align: right;\">\n",
       "      <th></th>\n",
       "      <th>ymdhm</th>\n",
       "      <th>rf_10184100</th>\n",
       "      <th>rf_10184110</th>\n",
       "      <th>rf_10184140</th>\n",
       "    </tr>\n",
       "  </thead>\n",
       "  <tbody>\n",
       "    <tr>\n",
       "      <th>0</th>\n",
       "      <td>2022-05-01 00:00</td>\n",
       "      <td>0.0</td>\n",
       "      <td>0.0</td>\n",
       "      <td>0.0</td>\n",
       "    </tr>\n",
       "    <tr>\n",
       "      <th>1</th>\n",
       "      <td>2022-05-01 00:10</td>\n",
       "      <td>0.0</td>\n",
       "      <td>0.0</td>\n",
       "      <td>0.0</td>\n",
       "    </tr>\n",
       "    <tr>\n",
       "      <th>2</th>\n",
       "      <td>2022-05-01 00:20</td>\n",
       "      <td>0.0</td>\n",
       "      <td>0.0</td>\n",
       "      <td>0.0</td>\n",
       "    </tr>\n",
       "    <tr>\n",
       "      <th>3</th>\n",
       "      <td>2022-05-01 00:30</td>\n",
       "      <td>0.0</td>\n",
       "      <td>0.0</td>\n",
       "      <td>0.0</td>\n",
       "    </tr>\n",
       "    <tr>\n",
       "      <th>4</th>\n",
       "      <td>2022-05-01 00:40</td>\n",
       "      <td>0.0</td>\n",
       "      <td>0.0</td>\n",
       "      <td>0.0</td>\n",
       "    </tr>\n",
       "  </tbody>\n",
       "</table>\n",
       "</div>"
      ],
      "text/plain": [
       "              ymdhm  rf_10184100  rf_10184110  rf_10184140\n",
       "0  2022-05-01 00:00          0.0          0.0          0.0\n",
       "1  2022-05-01 00:10          0.0          0.0          0.0\n",
       "2  2022-05-01 00:20          0.0          0.0          0.0\n",
       "3  2022-05-01 00:30          0.0          0.0          0.0\n",
       "4  2022-05-01 00:40          0.0          0.0          0.0"
      ]
     },
     "metadata": {},
     "output_type": "display_data"
    },
    {
     "data": {
      "text/html": [
       "<div>\n",
       "<style scoped>\n",
       "    .dataframe tbody tr th:only-of-type {\n",
       "        vertical-align: middle;\n",
       "    }\n",
       "\n",
       "    .dataframe tbody tr th {\n",
       "        vertical-align: top;\n",
       "    }\n",
       "\n",
       "    .dataframe thead th {\n",
       "        text-align: right;\n",
       "    }\n",
       "</style>\n",
       "<table border=\"1\" class=\"dataframe\">\n",
       "  <thead>\n",
       "    <tr style=\"text-align: right;\">\n",
       "      <th></th>\n",
       "      <th>ymdhm</th>\n",
       "      <th>swl</th>\n",
       "      <th>inf</th>\n",
       "      <th>sfw</th>\n",
       "      <th>ecpc</th>\n",
       "      <th>tototf</th>\n",
       "      <th>tide_level</th>\n",
       "      <th>wl_1018662</th>\n",
       "      <th>fw_1018662</th>\n",
       "      <th>wl_1018680</th>\n",
       "      <th>fw_1018680</th>\n",
       "      <th>wl_1018683</th>\n",
       "      <th>fw_1018683</th>\n",
       "      <th>wl_1019630</th>\n",
       "      <th>fw_1019630</th>\n",
       "    </tr>\n",
       "  </thead>\n",
       "  <tbody>\n",
       "    <tr>\n",
       "      <th>0</th>\n",
       "      <td>2021-05-01 00:00</td>\n",
       "      <td>24.93</td>\n",
       "      <td>0.0</td>\n",
       "      <td>208.88</td>\n",
       "      <td>35.12</td>\n",
       "      <td>138.0</td>\n",
       "      <td>311.0</td>\n",
       "      <td>361.7</td>\n",
       "      <td>905.32</td>\n",
       "      <td>346.2</td>\n",
       "      <td>NaN</td>\n",
       "      <td>340.0</td>\n",
       "      <td>983.18</td>\n",
       "      <td>301.3</td>\n",
       "      <td>895.58</td>\n",
       "    </tr>\n",
       "    <tr>\n",
       "      <th>1</th>\n",
       "      <td>2021-05-01 00:10</td>\n",
       "      <td>24.93</td>\n",
       "      <td>0.0</td>\n",
       "      <td>208.88</td>\n",
       "      <td>35.12</td>\n",
       "      <td>138.0</td>\n",
       "      <td>297.0</td>\n",
       "      <td>356.7</td>\n",
       "      <td>856.07</td>\n",
       "      <td>338.2</td>\n",
       "      <td>NaN</td>\n",
       "      <td>335.0</td>\n",
       "      <td>1285.80</td>\n",
       "      <td>308.3</td>\n",
       "      <td>1006.88</td>\n",
       "    </tr>\n",
       "    <tr>\n",
       "      <th>2</th>\n",
       "      <td>2021-05-01 00:20</td>\n",
       "      <td>24.92</td>\n",
       "      <td>0.0</td>\n",
       "      <td>208.52</td>\n",
       "      <td>35.48</td>\n",
       "      <td>138.0</td>\n",
       "      <td>283.0</td>\n",
       "      <td>347.7</td>\n",
       "      <td>770.98</td>\n",
       "      <td>331.2</td>\n",
       "      <td>NaN</td>\n",
       "      <td>331.0</td>\n",
       "      <td>1381.43</td>\n",
       "      <td>313.3</td>\n",
       "      <td>1090.45</td>\n",
       "    </tr>\n",
       "    <tr>\n",
       "      <th>3</th>\n",
       "      <td>2021-05-01 00:30</td>\n",
       "      <td>24.92</td>\n",
       "      <td>0.0</td>\n",
       "      <td>208.52</td>\n",
       "      <td>35.48</td>\n",
       "      <td>151.0</td>\n",
       "      <td>271.0</td>\n",
       "      <td>337.7</td>\n",
       "      <td>681.80</td>\n",
       "      <td>327.2</td>\n",
       "      <td>NaN</td>\n",
       "      <td>329.0</td>\n",
       "      <td>1359.95</td>\n",
       "      <td>315.3</td>\n",
       "      <td>1124.83</td>\n",
       "    </tr>\n",
       "    <tr>\n",
       "      <th>4</th>\n",
       "      <td>2021-05-01 00:40</td>\n",
       "      <td>24.92</td>\n",
       "      <td>0.0</td>\n",
       "      <td>208.52</td>\n",
       "      <td>35.48</td>\n",
       "      <td>151.0</td>\n",
       "      <td>259.0</td>\n",
       "      <td>328.7</td>\n",
       "      <td>606.35</td>\n",
       "      <td>323.2</td>\n",
       "      <td>NaN</td>\n",
       "      <td>327.0</td>\n",
       "      <td>1267.65</td>\n",
       "      <td>316.3</td>\n",
       "      <td>1142.22</td>\n",
       "    </tr>\n",
       "  </tbody>\n",
       "</table>\n",
       "</div>"
      ],
      "text/plain": [
       "              ymdhm    swl  inf     sfw   ecpc  tototf  tide_level  \\\n",
       "0  2021-05-01 00:00  24.93  0.0  208.88  35.12   138.0       311.0   \n",
       "1  2021-05-01 00:10  24.93  0.0  208.88  35.12   138.0       297.0   \n",
       "2  2021-05-01 00:20  24.92  0.0  208.52  35.48   138.0       283.0   \n",
       "3  2021-05-01 00:30  24.92  0.0  208.52  35.48   151.0       271.0   \n",
       "4  2021-05-01 00:40  24.92  0.0  208.52  35.48   151.0       259.0   \n",
       "\n",
       "   wl_1018662  fw_1018662  wl_1018680  fw_1018680  wl_1018683  fw_1018683  \\\n",
       "0       361.7      905.32       346.2         NaN       340.0      983.18   \n",
       "1       356.7      856.07       338.2         NaN       335.0     1285.80   \n",
       "2       347.7      770.98       331.2         NaN       331.0     1381.43   \n",
       "3       337.7      681.80       327.2         NaN       329.0     1359.95   \n",
       "4       328.7      606.35       323.2         NaN       327.0     1267.65   \n",
       "\n",
       "   wl_1019630  fw_1019630  \n",
       "0       301.3      895.58  \n",
       "1       308.3     1006.88  \n",
       "2       313.3     1090.45  \n",
       "3       315.3     1124.83  \n",
       "4       316.3     1142.22  "
      ]
     },
     "metadata": {},
     "output_type": "display_data"
    },
    {
     "data": {
      "text/html": [
       "<div>\n",
       "<style scoped>\n",
       "    .dataframe tbody tr th:only-of-type {\n",
       "        vertical-align: middle;\n",
       "    }\n",
       "\n",
       "    .dataframe tbody tr th {\n",
       "        vertical-align: top;\n",
       "    }\n",
       "\n",
       "    .dataframe thead th {\n",
       "        text-align: right;\n",
       "    }\n",
       "</style>\n",
       "<table border=\"1\" class=\"dataframe\">\n",
       "  <thead>\n",
       "    <tr style=\"text-align: right;\">\n",
       "      <th></th>\n",
       "      <th>wl_1018662</th>\n",
       "      <th>wl_1018680</th>\n",
       "      <th>wl_1018683</th>\n",
       "      <th>wl_1019630</th>\n",
       "    </tr>\n",
       "    <tr>\n",
       "      <th>ymdhm</th>\n",
       "      <th></th>\n",
       "      <th></th>\n",
       "      <th></th>\n",
       "      <th></th>\n",
       "    </tr>\n",
       "  </thead>\n",
       "  <tbody>\n",
       "    <tr>\n",
       "      <th>2022-06-01 00:00</th>\n",
       "      <td>0</td>\n",
       "      <td>0</td>\n",
       "      <td>0</td>\n",
       "      <td>0</td>\n",
       "    </tr>\n",
       "    <tr>\n",
       "      <th>2022-06-01 00:10</th>\n",
       "      <td>0</td>\n",
       "      <td>0</td>\n",
       "      <td>0</td>\n",
       "      <td>0</td>\n",
       "    </tr>\n",
       "    <tr>\n",
       "      <th>2022-06-01 00:20</th>\n",
       "      <td>0</td>\n",
       "      <td>0</td>\n",
       "      <td>0</td>\n",
       "      <td>0</td>\n",
       "    </tr>\n",
       "    <tr>\n",
       "      <th>2022-06-01 00:30</th>\n",
       "      <td>0</td>\n",
       "      <td>0</td>\n",
       "      <td>0</td>\n",
       "      <td>0</td>\n",
       "    </tr>\n",
       "    <tr>\n",
       "      <th>2022-06-01 00:40</th>\n",
       "      <td>0</td>\n",
       "      <td>0</td>\n",
       "      <td>0</td>\n",
       "      <td>0</td>\n",
       "    </tr>\n",
       "  </tbody>\n",
       "</table>\n",
       "</div>"
      ],
      "text/plain": [
       "                  wl_1018662  wl_1018680  wl_1018683  wl_1019630\n",
       "ymdhm                                                           \n",
       "2022-06-01 00:00           0           0           0           0\n",
       "2022-06-01 00:10           0           0           0           0\n",
       "2022-06-01 00:20           0           0           0           0\n",
       "2022-06-01 00:30           0           0           0           0\n",
       "2022-06-01 00:40           0           0           0           0"
      ]
     },
     "metadata": {},
     "output_type": "display_data"
    }
   ],
   "source": [
    "display(df_rf_raw.head(),\n",
    "        df_water.head(),\n",
    "        submission.head())"
   ]
  },
  {
   "cell_type": "code",
   "execution_count": 10,
   "metadata": {
    "colab": {
     "base_uri": "https://localhost:8080/"
    },
    "id": "ql94Pz3RV7nS",
    "outputId": "d478a38e-d483-41bc-c991-59e1546a9e2e"
   },
   "outputs": [
    {
     "name": "stdout",
     "output_type": "stream",
     "text": [
      "(276336, 4) (276336, 15) (6912, 4)\n"
     ]
    }
   ],
   "source": [
    "print(df_rf.shape,\n",
    "        df_water.shape,\n",
    "        submission.shape)"
   ]
  },
  {
   "cell_type": "markdown",
   "metadata": {
    "id": "yfkOdXtvWGrX"
   },
   "source": [
    "# Data preprocessing"
   ]
  },
  {
   "cell_type": "markdown",
   "metadata": {
    "id": "dO6234GJgwwY"
   },
   "source": [
    "## 날짜, 시간 columns 생성"
   ]
  },
  {
   "cell_type": "code",
   "execution_count": 11,
   "metadata": {
    "id": "Lk2wVJ6raEJi"
   },
   "outputs": [],
   "source": [
    "def day_time_split(df):\n",
    "\n",
    "  col_year = []\n",
    "  col_month = []\n",
    "  col_week = []\n",
    "\n",
    "  col_hour = []\n",
    "  # col_minute = []\n",
    "\n",
    "  for info in tqdm(df['ymdhm']):\n",
    "\n",
    "    list_info = info.split()\n",
    "    date = list_info[0]\n",
    "    time = list_info[-1]\n",
    "\n",
    "    list_date = date.split('-')\n",
    "    year = list_date[0]\n",
    "    month = list_date[1]\n",
    "    day = list_date[-1]\n",
    "\n",
    "    col_year.append(year)\n",
    "    col_month.append(month)\n",
    "\n",
    "    day = int(day)\n",
    "\n",
    "    if day <= 7:\n",
    "      week = 1\n",
    "\n",
    "    elif day <=14:\n",
    "      week = 2\n",
    "    \n",
    "    elif day <= 21:\n",
    "      week = 3\n",
    "    \n",
    "    elif day <= 28:\n",
    "      week = 4\n",
    "    \n",
    "    else:\n",
    "      week = 5\n",
    "  \n",
    "    col_week.append(str(week))\n",
    "\n",
    "    list_time = time.split(':')\n",
    "    hour = list_time[0]\n",
    "    # minute = list_time[-1]\n",
    "\n",
    "    col_hour.append(hour)\n",
    "    # col_minute.append(int(minute))\n",
    "\n",
    "  df['year'] = col_year\n",
    "  df['month'] = col_month\n",
    "  df['week'] = col_week\n",
    "\n",
    "  df['hour'] = col_hour\n",
    "  #ㅍdf['minute'] = col_minute\n",
    "\n",
    "  df.set_index('ymdhm', drop=True, inplace=True)\n",
    "\n",
    "  return df"
   ]
  },
  {
   "cell_type": "code",
   "execution_count": 12,
   "metadata": {
    "colab": {
     "base_uri": "https://localhost:8080/",
     "height": 81,
     "referenced_widgets": [
      "cc4e041f0e824a9e8234385b028075cd",
      "befc9728daff4c1499aecff9c94d1218",
      "e0d5102a2de74fc5832f4d10b4a56fbd",
      "f66b08b4a04043e384f283c297cb0c9a",
      "a6497b846c054ce5baeba7ef5c9b3d60",
      "da1ac6d1ebf749b89e7726c9839a4d69",
      "b8ddb9337f9c4730a0c009e6e6c5ac1c",
      "3544695dc3374f6c8a75573abe69cb73",
      "30915c6da8c44c55a40c706838ad80b8",
      "77eb903e15c94cf297d7092da6730df7",
      "d28e68454cc149aabae2bccab9388133",
      "537ea186fa3e42a99e8716e3c6e3593c",
      "f29d93791e4a4b73ae4f47592fac4969",
      "f2459feeebf94e369aebf4f5af17a384",
      "e0f47af0c41e4211a1a38b9cbac69683",
      "96b24b02c2f94e94b14475d4808fe54e",
      "67f786ab657548c1af1de2b22372ccc5",
      "bf14395c7cd44c7a824a72bbdfb928fe",
      "7156e9820fcc416884ffbda0eaa65fb8",
      "d7216d182590451d9d54ac926d1cdb39",
      "9725e1df6d0b4a95a6955b3a1822d89e",
      "16c02fbf0444485dbc1273942dc31a68"
     ]
    },
    "id": "qlLkpwmYc64F",
    "outputId": "d45c8c0f-e90c-48bf-be4b-2a844d46b8ce"
   },
   "outputs": [
    {
     "data": {
      "application/vnd.jupyter.widget-view+json": {
       "model_id": "5b5747bd48814ded856068bf8e7864a7",
       "version_major": 2,
       "version_minor": 0
      },
      "text/plain": [
       "  0%|          | 0/276336 [00:00<?, ?it/s]"
      ]
     },
     "metadata": {},
     "output_type": "display_data"
    },
    {
     "data": {
      "application/vnd.jupyter.widget-view+json": {
       "model_id": "dd0ed26392634636ac90db11f0ad8cc4",
       "version_major": 2,
       "version_minor": 0
      },
      "text/plain": [
       "  0%|          | 0/276336 [00:00<?, ?it/s]"
      ]
     },
     "metadata": {},
     "output_type": "display_data"
    }
   ],
   "source": [
    "df_rf = day_time_split(df_rf)\n",
    "df_water = day_time_split(df_water)"
   ]
  },
  {
   "cell_type": "markdown",
   "metadata": {
    "id": "ylcCiw-kg0j4"
   },
   "source": [
    "## index format 변경"
   ]
  },
  {
   "cell_type": "code",
   "execution_count": 13,
   "metadata": {
    "id": "mP5nyB_JLtin"
   },
   "outputs": [],
   "source": [
    "def index_to_datetime(df,format):\n",
    "\n",
    "    df.index = pd.to_datetime(df.index, format=format)\n",
    "\n",
    "    return df"
   ]
  },
  {
   "cell_type": "code",
   "execution_count": 14,
   "metadata": {
    "colab": {
     "base_uri": "https://localhost:8080/",
     "height": 455
    },
    "id": "Yfpsv0JQOIVe",
    "outputId": "d5e9022a-96e5-4bba-d7d1-9272e1d41100"
   },
   "outputs": [
    {
     "data": {
      "text/html": [
       "<div>\n",
       "<style scoped>\n",
       "    .dataframe tbody tr th:only-of-type {\n",
       "        vertical-align: middle;\n",
       "    }\n",
       "\n",
       "    .dataframe tbody tr th {\n",
       "        vertical-align: top;\n",
       "    }\n",
       "\n",
       "    .dataframe thead th {\n",
       "        text-align: right;\n",
       "    }\n",
       "</style>\n",
       "<table border=\"1\" class=\"dataframe\">\n",
       "  <thead>\n",
       "    <tr style=\"text-align: right;\">\n",
       "      <th></th>\n",
       "      <th>rf_10184100</th>\n",
       "      <th>rf_10184110</th>\n",
       "      <th>rf_10184140</th>\n",
       "      <th>year</th>\n",
       "      <th>month</th>\n",
       "      <th>week</th>\n",
       "      <th>hour</th>\n",
       "    </tr>\n",
       "    <tr>\n",
       "      <th>ymdhm</th>\n",
       "      <th></th>\n",
       "      <th></th>\n",
       "      <th></th>\n",
       "      <th></th>\n",
       "      <th></th>\n",
       "      <th></th>\n",
       "      <th></th>\n",
       "    </tr>\n",
       "  </thead>\n",
       "  <tbody>\n",
       "    <tr>\n",
       "      <th>2022-05-01 00:00</th>\n",
       "      <td>0.0</td>\n",
       "      <td>0.0</td>\n",
       "      <td>0.0</td>\n",
       "      <td>2022</td>\n",
       "      <td>05</td>\n",
       "      <td>1</td>\n",
       "      <td>00</td>\n",
       "    </tr>\n",
       "    <tr>\n",
       "      <th>2022-05-01 00:10</th>\n",
       "      <td>0.0</td>\n",
       "      <td>0.0</td>\n",
       "      <td>0.0</td>\n",
       "      <td>2022</td>\n",
       "      <td>05</td>\n",
       "      <td>1</td>\n",
       "      <td>00</td>\n",
       "    </tr>\n",
       "    <tr>\n",
       "      <th>2022-05-01 00:20</th>\n",
       "      <td>0.0</td>\n",
       "      <td>0.0</td>\n",
       "      <td>0.0</td>\n",
       "      <td>2022</td>\n",
       "      <td>05</td>\n",
       "      <td>1</td>\n",
       "      <td>00</td>\n",
       "    </tr>\n",
       "    <tr>\n",
       "      <th>2022-05-01 00:30</th>\n",
       "      <td>0.0</td>\n",
       "      <td>0.0</td>\n",
       "      <td>0.0</td>\n",
       "      <td>2022</td>\n",
       "      <td>05</td>\n",
       "      <td>1</td>\n",
       "      <td>00</td>\n",
       "    </tr>\n",
       "    <tr>\n",
       "      <th>2022-05-01 00:40</th>\n",
       "      <td>0.0</td>\n",
       "      <td>0.0</td>\n",
       "      <td>0.0</td>\n",
       "      <td>2022</td>\n",
       "      <td>05</td>\n",
       "      <td>1</td>\n",
       "      <td>00</td>\n",
       "    </tr>\n",
       "    <tr>\n",
       "      <th>...</th>\n",
       "      <td>...</td>\n",
       "      <td>...</td>\n",
       "      <td>...</td>\n",
       "      <td>...</td>\n",
       "      <td>...</td>\n",
       "      <td>...</td>\n",
       "      <td>...</td>\n",
       "    </tr>\n",
       "    <tr>\n",
       "      <th>2013-10-31 23:10</th>\n",
       "      <td>0.0</td>\n",
       "      <td>0.0</td>\n",
       "      <td>0.0</td>\n",
       "      <td>2013</td>\n",
       "      <td>10</td>\n",
       "      <td>5</td>\n",
       "      <td>23</td>\n",
       "    </tr>\n",
       "    <tr>\n",
       "      <th>2013-10-31 23:20</th>\n",
       "      <td>0.0</td>\n",
       "      <td>0.0</td>\n",
       "      <td>0.0</td>\n",
       "      <td>2013</td>\n",
       "      <td>10</td>\n",
       "      <td>5</td>\n",
       "      <td>23</td>\n",
       "    </tr>\n",
       "    <tr>\n",
       "      <th>2013-10-31 23:30</th>\n",
       "      <td>0.0</td>\n",
       "      <td>0.0</td>\n",
       "      <td>0.0</td>\n",
       "      <td>2013</td>\n",
       "      <td>10</td>\n",
       "      <td>5</td>\n",
       "      <td>23</td>\n",
       "    </tr>\n",
       "    <tr>\n",
       "      <th>2013-10-31 23:40</th>\n",
       "      <td>0.0</td>\n",
       "      <td>0.0</td>\n",
       "      <td>0.0</td>\n",
       "      <td>2013</td>\n",
       "      <td>10</td>\n",
       "      <td>5</td>\n",
       "      <td>23</td>\n",
       "    </tr>\n",
       "    <tr>\n",
       "      <th>2013-10-31 23:50</th>\n",
       "      <td>0.0</td>\n",
       "      <td>0.0</td>\n",
       "      <td>0.0</td>\n",
       "      <td>2013</td>\n",
       "      <td>10</td>\n",
       "      <td>5</td>\n",
       "      <td>23</td>\n",
       "    </tr>\n",
       "  </tbody>\n",
       "</table>\n",
       "<p>276336 rows × 7 columns</p>\n",
       "</div>"
      ],
      "text/plain": [
       "                  rf_10184100  rf_10184110  rf_10184140  year month week hour\n",
       "ymdhm                                                                        \n",
       "2022-05-01 00:00          0.0          0.0          0.0  2022    05    1   00\n",
       "2022-05-01 00:10          0.0          0.0          0.0  2022    05    1   00\n",
       "2022-05-01 00:20          0.0          0.0          0.0  2022    05    1   00\n",
       "2022-05-01 00:30          0.0          0.0          0.0  2022    05    1   00\n",
       "2022-05-01 00:40          0.0          0.0          0.0  2022    05    1   00\n",
       "...                       ...          ...          ...   ...   ...  ...  ...\n",
       "2013-10-31 23:10          0.0          0.0          0.0  2013    10    5   23\n",
       "2013-10-31 23:20          0.0          0.0          0.0  2013    10    5   23\n",
       "2013-10-31 23:30          0.0          0.0          0.0  2013    10    5   23\n",
       "2013-10-31 23:40          0.0          0.0          0.0  2013    10    5   23\n",
       "2013-10-31 23:50          0.0          0.0          0.0  2013    10    5   23\n",
       "\n",
       "[276336 rows x 7 columns]"
      ]
     },
     "execution_count": 14,
     "metadata": {},
     "output_type": "execute_result"
    }
   ],
   "source": [
    "df_rf"
   ]
  },
  {
   "cell_type": "code",
   "execution_count": 15,
   "metadata": {
    "id": "j8wIkorCL-fN"
   },
   "outputs": [],
   "source": [
    "df_rf=index_to_datetime(df=df_rf,format='%Y-%m-%d %H:%M')\n",
    "df_water=index_to_datetime(df=df_water,format='%Y-%m-%d %H:%M')\n",
    "submission=index_to_datetime(df=submission,format='%Y-%m-%d %H:%M')"
   ]
  },
  {
   "cell_type": "code",
   "execution_count": 16,
   "metadata": {
    "id": "yVXJMMsZMAhe"
   },
   "outputs": [],
   "source": [
    "# 정렬\n",
    "df_rf.sort_index(inplace=True)\n",
    "df_water.sort_index(inplace=True)\n",
    "submission.sort_index(inplace=True)"
   ]
  },
  {
   "cell_type": "code",
   "execution_count": 17,
   "metadata": {
    "colab": {
     "base_uri": "https://localhost:8080/"
    },
    "id": "P2oeljVHMBzt",
    "outputId": "3baa2c52-01cf-4f0a-9c5d-b4bec5e1462e"
   },
   "outputs": [
    {
     "name": "stdout",
     "output_type": "stream",
     "text": [
      "rain_data\n",
      "2012-05-01 00:00:00\n",
      "2022-07-18 23:50:00\n",
      "water_data\n",
      "2012-05-01 00:00:00\n",
      "2022-07-18 23:50:00\n",
      "submission\n",
      "2022-06-01 00:00:00\n",
      "2022-07-18 23:50:00\n"
     ]
    }
   ],
   "source": [
    "def check_datetime(df):\n",
    "\n",
    "    print(df.name)\n",
    "    print(df.select_dtypes('datetime64[ns]').head(1).index[0])\n",
    "    print(df.select_dtypes('datetime64[ns]').tail(1).index[0])\n",
    "    \n",
    "    return None\n",
    "\n",
    "check_datetime(df_rf)\n",
    "check_datetime(df_water)\n",
    "check_datetime(submission)"
   ]
  },
  {
   "cell_type": "markdown",
   "metadata": {
    "id": "UfM0m0Q5g4cU"
   },
   "source": [
    "## Meraging Data"
   ]
  },
  {
   "cell_type": "code",
   "execution_count": 18,
   "metadata": {
    "id": "8L5mxIv3gMrp"
   },
   "outputs": [],
   "source": [
    "df_water.drop(columns=['year', 'month', 'week', 'hour'], inplace=True)\n",
    "data = pd.concat((df_rf, df_water),axis=1)"
   ]
  },
  {
   "cell_type": "code",
   "execution_count": null,
   "metadata": {},
   "outputs": [],
   "source": [
    "for col, null in zip(data.columns, data.isnull().sum()):\n",
    "\n",
    "  percent = (null/data.shape[0]) * 100\n",
    "\n",
    "  print('{}의 NULL 차지 비중 : {:.3} %'.format(col, percent))"
   ]
  },
  {
   "cell_type": "code",
   "execution_count": 19,
   "metadata": {
    "id": "nc7BLHhYApPe"
   },
   "outputs": [],
   "source": [
    "data = pd.get_dummies(data)\n"
   ]
  },
  {
   "cell_type": "code",
   "execution_count": 20,
   "metadata": {
    "colab": {
     "base_uri": "https://localhost:8080/"
    },
    "id": "F3dAFJLdybBD",
    "outputId": "c34328c4-355a-4646-827a-4ef8d9697bd8"
   },
   "outputs": [
    {
     "name": "stdout",
     "output_type": "stream",
     "text": [
      "rf_10184100의 NULL 차지 비중 : 0.0 %\n",
      "rf_10184110의 NULL 차지 비중 : 0.0 %\n",
      "rf_10184140의 NULL 차지 비중 : 0.0 %\n",
      "swl의 NULL 차지 비중 : 0.269 %\n",
      "inf의 NULL 차지 비중 : 0.269 %\n",
      "sfw의 NULL 차지 비중 : 0.269 %\n",
      "ecpc의 NULL 차지 비중 : 0.269 %\n",
      "tototf의 NULL 차지 비중 : 0.269 %\n",
      "tide_level의 NULL 차지 비중 : 1.78 %\n",
      "wl_1018662의 NULL 차지 비중 : 0.0214 %\n",
      "fw_1018662의 NULL 차지 비중 : 5.93 %\n",
      "wl_1018680의 NULL 차지 비중 : 0.0214 %\n",
      "fw_1018680의 NULL 차지 비중 : 71.2 %\n",
      "wl_1018683의 NULL 차지 비중 : 0.0214 %\n",
      "fw_1018683의 NULL 차지 비중 : 0.463 %\n",
      "wl_1019630의 NULL 차지 비중 : 0.0214 %\n",
      "fw_1019630의 NULL 차지 비중 : 0.0214 %\n",
      "year_2012의 NULL 차지 비중 : 0.0 %\n",
      "year_2013의 NULL 차지 비중 : 0.0 %\n",
      "year_2014의 NULL 차지 비중 : 0.0 %\n",
      "year_2015의 NULL 차지 비중 : 0.0 %\n",
      "year_2016의 NULL 차지 비중 : 0.0 %\n",
      "year_2017의 NULL 차지 비중 : 0.0 %\n",
      "year_2018의 NULL 차지 비중 : 0.0 %\n",
      "year_2019의 NULL 차지 비중 : 0.0 %\n",
      "year_2020의 NULL 차지 비중 : 0.0 %\n",
      "year_2021의 NULL 차지 비중 : 0.0 %\n",
      "year_2022의 NULL 차지 비중 : 0.0 %\n",
      "month_05의 NULL 차지 비중 : 0.0 %\n",
      "month_06의 NULL 차지 비중 : 0.0 %\n",
      "month_07의 NULL 차지 비중 : 0.0 %\n",
      "month_08의 NULL 차지 비중 : 0.0 %\n",
      "month_09의 NULL 차지 비중 : 0.0 %\n",
      "month_10의 NULL 차지 비중 : 0.0 %\n",
      "week_1의 NULL 차지 비중 : 0.0 %\n",
      "week_2의 NULL 차지 비중 : 0.0 %\n",
      "week_3의 NULL 차지 비중 : 0.0 %\n",
      "week_4의 NULL 차지 비중 : 0.0 %\n",
      "week_5의 NULL 차지 비중 : 0.0 %\n",
      "hour_00의 NULL 차지 비중 : 0.0 %\n",
      "hour_01의 NULL 차지 비중 : 0.0 %\n",
      "hour_02의 NULL 차지 비중 : 0.0 %\n",
      "hour_03의 NULL 차지 비중 : 0.0 %\n",
      "hour_04의 NULL 차지 비중 : 0.0 %\n",
      "hour_05의 NULL 차지 비중 : 0.0 %\n",
      "hour_06의 NULL 차지 비중 : 0.0 %\n",
      "hour_07의 NULL 차지 비중 : 0.0 %\n",
      "hour_08의 NULL 차지 비중 : 0.0 %\n",
      "hour_09의 NULL 차지 비중 : 0.0 %\n",
      "hour_10의 NULL 차지 비중 : 0.0 %\n",
      "hour_11의 NULL 차지 비중 : 0.0 %\n",
      "hour_12의 NULL 차지 비중 : 0.0 %\n",
      "hour_13의 NULL 차지 비중 : 0.0 %\n",
      "hour_14의 NULL 차지 비중 : 0.0 %\n",
      "hour_15의 NULL 차지 비중 : 0.0 %\n",
      "hour_16의 NULL 차지 비중 : 0.0 %\n",
      "hour_17의 NULL 차지 비중 : 0.0 %\n",
      "hour_18의 NULL 차지 비중 : 0.0 %\n",
      "hour_19의 NULL 차지 비중 : 0.0 %\n",
      "hour_20의 NULL 차지 비중 : 0.0 %\n",
      "hour_21의 NULL 차지 비중 : 0.0 %\n",
      "hour_22의 NULL 차지 비중 : 0.0 %\n",
      "hour_23의 NULL 차지 비중 : 0.0 %\n"
     ]
    }
   ],
   "source": [
    "for col, null in zip(data.columns, data.isnull().sum()):\n",
    "\n",
    "  percent = (null/data.shape[0]) * 100\n",
    "\n",
    "  print('{}의 NULL 차지 비중 : {:.3} %'.format(col, percent))"
   ]
  },
  {
   "cell_type": "markdown",
   "metadata": {
    "id": "lVpd82s4An00"
   },
   "source": [
    "# Train / Test Split"
   ]
  },
  {
   "cell_type": "code",
   "execution_count": 21,
   "metadata": {
    "id": "vZkSSBcw_58T"
   },
   "outputs": [],
   "source": [
    "Y = df_water.loc[:,submission.columns]\n",
    "X = data.drop(submission.columns,axis=1)"
   ]
  },
  {
   "cell_type": "code",
   "execution_count": 22,
   "metadata": {
    "id": "jlJ0iu9IAq42"
   },
   "outputs": [],
   "source": [
    "# data와 target 하나 밀어주기 (과거데이터를 사용해야 함으로)\n",
    "_Y = Y.reset_index(drop=True)\n",
    "_X = X.reset_index(drop=True)\n",
    "\n",
    "_X.index += 1\n",
    "\n",
    "tot=pd.concat((_X, _Y),axis=1)\n",
    "tot=tot.sort_index()\n",
    "\n",
    "tot=tot.iloc[1:-1]\n",
    "\n",
    "Y = tot.loc[:,submission.columns]\n",
    "X = tot.drop(submission.columns,axis=1)"
   ]
  },
  {
   "cell_type": "code",
   "execution_count": 23,
   "metadata": {
    "id": "ftwJghAOA_1Y"
   },
   "outputs": [],
   "source": [
    "train_Y = Y.iloc[:-len(submission),:]\n",
    "test_Y = Y.iloc[-len(submission):,:]\n",
    "\n",
    "train_X = X.iloc[:-len(submission),:]\n",
    "test_X = X.iloc[-len(submission):,:]"
   ]
  },
  {
   "cell_type": "markdown",
   "metadata": {
    "id": "qq7UcLYehAYi"
   },
   "source": [
    "## 결측치 제거"
   ]
  },
  {
   "cell_type": "markdown",
   "metadata": {
    "id": "mt_G2iAFiw0V"
   },
   "source": [
    "선형 보간법"
   ]
  },
  {
   "cell_type": "code",
   "execution_count": 24,
   "metadata": {
    "id": "JKZBTqEQROK0"
   },
   "outputs": [],
   "source": [
    "train_Y = train_Y.fillna(method='ffill')\n",
    "test_Y = test_Y.fillna(method='ffill')\n",
    "train_X = train_X.fillna(method='ffill')\n",
    "test_X = test_X.fillna(method='ffill')"
   ]
  },
  {
   "cell_type": "code",
   "execution_count": 25,
   "metadata": {
    "id": "3hYsn7j5HRmA"
   },
   "outputs": [],
   "source": [
    "# train_X['fw_1018680'] = [0.0] * train_X.shape[0]\n",
    "# test_X['fw_1018680'] = [0.0] * test_X.shape[0]"
   ]
  },
  {
   "cell_type": "code",
   "execution_count": 26,
   "metadata": {
    "colab": {
     "base_uri": "https://localhost:8080/"
    },
    "id": "pnwpSiR7QF6E",
    "outputId": "962d8a38-6c3c-40c5-910e-a5ed45f8271a"
   },
   "outputs": [
    {
     "name": "stdout",
     "output_type": "stream",
     "text": [
      "Requirement already satisfied: catboost in /Users/namwoo/opt/anaconda3/lib/python3.9/site-packages (1.0.6)\n",
      "Requirement already satisfied: numpy>=1.16.0 in /Users/namwoo/opt/anaconda3/lib/python3.9/site-packages (from catboost) (1.21.5)\n",
      "Requirement already satisfied: plotly in /Users/namwoo/opt/anaconda3/lib/python3.9/site-packages (from catboost) (5.6.0)\n",
      "Requirement already satisfied: graphviz in /Users/namwoo/opt/anaconda3/lib/python3.9/site-packages (from catboost) (0.20.1)\n",
      "Requirement already satisfied: pandas>=0.24.0 in /Users/namwoo/opt/anaconda3/lib/python3.9/site-packages (from catboost) (1.4.2)\n",
      "Requirement already satisfied: matplotlib in /Users/namwoo/opt/anaconda3/lib/python3.9/site-packages (from catboost) (3.5.1)\n",
      "Requirement already satisfied: scipy in /Users/namwoo/opt/anaconda3/lib/python3.9/site-packages (from catboost) (1.7.3)\n",
      "Requirement already satisfied: six in /Users/namwoo/opt/anaconda3/lib/python3.9/site-packages (from catboost) (1.16.0)\n",
      "Requirement already satisfied: python-dateutil>=2.8.1 in /Users/namwoo/opt/anaconda3/lib/python3.9/site-packages (from pandas>=0.24.0->catboost) (2.8.2)\n",
      "Requirement already satisfied: pytz>=2020.1 in /Users/namwoo/opt/anaconda3/lib/python3.9/site-packages (from pandas>=0.24.0->catboost) (2021.3)\n",
      "Requirement already satisfied: cycler>=0.10 in /Users/namwoo/opt/anaconda3/lib/python3.9/site-packages (from matplotlib->catboost) (0.11.0)\n",
      "Requirement already satisfied: kiwisolver>=1.0.1 in /Users/namwoo/opt/anaconda3/lib/python3.9/site-packages (from matplotlib->catboost) (1.3.2)\n",
      "Requirement already satisfied: fonttools>=4.22.0 in /Users/namwoo/opt/anaconda3/lib/python3.9/site-packages (from matplotlib->catboost) (4.25.0)\n",
      "Requirement already satisfied: packaging>=20.0 in /Users/namwoo/opt/anaconda3/lib/python3.9/site-packages (from matplotlib->catboost) (21.3)\n",
      "Requirement already satisfied: pillow>=6.2.0 in /Users/namwoo/opt/anaconda3/lib/python3.9/site-packages (from matplotlib->catboost) (9.0.1)\n",
      "Requirement already satisfied: pyparsing>=2.2.1 in /Users/namwoo/opt/anaconda3/lib/python3.9/site-packages (from matplotlib->catboost) (3.0.4)\n",
      "Requirement already satisfied: tenacity>=6.2.0 in /Users/namwoo/opt/anaconda3/lib/python3.9/site-packages (from plotly->catboost) (8.0.1)\n"
     ]
    }
   ],
   "source": [
    "!pip install catboost"
   ]
  },
  {
   "cell_type": "code",
   "execution_count": 27,
   "metadata": {
    "colab": {
     "base_uri": "https://localhost:8080/"
    },
    "id": "whgqFZeSQ1Uf",
    "outputId": "5a01fa6d-735c-4be9-af26-eb7529102a57",
    "scrolled": true
   },
   "outputs": [
    {
     "name": "stdout",
     "output_type": "stream",
     "text": [
      "Requirement already satisfied: pactools in /Users/namwoo/opt/anaconda3/lib/python3.9/site-packages (0.3.1)\n",
      "Requirement already satisfied: scikit-learn in /Users/namwoo/opt/anaconda3/lib/python3.9/site-packages (from pactools) (1.0.2)\n",
      "Requirement already satisfied: numpy in /Users/namwoo/opt/anaconda3/lib/python3.9/site-packages (from pactools) (1.21.5)\n",
      "Requirement already satisfied: scipy in /Users/namwoo/opt/anaconda3/lib/python3.9/site-packages (from pactools) (1.7.3)\n",
      "Requirement already satisfied: matplotlib in /Users/namwoo/opt/anaconda3/lib/python3.9/site-packages (from pactools) (3.5.1)\n",
      "Requirement already satisfied: h5py in /Users/namwoo/opt/anaconda3/lib/python3.9/site-packages (from pactools) (3.6.0)\n",
      "Requirement already satisfied: mne in /Users/namwoo/opt/anaconda3/lib/python3.9/site-packages (from pactools) (1.1.0)\n",
      "Requirement already satisfied: pillow>=6.2.0 in /Users/namwoo/opt/anaconda3/lib/python3.9/site-packages (from matplotlib->pactools) (9.0.1)\n",
      "Requirement already satisfied: cycler>=0.10 in /Users/namwoo/opt/anaconda3/lib/python3.9/site-packages (from matplotlib->pactools) (0.11.0)\n",
      "Requirement already satisfied: fonttools>=4.22.0 in /Users/namwoo/opt/anaconda3/lib/python3.9/site-packages (from matplotlib->pactools) (4.25.0)\n",
      "Requirement already satisfied: kiwisolver>=1.0.1 in /Users/namwoo/opt/anaconda3/lib/python3.9/site-packages (from matplotlib->pactools) (1.3.2)\n",
      "Requirement already satisfied: packaging>=20.0 in /Users/namwoo/opt/anaconda3/lib/python3.9/site-packages (from matplotlib->pactools) (21.3)\n",
      "Requirement already satisfied: python-dateutil>=2.7 in /Users/namwoo/opt/anaconda3/lib/python3.9/site-packages (from matplotlib->pactools) (2.8.2)\n",
      "Requirement already satisfied: pyparsing>=2.2.1 in /Users/namwoo/opt/anaconda3/lib/python3.9/site-packages (from matplotlib->pactools) (3.0.4)\n",
      "Requirement already satisfied: six>=1.5 in /Users/namwoo/opt/anaconda3/lib/python3.9/site-packages (from python-dateutil>=2.7->matplotlib->pactools) (1.16.0)\n",
      "Requirement already satisfied: decorator in /Users/namwoo/opt/anaconda3/lib/python3.9/site-packages (from mne->pactools) (5.1.1)\n",
      "Requirement already satisfied: jinja2 in /Users/namwoo/opt/anaconda3/lib/python3.9/site-packages (from mne->pactools) (2.11.3)\n",
      "Requirement already satisfied: tqdm in /Users/namwoo/opt/anaconda3/lib/python3.9/site-packages (from mne->pactools) (4.64.0)\n",
      "Requirement already satisfied: pooch>=1.5 in /Users/namwoo/opt/anaconda3/lib/python3.9/site-packages (from mne->pactools) (1.6.0)\n",
      "Requirement already satisfied: requests>=2.19.0 in /Users/namwoo/opt/anaconda3/lib/python3.9/site-packages (from pooch>=1.5->mne->pactools) (2.27.1)\n",
      "Requirement already satisfied: appdirs>=1.3.0 in /Users/namwoo/opt/anaconda3/lib/python3.9/site-packages (from pooch>=1.5->mne->pactools) (1.4.4)\n",
      "Requirement already satisfied: idna<4,>=2.5 in /Users/namwoo/opt/anaconda3/lib/python3.9/site-packages (from requests>=2.19.0->pooch>=1.5->mne->pactools) (3.3)\n",
      "Requirement already satisfied: certifi>=2017.4.17 in /Users/namwoo/opt/anaconda3/lib/python3.9/site-packages (from requests>=2.19.0->pooch>=1.5->mne->pactools) (2021.10.8)\n",
      "Requirement already satisfied: charset-normalizer~=2.0.0 in /Users/namwoo/opt/anaconda3/lib/python3.9/site-packages (from requests>=2.19.0->pooch>=1.5->mne->pactools) (2.0.4)\n",
      "Requirement already satisfied: urllib3<1.27,>=1.21.1 in /Users/namwoo/opt/anaconda3/lib/python3.9/site-packages (from requests>=2.19.0->pooch>=1.5->mne->pactools) (1.26.9)\n",
      "Requirement already satisfied: MarkupSafe>=0.23 in /Users/namwoo/opt/anaconda3/lib/python3.9/site-packages (from jinja2->mne->pactools) (2.0.1)\n",
      "Requirement already satisfied: threadpoolctl>=2.0.0 in /Users/namwoo/opt/anaconda3/lib/python3.9/site-packages (from scikit-learn->pactools) (2.2.0)\n",
      "Requirement already satisfied: joblib>=0.11 in /Users/namwoo/opt/anaconda3/lib/python3.9/site-packages (from scikit-learn->pactools) (1.1.0)\n"
     ]
    }
   ],
   "source": [
    "!pip install pactools"
   ]
  },
  {
   "cell_type": "code",
   "execution_count": 28,
   "metadata": {
    "id": "hGbXvfwmQJOZ",
    "scrolled": true
   },
   "outputs": [],
   "source": [
    "from sklearn.pipeline import Pipeline\n",
    "from sklearn.model_selection import KFold\n",
    "\n",
    "from sklearn.multioutput import MultiOutputRegressor\n",
    "from catboost import Pool, CatBoostRegressor\n",
    "import catboost as cb\n",
    "import lightgbm as lgb\n",
    "\n",
    "from sklearn.model_selection import GridSearchCV\n",
    "from pactools.grid_search import GridSearchCVProgressBar\n",
    "import multiprocessing"
   ]
  },
  {
   "cell_type": "code",
   "execution_count": 29,
   "metadata": {
    "id": "EjcANF00QLWp"
   },
   "outputs": [],
   "source": [
    "kfold = KFold(n_splits=5, shuffle=True)"
   ]
  },
  {
   "cell_type": "markdown",
   "metadata": {
    "id": "vDJYzHj7Qc43"
   },
   "source": [
    "# Light GBM"
   ]
  },
  {
   "cell_type": "code",
   "execution_count": 30,
   "metadata": {},
   "outputs": [],
   "source": [
    "from sklearn.ensemble import GradientBoostingRegressor\n",
    "from sklearn.multioutput import MultiOutputRegressor\n",
    "from sklearn.model_selection import RandomizedSearchCV"
   ]
  },
  {
   "cell_type": "code",
   "execution_count": 36,
   "metadata": {},
   "outputs": [],
   "source": [
    "pipe_model = Pipeline([('reg', MultiOutputRegressor(lgb.LGBMRegressor()))])\n",
    "\n",
    "param_grid={\"reg__estimator__n_estimators\": [100],\n",
    "          \"reg__estimator__learning_rate\": [0.1],\n",
    "          \"reg__estimator__max_depth\": [8],\n",
    "          \"reg__estimator__bagging_fraction\":[0.1],\n",
    "          \"reg__estimator__feature_fraction\":[0.8],\n",
    "          \"reg__estimator__min_data_in_leaf\":[100],\n",
    "          \"reg__estimator__num_leaves\":[100],\n",
    "         }\n",
    "\n",
    "# model = lgb.LGBMRegressor()\n",
    "# multilabel_model = MultiOutputRegressor(model)\n",
    "\n",
    "grid_model = (GridSearchCVProgressBar(estimator=pipe_model,\n",
    "                                      param_grid=param_grid,\n",
    "                                      cv=3,\n",
    "                                      scoring='neg_root_mean_squared_error',\n",
    "                                      n_jobs=multiprocessing.cpu_count()-1,\n",
    "                                      verbose=10))\n",
    "\n"
   ]
  },
  {
   "cell_type": "code",
   "execution_count": 37,
   "metadata": {},
   "outputs": [
    {
     "name": "stdout",
     "output_type": "stream",
     "text": [
      "Fitting 3 folds for each of 1 candidates, totalling 3 fits\n",
      "[LightGBM] [Warning] min_data_in_leaf is set=100, min_child_samples=20 will be ignored. Current value: min_data_in_leaf=100\n",
      "[LightGBM] [Warning] bagging_fraction is set=0.1, subsample=1.0 will be ignored. Current value: bagging_fraction=0.1\n",
      "[LightGBM] [Warning] feature_fraction is set=0.8, colsample_bytree=1.0 will be ignored. Current value: feature_fraction=0.8\n"
     ]
    },
    {
     "data": {
      "text/plain": [
       "GridSearchCVProgressBar(cv=3,\n",
       "                        estimator=Pipeline(steps=[('reg',\n",
       "                                                   MultiOutputRegressor(estimator=LGBMRegressor()))]),\n",
       "                        n_jobs=7,\n",
       "                        param_grid={'reg__estimator__bagging_fraction': [0.1],\n",
       "                                    'reg__estimator__feature_fraction': [0.8],\n",
       "                                    'reg__estimator__learning_rate': [0.1],\n",
       "                                    'reg__estimator__max_depth': [8],\n",
       "                                    'reg__estimator__min_data_in_leaf': [100],\n",
       "                                    'reg__estimator__n_estimators': [100],\n",
       "                                    'reg__estimator__num_leaves': [100]},\n",
       "                        scoring='neg_root_mean_squared_error', verbose=10)"
      ]
     },
     "execution_count": 37,
     "metadata": {},
     "output_type": "execute_result"
    }
   ],
   "source": [
    "grid_model.fit(train_X, train_Y)"
   ]
  },
  {
   "cell_type": "code",
   "execution_count": 38,
   "metadata": {},
   "outputs": [
    {
     "name": "stdout",
     "output_type": "stream",
     "text": [
      "Pipeline(steps=[('reg',\n",
      "                 MultiOutputRegressor(estimator=LGBMRegressor(bagging_fraction=0.1,\n",
      "                                                              feature_fraction=0.8,\n",
      "                                                              max_depth=8,\n",
      "                                                              min_data_in_leaf=100,\n",
      "                                                              num_leaves=100)))])\n"
     ]
    }
   ],
   "source": [
    "print(grid_model.best_estimator_)"
   ]
  },
  {
   "cell_type": "code",
   "execution_count": 39,
   "metadata": {},
   "outputs": [],
   "source": [
    "model=grid_model.best_estimator_\n",
    "model.fit(train_X,train_Y)\n",
    "\n",
    "y_pred=model.predict(test_X)\n",
    "\n",
    "submission_raw.iloc[:,:] = y_pred"
   ]
  },
  {
   "cell_type": "code",
   "execution_count": 40,
   "metadata": {
    "id": "UTlcqSEUpNXH"
   },
   "outputs": [],
   "source": [
    "submission_raw.to_csv('lgbm4.csv')"
   ]
  },
  {
   "cell_type": "code",
   "execution_count": null,
   "metadata": {},
   "outputs": [],
   "source": []
  }
 ],
 "metadata": {
  "accelerator": "GPU",
  "colab": {
   "background_execution": "on",
   "collapsed_sections": [],
   "machine_shape": "hm",
   "name": "Data Analysis.ipynb",
   "provenance": []
  },
  "gpuClass": "standard",
  "kernelspec": {
   "display_name": "Python 3 (ipykernel)",
   "language": "python",
   "name": "python3"
  },
  "language_info": {
   "codemirror_mode": {
    "name": "ipython",
    "version": 3
   },
   "file_extension": ".py",
   "mimetype": "text/x-python",
   "name": "python",
   "nbconvert_exporter": "python",
   "pygments_lexer": "ipython3",
   "version": "3.9.12"
  },
  "widgets": {
   "application/vnd.jupyter.widget-state+json": {
    "16c02fbf0444485dbc1273942dc31a68": {
     "model_module": "@jupyter-widgets/controls",
     "model_module_version": "1.5.0",
     "model_name": "DescriptionStyleModel",
     "state": {
      "_model_module": "@jupyter-widgets/controls",
      "_model_module_version": "1.5.0",
      "_model_name": "DescriptionStyleModel",
      "_view_count": null,
      "_view_module": "@jupyter-widgets/base",
      "_view_module_version": "1.2.0",
      "_view_name": "StyleView",
      "description_width": ""
     }
    },
    "30915c6da8c44c55a40c706838ad80b8": {
     "model_module": "@jupyter-widgets/controls",
     "model_module_version": "1.5.0",
     "model_name": "ProgressStyleModel",
     "state": {
      "_model_module": "@jupyter-widgets/controls",
      "_model_module_version": "1.5.0",
      "_model_name": "ProgressStyleModel",
      "_view_count": null,
      "_view_module": "@jupyter-widgets/base",
      "_view_module_version": "1.2.0",
      "_view_name": "StyleView",
      "bar_color": null,
      "description_width": ""
     }
    },
    "3544695dc3374f6c8a75573abe69cb73": {
     "model_module": "@jupyter-widgets/base",
     "model_module_version": "1.2.0",
     "model_name": "LayoutModel",
     "state": {
      "_model_module": "@jupyter-widgets/base",
      "_model_module_version": "1.2.0",
      "_model_name": "LayoutModel",
      "_view_count": null,
      "_view_module": "@jupyter-widgets/base",
      "_view_module_version": "1.2.0",
      "_view_name": "LayoutView",
      "align_content": null,
      "align_items": null,
      "align_self": null,
      "border": null,
      "bottom": null,
      "display": null,
      "flex": null,
      "flex_flow": null,
      "grid_area": null,
      "grid_auto_columns": null,
      "grid_auto_flow": null,
      "grid_auto_rows": null,
      "grid_column": null,
      "grid_gap": null,
      "grid_row": null,
      "grid_template_areas": null,
      "grid_template_columns": null,
      "grid_template_rows": null,
      "height": null,
      "justify_content": null,
      "justify_items": null,
      "left": null,
      "margin": null,
      "max_height": null,
      "max_width": null,
      "min_height": null,
      "min_width": null,
      "object_fit": null,
      "object_position": null,
      "order": null,
      "overflow": null,
      "overflow_x": null,
      "overflow_y": null,
      "padding": null,
      "right": null,
      "top": null,
      "visibility": null,
      "width": null
     }
    },
    "537ea186fa3e42a99e8716e3c6e3593c": {
     "model_module": "@jupyter-widgets/controls",
     "model_module_version": "1.5.0",
     "model_name": "HBoxModel",
     "state": {
      "_dom_classes": [],
      "_model_module": "@jupyter-widgets/controls",
      "_model_module_version": "1.5.0",
      "_model_name": "HBoxModel",
      "_view_count": null,
      "_view_module": "@jupyter-widgets/controls",
      "_view_module_version": "1.5.0",
      "_view_name": "HBoxView",
      "box_style": "",
      "children": [
       "IPY_MODEL_f29d93791e4a4b73ae4f47592fac4969",
       "IPY_MODEL_f2459feeebf94e369aebf4f5af17a384",
       "IPY_MODEL_e0f47af0c41e4211a1a38b9cbac69683"
      ],
      "layout": "IPY_MODEL_96b24b02c2f94e94b14475d4808fe54e"
     }
    },
    "67f786ab657548c1af1de2b22372ccc5": {
     "model_module": "@jupyter-widgets/base",
     "model_module_version": "1.2.0",
     "model_name": "LayoutModel",
     "state": {
      "_model_module": "@jupyter-widgets/base",
      "_model_module_version": "1.2.0",
      "_model_name": "LayoutModel",
      "_view_count": null,
      "_view_module": "@jupyter-widgets/base",
      "_view_module_version": "1.2.0",
      "_view_name": "LayoutView",
      "align_content": null,
      "align_items": null,
      "align_self": null,
      "border": null,
      "bottom": null,
      "display": null,
      "flex": null,
      "flex_flow": null,
      "grid_area": null,
      "grid_auto_columns": null,
      "grid_auto_flow": null,
      "grid_auto_rows": null,
      "grid_column": null,
      "grid_gap": null,
      "grid_row": null,
      "grid_template_areas": null,
      "grid_template_columns": null,
      "grid_template_rows": null,
      "height": null,
      "justify_content": null,
      "justify_items": null,
      "left": null,
      "margin": null,
      "max_height": null,
      "max_width": null,
      "min_height": null,
      "min_width": null,
      "object_fit": null,
      "object_position": null,
      "order": null,
      "overflow": null,
      "overflow_x": null,
      "overflow_y": null,
      "padding": null,
      "right": null,
      "top": null,
      "visibility": null,
      "width": null
     }
    },
    "7156e9820fcc416884ffbda0eaa65fb8": {
     "model_module": "@jupyter-widgets/base",
     "model_module_version": "1.2.0",
     "model_name": "LayoutModel",
     "state": {
      "_model_module": "@jupyter-widgets/base",
      "_model_module_version": "1.2.0",
      "_model_name": "LayoutModel",
      "_view_count": null,
      "_view_module": "@jupyter-widgets/base",
      "_view_module_version": "1.2.0",
      "_view_name": "LayoutView",
      "align_content": null,
      "align_items": null,
      "align_self": null,
      "border": null,
      "bottom": null,
      "display": null,
      "flex": null,
      "flex_flow": null,
      "grid_area": null,
      "grid_auto_columns": null,
      "grid_auto_flow": null,
      "grid_auto_rows": null,
      "grid_column": null,
      "grid_gap": null,
      "grid_row": null,
      "grid_template_areas": null,
      "grid_template_columns": null,
      "grid_template_rows": null,
      "height": null,
      "justify_content": null,
      "justify_items": null,
      "left": null,
      "margin": null,
      "max_height": null,
      "max_width": null,
      "min_height": null,
      "min_width": null,
      "object_fit": null,
      "object_position": null,
      "order": null,
      "overflow": null,
      "overflow_x": null,
      "overflow_y": null,
      "padding": null,
      "right": null,
      "top": null,
      "visibility": null,
      "width": null
     }
    },
    "77eb903e15c94cf297d7092da6730df7": {
     "model_module": "@jupyter-widgets/base",
     "model_module_version": "1.2.0",
     "model_name": "LayoutModel",
     "state": {
      "_model_module": "@jupyter-widgets/base",
      "_model_module_version": "1.2.0",
      "_model_name": "LayoutModel",
      "_view_count": null,
      "_view_module": "@jupyter-widgets/base",
      "_view_module_version": "1.2.0",
      "_view_name": "LayoutView",
      "align_content": null,
      "align_items": null,
      "align_self": null,
      "border": null,
      "bottom": null,
      "display": null,
      "flex": null,
      "flex_flow": null,
      "grid_area": null,
      "grid_auto_columns": null,
      "grid_auto_flow": null,
      "grid_auto_rows": null,
      "grid_column": null,
      "grid_gap": null,
      "grid_row": null,
      "grid_template_areas": null,
      "grid_template_columns": null,
      "grid_template_rows": null,
      "height": null,
      "justify_content": null,
      "justify_items": null,
      "left": null,
      "margin": null,
      "max_height": null,
      "max_width": null,
      "min_height": null,
      "min_width": null,
      "object_fit": null,
      "object_position": null,
      "order": null,
      "overflow": null,
      "overflow_x": null,
      "overflow_y": null,
      "padding": null,
      "right": null,
      "top": null,
      "visibility": null,
      "width": null
     }
    },
    "96b24b02c2f94e94b14475d4808fe54e": {
     "model_module": "@jupyter-widgets/base",
     "model_module_version": "1.2.0",
     "model_name": "LayoutModel",
     "state": {
      "_model_module": "@jupyter-widgets/base",
      "_model_module_version": "1.2.0",
      "_model_name": "LayoutModel",
      "_view_count": null,
      "_view_module": "@jupyter-widgets/base",
      "_view_module_version": "1.2.0",
      "_view_name": "LayoutView",
      "align_content": null,
      "align_items": null,
      "align_self": null,
      "border": null,
      "bottom": null,
      "display": null,
      "flex": null,
      "flex_flow": null,
      "grid_area": null,
      "grid_auto_columns": null,
      "grid_auto_flow": null,
      "grid_auto_rows": null,
      "grid_column": null,
      "grid_gap": null,
      "grid_row": null,
      "grid_template_areas": null,
      "grid_template_columns": null,
      "grid_template_rows": null,
      "height": null,
      "justify_content": null,
      "justify_items": null,
      "left": null,
      "margin": null,
      "max_height": null,
      "max_width": null,
      "min_height": null,
      "min_width": null,
      "object_fit": null,
      "object_position": null,
      "order": null,
      "overflow": null,
      "overflow_x": null,
      "overflow_y": null,
      "padding": null,
      "right": null,
      "top": null,
      "visibility": null,
      "width": null
     }
    },
    "9725e1df6d0b4a95a6955b3a1822d89e": {
     "model_module": "@jupyter-widgets/base",
     "model_module_version": "1.2.0",
     "model_name": "LayoutModel",
     "state": {
      "_model_module": "@jupyter-widgets/base",
      "_model_module_version": "1.2.0",
      "_model_name": "LayoutModel",
      "_view_count": null,
      "_view_module": "@jupyter-widgets/base",
      "_view_module_version": "1.2.0",
      "_view_name": "LayoutView",
      "align_content": null,
      "align_items": null,
      "align_self": null,
      "border": null,
      "bottom": null,
      "display": null,
      "flex": null,
      "flex_flow": null,
      "grid_area": null,
      "grid_auto_columns": null,
      "grid_auto_flow": null,
      "grid_auto_rows": null,
      "grid_column": null,
      "grid_gap": null,
      "grid_row": null,
      "grid_template_areas": null,
      "grid_template_columns": null,
      "grid_template_rows": null,
      "height": null,
      "justify_content": null,
      "justify_items": null,
      "left": null,
      "margin": null,
      "max_height": null,
      "max_width": null,
      "min_height": null,
      "min_width": null,
      "object_fit": null,
      "object_position": null,
      "order": null,
      "overflow": null,
      "overflow_x": null,
      "overflow_y": null,
      "padding": null,
      "right": null,
      "top": null,
      "visibility": null,
      "width": null
     }
    },
    "a6497b846c054ce5baeba7ef5c9b3d60": {
     "model_module": "@jupyter-widgets/base",
     "model_module_version": "1.2.0",
     "model_name": "LayoutModel",
     "state": {
      "_model_module": "@jupyter-widgets/base",
      "_model_module_version": "1.2.0",
      "_model_name": "LayoutModel",
      "_view_count": null,
      "_view_module": "@jupyter-widgets/base",
      "_view_module_version": "1.2.0",
      "_view_name": "LayoutView",
      "align_content": null,
      "align_items": null,
      "align_self": null,
      "border": null,
      "bottom": null,
      "display": null,
      "flex": null,
      "flex_flow": null,
      "grid_area": null,
      "grid_auto_columns": null,
      "grid_auto_flow": null,
      "grid_auto_rows": null,
      "grid_column": null,
      "grid_gap": null,
      "grid_row": null,
      "grid_template_areas": null,
      "grid_template_columns": null,
      "grid_template_rows": null,
      "height": null,
      "justify_content": null,
      "justify_items": null,
      "left": null,
      "margin": null,
      "max_height": null,
      "max_width": null,
      "min_height": null,
      "min_width": null,
      "object_fit": null,
      "object_position": null,
      "order": null,
      "overflow": null,
      "overflow_x": null,
      "overflow_y": null,
      "padding": null,
      "right": null,
      "top": null,
      "visibility": null,
      "width": null
     }
    },
    "b8ddb9337f9c4730a0c009e6e6c5ac1c": {
     "model_module": "@jupyter-widgets/controls",
     "model_module_version": "1.5.0",
     "model_name": "DescriptionStyleModel",
     "state": {
      "_model_module": "@jupyter-widgets/controls",
      "_model_module_version": "1.5.0",
      "_model_name": "DescriptionStyleModel",
      "_view_count": null,
      "_view_module": "@jupyter-widgets/base",
      "_view_module_version": "1.2.0",
      "_view_name": "StyleView",
      "description_width": ""
     }
    },
    "befc9728daff4c1499aecff9c94d1218": {
     "model_module": "@jupyter-widgets/controls",
     "model_module_version": "1.5.0",
     "model_name": "HTMLModel",
     "state": {
      "_dom_classes": [],
      "_model_module": "@jupyter-widgets/controls",
      "_model_module_version": "1.5.0",
      "_model_name": "HTMLModel",
      "_view_count": null,
      "_view_module": "@jupyter-widgets/controls",
      "_view_module_version": "1.5.0",
      "_view_name": "HTMLView",
      "description": "",
      "description_tooltip": null,
      "layout": "IPY_MODEL_da1ac6d1ebf749b89e7726c9839a4d69",
      "placeholder": "​",
      "style": "IPY_MODEL_b8ddb9337f9c4730a0c009e6e6c5ac1c",
      "value": "100%"
     }
    },
    "bf14395c7cd44c7a824a72bbdfb928fe": {
     "model_module": "@jupyter-widgets/controls",
     "model_module_version": "1.5.0",
     "model_name": "DescriptionStyleModel",
     "state": {
      "_model_module": "@jupyter-widgets/controls",
      "_model_module_version": "1.5.0",
      "_model_name": "DescriptionStyleModel",
      "_view_count": null,
      "_view_module": "@jupyter-widgets/base",
      "_view_module_version": "1.2.0",
      "_view_name": "StyleView",
      "description_width": ""
     }
    },
    "cc4e041f0e824a9e8234385b028075cd": {
     "model_module": "@jupyter-widgets/controls",
     "model_module_version": "1.5.0",
     "model_name": "HBoxModel",
     "state": {
      "_dom_classes": [],
      "_model_module": "@jupyter-widgets/controls",
      "_model_module_version": "1.5.0",
      "_model_name": "HBoxModel",
      "_view_count": null,
      "_view_module": "@jupyter-widgets/controls",
      "_view_module_version": "1.5.0",
      "_view_name": "HBoxView",
      "box_style": "",
      "children": [
       "IPY_MODEL_befc9728daff4c1499aecff9c94d1218",
       "IPY_MODEL_e0d5102a2de74fc5832f4d10b4a56fbd",
       "IPY_MODEL_f66b08b4a04043e384f283c297cb0c9a"
      ],
      "layout": "IPY_MODEL_a6497b846c054ce5baeba7ef5c9b3d60"
     }
    },
    "d28e68454cc149aabae2bccab9388133": {
     "model_module": "@jupyter-widgets/controls",
     "model_module_version": "1.5.0",
     "model_name": "DescriptionStyleModel",
     "state": {
      "_model_module": "@jupyter-widgets/controls",
      "_model_module_version": "1.5.0",
      "_model_name": "DescriptionStyleModel",
      "_view_count": null,
      "_view_module": "@jupyter-widgets/base",
      "_view_module_version": "1.2.0",
      "_view_name": "StyleView",
      "description_width": ""
     }
    },
    "d7216d182590451d9d54ac926d1cdb39": {
     "model_module": "@jupyter-widgets/controls",
     "model_module_version": "1.5.0",
     "model_name": "ProgressStyleModel",
     "state": {
      "_model_module": "@jupyter-widgets/controls",
      "_model_module_version": "1.5.0",
      "_model_name": "ProgressStyleModel",
      "_view_count": null,
      "_view_module": "@jupyter-widgets/base",
      "_view_module_version": "1.2.0",
      "_view_name": "StyleView",
      "bar_color": null,
      "description_width": ""
     }
    },
    "da1ac6d1ebf749b89e7726c9839a4d69": {
     "model_module": "@jupyter-widgets/base",
     "model_module_version": "1.2.0",
     "model_name": "LayoutModel",
     "state": {
      "_model_module": "@jupyter-widgets/base",
      "_model_module_version": "1.2.0",
      "_model_name": "LayoutModel",
      "_view_count": null,
      "_view_module": "@jupyter-widgets/base",
      "_view_module_version": "1.2.0",
      "_view_name": "LayoutView",
      "align_content": null,
      "align_items": null,
      "align_self": null,
      "border": null,
      "bottom": null,
      "display": null,
      "flex": null,
      "flex_flow": null,
      "grid_area": null,
      "grid_auto_columns": null,
      "grid_auto_flow": null,
      "grid_auto_rows": null,
      "grid_column": null,
      "grid_gap": null,
      "grid_row": null,
      "grid_template_areas": null,
      "grid_template_columns": null,
      "grid_template_rows": null,
      "height": null,
      "justify_content": null,
      "justify_items": null,
      "left": null,
      "margin": null,
      "max_height": null,
      "max_width": null,
      "min_height": null,
      "min_width": null,
      "object_fit": null,
      "object_position": null,
      "order": null,
      "overflow": null,
      "overflow_x": null,
      "overflow_y": null,
      "padding": null,
      "right": null,
      "top": null,
      "visibility": null,
      "width": null
     }
    },
    "e0d5102a2de74fc5832f4d10b4a56fbd": {
     "model_module": "@jupyter-widgets/controls",
     "model_module_version": "1.5.0",
     "model_name": "FloatProgressModel",
     "state": {
      "_dom_classes": [],
      "_model_module": "@jupyter-widgets/controls",
      "_model_module_version": "1.5.0",
      "_model_name": "FloatProgressModel",
      "_view_count": null,
      "_view_module": "@jupyter-widgets/controls",
      "_view_module_version": "1.5.0",
      "_view_name": "ProgressView",
      "bar_style": "success",
      "description": "",
      "description_tooltip": null,
      "layout": "IPY_MODEL_3544695dc3374f6c8a75573abe69cb73",
      "max": 276336,
      "min": 0,
      "orientation": "horizontal",
      "style": "IPY_MODEL_30915c6da8c44c55a40c706838ad80b8",
      "value": 276336
     }
    },
    "e0f47af0c41e4211a1a38b9cbac69683": {
     "model_module": "@jupyter-widgets/controls",
     "model_module_version": "1.5.0",
     "model_name": "HTMLModel",
     "state": {
      "_dom_classes": [],
      "_model_module": "@jupyter-widgets/controls",
      "_model_module_version": "1.5.0",
      "_model_name": "HTMLModel",
      "_view_count": null,
      "_view_module": "@jupyter-widgets/controls",
      "_view_module_version": "1.5.0",
      "_view_name": "HTMLView",
      "description": "",
      "description_tooltip": null,
      "layout": "IPY_MODEL_9725e1df6d0b4a95a6955b3a1822d89e",
      "placeholder": "​",
      "style": "IPY_MODEL_16c02fbf0444485dbc1273942dc31a68",
      "value": " 276336/276336 [00:00&lt;00:00, 395234.95it/s]"
     }
    },
    "f2459feeebf94e369aebf4f5af17a384": {
     "model_module": "@jupyter-widgets/controls",
     "model_module_version": "1.5.0",
     "model_name": "FloatProgressModel",
     "state": {
      "_dom_classes": [],
      "_model_module": "@jupyter-widgets/controls",
      "_model_module_version": "1.5.0",
      "_model_name": "FloatProgressModel",
      "_view_count": null,
      "_view_module": "@jupyter-widgets/controls",
      "_view_module_version": "1.5.0",
      "_view_name": "ProgressView",
      "bar_style": "success",
      "description": "",
      "description_tooltip": null,
      "layout": "IPY_MODEL_7156e9820fcc416884ffbda0eaa65fb8",
      "max": 276336,
      "min": 0,
      "orientation": "horizontal",
      "style": "IPY_MODEL_d7216d182590451d9d54ac926d1cdb39",
      "value": 276336
     }
    },
    "f29d93791e4a4b73ae4f47592fac4969": {
     "model_module": "@jupyter-widgets/controls",
     "model_module_version": "1.5.0",
     "model_name": "HTMLModel",
     "state": {
      "_dom_classes": [],
      "_model_module": "@jupyter-widgets/controls",
      "_model_module_version": "1.5.0",
      "_model_name": "HTMLModel",
      "_view_count": null,
      "_view_module": "@jupyter-widgets/controls",
      "_view_module_version": "1.5.0",
      "_view_name": "HTMLView",
      "description": "",
      "description_tooltip": null,
      "layout": "IPY_MODEL_67f786ab657548c1af1de2b22372ccc5",
      "placeholder": "​",
      "style": "IPY_MODEL_bf14395c7cd44c7a824a72bbdfb928fe",
      "value": "100%"
     }
    },
    "f66b08b4a04043e384f283c297cb0c9a": {
     "model_module": "@jupyter-widgets/controls",
     "model_module_version": "1.5.0",
     "model_name": "HTMLModel",
     "state": {
      "_dom_classes": [],
      "_model_module": "@jupyter-widgets/controls",
      "_model_module_version": "1.5.0",
      "_model_name": "HTMLModel",
      "_view_count": null,
      "_view_module": "@jupyter-widgets/controls",
      "_view_module_version": "1.5.0",
      "_view_name": "HTMLView",
      "description": "",
      "description_tooltip": null,
      "layout": "IPY_MODEL_77eb903e15c94cf297d7092da6730df7",
      "placeholder": "​",
      "style": "IPY_MODEL_d28e68454cc149aabae2bccab9388133",
      "value": " 276336/276336 [00:00&lt;00:00, 342394.53it/s]"
     }
    }
   }
  }
 },
 "nbformat": 4,
 "nbformat_minor": 4
}
