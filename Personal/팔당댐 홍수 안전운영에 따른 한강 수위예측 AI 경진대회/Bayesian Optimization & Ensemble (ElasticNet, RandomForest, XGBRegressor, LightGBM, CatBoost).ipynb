{
 "cells": [
  {
   "cell_type": "markdown",
   "id": "60eec386",
   "metadata": {},
   "source": [
    "# Setting"
   ]
  },
  {
   "cell_type": "code",
   "execution_count": 1,
   "id": "418c10ee",
   "metadata": {},
   "outputs": [],
   "source": [
    "# Load Data\n",
    "import pandas as pd"
   ]
  },
  {
   "cell_type": "code",
   "execution_count": 2,
   "id": "a8e752b9",
   "metadata": {
    "scrolled": true
   },
   "outputs": [
    {
     "name": "stdout",
     "output_type": "stream",
     "text": [
      "Requirement already satisfied: lightgbm in /Users/namwoo/opt/anaconda3/lib/python3.9/site-packages (3.3.2)\n",
      "Requirement already satisfied: scipy in /Users/namwoo/opt/anaconda3/lib/python3.9/site-packages (from lightgbm) (1.7.3)\n",
      "Requirement already satisfied: scikit-learn!=0.22.0 in /Users/namwoo/opt/anaconda3/lib/python3.9/site-packages (from lightgbm) (1.0.2)\n",
      "Requirement already satisfied: wheel in /Users/namwoo/opt/anaconda3/lib/python3.9/site-packages (from lightgbm) (0.37.1)\n",
      "Requirement already satisfied: numpy in /Users/namwoo/opt/anaconda3/lib/python3.9/site-packages (from lightgbm) (1.21.5)\n",
      "Requirement already satisfied: joblib>=0.11 in /Users/namwoo/opt/anaconda3/lib/python3.9/site-packages (from scikit-learn!=0.22.0->lightgbm) (1.1.0)\n",
      "Requirement already satisfied: threadpoolctl>=2.0.0 in /Users/namwoo/opt/anaconda3/lib/python3.9/site-packages (from scikit-learn!=0.22.0->lightgbm) (2.2.0)\n"
     ]
    }
   ],
   "source": [
    "!pip install lightgbm"
   ]
  },
  {
   "cell_type": "code",
   "execution_count": 3,
   "id": "570dacd8",
   "metadata": {},
   "outputs": [
    {
     "name": "stdout",
     "output_type": "stream",
     "text": [
      "Requirement already satisfied: catboost in /Users/namwoo/opt/anaconda3/lib/python3.9/site-packages (1.0.6)\n",
      "Requirement already satisfied: scipy in /Users/namwoo/opt/anaconda3/lib/python3.9/site-packages (from catboost) (1.7.3)\n",
      "Requirement already satisfied: graphviz in /Users/namwoo/opt/anaconda3/lib/python3.9/site-packages (from catboost) (0.20.1)\n",
      "Requirement already satisfied: matplotlib in /Users/namwoo/opt/anaconda3/lib/python3.9/site-packages (from catboost) (3.5.1)\n",
      "Requirement already satisfied: plotly in /Users/namwoo/opt/anaconda3/lib/python3.9/site-packages (from catboost) (5.6.0)\n",
      "Requirement already satisfied: numpy>=1.16.0 in /Users/namwoo/opt/anaconda3/lib/python3.9/site-packages (from catboost) (1.21.5)\n",
      "Requirement already satisfied: pandas>=0.24.0 in /Users/namwoo/opt/anaconda3/lib/python3.9/site-packages (from catboost) (1.4.2)\n",
      "Requirement already satisfied: six in /Users/namwoo/opt/anaconda3/lib/python3.9/site-packages (from catboost) (1.16.0)\n",
      "Requirement already satisfied: python-dateutil>=2.8.1 in /Users/namwoo/opt/anaconda3/lib/python3.9/site-packages (from pandas>=0.24.0->catboost) (2.8.2)\n",
      "Requirement already satisfied: pytz>=2020.1 in /Users/namwoo/opt/anaconda3/lib/python3.9/site-packages (from pandas>=0.24.0->catboost) (2021.3)\n",
      "Requirement already satisfied: packaging>=20.0 in /Users/namwoo/opt/anaconda3/lib/python3.9/site-packages (from matplotlib->catboost) (21.3)\n",
      "Requirement already satisfied: pillow>=6.2.0 in /Users/namwoo/opt/anaconda3/lib/python3.9/site-packages (from matplotlib->catboost) (9.0.1)\n",
      "Requirement already satisfied: fonttools>=4.22.0 in /Users/namwoo/opt/anaconda3/lib/python3.9/site-packages (from matplotlib->catboost) (4.25.0)\n",
      "Requirement already satisfied: cycler>=0.10 in /Users/namwoo/opt/anaconda3/lib/python3.9/site-packages (from matplotlib->catboost) (0.11.0)\n",
      "Requirement already satisfied: kiwisolver>=1.0.1 in /Users/namwoo/opt/anaconda3/lib/python3.9/site-packages (from matplotlib->catboost) (1.3.2)\n",
      "Requirement already satisfied: pyparsing>=2.2.1 in /Users/namwoo/opt/anaconda3/lib/python3.9/site-packages (from matplotlib->catboost) (3.0.4)\n",
      "Requirement already satisfied: tenacity>=6.2.0 in /Users/namwoo/opt/anaconda3/lib/python3.9/site-packages (from plotly->catboost) (8.0.1)\n"
     ]
    }
   ],
   "source": [
    "!pip install catboost"
   ]
  },
  {
   "cell_type": "code",
   "execution_count": 4,
   "id": "99265ab5",
   "metadata": {},
   "outputs": [
    {
     "name": "stdout",
     "output_type": "stream",
     "text": [
      "Requirement already satisfied: bayesian-optimization in /Users/namwoo/opt/anaconda3/lib/python3.9/site-packages (1.2.0)\r\n",
      "Requirement already satisfied: scikit-learn>=0.18.0 in /Users/namwoo/opt/anaconda3/lib/python3.9/site-packages (from bayesian-optimization) (1.0.2)\r\n",
      "Requirement already satisfied: scipy>=0.14.0 in /Users/namwoo/opt/anaconda3/lib/python3.9/site-packages (from bayesian-optimization) (1.7.3)\r\n",
      "Requirement already satisfied: numpy>=1.9.0 in /Users/namwoo/opt/anaconda3/lib/python3.9/site-packages (from bayesian-optimization) (1.21.5)\r\n",
      "Requirement already satisfied: threadpoolctl>=2.0.0 in /Users/namwoo/opt/anaconda3/lib/python3.9/site-packages (from scikit-learn>=0.18.0->bayesian-optimization) (2.2.0)\r\n",
      "Requirement already satisfied: joblib>=0.11 in /Users/namwoo/opt/anaconda3/lib/python3.9/site-packages (from scikit-learn>=0.18.0->bayesian-optimization) (1.1.0)\r\n"
     ]
    }
   ],
   "source": [
    "!pip install bayesian-optimization"
   ]
  },
  {
   "cell_type": "code",
   "execution_count": 5,
   "id": "2edd43a8",
   "metadata": {},
   "outputs": [],
   "source": [
    "# Modeling\n",
    "from sklearn.model_selection import train_test_split\n",
    "\n",
    "from sklearn.multioutput import MultiOutputRegressor\n",
    "\n",
    "from sklearn.linear_model import ElasticNet\n",
    "from sklearn.ensemble import RandomForestRegressor\n",
    "from xgboost import XGBRegressor\n",
    "from lightgbm import LGBMRegressor\n",
    "from catboost import CatBoostRegressor\n",
    "\n",
    "from sklearn.metrics import mean_squared_error\n",
    "\n",
    "from bayes_opt import BayesianOptimization"
   ]
  },
  {
   "cell_type": "markdown",
   "id": "002e15e1",
   "metadata": {},
   "source": [
    "# Load Data"
   ]
  },
  {
   "cell_type": "code",
   "execution_count": 6,
   "id": "5286b85b",
   "metadata": {},
   "outputs": [],
   "source": [
    "train_test_path = '/Users/namwoo/Desktop/팔당댐/files/train_test'\n",
    "submission_path = '/Users/namwoo/Desktop/팔당댐/files/competition_data'"
   ]
  },
  {
   "cell_type": "code",
   "execution_count": 7,
   "id": "f10ca82c",
   "metadata": {},
   "outputs": [],
   "source": [
    "train_X = pd.read_csv('/'.join([train_test_path, 'train_X.csv']))\n",
    "train_Y = pd.read_csv('/'.join([train_test_path, 'train_Y.csv']))\n",
    "test_X = pd.read_csv('/'.join([train_test_path, 'test_X.csv']))\n",
    "test_Y = pd.read_csv('/'.join([train_test_path, 'test_Y.csv']))"
   ]
  },
  {
   "cell_type": "code",
   "execution_count": 8,
   "id": "db93bd2d",
   "metadata": {
    "scrolled": false
   },
   "outputs": [
    {
     "name": "stdout",
     "output_type": "stream",
     "text": [
      "(269423, 15) (269423, 5) (6912, 15) (6912, 5)\n"
     ]
    }
   ],
   "source": [
    "print(train_X.shape, train_Y.shape, test_X.shape, test_Y.shape)"
   ]
  },
  {
   "cell_type": "code",
   "execution_count": 9,
   "id": "2d226bc2",
   "metadata": {},
   "outputs": [],
   "source": [
    "_train_X = train_X.copy()\n",
    "_train_Y = train_Y.copy()\n",
    "_test_X = test_X.copy()\n",
    "_test_Y = test_Y.copy()"
   ]
  },
  {
   "cell_type": "code",
   "execution_count": 10,
   "id": "9836bdb6",
   "metadata": {},
   "outputs": [],
   "source": [
    "TRAIN_X, TEST_X, Y_TRAIN, TEST_Y = train_test_split(_train_X, _train_Y,\n",
    "                                                    random_state=2022)"
   ]
  },
  {
   "cell_type": "markdown",
   "id": "1a4a8683",
   "metadata": {},
   "source": [
    "# Modeling"
   ]
  },
  {
   "cell_type": "markdown",
   "id": "655da8ec",
   "metadata": {},
   "source": [
    "## ElasticNet"
   ]
  },
  {
   "cell_type": "code",
   "execution_count": null,
   "id": "3166b7bc",
   "metadata": {},
   "outputs": [],
   "source": [
    "def Elastic_cv():\n",
    "    \n",
    "    model = MultiOutputRegressor(ElasticNet(alpha=alpha,\n",
    "                                            l1_ratio=l1_ratio,\n",
    "                                            max_iter=int(max_iter)\n",
    "                                            ))\n",
    "    \n",
    "    model.fit(TRAIN_X, Y_TRAIN)\n",
    "    \n",
    "    Y_PRED = model.predict(TEST_X)\n",
    "    \n",
    "    RMSE = mean_squared_error(TEST_Y, Y_PRED, squared=False)\n",
    "    \n",
    "    return RMSE"
   ]
  },
  {
   "cell_type": "code",
   "execution_count": null,
   "id": "046ccaa3",
   "metadata": {},
   "outputs": [],
   "source": [
    "pbounds = {'alpha':(1.0, 3.0),\n",
    "           'l1_ratio':(0.3, 0.8),\n",
    "           'max_iter':(5000, 10000)}"
   ]
  },
  {
   "cell_type": "code",
   "execution_count": null,
   "id": "b78edad5",
   "metadata": {},
   "outputs": [],
   "source": [
    "bo=BayesianOptimization(f=RAND_cv,\n",
    "                        pbounds=pbounds,\n",
    "                        verbose=2,\n",
    "                        random_state=2022)"
   ]
  },
  {
   "cell_type": "code",
   "execution_count": null,
   "id": "ab497d64",
   "metadata": {},
   "outputs": [],
   "source": [
    "bo.maximize(init_points=2, n_iter=10, acq='ei', xi=0.01)"
   ]
  },
  {
   "cell_type": "code",
   "execution_count": null,
   "id": "54b86904",
   "metadata": {},
   "outputs": [],
   "source": [
    "print(bo.max)"
   ]
  },
  {
   "cell_type": "markdown",
   "id": "f978acb2",
   "metadata": {},
   "source": [
    "## RandomForestRegressor"
   ]
  },
  {
   "cell_type": "code",
   "execution_count": null,
   "id": "e9115623",
   "metadata": {},
   "outputs": [],
   "source": [
    "def RAND_cv():\n",
    "    \n",
    "    model = MultiOutputRegressor(RandomForestRegressor(max_depth=int(max_depth),\n",
    "                                                       n_estimators=int(n_estimators),\n",
    "                                                       min_samples_split=min_samples_split,\n",
    "                                                       min_samples_leaf=min_samples_leaf,\n",
    "                                                       ))\n",
    "    \n",
    "    model.fit(TRAIN_X, Y_TRAIN)\n",
    "    \n",
    "    Y_PRED = model.predict(TEST_X)\n",
    "    \n",
    "    RMSE = mean_squared_error(TEST_Y, Y_PRED, squared=False)\n",
    "    \n",
    "    return RMSE"
   ]
  },
  {
   "cell_type": "code",
   "execution_count": null,
   "id": "f81f0fc6",
   "metadata": {},
   "outputs": [],
   "source": [
    "pbounds = {'max_depth':(3, 8),\n",
    "           'n_estimators':(5000, 10000),\n",
    "           'min_samples_split':(1, 4),\n",
    "           'min_samples_leaf':(1, 4)}"
   ]
  },
  {
   "cell_type": "code",
   "execution_count": null,
   "id": "d7fd00ff",
   "metadata": {},
   "outputs": [],
   "source": [
    "bo=BayesianOptimization(f=RAND_cv,\n",
    "                        pbounds=pbounds,\n",
    "                        verbose=2,\n",
    "                        random_state=2022)"
   ]
  },
  {
   "cell_type": "code",
   "execution_count": null,
   "id": "0be2e898",
   "metadata": {},
   "outputs": [],
   "source": [
    "bo.maximize(init_points=2, n_iter=10, acq='ei', xi=0.01)"
   ]
  },
  {
   "cell_type": "code",
   "execution_count": null,
   "id": "2e889907",
   "metadata": {},
   "outputs": [],
   "source": [
    "print(bo.max)"
   ]
  },
  {
   "cell_type": "markdown",
   "id": "e79c8d19",
   "metadata": {},
   "source": [
    "## XGBRegressor"
   ]
  },
  {
   "cell_type": "code",
   "execution_count": 11,
   "id": "ea671d18",
   "metadata": {},
   "outputs": [],
   "source": [
    "def XGB_cv(max_depth,learning_rate, n_estimators, gamma\n",
    "         ,min_child_weight, subsample\n",
    "         ,colsample_bytree, silent=True, nthread=-1):\n",
    "\n",
    "  # 모델 정의\n",
    "  model = MultiOutputRegressor(XGBRegressor(max_depth=int(max_depth),\n",
    "                            learning_rate=learning_rate,\n",
    "                            n_estimators=int(n_estimators),\n",
    "                            gamma=gamma,\n",
    "                            min_child_weight=min_child_weight,\n",
    "                            subsample=subsample,\n",
    "                            colsample_bytree=colsample_bytree, \n",
    "                            nthread=nthread\n",
    "                            ))\n",
    "  # 모델 훈련\n",
    "  model.fit(TRAIN_X, Y_TRAIN)\n",
    "\n",
    "  # 예측값 출력\n",
    "  Y_PRED = model.predict(TEST_X)\n",
    "  \n",
    "  RMSE = mean_squared_error(TEST_Y, Y_PRED, squared=False)\n",
    "  \n",
    "  return RMSE"
   ]
  },
  {
   "cell_type": "code",
   "execution_count": 12,
   "id": "304a916d",
   "metadata": {},
   "outputs": [],
   "source": [
    "pbounds = {'max_depth': (3, 8),\n",
    "            'learning_rate': (0.01, 0.2),\n",
    "            'n_estimators': (5000, 10000),\n",
    "            'gamma': (0, 3),\n",
    "            'min_child_weight': (0, 3),\n",
    "            'subsample': (0.5, 1),\n",
    "            'colsample_bytree' :(0.2, 1)\n",
    "            }"
   ]
  },
  {
   "cell_type": "code",
   "execution_count": 13,
   "id": "dba3f4f4",
   "metadata": {},
   "outputs": [],
   "source": [
    "bo=BayesianOptimization(f=XGB_cv,\n",
    "                        pbounds=pbounds,\n",
    "                        verbose=2,\n",
    "                        random_state=2022)\n"
   ]
  },
  {
   "cell_type": "code",
   "execution_count": null,
   "id": "8603182c",
   "metadata": {},
   "outputs": [
    {
     "name": "stdout",
     "output_type": "stream",
     "text": [
      "|   iter    |  target   | colsam... |   gamma   | learni... | max_depth | min_ch... | n_esti... | subsample |\n",
      "-------------------------------------------------------------------------------------------------------------\n",
      "| \u001b[0m 1       \u001b[0m | \u001b[0m 215.4   \u001b[0m | \u001b[0m 0.2075  \u001b[0m | \u001b[0m 1.497   \u001b[0m | \u001b[0m 0.03154 \u001b[0m | \u001b[0m 3.25    \u001b[0m | \u001b[0m 2.056   \u001b[0m | \u001b[0m 7.435e+0\u001b[0m | \u001b[0m 0.9488  \u001b[0m |\n"
     ]
    }
   ],
   "source": [
    "bo.maximize(init_points=2, n_iter=10, acq='ei', xi=0.01)"
   ]
  },
  {
   "cell_type": "code",
   "execution_count": null,
   "id": "97e089f6",
   "metadata": {},
   "outputs": [],
   "source": [
    "print(bo.max)"
   ]
  },
  {
   "cell_type": "markdown",
   "id": "05d6aa25",
   "metadata": {},
   "source": [
    "## LGBMRegressor"
   ]
  },
  {
   "cell_type": "code",
   "execution_count": null,
   "id": "d18f18ef",
   "metadata": {},
   "outputs": [],
   "source": [
    "def LGBM_cv():\n",
    "    \n",
    "    model = MultiOutputRegressor(LGBMRegressor(max_depth=int(max_depth),\n",
    "                                               learning_rate=learning_rate,\n",
    "                                               n_estimators=int(n_estimators),\n",
    "                                               min_child_weight=min_child_weight,\n",
    "                                               subsample=subsample,\n",
    "                                               colsample_bytree=colsample_bytree, \n",
    "                                              ))\n",
    "    \n",
    "    model.fit(TRAIN_X, Y_TRAIN)\n",
    "    \n",
    "    Y_PRED = model.predict(TEST_X)\n",
    "    \n",
    "    RMSE = mean_squared_error(TEST_Y, Y_PRED, squared=False)\n",
    "    \n",
    "    return RMSE"
   ]
  },
  {
   "cell_type": "code",
   "execution_count": null,
   "id": "ee22cf1e",
   "metadata": {},
   "outputs": [],
   "source": [
    "pbounds = {'max_depth': (3, 8),\n",
    "            'learning_rate': (0.01, 0.2),\n",
    "            'n_estimators': (5000, 10000),\n",
    "            'min_child_weight': (0, 3),\n",
    "            'subsample': (0.5, 1),\n",
    "            'colsample_bytree' :(0.2, 1)\n",
    "            }"
   ]
  },
  {
   "cell_type": "code",
   "execution_count": null,
   "id": "2d5d93e6",
   "metadata": {},
   "outputs": [],
   "source": [
    "bo=BayesianOptimization(f=LGBM_cv,\n",
    "                        pbounds=pbounds,\n",
    "                        verbose=2,\n",
    "                        random_state=2022)"
   ]
  },
  {
   "cell_type": "code",
   "execution_count": null,
   "id": "bc30c3d9",
   "metadata": {},
   "outputs": [],
   "source": [
    "bo.maximize(init_points=2, n_iter=10, acq='ei', xi=0.01)"
   ]
  },
  {
   "cell_type": "code",
   "execution_count": null,
   "id": "6ab87235",
   "metadata": {},
   "outputs": [],
   "source": [
    "print(bo.max)"
   ]
  },
  {
   "cell_type": "markdown",
   "id": "4e45b3ad",
   "metadata": {},
   "source": [
    "## CatBoostRegressor"
   ]
  },
  {
   "cell_type": "code",
   "execution_count": null,
   "id": "0ff0bf7a",
   "metadata": {},
   "outputs": [],
   "source": [
    "def CAT_cv():\n",
    "    \n",
    "    model = MultiOutputRegressor(CatBoostRegressor(max_depth=int(max_depth),\n",
    "                                                   learning_rate=learning_rate,\n",
    "                                                   n_estimators=int(n_estimators),\n",
    "                                                   random_strength=random_strength,\n",
    "                                                   colsample_bylevel=colsample_bylevel,\n",
    "                                                   l2_leaf_reg=l2_leaf_reg,\n",
    "                                                   min_child_samples=min_child_samples,\n",
    "                                                   max_bin=max_bin))\n",
    "    \n",
    "    model.fit(TRAIN_X, Y_TRAIN)\n",
    "    \n",
    "    Y_PRED = model.predict(TEST_X)\n",
    "    \n",
    "    RMSE = mean_squared_error(TEST_Y, Y_PRED, squared=False)\n",
    "    \n",
    "    return RMSE"
   ]
  },
  {
   "cell_type": "code",
   "execution_count": null,
   "id": "f0dd8810",
   "metadata": {},
   "outputs": [],
   "source": [
    "pbounds = {'max_depth':(3, 8),\n",
    "           'learning_rate':(0.01, 0.2),\n",
    "           'n_estimators':(5000, 10000),\n",
    "           'random_strength':(0, 100),\n",
    "           'colsample_bylevel':(0.4, 1.0),\n",
    "           'l2_leaf_reg':(1e-8, 3e-5),\n",
    "           'min_child_samples':(5, 100),\n",
    "           'max_bin':(200, 500)}"
   ]
  },
  {
   "cell_type": "code",
   "execution_count": null,
   "id": "f850cb08",
   "metadata": {},
   "outputs": [],
   "source": [
    "bo=BayesianOptimization(f=CAT_cv,\n",
    "                        pbounds=pbounds,\n",
    "                        verbose=2,\n",
    "                        random_state=2022)"
   ]
  },
  {
   "cell_type": "code",
   "execution_count": null,
   "id": "0fe84fbb",
   "metadata": {},
   "outputs": [],
   "source": [
    "bo.maximize(init_points=2, n_iter=10, acq='ei', xi=0.01)"
   ]
  },
  {
   "cell_type": "code",
   "execution_count": null,
   "id": "a8bec5af",
   "metadata": {},
   "outputs": [],
   "source": [
    "print(bo.max)"
   ]
  }
 ],
 "metadata": {
  "kernelspec": {
   "display_name": "Python 3 (ipykernel)",
   "language": "python",
   "name": "python3"
  },
  "language_info": {
   "codemirror_mode": {
    "name": "ipython",
    "version": 3
   },
   "file_extension": ".py",
   "mimetype": "text/x-python",
   "name": "python",
   "nbconvert_exporter": "python",
   "pygments_lexer": "ipython3",
   "version": "3.9.12"
  }
 },
 "nbformat": 4,
 "nbformat_minor": 5
}
