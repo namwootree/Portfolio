{
  "nbformat": 4,
  "nbformat_minor": 0,
  "metadata": {
    "colab": {
      "provenance": [],
      "authorship_tag": "ABX9TyNMJ+yHid8ZWvmEmhgmR4pG",
      "include_colab_link": true
    },
    "kernelspec": {
      "name": "python3",
      "display_name": "Python 3"
    },
    "language_info": {
      "name": "python"
    }
  },
  "cells": [
    {
      "cell_type": "markdown",
      "metadata": {
        "id": "view-in-github",
        "colab_type": "text"
      },
      "source": [
        "<a href=\"https://colab.research.google.com/github/namwootree/Portfolio/blob/main/test.ipynb\" target=\"_parent\"><img src=\"https://colab.research.google.com/assets/colab-badge.svg\" alt=\"Open In Colab\"/></a>"
      ]
    },
    {
      "cell_type": "code",
      "execution_count": 1,
      "metadata": {
        "colab": {
          "base_uri": "https://localhost:8080/"
        },
        "id": "uJ3KJ58lgnBp",
        "outputId": "e0881521-2aa1-48c4-fd75-e4afb1ca8723"
      },
      "outputs": [
        {
          "output_type": "stream",
          "name": "stdout",
          "text": [
            "Cloning into 'Portfolio'...\n",
            "remote: Enumerating objects: 922, done.\u001b[K\n",
            "remote: Counting objects: 100% (399/399), done.\u001b[K\n",
            "remote: Compressing objects: 100% (269/269), done.\u001b[K\n",
            "remote: Total 922 (delta 158), reused 350 (delta 127), pack-reused 523\u001b[K\n",
            "Receiving objects: 100% (922/922), 53.65 MiB | 27.97 MiB/s, done.\n",
            "Resolving deltas: 100% (305/305), done.\n"
          ]
        }
      ],
      "source": [
        "# test"
      ]
    },
    {
      "cell_type": "code",
      "source": [],
      "metadata": {
        "id": "AEFW496ggoen"
      },
      "execution_count": null,
      "outputs": []
    }
  ]
}