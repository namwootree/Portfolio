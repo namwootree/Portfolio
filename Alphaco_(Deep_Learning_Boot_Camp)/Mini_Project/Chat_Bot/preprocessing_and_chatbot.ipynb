{
  "nbformat": 4,
  "nbformat_minor": 0,
  "metadata": {
    "colab": {
      "name": "데이터_전처리_챗봇.ipynb",
      "provenance": [],
      "machine_shape": "hm"
    },
    "kernelspec": {
      "name": "python3",
      "display_name": "Python 3"
    },
    "language_info": {
      "name": "python"
    },
    "accelerator": "GPU"
  },
  "cells": [
    {
      "cell_type": "code",
      "execution_count": null,
      "metadata": {
        "id": "UCQaTA_-6nhN"
      },
      "outputs": [],
      "source": [
        "import pandas as pd\n",
        "import urllib.request\n",
        "import tensorflow_datasets as tfds\n",
        "import tensorflow as tf\n",
        "import time\n",
        "import numpy as np\n",
        "import matplotlib.pyplot as plt\n",
        "import re"
      ]
    },
    {
      "cell_type": "code",
      "source": [
        "!gdown --id 1Y_8vw70TuYrwIPfU6nbmlWZ4384JDpH2"
      ],
      "metadata": {
        "colab": {
          "base_uri": "https://localhost:8080/"
        },
        "id": "kKj10-fyE4A3",
        "outputId": "e3e68599-0480-42cd-97fa-a288e469a0c1"
      },
      "execution_count": null,
      "outputs": [
        {
          "output_type": "stream",
          "name": "stdout",
          "text": [
            "/usr/local/lib/python3.7/dist-packages/gdown/cli.py:131: FutureWarning: Option `--id` was deprecated in version 4.3.1 and will be removed in 5.0. You don't need to pass it anymore to use a file ID.\n",
            "  category=FutureWarning,\n",
            "Downloading...\n",
            "From: https://drive.google.com/uc?id=1Y_8vw70TuYrwIPfU6nbmlWZ4384JDpH2\n",
            "To: /content/슈퍼_train.csv\n",
            "100% 30.8M/30.8M [00:00<00:00, 111MB/s] \n"
          ]
        }
      ]
    },
    {
      "cell_type": "code",
      "source": [
        "df = pd.read_csv('/content/슈퍼_train.csv')"
      ],
      "metadata": {
        "colab": {
          "base_uri": "https://localhost:8080/"
        },
        "id": "VVvERy307Bsk",
        "outputId": "c7268b8e-739a-4e06-c635-1d7a2ca5fc9b"
      },
      "execution_count": null,
      "outputs": [
        {
          "output_type": "stream",
          "name": "stderr",
          "text": [
            "/usr/local/lib/python3.7/dist-packages/IPython/core/interactiveshell.py:2882: DtypeWarning: Columns (14) have mixed types.Specify dtype option on import or set low_memory=False.\n",
            "  exec(code_obj, self.user_global_ns, self.user_ns)\n"
          ]
        }
      ]
    },
    {
      "cell_type": "code",
      "source": [
        "print(df.shape)\n",
        "\n",
        "print('\\n--------------------\\n')\n",
        "\n",
        "print(df.info())\n",
        "\n",
        "print('\\n--------------------\\n')\n",
        "\n",
        "print(df.isnull().sum())\n",
        "\n",
        "print('\\n--------------------\\n')\n",
        "\n",
        "print(df.columns)"
      ],
      "metadata": {
        "colab": {
          "base_uri": "https://localhost:8080/"
        },
        "id": "WYIiP_jH980C",
        "outputId": "ebdcfae2-5a89-4be6-ca72-bf8eeb6f2610"
      },
      "execution_count": null,
      "outputs": [
        {
          "output_type": "stream",
          "name": "stdout",
          "text": [
            "(271723, 19)\n",
            "\n",
            "--------------------\n",
            "\n",
            "<class 'pandas.core.frame.DataFrame'>\n",
            "RangeIndex: 271723 entries, 0 to 271722\n",
            "Data columns (total 19 columns):\n",
            " #   Column  Non-Null Count   Dtype \n",
            "---  ------  --------------   ----- \n",
            " 0   IDX     271723 non-null  int64 \n",
            " 1   발화자     271723 non-null  object\n",
            " 2   발화문     271723 non-null  object\n",
            " 3   카테고리    271723 non-null  object\n",
            " 4   QA번호    271723 non-null  int64 \n",
            " 5   QA여부    271723 non-null  object\n",
            " 6   감성      271723 non-null  object\n",
            " 7   인텐트     271723 non-null  object\n",
            " 8   가격      24885 non-null   object\n",
            " 9   수량      19813 non-null   object\n",
            " 10  크기      8375 non-null    object\n",
            " 11  장소      5400 non-null    object\n",
            " 12  조직      3051 non-null    object\n",
            " 13  사람      188 non-null     object\n",
            " 14  시간      1593 non-null    object\n",
            " 15  날짜      2258 non-null    object\n",
            " 16  상품명     114892 non-null  object\n",
            " 17  상담번호    271723 non-null  int64 \n",
            " 18  상담내순번   271723 non-null  int64 \n",
            "dtypes: int64(4), object(15)\n",
            "memory usage: 39.4+ MB\n",
            "None\n",
            "\n",
            "--------------------\n",
            "\n",
            "IDX           0\n",
            "발화자           0\n",
            "발화문           0\n",
            "카테고리          0\n",
            "QA번호          0\n",
            "QA여부          0\n",
            "감성            0\n",
            "인텐트           0\n",
            "가격       246838\n",
            "수량       251910\n",
            "크기       263348\n",
            "장소       266323\n",
            "조직       268672\n",
            "사람       271535\n",
            "시간       270130\n",
            "날짜       269465\n",
            "상품명      156831\n",
            "상담번호          0\n",
            "상담내순번         0\n",
            "dtype: int64\n",
            "\n",
            "--------------------\n",
            "\n",
            "Index(['IDX', '발화자', '발화문', '카테고리', 'QA번호', 'QA여부', '감성', '인텐트', '가격', '수량',\n",
            "       '크기', '장소', '조직', '사람', '시간', '날짜', '상품명', '상담번호', '상담내순번'],\n",
            "      dtype='object')\n"
          ]
        }
      ]
    },
    {
      "cell_type": "code",
      "source": [
        "df_need_col = df[['발화자', '발화문',\n",
        "                 'QA번호', 'QA여부', \n",
        "                 '상담번호', '상담내순번',\n",
        "                 '인텐트']]"
      ],
      "metadata": {
        "id": "YpsRdtU6BvRe"
      },
      "execution_count": null,
      "outputs": []
    },
    {
      "cell_type": "code",
      "source": [
        "df_need_col.head()"
      ],
      "metadata": {
        "colab": {
          "base_uri": "https://localhost:8080/",
          "height": 206
        },
        "id": "NQKDFewdCqk5",
        "outputId": "beb520c6-2644-4f1d-feb9-39b897d4504c"
      },
      "execution_count": null,
      "outputs": [
        {
          "output_type": "execute_result",
          "data": {
            "text/plain": [
              "  발화자                                                발화문  QA번호 QA여부  상담번호  \\\n",
              "0   s  서울이요? 기본 중량같은 경우에 기본요금이 이천육백원이거든요 근데 서울은 외지라서 ...    10    q  2999   \n",
              "1   c                                       여기 얼마이상 배달되요     3    q   582   \n",
              "2   s                                      삼만원 이상 배달 됩니다     3    a   582   \n",
              "3   c                                        배송료는 얼마나 돼요    84    q  3395   \n",
              "4   s                                          이천오백 원이에요    84    a  3395   \n",
              "\n",
              "   상담내순번       인텐트  \n",
              "0     21  배송_비용_질문  \n",
              "1      3  배송_비용_질문  \n",
              "2      4  배송_비용_질문  \n",
              "3    174  배송_비용_질문  \n",
              "4    175  배송_비용_질문  "
            ],
            "text/html": [
              "\n",
              "  <div id=\"df-215840e3-1d40-444a-9fda-795bbcc308a7\">\n",
              "    <div class=\"colab-df-container\">\n",
              "      <div>\n",
              "<style scoped>\n",
              "    .dataframe tbody tr th:only-of-type {\n",
              "        vertical-align: middle;\n",
              "    }\n",
              "\n",
              "    .dataframe tbody tr th {\n",
              "        vertical-align: top;\n",
              "    }\n",
              "\n",
              "    .dataframe thead th {\n",
              "        text-align: right;\n",
              "    }\n",
              "</style>\n",
              "<table border=\"1\" class=\"dataframe\">\n",
              "  <thead>\n",
              "    <tr style=\"text-align: right;\">\n",
              "      <th></th>\n",
              "      <th>발화자</th>\n",
              "      <th>발화문</th>\n",
              "      <th>QA번호</th>\n",
              "      <th>QA여부</th>\n",
              "      <th>상담번호</th>\n",
              "      <th>상담내순번</th>\n",
              "      <th>인텐트</th>\n",
              "    </tr>\n",
              "  </thead>\n",
              "  <tbody>\n",
              "    <tr>\n",
              "      <th>0</th>\n",
              "      <td>s</td>\n",
              "      <td>서울이요? 기본 중량같은 경우에 기본요금이 이천육백원이거든요 근데 서울은 외지라서 ...</td>\n",
              "      <td>10</td>\n",
              "      <td>q</td>\n",
              "      <td>2999</td>\n",
              "      <td>21</td>\n",
              "      <td>배송_비용_질문</td>\n",
              "    </tr>\n",
              "    <tr>\n",
              "      <th>1</th>\n",
              "      <td>c</td>\n",
              "      <td>여기 얼마이상 배달되요</td>\n",
              "      <td>3</td>\n",
              "      <td>q</td>\n",
              "      <td>582</td>\n",
              "      <td>3</td>\n",
              "      <td>배송_비용_질문</td>\n",
              "    </tr>\n",
              "    <tr>\n",
              "      <th>2</th>\n",
              "      <td>s</td>\n",
              "      <td>삼만원 이상 배달 됩니다</td>\n",
              "      <td>3</td>\n",
              "      <td>a</td>\n",
              "      <td>582</td>\n",
              "      <td>4</td>\n",
              "      <td>배송_비용_질문</td>\n",
              "    </tr>\n",
              "    <tr>\n",
              "      <th>3</th>\n",
              "      <td>c</td>\n",
              "      <td>배송료는 얼마나 돼요</td>\n",
              "      <td>84</td>\n",
              "      <td>q</td>\n",
              "      <td>3395</td>\n",
              "      <td>174</td>\n",
              "      <td>배송_비용_질문</td>\n",
              "    </tr>\n",
              "    <tr>\n",
              "      <th>4</th>\n",
              "      <td>s</td>\n",
              "      <td>이천오백 원이에요</td>\n",
              "      <td>84</td>\n",
              "      <td>a</td>\n",
              "      <td>3395</td>\n",
              "      <td>175</td>\n",
              "      <td>배송_비용_질문</td>\n",
              "    </tr>\n",
              "  </tbody>\n",
              "</table>\n",
              "</div>\n",
              "      <button class=\"colab-df-convert\" onclick=\"convertToInteractive('df-215840e3-1d40-444a-9fda-795bbcc308a7')\"\n",
              "              title=\"Convert this dataframe to an interactive table.\"\n",
              "              style=\"display:none;\">\n",
              "        \n",
              "  <svg xmlns=\"http://www.w3.org/2000/svg\" height=\"24px\"viewBox=\"0 0 24 24\"\n",
              "       width=\"24px\">\n",
              "    <path d=\"M0 0h24v24H0V0z\" fill=\"none\"/>\n",
              "    <path d=\"M18.56 5.44l.94 2.06.94-2.06 2.06-.94-2.06-.94-.94-2.06-.94 2.06-2.06.94zm-11 1L8.5 8.5l.94-2.06 2.06-.94-2.06-.94L8.5 2.5l-.94 2.06-2.06.94zm10 10l.94 2.06.94-2.06 2.06-.94-2.06-.94-.94-2.06-.94 2.06-2.06.94z\"/><path d=\"M17.41 7.96l-1.37-1.37c-.4-.4-.92-.59-1.43-.59-.52 0-1.04.2-1.43.59L10.3 9.45l-7.72 7.72c-.78.78-.78 2.05 0 2.83L4 21.41c.39.39.9.59 1.41.59.51 0 1.02-.2 1.41-.59l7.78-7.78 2.81-2.81c.8-.78.8-2.07 0-2.86zM5.41 20L4 18.59l7.72-7.72 1.47 1.35L5.41 20z\"/>\n",
              "  </svg>\n",
              "      </button>\n",
              "      \n",
              "  <style>\n",
              "    .colab-df-container {\n",
              "      display:flex;\n",
              "      flex-wrap:wrap;\n",
              "      gap: 12px;\n",
              "    }\n",
              "\n",
              "    .colab-df-convert {\n",
              "      background-color: #E8F0FE;\n",
              "      border: none;\n",
              "      border-radius: 50%;\n",
              "      cursor: pointer;\n",
              "      display: none;\n",
              "      fill: #1967D2;\n",
              "      height: 32px;\n",
              "      padding: 0 0 0 0;\n",
              "      width: 32px;\n",
              "    }\n",
              "\n",
              "    .colab-df-convert:hover {\n",
              "      background-color: #E2EBFA;\n",
              "      box-shadow: 0px 1px 2px rgba(60, 64, 67, 0.3), 0px 1px 3px 1px rgba(60, 64, 67, 0.15);\n",
              "      fill: #174EA6;\n",
              "    }\n",
              "\n",
              "    [theme=dark] .colab-df-convert {\n",
              "      background-color: #3B4455;\n",
              "      fill: #D2E3FC;\n",
              "    }\n",
              "\n",
              "    [theme=dark] .colab-df-convert:hover {\n",
              "      background-color: #434B5C;\n",
              "      box-shadow: 0px 1px 3px 1px rgba(0, 0, 0, 0.15);\n",
              "      filter: drop-shadow(0px 1px 2px rgba(0, 0, 0, 0.3));\n",
              "      fill: #FFFFFF;\n",
              "    }\n",
              "  </style>\n",
              "\n",
              "      <script>\n",
              "        const buttonEl =\n",
              "          document.querySelector('#df-215840e3-1d40-444a-9fda-795bbcc308a7 button.colab-df-convert');\n",
              "        buttonEl.style.display =\n",
              "          google.colab.kernel.accessAllowed ? 'block' : 'none';\n",
              "\n",
              "        async function convertToInteractive(key) {\n",
              "          const element = document.querySelector('#df-215840e3-1d40-444a-9fda-795bbcc308a7');\n",
              "          const dataTable =\n",
              "            await google.colab.kernel.invokeFunction('convertToInteractive',\n",
              "                                                     [key], {});\n",
              "          if (!dataTable) return;\n",
              "\n",
              "          const docLinkHtml = 'Like what you see? Visit the ' +\n",
              "            '<a target=\"_blank\" href=https://colab.research.google.com/notebooks/data_table.ipynb>data table notebook</a>'\n",
              "            + ' to learn more about interactive tables.';\n",
              "          element.innerHTML = '';\n",
              "          dataTable['output_type'] = 'display_data';\n",
              "          await google.colab.output.renderOutput(dataTable, element);\n",
              "          const docLink = document.createElement('div');\n",
              "          docLink.innerHTML = docLinkHtml;\n",
              "          element.appendChild(docLink);\n",
              "        }\n",
              "      </script>\n",
              "    </div>\n",
              "  </div>\n",
              "  "
            ]
          },
          "metadata": {},
          "execution_count": 5
        }
      ]
    },
    {
      "cell_type": "code",
      "source": [
        "df_need_col.columns"
      ],
      "metadata": {
        "colab": {
          "base_uri": "https://localhost:8080/"
        },
        "id": "cSr0tuyGClCq",
        "outputId": "ab267e02-104f-4734-ba50-5826ae07c31c"
      },
      "execution_count": null,
      "outputs": [
        {
          "output_type": "execute_result",
          "data": {
            "text/plain": [
              "Index(['발화자', '발화문', 'QA번호', 'QA여부', '상담번호', '상담내순번', '인텐트'], dtype='object')"
            ]
          },
          "metadata": {},
          "execution_count": 6
        }
      ]
    },
    {
      "cell_type": "code",
      "source": [
        "delivery_unique = list(df_need_col['인텐트'].unique())"
      ],
      "metadata": {
        "id": "fFPbAtiPD5Yw"
      },
      "execution_count": null,
      "outputs": []
    },
    {
      "cell_type": "code",
      "source": [
        "delivery_unique"
      ],
      "metadata": {
        "colab": {
          "base_uri": "https://localhost:8080/"
        },
        "id": "Jnb1eZMdGPBK",
        "outputId": "383669da-1ff4-44a0-8a16-278b202431ca"
      },
      "execution_count": null,
      "outputs": [
        {
          "output_type": "execute_result",
          "data": {
            "text/plain": [
              "['배송_비용_질문',\n",
              " '배송_비용_요청',\n",
              " '매장_정보_확인',\n",
              " '제품_품질_비교',\n",
              " '제품_원산지_요청',\n",
              " '배송_일반_질문',\n",
              " '결제_영수증_요청',\n",
              " '제품_품질_요청',\n",
              " '포장_일반_질문',\n",
              " '제품_구성_질문',\n",
              " '매장_정보_비교',\n",
              " '매장_이용_확인',\n",
              " '멤버십_사용_요청',\n",
              " '구매_제품_요청',\n",
              " '제품_추천_확인',\n",
              " '제품_일반_비교',\n",
              " '구매_오류_요청',\n",
              " '제품_용도_확인',\n",
              " '웹사이트_오류_질문',\n",
              " '웹사이트_사용_확인',\n",
              " '제품_품질_질문',\n",
              " '제품_입고_요청',\n",
              " '매장_정보_질문',\n",
              " '제품_가격_요청',\n",
              " '웹사이트_가입_질문',\n",
              " '포장_비용_확인',\n",
              " '포장_일반_확인',\n",
              " '제품_원산지_확인',\n",
              " '행사_유형_질문',\n",
              " '행사_날짜_요청',\n",
              " '결제_할인_요청',\n",
              " '교환|반품|환불_시간_질문',\n",
              " '제품_소재_확인',\n",
              " '구매_제품_질문',\n",
              " '제품_정보_비교',\n",
              " '제품_용도_질문',\n",
              " '행사_기간_요청',\n",
              " '결제_영수증_확인',\n",
              " '제품_품질_확인',\n",
              " 'AS_일반_요청',\n",
              " '구매_변경_요청',\n",
              " '행사_일반_질문',\n",
              " '제품_일반_요청',\n",
              " '결제_추가_요청',\n",
              " '멤버십_가입_질문',\n",
              " '제품_날짜_비교',\n",
              " 'AS_비용_질문',\n",
              " '제품_방법_요청',\n",
              " '구매_변경_질문',\n",
              " '교환|반품|환불_시간_확인',\n",
              " '매장_이용_질문',\n",
              " '멤버십_적립_요청',\n",
              " '배송_방법_비교',\n",
              " '결제_재결제_요청',\n",
              " '배송_비용_비교',\n",
              " '제품_원산지_질문',\n",
              " '교환|반품|환불_일반_확인',\n",
              " 'AS_방법_요청',\n",
              " '제품_정보_요청',\n",
              " '결제_오류_확인',\n",
              " '배송_날짜_질문',\n",
              " '배송_오류_확인',\n",
              " '구매_제품_확인',\n",
              " '제품_재고_요청',\n",
              " '행사_날짜_질문',\n",
              " '배송_오류_질문',\n",
              " '구매_변경_확인',\n",
              " '제품_일반_질문',\n",
              " '제품_시용_질문',\n",
              " '결제_취소_질문',\n",
              " '제품_구성_확인',\n",
              " '포장_일반_요청',\n",
              " '교환|반품|환불_비용_질문',\n",
              " '구매_추가_확인',\n",
              " '행사_유형_요청',\n",
              " 'AS_비용_확인',\n",
              " '제품_방법_질문',\n",
              " '구매_오류_확인',\n",
              " '제품_입고_질문',\n",
              " '멤버십_사용_확인',\n",
              " '제품_구성_요청',\n",
              " '제품_정보_확인',\n",
              " '매장_부대시설_요청',\n",
              " '포장_비용_질문',\n",
              " '제품_가격_확인',\n",
              " '결제_할인_질문',\n",
              " '결제_수단_질문',\n",
              " '제품_재고_질문',\n",
              " '구매_추가_요청',\n",
              " '배송_지역_확인',\n",
              " '결제_시기_확인',\n",
              " '배송_방법_요청',\n",
              " '제품_시용_요청',\n",
              " '행사_기간_확인',\n",
              " '행사_정보_요청',\n",
              " '행사_일반_확인',\n",
              " '배송_일반_비교',\n",
              " 'AS_시간_질문',\n",
              " '제품_날짜_질문',\n",
              " '결제_시기_질문',\n",
              " '멤버십_가입_요청',\n",
              " '행사_정보_확인',\n",
              " '멤버십_적립_질문',\n",
              " '제품_재고_확인',\n",
              " '결제_오류_요청',\n",
              " '결제_방식_요청',\n",
              " '제품_추천_질문',\n",
              " '배송_지역_요청',\n",
              " '결제_추가_확인',\n",
              " '제품_추천_요청',\n",
              " '매장_정보_요청',\n",
              " '결제_취소_요청',\n",
              " '행사_유형_비교',\n",
              " '제품_방법_확인',\n",
              " 'AS_방법_질문',\n",
              " '제품_불량_질문',\n",
              " '교환|반품|환불_방법_확인',\n",
              " '제품_정보_질문',\n",
              " '구매_취소_질문',\n",
              " '멤버십_적립_확인',\n",
              " '결제_일반_확인',\n",
              " '결제_수단_확인',\n",
              " '결제_수단_요청',\n",
              " '멤버십_일반_확인',\n",
              " '멤버십_가입_확인',\n",
              " '멤버십_사용_질문',\n",
              " '결제_오류_질문',\n",
              " '웹사이트_사용_질문',\n",
              " '제품_가격_비교',\n",
              " '구매_추가_질문',\n",
              " '웹사이트_사용_요청',\n",
              " '제품_날짜_확인',\n",
              " '결제_시기_요청',\n",
              " '배송_방법_확인',\n",
              " '결제_영수증_질문',\n",
              " '제품_소재_요청',\n",
              " '포장_방식_질문',\n",
              " '포장_방식_비교',\n",
              " '결제_추가_질문',\n",
              " '멤버십_일반_질문',\n",
              " '배송_택배사_질문',\n",
              " '결제_일반_질문',\n",
              " '교환|반품|환불_일반_질문',\n",
              " 'AS_시간_확인',\n",
              " '제품_구성_비교',\n",
              " '제품_소재_비교',\n",
              " '제품_소재_질문',\n",
              " '행사_유형_확인',\n",
              " '제품_원산지_비교',\n",
              " '구매_취소_확인',\n",
              " '교환|반품|환불_방법_요청',\n",
              " '결제_방식_질문',\n",
              " '결제_취소_확인',\n",
              " '제품_추천_비교',\n",
              " '제품_불량_요청',\n",
              " '구매_취소_요청',\n",
              " '교환|반품|환불_비용_확인',\n",
              " 'AS_일반_질문',\n",
              " '행사_기간_질문',\n",
              " '배송_지역_질문',\n",
              " '교환|반품|환불_일반_요청',\n",
              " '배송_날짜_확인',\n",
              " '교환|반품|환불_방법_질문',\n",
              " '교환|반품|환불_시간_요청',\n",
              " '배송_일반_확인',\n",
              " '결제_재결제_확인',\n",
              " '제품_호환_질문',\n",
              " '매장_부대시설_확인',\n",
              " '행사_정보_비교',\n",
              " '제품_용도_요청',\n",
              " 'AS_일반_확인',\n",
              " '매장_이용_요청',\n",
              " '포장_비용_비교',\n",
              " '포장_방식_확인',\n",
              " '배송_방법_질문',\n",
              " '제품_시용_확인',\n",
              " '포장_방식_요청',\n",
              " '제품_방법_비교',\n",
              " '제품_일반_확인',\n",
              " '매장_이용_비교',\n",
              " '구매_오류_질문',\n",
              " '멤버십_일반_요청',\n",
              " '결제_방식_확인',\n",
              " '결제_할인_확인',\n",
              " '행사_정보_질문',\n",
              " '제품_가격_질문',\n",
              " '결제_재결제_질문',\n",
              " '매장_부대시설_질문',\n",
              " '제품_입고_확인',\n",
              " '웹사이트_사용_비교',\n",
              " '제품_재고_비교',\n",
              " '포장_비용_요청',\n",
              " '제품_날짜_요청',\n",
              " '배송_오류_요청',\n",
              " '배송_일반_요청',\n",
              " '배송_비용_확인',\n",
              " '행사_날짜_확인',\n",
              " 'AS_방법_확인',\n",
              " '교환|반품|환불_비용_요청',\n",
              " '행사_일반_요청',\n",
              " '결제_일반_요청',\n",
              " '제품_불량_확인',\n",
              " '배송_날짜_요청']"
            ]
          },
          "metadata": {},
          "execution_count": 9
        }
      ]
    },
    {
      "cell_type": "code",
      "source": [
        "need_data = []\n",
        "\n",
        "for i in delivery_unique:\n",
        "  if '배송' in i:\n",
        "    need_data.append(i)\n",
        "  \n",
        "  if '교환' in i:\n",
        "    need_data.append(i)    \n",
        "\n",
        "need_data"
      ],
      "metadata": {
        "colab": {
          "base_uri": "https://localhost:8080/"
        },
        "id": "_BUIStQ8EW5r",
        "outputId": "56927338-c77c-4283-ef2e-882081dbec91"
      },
      "execution_count": null,
      "outputs": [
        {
          "output_type": "execute_result",
          "data": {
            "text/plain": [
              "['배송_비용_질문',\n",
              " '배송_비용_요청',\n",
              " '배송_일반_질문',\n",
              " '교환|반품|환불_시간_질문',\n",
              " '교환|반품|환불_시간_확인',\n",
              " '배송_방법_비교',\n",
              " '배송_비용_비교',\n",
              " '교환|반품|환불_일반_확인',\n",
              " '배송_날짜_질문',\n",
              " '배송_오류_확인',\n",
              " '배송_오류_질문',\n",
              " '교환|반품|환불_비용_질문',\n",
              " '배송_지역_확인',\n",
              " '배송_방법_요청',\n",
              " '배송_일반_비교',\n",
              " '배송_지역_요청',\n",
              " '교환|반품|환불_방법_확인',\n",
              " '배송_방법_확인',\n",
              " '배송_택배사_질문',\n",
              " '교환|반품|환불_일반_질문',\n",
              " '교환|반품|환불_방법_요청',\n",
              " '교환|반품|환불_비용_확인',\n",
              " '배송_지역_질문',\n",
              " '교환|반품|환불_일반_요청',\n",
              " '배송_날짜_확인',\n",
              " '교환|반품|환불_방법_질문',\n",
              " '교환|반품|환불_시간_요청',\n",
              " '배송_일반_확인',\n",
              " '배송_방법_질문',\n",
              " '배송_오류_요청',\n",
              " '배송_일반_요청',\n",
              " '배송_비용_확인',\n",
              " '교환|반품|환불_비용_요청',\n",
              " '배송_날짜_요청']"
            ]
          },
          "metadata": {},
          "execution_count": 8
        }
      ]
    },
    {
      "cell_type": "code",
      "source": [
        "need_df = df_need_col[df_need_col['인텐트'].isin(need_data)]"
      ],
      "metadata": {
        "id": "Losv4mTVEjNW"
      },
      "execution_count": null,
      "outputs": []
    },
    {
      "cell_type": "code",
      "source": [
        "df_sorted = need_df.sort_values(['상담번호', 'QA번호'])"
      ],
      "metadata": {
        "id": "nwF9JeNLCpEf"
      },
      "execution_count": null,
      "outputs": []
    },
    {
      "cell_type": "code",
      "source": [
        "cond1 = (df_sorted['발화자'] == 's')&  (df_sorted['QA여부'] == 'a')\n",
        "cond2 = (df_sorted['발화자'] == 'c')&  (df_sorted['QA여부'] == 'q')\n",
        "\n",
        "df_filtered = df_sorted.loc[cond1|cond2]\n",
        "df_filtered"
      ],
      "metadata": {
        "colab": {
          "base_uri": "https://localhost:8080/",
          "height": 672
        },
        "id": "f5VQFlVMC7MA",
        "outputId": "274a169c-af57-4320-ad83-db7b51fe010d"
      },
      "execution_count": null,
      "outputs": [
        {
          "output_type": "execute_result",
          "data": {
            "text/plain": [
              "       발화자                                    발화문   QA번호 QA여부   상담번호  상담내순번  \\\n",
              "132634   c  차가져왔어요 앞에만 내놔주시면 감사드려요 배달하기는 시간이 부족하니     32    q      6     47   \n",
              "132635   s                                     그쵸     32    a      6     48   \n",
              "59819    c                     사장님 제가 22일날 주문했는데요      6    q     38     13   \n",
              "59821    c                             오늘 배송 되나요?      6    q     38     15   \n",
              "59822    s                     네오늘 22일날 이미 발송 됐어요      6    a     38     16   \n",
              "...     ..                                    ...    ...  ...    ...    ...   \n",
              "193606   s                 네, 팬티라이너로 교환하실 수 있습니다.  95560    a  95560      2   \n",
              "201231   c         스템플러 누르면 심이 잘 안 박히는데 환불 가능한가요?  95641    q  95641      1   \n",
              "201232   s               네, 스템플러 확인한 후에 환불 가능합니다.  95641    a  95641      2   \n",
              "271329   c          9월 10일에 받을 수 있도록 배송 예약 부탁합니다.  95685    q  95685      1   \n",
              "271330   s          9월 10일 오전에 받으실 수 있도록 해 두겠습니다.  95685    a  95685      2   \n",
              "\n",
              "                   인텐트  \n",
              "132634        배송_방법_요청  \n",
              "132635        배송_방법_요청  \n",
              "59819         배송_날짜_질문  \n",
              "59821         배송_날짜_질문  \n",
              "59822         배송_날짜_질문  \n",
              "...                ...  \n",
              "193606  교환|반품|환불_방법_요청  \n",
              "201231  교환|반품|환불_방법_질문  \n",
              "201232  교환|반품|환불_방법_질문  \n",
              "271329        배송_날짜_요청  \n",
              "271330        배송_날짜_요청  \n",
              "\n",
              "[26390 rows x 7 columns]"
            ],
            "text/html": [
              "\n",
              "  <div id=\"df-53a54581-99bb-446b-9597-00ce3f695500\">\n",
              "    <div class=\"colab-df-container\">\n",
              "      <div>\n",
              "<style scoped>\n",
              "    .dataframe tbody tr th:only-of-type {\n",
              "        vertical-align: middle;\n",
              "    }\n",
              "\n",
              "    .dataframe tbody tr th {\n",
              "        vertical-align: top;\n",
              "    }\n",
              "\n",
              "    .dataframe thead th {\n",
              "        text-align: right;\n",
              "    }\n",
              "</style>\n",
              "<table border=\"1\" class=\"dataframe\">\n",
              "  <thead>\n",
              "    <tr style=\"text-align: right;\">\n",
              "      <th></th>\n",
              "      <th>발화자</th>\n",
              "      <th>발화문</th>\n",
              "      <th>QA번호</th>\n",
              "      <th>QA여부</th>\n",
              "      <th>상담번호</th>\n",
              "      <th>상담내순번</th>\n",
              "      <th>인텐트</th>\n",
              "    </tr>\n",
              "  </thead>\n",
              "  <tbody>\n",
              "    <tr>\n",
              "      <th>132634</th>\n",
              "      <td>c</td>\n",
              "      <td>차가져왔어요 앞에만 내놔주시면 감사드려요 배달하기는 시간이 부족하니</td>\n",
              "      <td>32</td>\n",
              "      <td>q</td>\n",
              "      <td>6</td>\n",
              "      <td>47</td>\n",
              "      <td>배송_방법_요청</td>\n",
              "    </tr>\n",
              "    <tr>\n",
              "      <th>132635</th>\n",
              "      <td>s</td>\n",
              "      <td>그쵸</td>\n",
              "      <td>32</td>\n",
              "      <td>a</td>\n",
              "      <td>6</td>\n",
              "      <td>48</td>\n",
              "      <td>배송_방법_요청</td>\n",
              "    </tr>\n",
              "    <tr>\n",
              "      <th>59819</th>\n",
              "      <td>c</td>\n",
              "      <td>사장님 제가 22일날 주문했는데요</td>\n",
              "      <td>6</td>\n",
              "      <td>q</td>\n",
              "      <td>38</td>\n",
              "      <td>13</td>\n",
              "      <td>배송_날짜_질문</td>\n",
              "    </tr>\n",
              "    <tr>\n",
              "      <th>59821</th>\n",
              "      <td>c</td>\n",
              "      <td>오늘 배송 되나요?</td>\n",
              "      <td>6</td>\n",
              "      <td>q</td>\n",
              "      <td>38</td>\n",
              "      <td>15</td>\n",
              "      <td>배송_날짜_질문</td>\n",
              "    </tr>\n",
              "    <tr>\n",
              "      <th>59822</th>\n",
              "      <td>s</td>\n",
              "      <td>네오늘 22일날 이미 발송 됐어요</td>\n",
              "      <td>6</td>\n",
              "      <td>a</td>\n",
              "      <td>38</td>\n",
              "      <td>16</td>\n",
              "      <td>배송_날짜_질문</td>\n",
              "    </tr>\n",
              "    <tr>\n",
              "      <th>...</th>\n",
              "      <td>...</td>\n",
              "      <td>...</td>\n",
              "      <td>...</td>\n",
              "      <td>...</td>\n",
              "      <td>...</td>\n",
              "      <td>...</td>\n",
              "      <td>...</td>\n",
              "    </tr>\n",
              "    <tr>\n",
              "      <th>193606</th>\n",
              "      <td>s</td>\n",
              "      <td>네, 팬티라이너로 교환하실 수 있습니다.</td>\n",
              "      <td>95560</td>\n",
              "      <td>a</td>\n",
              "      <td>95560</td>\n",
              "      <td>2</td>\n",
              "      <td>교환|반품|환불_방법_요청</td>\n",
              "    </tr>\n",
              "    <tr>\n",
              "      <th>201231</th>\n",
              "      <td>c</td>\n",
              "      <td>스템플러 누르면 심이 잘 안 박히는데 환불 가능한가요?</td>\n",
              "      <td>95641</td>\n",
              "      <td>q</td>\n",
              "      <td>95641</td>\n",
              "      <td>1</td>\n",
              "      <td>교환|반품|환불_방법_질문</td>\n",
              "    </tr>\n",
              "    <tr>\n",
              "      <th>201232</th>\n",
              "      <td>s</td>\n",
              "      <td>네, 스템플러 확인한 후에 환불 가능합니다.</td>\n",
              "      <td>95641</td>\n",
              "      <td>a</td>\n",
              "      <td>95641</td>\n",
              "      <td>2</td>\n",
              "      <td>교환|반품|환불_방법_질문</td>\n",
              "    </tr>\n",
              "    <tr>\n",
              "      <th>271329</th>\n",
              "      <td>c</td>\n",
              "      <td>9월 10일에 받을 수 있도록 배송 예약 부탁합니다.</td>\n",
              "      <td>95685</td>\n",
              "      <td>q</td>\n",
              "      <td>95685</td>\n",
              "      <td>1</td>\n",
              "      <td>배송_날짜_요청</td>\n",
              "    </tr>\n",
              "    <tr>\n",
              "      <th>271330</th>\n",
              "      <td>s</td>\n",
              "      <td>9월 10일 오전에 받으실 수 있도록 해 두겠습니다.</td>\n",
              "      <td>95685</td>\n",
              "      <td>a</td>\n",
              "      <td>95685</td>\n",
              "      <td>2</td>\n",
              "      <td>배송_날짜_요청</td>\n",
              "    </tr>\n",
              "  </tbody>\n",
              "</table>\n",
              "<p>26390 rows × 7 columns</p>\n",
              "</div>\n",
              "      <button class=\"colab-df-convert\" onclick=\"convertToInteractive('df-53a54581-99bb-446b-9597-00ce3f695500')\"\n",
              "              title=\"Convert this dataframe to an interactive table.\"\n",
              "              style=\"display:none;\">\n",
              "        \n",
              "  <svg xmlns=\"http://www.w3.org/2000/svg\" height=\"24px\"viewBox=\"0 0 24 24\"\n",
              "       width=\"24px\">\n",
              "    <path d=\"M0 0h24v24H0V0z\" fill=\"none\"/>\n",
              "    <path d=\"M18.56 5.44l.94 2.06.94-2.06 2.06-.94-2.06-.94-.94-2.06-.94 2.06-2.06.94zm-11 1L8.5 8.5l.94-2.06 2.06-.94-2.06-.94L8.5 2.5l-.94 2.06-2.06.94zm10 10l.94 2.06.94-2.06 2.06-.94-2.06-.94-.94-2.06-.94 2.06-2.06.94z\"/><path d=\"M17.41 7.96l-1.37-1.37c-.4-.4-.92-.59-1.43-.59-.52 0-1.04.2-1.43.59L10.3 9.45l-7.72 7.72c-.78.78-.78 2.05 0 2.83L4 21.41c.39.39.9.59 1.41.59.51 0 1.02-.2 1.41-.59l7.78-7.78 2.81-2.81c.8-.78.8-2.07 0-2.86zM5.41 20L4 18.59l7.72-7.72 1.47 1.35L5.41 20z\"/>\n",
              "  </svg>\n",
              "      </button>\n",
              "      \n",
              "  <style>\n",
              "    .colab-df-container {\n",
              "      display:flex;\n",
              "      flex-wrap:wrap;\n",
              "      gap: 12px;\n",
              "    }\n",
              "\n",
              "    .colab-df-convert {\n",
              "      background-color: #E8F0FE;\n",
              "      border: none;\n",
              "      border-radius: 50%;\n",
              "      cursor: pointer;\n",
              "      display: none;\n",
              "      fill: #1967D2;\n",
              "      height: 32px;\n",
              "      padding: 0 0 0 0;\n",
              "      width: 32px;\n",
              "    }\n",
              "\n",
              "    .colab-df-convert:hover {\n",
              "      background-color: #E2EBFA;\n",
              "      box-shadow: 0px 1px 2px rgba(60, 64, 67, 0.3), 0px 1px 3px 1px rgba(60, 64, 67, 0.15);\n",
              "      fill: #174EA6;\n",
              "    }\n",
              "\n",
              "    [theme=dark] .colab-df-convert {\n",
              "      background-color: #3B4455;\n",
              "      fill: #D2E3FC;\n",
              "    }\n",
              "\n",
              "    [theme=dark] .colab-df-convert:hover {\n",
              "      background-color: #434B5C;\n",
              "      box-shadow: 0px 1px 3px 1px rgba(0, 0, 0, 0.15);\n",
              "      filter: drop-shadow(0px 1px 2px rgba(0, 0, 0, 0.3));\n",
              "      fill: #FFFFFF;\n",
              "    }\n",
              "  </style>\n",
              "\n",
              "      <script>\n",
              "        const buttonEl =\n",
              "          document.querySelector('#df-53a54581-99bb-446b-9597-00ce3f695500 button.colab-df-convert');\n",
              "        buttonEl.style.display =\n",
              "          google.colab.kernel.accessAllowed ? 'block' : 'none';\n",
              "\n",
              "        async function convertToInteractive(key) {\n",
              "          const element = document.querySelector('#df-53a54581-99bb-446b-9597-00ce3f695500');\n",
              "          const dataTable =\n",
              "            await google.colab.kernel.invokeFunction('convertToInteractive',\n",
              "                                                     [key], {});\n",
              "          if (!dataTable) return;\n",
              "\n",
              "          const docLinkHtml = 'Like what you see? Visit the ' +\n",
              "            '<a target=\"_blank\" href=https://colab.research.google.com/notebooks/data_table.ipynb>data table notebook</a>'\n",
              "            + ' to learn more about interactive tables.';\n",
              "          element.innerHTML = '';\n",
              "          dataTable['output_type'] = 'display_data';\n",
              "          await google.colab.output.renderOutput(dataTable, element);\n",
              "          const docLink = document.createElement('div');\n",
              "          docLink.innerHTML = docLinkHtml;\n",
              "          element.appendChild(docLink);\n",
              "        }\n",
              "      </script>\n",
              "    </div>\n",
              "  </div>\n",
              "  "
            ]
          },
          "metadata": {},
          "execution_count": 11
        },
        {
          "output_type": "stream",
          "name": "stdout",
          "text": [
            "Warning: total number of rows (26390) exceeds max_rows (20000). Limiting to first (20000) rows.\n"
          ]
        }
      ]
    },
    {
      "cell_type": "code",
      "source": [
        "list_talker = list(df_filtered['발화자'])\n",
        "list_sentence = list(df_filtered['발화문'])"
      ],
      "metadata": {
        "id": "KR8VYZEWLe52"
      },
      "execution_count": null,
      "outputs": []
    },
    {
      "cell_type": "code",
      "source": [
        "list_talker[:5]"
      ],
      "metadata": {
        "colab": {
          "base_uri": "https://localhost:8080/"
        },
        "id": "DYLdUGqDSAok",
        "outputId": "e0efec69-accb-4e97-b43e-3877df8c6602"
      },
      "execution_count": null,
      "outputs": [
        {
          "output_type": "execute_result",
          "data": {
            "text/plain": [
              "['c', 's', 'c', 'c', 's']"
            ]
          },
          "metadata": {},
          "execution_count": 38
        }
      ]
    },
    {
      "cell_type": "code",
      "source": [
        "list_sentence[:5]"
      ],
      "metadata": {
        "colab": {
          "base_uri": "https://localhost:8080/"
        },
        "id": "AgnrpROdSCHf",
        "outputId": "69b00dac-90cf-45b7-c20a-d5d6e395e2a7"
      },
      "execution_count": null,
      "outputs": [
        {
          "output_type": "execute_result",
          "data": {
            "text/plain": [
              "['차가져왔어요 앞에만 내놔주시면 감사드려요 배달하기는 시간이 부족하니',\n",
              " '그쵸',\n",
              " '사장님 제가 22일날 주문했는데요',\n",
              " '오늘 배송 되나요?',\n",
              " '네오늘 22일날 이미 발송 됐어요']"
            ]
          },
          "metadata": {},
          "execution_count": 39
        }
      ]
    },
    {
      "cell_type": "code",
      "source": [
        "new_list_s = [] # 같은 화자의 말은 같은 리스트에 넣음 # ex : [[c, c], [s, s], [c], [s, s, s]]\n",
        "new_list_c = []\n",
        "\n",
        "new_c = [] # 구매자 말뭉치\n",
        "new_s = [] # 판매자 말뭉치\n",
        "\n",
        "for i, t in enumerate(list_talker): # t : 화자, i : 문장 리스트 위치\n",
        "\n",
        "\n",
        "  if t == 'c':\n",
        "\n",
        "    new_c.append(list_sentence[i]) # 구매자의 말을 구매자 말뭉치에 넣음\n",
        "    new_list_s.append(' '.join(new_s)) # # 화자가 구매자로 바뀌었기에 모아둔 판매자 말뭉치를 new_list_sentence에 넣는다\n",
        "    new_s = [] # 판매자 말뭉치 초기화\n",
        "\n",
        "  \n",
        "  if t == 's':\n",
        "\n",
        "    new_s.append(list_sentence[i])\n",
        "    new_list_c.append(' '.join(new_c)) # 화자가 판매자로 바뀌었기에 모아둔 구매자 말뭉치를 new_list_sentence에 넣는다\n",
        "    new_c = [] # 구매자 말뭉치 초기화\n",
        "\n",
        "new_list_s.append(new_s)"
      ],
      "metadata": {
        "id": "Zi3IHRKhYF2I"
      },
      "execution_count": null,
      "outputs": []
    },
    {
      "cell_type": "code",
      "source": [
        "new_list_s = [x for x in new_list_s if x != '']\n",
        "new_list_c = [x for x in new_list_c if x != '']"
      ],
      "metadata": {
        "id": "msa--AGZYGwZ"
      },
      "execution_count": null,
      "outputs": []
    },
    {
      "cell_type": "code",
      "source": [
        "len(new_list_s), len(new_list_c)"
      ],
      "metadata": {
        "colab": {
          "base_uri": "https://localhost:8080/"
        },
        "id": "ghGGTs19ceHc",
        "outputId": "9ee0f107-4343-4b9e-93a4-8886b6b110bd"
      },
      "execution_count": null,
      "outputs": [
        {
          "output_type": "execute_result",
          "data": {
            "text/plain": [
              "(13107, 13107)"
            ]
          },
          "metadata": {},
          "execution_count": 76
        }
      ]
    },
    {
      "cell_type": "code",
      "source": [
        "new_list_s[:10], new_list_c[:10]"
      ],
      "metadata": {
        "colab": {
          "base_uri": "https://localhost:8080/"
        },
        "id": "SNhBB0BYYHKS",
        "outputId": "82530279-8b46-4820-b22a-a1cac1201716"
      },
      "execution_count": null,
      "outputs": [
        {
          "output_type": "execute_result",
          "data": {
            "text/plain": [
              "(['그쵸',\n",
              "  '네오늘 22일날 이미 발송 됐어요',\n",
              "  '아 거기 송장번호 뜨죠? 그걸로 검색 하시면 되요',\n",
              "  '네 로젠택배로 하시면 되요',\n",
              "  '네 바로 취소 됩니다 인터넷 상에서',\n",
              "  '네 알겠습니다 사진 보내주시고 반품 요청 등록 하세요~',\n",
              "  '그거는 먼가 전산 오류가 있는거 같아요. 저희가 확인해서 취소처리 해드리께요',\n",
              "  '네네',\n",
              "  '네 교환 가능해요',\n",
              "  '네 그렇게 할께요'],\n",
              " ['차가져왔어요 앞에만 내놔주시면 감사드려요 배달하기는 시간이 부족하니',\n",
              "  '사장님 제가 22일날 주문했는데요 오늘 배송 되나요?',\n",
              "  '네 고구마 다이어트 할려고 그러는데 꼭 날짜 되서 와야 되는데요 배송 조회는 어디서 하면 될까요?',\n",
              "  '로젠택배데 거기로 검색 하면 되나요?',\n",
              "  '그럼 환불 처리 해주시나요?',\n",
              "  '그럼 제가 사진한번 보내드릴 테니까 한번 보시고 반품 요청 해주세요',\n",
              "  '제가 톡톡으로 사진 보내드렸는데 계속 연락이 없어가지고 전화 드렸거든요? 어떻게 처리해주실 건가요? 제가 일요일에 시킨 물건을 목요일까지 배송을 안해줘서 환불 해달라고 했는데 반품비 6천원을 내라고 하더라고요 왜그렇게 해야 되는 거죠? 그쪽에서 안보내신 건데? 그래서 환불해달라 그랬는데 반품비를 6천원 빼고 보내신다는 거잖아요?',\n",
              "  '확인해 보시고 연락주세요',\n",
              "  '제가 고구마를 풀러바서 썩은 고구마를 사진을 보내드렸는데 환불 해주신다 그랬거든요? 교환으로도 가능한가요?',\n",
              "  '그럼 교환으로 처리해주세요'])"
            ]
          },
          "metadata": {},
          "execution_count": 98
        }
      ]
    },
    {
      "cell_type": "code",
      "source": [
        "# 최종 버전\n",
        "class PositionalEncoding(tf.keras.layers.Layer):\n",
        "  def __init__(self, position, d_model):\n",
        "    super(PositionalEncoding, self).__init__()\n",
        "    self.pos_encoding = self.positional_encoding(position, d_model)\n",
        "\n",
        "  def get_angles(self, position, i, d_model):\n",
        "    angles = 1 / tf.pow(10000, (2 * (i // 2)) / tf.cast(d_model, tf.float32))\n",
        "    return position * angles\n",
        "\n",
        "  def positional_encoding(self, position, d_model):\n",
        "    angle_rads = self.get_angles(\n",
        "        position=tf.range(position, dtype=tf.float32)[:, tf.newaxis],\n",
        "        i=tf.range(d_model, dtype=tf.float32)[tf.newaxis, :], # 0 ~ d_model\n",
        "        d_model=d_model)\n",
        "\n",
        "    # 배열의 짝수 인덱스(2i)에는 사인 함수 적용\n",
        "    sines = tf.math.sin(angle_rads[:, 0::2])\n",
        "\n",
        "    # 배열의 홀수 인덱스(2i+1)에는 코사인 함수 적용\n",
        "    cosines = tf.math.cos(angle_rads[:, 1::2])\n",
        "\n",
        "    angle_rads = np.zeros(angle_rads.shape)\n",
        "    angle_rads[:, 0::2] = sines\n",
        "    angle_rads[:, 1::2] = cosines\n",
        "    \n",
        "    pos_encoding = tf.constant(angle_rads)\n",
        "    print(pos_encoding.shape)\n",
        "    pos_encoding = pos_encoding[tf.newaxis, ...] # 축 추가 (배치가 들어갈 자리 만들어주는 것)\n",
        "    print(pos_encoding.shape)\n",
        "    return tf.cast(pos_encoding, tf.float32)\n",
        "\n",
        "  def call(self, inputs):\n",
        "    return inputs + self.pos_encoding[:, :tf.shape(inputs)[1], :]\n",
        "\n",
        "    # 단어 벡터가 들어오면 self.pos_encoding이랑 더해지는 것"
      ],
      "metadata": {
        "id": "JGVRJbODYHE3"
      },
      "execution_count": null,
      "outputs": []
    },
    {
      "cell_type": "code",
      "source": [
        "def scaled_dot_product_attention(query, key, value, mask):\n",
        "  # query 크기 : (batch_size, num_heads, query의 문장 길이, d_model/num_heads)\n",
        "  # key 크기 : (batch_size, num_heads, key의 문장 길이, d_model/num_heads)\n",
        "  # value 크기 : (batch_size, num_heads, value의 문장 길이, d_model/num_heads)\n",
        "  # padding_mask : (batch_size, 1, 1, key의 문장 길이) - 디코더에 쓸 것\n",
        "\n",
        "  # Q와 K의 곱. 어텐션 스코어 행렬.\n",
        "  matmul_qk = tf.matmul(query, key, transpose_b=True)\n",
        "\n",
        "  # 스케일링\n",
        "  # dk의 루트값으로 나눠준다.\n",
        "  depth = tf.cast(tf.shape(key)[-1], tf.float32)\n",
        "  logits = matmul_qk / tf.math.sqrt(depth)\n",
        "\n",
        "  # 마스킹. 어텐션 스코어 행렬의 마스킹 할 위치에 매우 작은 음수값을 넣는다.\n",
        "  # 매우 작은 값이므로 소프트맥스 함수를 지나면 행렬의 해당 위치의 값은 0이 된다.\n",
        "  if mask is not None:\n",
        "    logits += (mask * -1e9) # 소프트 맥스를 지나면 저 곱해지는 값이 0이 됨\n",
        "\n",
        "  # 소프트맥스 함수는 마지막 차원인 key의 문장 길이 방향으로 수행된다.\n",
        "  # attention weight : (batch_size, num_heads, query의 문장 길이, key의 문장 길이)\n",
        "  attention_weights = tf.nn.softmax(logits, axis=-1)\n",
        "\n",
        "  # output : (batch_size, num_heads, query의 문장 길이, d_model/num_heads)\n",
        "  output = tf.matmul(attention_weights, value)\n",
        "\n",
        "  return output, attention_weights\n",
        "\n",
        "  # output - 어텐션 매트릭스 ?"
      ],
      "metadata": {
        "id": "Yt7TYNbcabWt"
      },
      "execution_count": null,
      "outputs": []
    },
    {
      "cell_type": "code",
      "source": [
        "class MultiHeadAttention(tf.keras.layers.Layer):\n",
        "\n",
        "  def __init__(self, d_model, num_heads, name=\"multi_head_attention\"):\n",
        "    super(MultiHeadAttention, self).__init__(name=name)\n",
        "    self.num_heads = num_heads\n",
        "    self.d_model = d_model\n",
        "\n",
        "    assert d_model % self.num_heads == 0\n",
        "\n",
        "    # d_model을 num_heads로 나눈 값.\n",
        "    # 논문 기준 : 64\n",
        "    self.depth = d_model // self.num_heads\n",
        "\n",
        "    # WQ, WK, WV에 해당하는 밀집층 정의\n",
        "    self.query_dense = tf.keras.layers.Dense(units=d_model)\n",
        "    self.key_dense = tf.keras.layers.Dense(units=d_model)\n",
        "    self.value_dense = tf.keras.layers.Dense(units=d_model)\n",
        "\n",
        "    # WO에 해당하는 밀집층 정의\n",
        "    self.dense = tf.keras.layers.Dense(units=d_model)\n",
        "\n",
        "  # num_heads 개수만큼 q, k, v를 split하는 함수\n",
        "  def split_heads(self, inputs, batch_size):\n",
        "    inputs = tf.reshape(\n",
        "        inputs, shape=(batch_size, -1, self.num_heads, self.depth))\n",
        "    \n",
        "    # (batch_size, num_heads, query의 문장 길이, d_model/num_heads)\n",
        "    return tf.transpose(inputs, perm=[0, 2, 1, 3])\n",
        "\n",
        "  def call(self, inputs):\n",
        "    query, key, value, mask = inputs['query'], inputs['key'], inputs[\n",
        "        'value'], inputs['mask']\n",
        "    batch_size = tf.shape(query)[0]\n",
        "\n",
        "    # 1. WQ, WK, WV에 해당하는 밀집층 지나기\n",
        "    # q : (batch_size, query의 문장 길이, d_model)\n",
        "    # k : (batch_size, key의 문장 길이, d_model)\n",
        "    # v : (batch_size, value의 문장 길이, d_model)\n",
        "    # 참고) 인코더(k, v)-디코더(q) 어텐션에서는 query 길이와 key, value의 길이는 다를 수 있다.\n",
        "    query = self.query_dense(query)\n",
        "    key = self.key_dense(key)\n",
        "    value = self.value_dense(value)\n",
        "\n",
        "    # 2. 헤드 나누기\n",
        "    # q : (batch_size, num_heads, query의 문장 길이, d_model/num_heads)\n",
        "    # k : (batch_size, num_heads, key의 문장 길이, d_model/num_heads)\n",
        "    # v : (batch_size, num_heads, value의 문장 길이, d_model/num_heads)\n",
        "    query = self.split_heads(query, batch_size)\n",
        "    key = self.split_heads(key, batch_size)\n",
        "    value = self.split_heads(value, batch_size)\n",
        "\n",
        "    # 3. 스케일드 닷 프로덕트 어텐션. 앞서 구현한 함수 사용.\n",
        "    # (batch_size, num_heads, query의 문장 길이, d_model/num_heads)\n",
        "    scaled_attention, _ = scaled_dot_product_attention(query, key, value, mask)\n",
        "    # (batch_size, query의 문장 길이, num_heads, d_model/num_heads)\n",
        "    scaled_attention = tf.transpose(scaled_attention, perm=[0, 2, 1, 3]) # 차원의 순서를 바꾸는 것\n",
        "\n",
        "    # 4. 헤드 연결(concatenate)하기\n",
        "    # (batch_size, query의 문장 길이, d_model)\n",
        "    concat_attention = tf.reshape(scaled_attention,\n",
        "                                  (batch_size, -1, self.d_model))   # -1은 알아서 조정하라는 뜻\n",
        "\n",
        "    # 5. WO에 해당하는 밀집층 지나기\n",
        "    # (batch_size, query의 문장 길이, d_model)\n",
        "    outputs = self.dense(concat_attention)\n",
        "\n",
        "    return outputs"
      ],
      "metadata": {
        "id": "p_VEyqEvabT_"
      },
      "execution_count": null,
      "outputs": []
    },
    {
      "cell_type": "code",
      "source": [
        "def create_padding_mask(x):\n",
        "  mask = tf.cast(tf.math.equal(x, 0), tf.float32)\n",
        "  # (batch_size, 1, 1, key의 문장 길이)\n",
        "  return mask[:, tf.newaxis, tf.newaxis, :]"
      ],
      "metadata": {
        "id": "PQGE79YSabRK"
      },
      "execution_count": null,
      "outputs": []
    },
    {
      "cell_type": "code",
      "source": [
        "def encoder_layer(dff, d_model, num_heads, dropout, name=\"encoder_layer\"):\n",
        "  inputs = tf.keras.Input(shape=(None, d_model), name=\"inputs\")\n",
        "\n",
        "  # 인코더는 패딩 마스크 사용 -> 어텐션에서 패딩 토큰 제외\n",
        "  padding_mask = tf.keras.Input(shape=(1, 1, None), name=\"padding_mask\")\n",
        "\n",
        "  # 멀티-헤드 어텐션 (첫번째 서브층 / 셀프 어텐션)\n",
        "  attention = MultiHeadAttention(\n",
        "      d_model, num_heads, name=\"attention\")({\n",
        "          'query': inputs, 'key': inputs, 'value': inputs, # Q = K = V\n",
        "          'mask': padding_mask # 패딩 마스크 사용\n",
        "      })\n",
        "\n",
        "  # 드롭아웃 + 잔차 연결과 층 정규화\n",
        "  attention = tf.keras.layers.Dropout(rate=dropout)(attention)\n",
        "  attention = tf.keras.layers.LayerNormalization(\n",
        "      epsilon=1e-6)(inputs + attention)\n",
        "\n",
        "  # 포지션 와이즈 피드 포워드 신경망 (두번째 서브층)\n",
        "  outputs = tf.keras.layers.Dense(units=dff, activation='relu')(attention)\n",
        "  outputs = tf.keras.layers.Dense(units=d_model)(outputs)\n",
        "\n",
        "  # 드롭아웃 + 잔차 연결과 층 정규화\n",
        "  outputs = tf.keras.layers.Dropout(rate=dropout)(outputs)\n",
        "  outputs = tf.keras.layers.LayerNormalization(\n",
        "      epsilon=1e-6)(attention + outputs)\n",
        "\n",
        "  return tf.keras.Model(\n",
        "      inputs=[inputs, padding_mask], outputs=outputs, name=name)\n",
        "  \n",
        "  # 어탠션, 정규화, 피드포워드def encoder_layer(dff, d_model, num_heads, dropout, name=\"encoder_layer\"):\n",
        "  inputs = tf.keras.Input(shape=(None, d_model), name=\"inputs\")\n",
        "\n",
        "  # 인코더는 패딩 마스크 사용 -> 어텐션에서 패딩 토큰 제외\n",
        "  padding_mask = tf.keras.Input(shape=(1, 1, None), name=\"padding_mask\")\n",
        "\n",
        "  # 멀티-헤드 어텐션 (첫번째 서브층 / 셀프 어텐션)\n",
        "  attention = MultiHeadAttention(\n",
        "      d_model, num_heads, name=\"attention\")({\n",
        "          'query': inputs, 'key': inputs, 'value': inputs, # Q = K = V\n",
        "          'mask': padding_mask # 패딩 마스크 사용\n",
        "      })\n",
        "\n",
        "  # 드롭아웃 + 잔차 연결과 층 정규화\n",
        "  attention = tf.keras.layers.Dropout(rate=dropout)(attention)\n",
        "  attention = tf.keras.layers.LayerNormalization(\n",
        "      epsilon=1e-6)(inputs + attention)\n",
        "\n",
        "  # 포지션 와이즈 피드 포워드 신경망 (두번째 서브층)\n",
        "  outputs = tf.keras.layers.Dense(units=dff, activation='relu')(attention)\n",
        "  outputs = tf.keras.layers.Dense(units=d_model)(outputs)\n",
        "\n",
        "  # 드롭아웃 + 잔차 연결과 층 정규화\n",
        "  outputs = tf.keras.layers.Dropout(rate=dropout)(outputs)\n",
        "  outputs = tf.keras.layers.LayerNormalization(\n",
        "      epsilon=1e-6)(attention + outputs)\n",
        "\n",
        "  return tf.keras.Model(\n",
        "      inputs=[inputs, padding_mask], outputs=outputs, name=name)\n",
        "  \n",
        "  # 어탠션, 정규화, 피드포워드"
      ],
      "metadata": {
        "id": "WgondNOyabOv"
      },
      "execution_count": null,
      "outputs": []
    },
    {
      "cell_type": "code",
      "source": [
        "def encoder(vocab_size, num_layers, dff,\n",
        "            d_model, num_heads, dropout,\n",
        "            name=\"encoder\"):\n",
        "  inputs = tf.keras.Input(shape=(None,), name=\"inputs\")\n",
        "\n",
        "  # 인코더는 패딩 마스크 사용\n",
        "  padding_mask = tf.keras.Input(shape=(1, 1, None), name=\"padding_mask\")\n",
        "\n",
        "  # 포지셔널 인코딩 + 드롭아웃\n",
        "  embeddings = tf.keras.layers.Embedding(vocab_size, d_model)(inputs)\n",
        "  embeddings *= tf.math.sqrt(tf.cast(d_model, tf.float32))\n",
        "  embeddings = PositionalEncoding(vocab_size, d_model)(embeddings)\n",
        "  outputs = tf.keras.layers.Dropout(rate=dropout)(embeddings)\n",
        "\n",
        "  # 인코더를 num_layers개 쌓기\n",
        "  for i in range(num_layers): # 몇 층 쌓냐에 따라서 인코더 레이어에 맞춰서 들어가게 됨\n",
        "    outputs = encoder_layer(dff=dff, d_model=d_model, num_heads=num_heads,\n",
        "        dropout=dropout, name=\"encoder_layer_{}\".format(i),\n",
        "    )([outputs, padding_mask])\n",
        "\n",
        "  return tf.keras.Model(\n",
        "      inputs=[inputs, padding_mask], outputs=outputs, name=name)"
      ],
      "metadata": {
        "id": "a2Eo5m1KabMb"
      },
      "execution_count": null,
      "outputs": []
    },
    {
      "cell_type": "code",
      "source": [
        "# 디코더의 첫번째 서브층(sublayer)에서 미래 토큰을 Mask하는 함수\n",
        "def create_look_ahead_mask(x):\n",
        "  seq_len = tf.shape(x)[1]\n",
        "  look_ahead_mask = 1 - tf.linalg.band_part(tf.ones((seq_len, seq_len)), -1, 0) #  Lower triangular part.\n",
        "  padding_mask = create_padding_mask(x) # 패딩 마스크도 포함\n",
        "  return tf.maximum(look_ahead_mask, padding_mask)"
      ],
      "metadata": {
        "id": "KhQjTakQabJs"
      },
      "execution_count": null,
      "outputs": []
    },
    {
      "cell_type": "code",
      "source": [
        "def decoder_layer(dff, d_model, num_heads, dropout, name=\"decoder_layer\"):\n",
        "  inputs = tf.keras.Input(shape=(None, d_model), name=\"inputs\") \n",
        "  # 인풋은 텍스트, 인코더의아웃풋, 셀프어텐션을 가려줄 마스크, 패딩을 가려줄 마스크 하나 총 4개 들어감\n",
        "\n",
        "  enc_outputs = tf.keras.Input(shape=(None, d_model), name=\"encoder_outputs\")\n",
        "\n",
        "\n",
        "\n",
        "  # 디코더는 룩어헤드 마스크(첫번째 서브층)와 패딩 마스크(두번째 서브층) 둘 다 사용.\n",
        "  look_ahead_mask = tf.keras.Input(\n",
        "      shape=(1, None, None), name=\"look_ahead_mask\")\n",
        "  padding_mask = tf.keras.Input(shape=(1, 1, None), name='padding_mask')\n",
        "\n",
        "  # 멀티-헤드 어텐션 (첫번째 서브층 / 마스크드 셀프 어텐션)\n",
        "  attention1 = MultiHeadAttention(\n",
        "      d_model, num_heads, name=\"attention_1\")(inputs={                            # 모델이 총 몇개가 될건지\n",
        "          'query': inputs, 'key': inputs, 'value': inputs, # Q = K = V\n",
        "          'mask': look_ahead_mask # 룩어헤드 마스크\n",
        "      })\n",
        "\n",
        "  # 잔차 연결과 층 정규화\n",
        "  attention1 = tf.keras.layers.LayerNormalization(\n",
        "      epsilon=1e-6)(attention1 + inputs)\n",
        "\n",
        "  # 멀티-헤드 어텐션 (두번째 서브층 / 디코더-인코더 어텐션)\n",
        "  attention2 = MultiHeadAttention(\n",
        "      d_model, num_heads, name=\"attention_2\")(inputs={\n",
        "          'query': attention1, 'key': enc_outputs, 'value': enc_outputs, # Q != K = V\n",
        "          'mask': padding_mask # 패딩 마스크\n",
        "      })\n",
        "\n",
        "  # 드롭아웃 + 잔차 연결과 층 정규화\n",
        "  attention2 = tf.keras.layers.Dropout(rate=dropout)(attention2)\n",
        "  attention2 = tf.keras.layers.LayerNormalization(\n",
        "      epsilon=1e-6)(attention2 + attention1)\n",
        "\n",
        "  # 포지션 와이즈 피드 포워드 신경망 (세번째 서브층)\n",
        "  outputs = tf.keras.layers.Dense(units=dff, activation='relu')(attention2)\n",
        "  outputs = tf.keras.layers.Dense(units=d_model)(outputs)\n",
        "\n",
        "  # 드롭아웃 + 잔차 연결과 층 정규화\n",
        "  outputs = tf.keras.layers.Dropout(rate=dropout)(outputs)\n",
        "  outputs = tf.keras.layers.LayerNormalization(\n",
        "      epsilon=1e-6)(outputs + attention2)\n",
        "\n",
        "  return tf.keras.Model(\n",
        "      inputs=[inputs, enc_outputs, look_ahead_mask, padding_mask],\n",
        "      outputs=outputs,\n",
        "      name=name)"
      ],
      "metadata": {
        "id": "7jMovLBoabHI"
      },
      "execution_count": null,
      "outputs": []
    },
    {
      "cell_type": "code",
      "source": [
        "def decoder(vocab_size, num_layers, dff,\n",
        "            d_model, num_heads, dropout,\n",
        "            name='decoder'):\n",
        "  inputs = tf.keras.Input(shape=(None,), name='inputs')\n",
        "  enc_outputs = tf.keras.Input(shape=(None, d_model), name='encoder_outputs')\n",
        "\n",
        "  # 디코더는 룩어헤드 마스크(첫번째 서브층)와 패딩 마스크(두번째 서브층) 둘 다 사용.\n",
        "  look_ahead_mask = tf.keras.Input(\n",
        "      shape=(1, None, None), name='look_ahead_mask')\n",
        "  padding_mask = tf.keras.Input(shape=(1, 1, None), name='padding_mask')\n",
        "\n",
        "  # 포지셔널 인코딩 + 드롭아웃\n",
        "  embeddings = tf.keras.layers.Embedding(vocab_size, d_model)(inputs)\n",
        "  embeddings *= tf.math.sqrt(tf.cast(d_model, tf.float32))\n",
        "  embeddings = PositionalEncoding(vocab_size, d_model)(embeddings)\n",
        "  outputs = tf.keras.layers.Dropout(rate=dropout)(embeddings)\n",
        "\n",
        "  # 디코더를 num_layers개 쌓기\n",
        "  for i in range(num_layers):\n",
        "    outputs = decoder_layer(dff=dff, d_model=d_model, num_heads=num_heads,\n",
        "        dropout=dropout, name='decoder_layer_{}'.format(i),\n",
        "    )(inputs=[outputs, enc_outputs, look_ahead_mask, padding_mask])\n",
        "\n",
        "  return tf.keras.Model(\n",
        "      inputs=[inputs, enc_outputs, look_ahead_mask, padding_mask],\n",
        "      outputs=outputs,\n",
        "      name=name)"
      ],
      "metadata": {
        "id": "8EJRZNdrabEh"
      },
      "execution_count": null,
      "outputs": []
    },
    {
      "cell_type": "code",
      "source": [
        "def transformer(vocab_size, num_layers, dff,\n",
        "                d_model, num_heads, dropout,\n",
        "                name=\"transformer\"):\n",
        "\n",
        "  # 인코더의 입력\n",
        "  inputs = tf.keras.Input(shape=(None,), name=\"inputs\")\n",
        "\n",
        "  # 디코더의 입력\n",
        "  dec_inputs = tf.keras.Input(shape=(None,), name=\"dec_inputs\")\n",
        "\n",
        "  # 인코더의 패딩 마스크\n",
        "  enc_padding_mask = tf.keras.layers.Lambda(\n",
        "      create_padding_mask, output_shape=(1, 1, None),\n",
        "      name='enc_padding_mask')(inputs)\n",
        "\n",
        "  # 디코더의 룩어헤드 마스크(첫번째 서브층)\n",
        "  look_ahead_mask = tf.keras.layers.Lambda(\n",
        "      create_look_ahead_mask, output_shape=(1, None, None),\n",
        "      name='look_ahead_mask')(dec_inputs)\n",
        "\n",
        "  # 디코더의 패딩 마스크(두번째 서브층)\n",
        "  dec_padding_mask = tf.keras.layers.Lambda(\n",
        "      create_padding_mask, output_shape=(1, 1, None),\n",
        "      name='dec_padding_mask')(inputs)\n",
        "\n",
        "##################################################################\n",
        "\n",
        "  # 인코더의 출력은 enc_outputs. 디코더로 전달된다.\n",
        "  enc_outputs = encoder(vocab_size=vocab_size, num_layers=num_layers, dff=dff,\n",
        "      d_model=d_model, num_heads=num_heads, dropout=dropout,\n",
        "  )(inputs=[inputs, enc_padding_mask]) # 인코더의 입력은 입력 문장과 패딩 마스크\n",
        "\n",
        "  # 디코더의 출력은 dec_outputs. 출력층으로 전달된다.\n",
        "  dec_outputs = decoder(vocab_size=vocab_size, num_layers=num_layers, dff=dff,\n",
        "      d_model=d_model, num_heads=num_heads, dropout=dropout,\n",
        "  )(inputs=[dec_inputs, enc_outputs, look_ahead_mask, dec_padding_mask])\n",
        "\n",
        "  # 다음 단어 예측을 위한 출력층\n",
        "  outputs = tf.keras.layers.Dense(units=vocab_size, name=\"outputs\")(dec_outputs)\n",
        "\n",
        "  return tf.keras.Model(inputs=[inputs, dec_inputs], outputs=outputs, name=name)"
      ],
      "metadata": {
        "id": "dQGBYwLLaoqG"
      },
      "execution_count": null,
      "outputs": []
    },
    {
      "cell_type": "code",
      "source": [
        "def loss_function(y_true, y_pred):\n",
        "  y_true = tf.reshape(y_true, shape=(-1, MAX_LENGTH - 1))\n",
        "\n",
        "  loss = tf.keras.losses.SparseCategoricalCrossentropy(\n",
        "      from_logits=True, reduction='none')(y_true, y_pred)\n",
        "\n",
        "  mask = tf.cast(tf.not_equal(y_true, 0), tf.float32) # y_true가 0(패딩이면) -> 0 , 1이면 -> 1\n",
        "  loss = tf.multiply(loss, mask)\n",
        "\n",
        "  return tf.reduce_mean(loss) #Computes the mean of elements across dimensions of a tensor."
      ],
      "metadata": {
        "id": "jP6VTbELaonc"
      },
      "execution_count": null,
      "outputs": []
    },
    {
      "cell_type": "code",
      "source": [
        "class CustomSchedule(tf.keras.optimizers.schedules.LearningRateSchedule):\n",
        "\n",
        "  def __init__(self, d_model, warmup_steps=4000):\n",
        "    super(CustomSchedule, self).__init__()\n",
        "    self.d_model = d_model\n",
        "    self.d_model = tf.cast(self.d_model, tf.float32)\n",
        "    self.warmup_steps = warmup_steps\n",
        "\n",
        "  def __call__(self, step):\n",
        "    arg1 = tf.math.rsqrt(step)\n",
        "    arg2 = step * (self.warmup_steps**-1.5)\n",
        "\n",
        "    return tf.math.rsqrt(self.d_model) * tf.math.minimum(arg1, arg2)"
      ],
      "metadata": {
        "id": "9x7pp9MEaok7"
      },
      "execution_count": null,
      "outputs": []
    },
    {
      "cell_type": "code",
      "source": [
        ""
      ],
      "metadata": {
        "id": "1tiCvEWIaoie"
      },
      "execution_count": null,
      "outputs": []
    },
    {
      "cell_type": "code",
      "source": [
        "questions = []\n",
        "for sentence in new_list_c:\n",
        "    # 구두점에 대해서 띄어쓰기\n",
        "    # ex) 12시 땡! -> 12시 땡 !\n",
        "    sentence = re.sub(r\"([?.!,])\", r\" \\1 \", sentence)\n",
        "    sentence = sentence.strip()\n",
        "    questions.append(sentence)"
      ],
      "metadata": {
        "id": "7vNkXOsHaofs"
      },
      "execution_count": null,
      "outputs": []
    },
    {
      "cell_type": "code",
      "source": [
        "answers = []\n",
        "for sentence in new_list_s:\n",
        "    # 구두점에 대해서 띄어쓰기\n",
        "    # ex) 12시 땡! -> 12시 땡 !\n",
        "    sentence = re.sub(r\"([?.!,])\", r\" \\1 \", sentence)\n",
        "    sentence = sentence.strip()\n",
        "    answers.append(sentence)"
      ],
      "metadata": {
        "colab": {
          "base_uri": "https://localhost:8080/",
          "height": 376
        },
        "id": "RItdWSZwabB2",
        "outputId": "a553dba9-7262-43cc-d342-a378ea5c7139"
      },
      "execution_count": null,
      "outputs": [
        {
          "output_type": "error",
          "ename": "TypeError",
          "evalue": "ignored",
          "traceback": [
            "\u001b[0;31m---------------------------------------------------------------------------\u001b[0m",
            "\u001b[0;31mTypeError\u001b[0m                                 Traceback (most recent call last)",
            "\u001b[0;32m<ipython-input-100-2a52a7c1dda3>\u001b[0m in \u001b[0;36m<module>\u001b[0;34m()\u001b[0m\n\u001b[1;32m      3\u001b[0m     \u001b[0;31m# 구두점에 대해서 띄어쓰기\u001b[0m\u001b[0;34m\u001b[0m\u001b[0;34m\u001b[0m\u001b[0;34m\u001b[0m\u001b[0m\n\u001b[1;32m      4\u001b[0m     \u001b[0;31m# ex) 12시 땡! -> 12시 땡 !\u001b[0m\u001b[0;34m\u001b[0m\u001b[0;34m\u001b[0m\u001b[0;34m\u001b[0m\u001b[0m\n\u001b[0;32m----> 5\u001b[0;31m     \u001b[0msentence\u001b[0m \u001b[0;34m=\u001b[0m \u001b[0mre\u001b[0m\u001b[0;34m.\u001b[0m\u001b[0msub\u001b[0m\u001b[0;34m(\u001b[0m\u001b[0;34mr\"([?.!,])\"\u001b[0m\u001b[0;34m,\u001b[0m \u001b[0;34mr\" \\1 \"\u001b[0m\u001b[0;34m,\u001b[0m \u001b[0msentence\u001b[0m\u001b[0;34m)\u001b[0m\u001b[0;34m\u001b[0m\u001b[0;34m\u001b[0m\u001b[0m\n\u001b[0m\u001b[1;32m      6\u001b[0m     \u001b[0msentence\u001b[0m \u001b[0;34m=\u001b[0m \u001b[0msentence\u001b[0m\u001b[0;34m.\u001b[0m\u001b[0mstrip\u001b[0m\u001b[0;34m(\u001b[0m\u001b[0;34m)\u001b[0m\u001b[0;34m\u001b[0m\u001b[0;34m\u001b[0m\u001b[0m\n\u001b[1;32m      7\u001b[0m     \u001b[0manswers\u001b[0m\u001b[0;34m.\u001b[0m\u001b[0mappend\u001b[0m\u001b[0;34m(\u001b[0m\u001b[0msentence\u001b[0m\u001b[0;34m)\u001b[0m\u001b[0;34m\u001b[0m\u001b[0;34m\u001b[0m\u001b[0m\n",
            "\u001b[0;32m/usr/lib/python3.7/re.py\u001b[0m in \u001b[0;36msub\u001b[0;34m(pattern, repl, string, count, flags)\u001b[0m\n\u001b[1;32m    192\u001b[0m     \u001b[0ma\u001b[0m \u001b[0mcallable\u001b[0m\u001b[0;34m,\u001b[0m \u001b[0mit\u001b[0m\u001b[0;31m'\u001b[0m\u001b[0ms\u001b[0m \u001b[0mpassed\u001b[0m \u001b[0mthe\u001b[0m \u001b[0mMatch\u001b[0m \u001b[0mobject\u001b[0m \u001b[0;32mand\u001b[0m \u001b[0mmust\u001b[0m \u001b[0;32mreturn\u001b[0m\u001b[0;34m\u001b[0m\u001b[0;34m\u001b[0m\u001b[0m\n\u001b[1;32m    193\u001b[0m     a replacement string to be used.\"\"\"\n\u001b[0;32m--> 194\u001b[0;31m     \u001b[0;32mreturn\u001b[0m \u001b[0m_compile\u001b[0m\u001b[0;34m(\u001b[0m\u001b[0mpattern\u001b[0m\u001b[0;34m,\u001b[0m \u001b[0mflags\u001b[0m\u001b[0;34m)\u001b[0m\u001b[0;34m.\u001b[0m\u001b[0msub\u001b[0m\u001b[0;34m(\u001b[0m\u001b[0mrepl\u001b[0m\u001b[0;34m,\u001b[0m \u001b[0mstring\u001b[0m\u001b[0;34m,\u001b[0m \u001b[0mcount\u001b[0m\u001b[0;34m)\u001b[0m\u001b[0;34m\u001b[0m\u001b[0;34m\u001b[0m\u001b[0m\n\u001b[0m\u001b[1;32m    195\u001b[0m \u001b[0;34m\u001b[0m\u001b[0m\n\u001b[1;32m    196\u001b[0m \u001b[0;32mdef\u001b[0m \u001b[0msubn\u001b[0m\u001b[0;34m(\u001b[0m\u001b[0mpattern\u001b[0m\u001b[0;34m,\u001b[0m \u001b[0mrepl\u001b[0m\u001b[0;34m,\u001b[0m \u001b[0mstring\u001b[0m\u001b[0;34m,\u001b[0m \u001b[0mcount\u001b[0m\u001b[0;34m=\u001b[0m\u001b[0;36m0\u001b[0m\u001b[0;34m,\u001b[0m \u001b[0mflags\u001b[0m\u001b[0;34m=\u001b[0m\u001b[0;36m0\u001b[0m\u001b[0;34m)\u001b[0m\u001b[0;34m:\u001b[0m\u001b[0;34m\u001b[0m\u001b[0;34m\u001b[0m\u001b[0m\n",
            "\u001b[0;31mTypeError\u001b[0m: expected string or bytes-like object"
          ]
        }
      ]
    },
    {
      "cell_type": "code",
      "source": [
        "# 서브워드텍스트인코더를 사용하여 질문과 답변을 모두 포함한 단어 집합(Vocabulary) 생성\n",
        "tokenizer = tfds.deprecated.text.SubwordTextEncoder.build_from_corpus(\n",
        "    questions + answers, target_vocab_size=2**13)\n",
        "\n",
        "# 시작 토큰과 종료 토큰에 대한 정수 부여.\n",
        "START_TOKEN, END_TOKEN = [tokenizer.vocab_size], [tokenizer.vocab_size + 1]\n",
        "\n",
        "# 시작 토큰과 종료 토큰을 고려하여 단어 집합의 크기를 + 2\n",
        "VOCAB_SIZE = tokenizer.vocab_size + 2"
      ],
      "metadata": {
        "id": "4wrOl85hR0az"
      },
      "execution_count": null,
      "outputs": []
    },
    {
      "cell_type": "code",
      "source": [
        "# 최대 길이를 40으로 정의\n",
        "MAX_LENGTH = 40\n",
        "\n",
        "# 토큰화 / 정수 인코딩 / 시작 토큰과 종료 토큰 추가 / 패딩\n",
        "def tokenize_and_filter(inputs, outputs):\n",
        "  tokenized_inputs, tokenized_outputs = [], []\n",
        "  \n",
        "  for (sentence1, sentence2) in zip(inputs, outputs):\n",
        "    # encode(토큰화 + 정수 인코딩), 시작 토큰과 종료 토큰 추가\n",
        "    sentence1 = START_TOKEN + tokenizer.encode(sentence1) + END_TOKEN\n",
        "    sentence2 = START_TOKEN + tokenizer.encode(sentence2) + END_TOKEN\n",
        "\n",
        "    tokenized_inputs.append(sentence1)\n",
        "    tokenized_outputs.append(sentence2)\n",
        "  \n",
        "  # 패딩\n",
        "  tokenized_inputs = tf.keras.preprocessing.sequence.pad_sequences(\n",
        "      tokenized_inputs, maxlen=MAX_LENGTH, padding='post')\n",
        "  tokenized_outputs = tf.keras.preprocessing.sequence.pad_sequences(\n",
        "      tokenized_outputs, maxlen=MAX_LENGTH, padding='post')\n",
        "  \n",
        "  return tokenized_inputs, tokenized_outputs"
      ],
      "metadata": {
        "id": "Da5VVE0va_-k"
      },
      "execution_count": null,
      "outputs": []
    },
    {
      "cell_type": "code",
      "source": [
        "questions, answers = tokenize_and_filter(questions, answers)"
      ],
      "metadata": {
        "id": "cfwcTFDvbA9X"
      },
      "execution_count": null,
      "outputs": []
    },
    {
      "cell_type": "code",
      "source": [
        "# 텐서플로우 dataset을 이용하여 셔플(shuffle)을 수행하되, 배치 크기로 데이터를 묶는다.\n",
        "# 또한 이 과정에서 교사 강요(teacher forcing)을 사용하기 위해서 디코더의 입력과 실제값 시퀀스를 구성한다.\n",
        "BATCH_SIZE = 64\n",
        "BUFFER_SIZE = 20000\n",
        "\n",
        "# 디코더의 실제값 시퀀스에서는 시작 토큰을 제거해야 한다.\n",
        "dataset = tf.data.Dataset.from_tensor_slices((\n",
        "    {\n",
        "        'inputs': questions,\n",
        "        'dec_inputs': answers[:, :-1] # 디코더의 입력. 마지막 패딩 토큰이 제거된다.\n",
        "    },\n",
        "    {\n",
        "        'outputs': answers[:, 1:]  # 맨 처음 토큰이 제거된다. 다시 말해 시작 토큰이 제거된다.\n",
        "    },\n",
        "))\n",
        "\n",
        "dataset = dataset.cache()\n",
        "dataset = dataset.shuffle(BUFFER_SIZE)\n",
        "dataset = dataset.batch(BATCH_SIZE)\n",
        "dataset = dataset.prefetch(tf.data.experimental.AUTOTUNE)"
      ],
      "metadata": {
        "id": "wFUwGy0XbCKC"
      },
      "execution_count": null,
      "outputs": []
    },
    {
      "cell_type": "code",
      "source": [
        "tf.keras.backend.clear_session()\n",
        "\n",
        "# Hyper-parameters\n",
        "NUM_LAYERS = 2\n",
        "D_MODEL = 256\n",
        "NUM_HEADS = 8\n",
        "DFF = 512\n",
        "DROPOUT = 0.1\n",
        "\n",
        "model = transformer(\n",
        "    vocab_size=VOCAB_SIZE,\n",
        "    num_layers=NUM_LAYERS,\n",
        "    dff=DFF,\n",
        "    d_model=D_MODEL,\n",
        "    num_heads=NUM_HEADS,\n",
        "    dropout=DROPOUT)"
      ],
      "metadata": {
        "colab": {
          "base_uri": "https://localhost:8080/"
        },
        "id": "e4FzPRwXbDO7",
        "outputId": "f90a737f-03e0-4462-838c-7cac8060c06d"
      },
      "execution_count": null,
      "outputs": [
        {
          "output_type": "stream",
          "name": "stdout",
          "text": [
            "(8122, 256)\n",
            "(1, 8122, 256)\n",
            "(8122, 256)\n",
            "(1, 8122, 256)\n"
          ]
        }
      ]
    },
    {
      "cell_type": "code",
      "source": [
        "MAX_LENGTH = 40\n",
        "\n",
        "learning_rate = CustomSchedule(D_MODEL)\n",
        "\n",
        "optimizer = tf.keras.optimizers.Adam(\n",
        "    learning_rate, beta_1=0.9, beta_2=0.98, epsilon=1e-9)\n",
        "\n",
        "def accuracy(y_true, y_pred):\n",
        "  # ensure labels have shape (batch_size, MAX_LENGTH - 1)\n",
        "  y_true = tf.reshape(y_true, shape=(-1, MAX_LENGTH - 1))\n",
        "  return tf.keras.metrics.sparse_categorical_accuracy(y_true, y_pred)\n",
        "\n",
        "model.compile(optimizer=optimizer, loss=loss_function, metrics=[accuracy])"
      ],
      "metadata": {
        "id": "U5KrpSGDbFOH"
      },
      "execution_count": null,
      "outputs": []
    },
    {
      "cell_type": "code",
      "source": [
        "EPOCHS = 10\n",
        "\n",
        "model.fit(dataset, epochs=EPOCHS)"
      ],
      "metadata": {
        "colab": {
          "base_uri": "https://localhost:8080/"
        },
        "id": "Ri3IiPWMbFLd",
        "outputId": "bd94f5f0-4bc8-4981-dee6-d188ddca1b53"
      },
      "execution_count": null,
      "outputs": [
        {
          "output_type": "stream",
          "name": "stdout",
          "text": [
            "Epoch 1/10\n",
            "205/205 [==============================] - 20s 61ms/step - loss: 1.7290 - accuracy: 0.0263\n",
            "Epoch 2/10\n",
            "205/205 [==============================] - 12s 60ms/step - loss: 1.3020 - accuracy: 0.0667\n",
            "Epoch 3/10\n",
            "205/205 [==============================] - 12s 60ms/step - loss: 1.0727 - accuracy: 0.0701\n",
            "Epoch 4/10\n",
            "205/205 [==============================] - 12s 60ms/step - loss: 0.9686 - accuracy: 0.0791\n",
            "Epoch 5/10\n",
            "205/205 [==============================] - 12s 60ms/step - loss: 0.8736 - accuracy: 0.0864\n",
            "Epoch 6/10\n",
            "205/205 [==============================] - 12s 60ms/step - loss: 0.7828 - accuracy: 0.0931\n",
            "Epoch 7/10\n",
            "205/205 [==============================] - 12s 60ms/step - loss: 0.7013 - accuracy: 0.0996\n",
            "Epoch 8/10\n",
            "205/205 [==============================] - 12s 60ms/step - loss: 0.6245 - accuracy: 0.1065\n",
            "Epoch 9/10\n",
            "205/205 [==============================] - 12s 61ms/step - loss: 0.5509 - accuracy: 0.1145\n",
            "Epoch 10/10\n",
            "205/205 [==============================] - 12s 61ms/step - loss: 0.4790 - accuracy: 0.1226\n"
          ]
        },
        {
          "output_type": "execute_result",
          "data": {
            "text/plain": [
              "<keras.callbacks.History at 0x7f303066eed0>"
            ]
          },
          "metadata": {},
          "execution_count": 107
        }
      ]
    },
    {
      "cell_type": "code",
      "source": [
        "def evaluate(sentence):\n",
        "  sentence = preprocess_sentence(sentence)\n",
        "\n",
        "  sentence = tf.expand_dims(\n",
        "      START_TOKEN + tokenizer.encode(sentence) + END_TOKEN, axis=0)\n",
        "\n",
        "  output = tf.expand_dims(START_TOKEN, 0)\n",
        "\n",
        "  # 디코더의 예측 시작\n",
        "  for i in range(MAX_LENGTH):\n",
        "    predictions = model(inputs=[sentence, output], training=False)\n",
        "\n",
        "    # 현재(마지막) 시점의 예측 단어를 받아온다.\n",
        "    predictions = predictions[:, -1:, :]\n",
        "    predicted_id = tf.cast(tf.argmax(predictions, axis=-1), tf.int32)\n",
        "\n",
        "    # 만약 마지막 시점의 예측 단어가 종료 토큰이라면 예측을 중단\n",
        "    if tf.equal(predicted_id, END_TOKEN[0]):\n",
        "      break\n",
        "\n",
        "    # 마지막 시점의 예측 단어를 출력에 연결한다.\n",
        "    # 이는 for문을 통해서 디코더의 입력으로 사용될 예정이다.\n",
        "    output = tf.concat([output, predicted_id], axis=-1)\n",
        "\n",
        "  return tf.squeeze(output, axis=0)\n",
        "\n",
        "# 스타트 토큰부터 시작해서 쭉 해서 마지막 output값을 넣고 예측하고 넣고 예측하고 등을 반복적으로 \n",
        "\n",
        "\n",
        "\n",
        "\n",
        "def predict(sentence):\n",
        "  prediction = evaluate(sentence)\n",
        "\n",
        "  predicted_sentence = tokenizer.decode(\n",
        "      [i for i in prediction if i < tokenizer.vocab_size])\n",
        "\n",
        "  print('Input: {}'.format(sentence))\n",
        "  print('Output: {}'.format(predicted_sentence))\n",
        "\n",
        "  return predicted_sentence"
      ],
      "metadata": {
        "id": "RbPhDpc_bERf"
      },
      "execution_count": null,
      "outputs": []
    },
    {
      "cell_type": "code",
      "source": [
        "def preprocess_sentence(sentence):\n",
        "  sentence = re.sub(r\"([?.!,])\", r\" \\1 \", sentence)\n",
        "  sentence = sentence.strip()\n",
        "  return sentence"
      ],
      "metadata": {
        "id": "9WiVRy20cxn3"
      },
      "execution_count": null,
      "outputs": []
    },
    {
      "cell_type": "code",
      "source": [
        "output = predict('오늘까지 배송되나요?')"
      ],
      "metadata": {
        "colab": {
          "base_uri": "https://localhost:8080/"
        },
        "id": "J30MwZcjcxlC",
        "outputId": "83116819-1f6f-40a4-ecef-6e9b7affbdc6"
      },
      "execution_count": null,
      "outputs": [
        {
          "output_type": "stream",
          "name": "stdout",
          "text": [
            "Input: 오늘까지 배송되나요?\n",
            "Output: 네 ,  당일 배송 가능합니다 .\n"
          ]
        }
      ]
    },
    {
      "cell_type": "code",
      "source": [
        "output = predict('이거 환불되나요?')"
      ],
      "metadata": {
        "colab": {
          "base_uri": "https://localhost:8080/"
        },
        "id": "6RLFEnQ4cxih",
        "outputId": "e2a985a3-09c5-41ce-a5ef-72acabdb03f4"
      },
      "execution_count": null,
      "outputs": [
        {
          "output_type": "stream",
          "name": "stdout",
          "text": [
            "Input: 이거 환불되나요?\n",
            "Output: 네 환불 해 드리겠습니다\n"
          ]
        }
      ]
    },
    {
      "cell_type": "code",
      "source": [
        "output = predict('이거 택배 회사가 어디인가요?')"
      ],
      "metadata": {
        "colab": {
          "base_uri": "https://localhost:8080/"
        },
        "id": "PFFhDx-Tcxgp",
        "outputId": "c8404655-8c80-4165-e0bb-619619b90393"
      },
      "execution_count": null,
      "outputs": [
        {
          "output_type": "stream",
          "name": "stdout",
          "text": [
            "Input: 이거 택배 회사가 어디인가요?\n",
            "Output: 편의점 포스트박스 홈페이지에서 조회할 수 있습니다 .\n"
          ]
        }
      ]
    },
    {
      "cell_type": "code",
      "source": [
        "output = predict('지금도 배달 신청 되나요?')"
      ],
      "metadata": {
        "colab": {
          "base_uri": "https://localhost:8080/"
        },
        "id": "69w4QrdscxeF",
        "outputId": "7615aa03-256b-44f8-c880-081a09bbf4bc"
      },
      "execution_count": null,
      "outputs": [
        {
          "output_type": "stream",
          "name": "stdout",
          "text": [
            "Input: 지금도 배달 신청 되나요?\n",
            "Output: 네 ,  배달도 가능합니다 .\n"
          ]
        }
      ]
    },
    {
      "cell_type": "code",
      "source": [
        "output = predict('상한 제품 같아요')"
      ],
      "metadata": {
        "colab": {
          "base_uri": "https://localhost:8080/"
        },
        "id": "IPTbzzUCeV8w",
        "outputId": "09bf5c6c-20e1-4cd4-c501-edd726044848"
      },
      "execution_count": null,
      "outputs": [
        {
          "output_type": "stream",
          "name": "stdout",
          "text": [
            "Input: 상한 제품 같아요\n",
            "Output: 네 ,  바로 환불해 드리겠습니다 .\n"
          ]
        }
      ]
    },
    {
      "cell_type": "code",
      "source": [
        "output = predict('오늘 몇시에 배달 되나요?')"
      ],
      "metadata": {
        "colab": {
          "base_uri": "https://localhost:8080/"
        },
        "id": "zpvyX920essB",
        "outputId": "fff5533b-4fda-4cf1-8608-14b3e1bfae0a"
      },
      "execution_count": null,
      "outputs": [
        {
          "output_type": "stream",
          "name": "stdout",
          "text": [
            "Input: 오늘 몇시에 배달 되나요?\n",
            "Output: 오후 4시부터 배달 시작해요\n"
          ]
        }
      ]
    },
    {
      "cell_type": "code",
      "source": [
        "output = predict('배달비가 얼마인가요?')"
      ],
      "metadata": {
        "colab": {
          "base_uri": "https://localhost:8080/"
        },
        "id": "oBAdQE81evtt",
        "outputId": "bec76db9-a8de-44f4-db26-d362b5b3a62f"
      },
      "execution_count": null,
      "outputs": [
        {
          "output_type": "stream",
          "name": "stdout",
          "text": [
            "Input: 배달비가 얼마인가요?\n",
            "Output: 오천원입니다\n"
          ]
        }
      ]
    },
    {
      "cell_type": "code",
      "source": [
        "output = predict('얼마 이상 구매해야 배달되나요?')"
      ],
      "metadata": {
        "colab": {
          "base_uri": "https://localhost:8080/"
        },
        "id": "wCMv6oyae5yu",
        "outputId": "ec98455d-42ce-4687-b334-fa40d0cb2ffd"
      },
      "execution_count": null,
      "outputs": [
        {
          "output_type": "stream",
          "name": "stdout",
          "text": [
            "Input: 얼마 이상 구매해야 배달되나요?\n",
            "Output: 3만원 이상 구매하시면 배달 가능해요 .\n"
          ]
        }
      ]
    },
    {
      "cell_type": "code",
      "source": [
        ""
      ],
      "metadata": {
        "id": "IA_fyOj-e81X"
      },
      "execution_count": null,
      "outputs": []
    }
  ]
}