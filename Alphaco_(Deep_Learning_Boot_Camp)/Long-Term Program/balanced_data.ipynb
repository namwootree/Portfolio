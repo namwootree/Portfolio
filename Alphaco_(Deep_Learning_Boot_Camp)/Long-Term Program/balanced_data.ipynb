{
 "cells": [
  {
   "cell_type": "code",
   "execution_count": 8,
   "id": "edde6776",
   "metadata": {},
   "outputs": [],
   "source": [
    "import pandas as pd\n",
    "\n",
    "org = pd.read_csv('train_data.csv')\n",
    "aug = pd.read_csv('final_aug_data.csv')"
   ]
  },
  {
   "cell_type": "code",
   "execution_count": 9,
   "id": "879d779c",
   "metadata": {},
   "outputs": [
    {
     "name": "stdout",
     "output_type": "stream",
     "text": [
      "(45654, 3)\n",
      "(40899, 3)\n"
     ]
    }
   ],
   "source": [
    "print(org.shape)\n",
    "print(aug.shape)"
   ]
  },
  {
   "cell_type": "code",
   "execution_count": 10,
   "id": "9fbc073c",
   "metadata": {},
   "outputs": [
    {
     "name": "stdout",
     "output_type": "stream",
     "text": [
      "4    7629\n",
      "2    7362\n",
      "5    6933\n",
      "6    6751\n",
      "1    6222\n",
      "3    5933\n",
      "0    4824\n",
      "Name: topic_idx, dtype: int64\n",
      "4    7428\n",
      "5    6407\n",
      "2    6089\n",
      "6    5572\n",
      "1    5522\n",
      "3    5187\n",
      "0    4694\n",
      "Name: topic_idx, dtype: int64\n"
     ]
    }
   ],
   "source": [
    "print(org['topic_idx'].value_counts())\n",
    "print(aug['topic_idx'].value_counts())"
   ]
  },
  {
   "cell_type": "code",
   "execution_count": 11,
   "id": "eeff6396",
   "metadata": {
    "scrolled": false
   },
   "outputs": [
    {
     "name": "stdout",
     "output_type": "stream",
     "text": [
      "(86553, 4)\n",
      "\n",
      "4    15057\n",
      "2    13451\n",
      "5    13340\n",
      "6    12323\n",
      "1    11744\n",
      "3    11120\n",
      "0     9518\n",
      "Name: topic_idx, dtype: int64\n"
     ]
    }
   ],
   "source": [
    "sample_df = pd.concat([org, aug], axis=0)\n",
    "print(sample_df.shape)\n",
    "print()\n",
    "print(sample_df['topic_idx'].value_counts())"
   ]
  },
  {
   "cell_type": "code",
   "execution_count": 12,
   "id": "d96ed951",
   "metadata": {
    "scrolled": true
   },
   "outputs": [
    {
     "data": {
      "text/plain": [
       "Index(['index', 'title', 'topic_idx', 'Unnamed: 0'], dtype='object')"
      ]
     },
     "execution_count": 12,
     "metadata": {},
     "output_type": "execute_result"
    }
   ],
   "source": [
    "sample_df.columns"
   ]
  },
  {
   "cell_type": "code",
   "execution_count": 13,
   "id": "db6c840d",
   "metadata": {},
   "outputs": [],
   "source": [
    "sample_df = sample_df[['title', 'topic_idx']]"
   ]
  },
  {
   "cell_type": "code",
   "execution_count": 14,
   "id": "6713f8fa",
   "metadata": {},
   "outputs": [
    {
     "name": "stdout",
     "output_type": "stream",
     "text": [
      "<class 'pandas.core.frame.DataFrame'>\n",
      "Int64Index: 86553 entries, 0 to 40898\n",
      "Data columns (total 2 columns):\n",
      " #   Column     Non-Null Count  Dtype \n",
      "---  ------     --------------  ----- \n",
      " 0   title      86553 non-null  object\n",
      " 1   topic_idx  86553 non-null  int64 \n",
      "dtypes: int64(1), object(1)\n",
      "memory usage: 2.0+ MB\n"
     ]
    }
   ],
   "source": [
    "sample_df.info()"
   ]
  },
  {
   "cell_type": "code",
   "execution_count": 15,
   "id": "a850c5e7",
   "metadata": {
    "scrolled": true
   },
   "outputs": [
    {
     "name": "stdout",
     "output_type": "stream",
     "text": [
      "(1606, 2)\n"
     ]
    }
   ],
   "source": [
    "cond_2 = (sample_df['topic_idx']==2)\n",
    "\n",
    "plus_2 = sample_df.loc[cond_2].sample(n=(15057-13451))\n",
    "print(plus_2.shape)"
   ]
  },
  {
   "cell_type": "code",
   "execution_count": 16,
   "id": "f1775704",
   "metadata": {},
   "outputs": [
    {
     "name": "stdout",
     "output_type": "stream",
     "text": [
      "(1717, 2)\n"
     ]
    }
   ],
   "source": [
    "cond_5 = (sample_df['topic_idx']==5)\n",
    "\n",
    "plus_5 = sample_df.loc[cond_5].sample(n=(15057-13340))\n",
    "print(plus_5.shape)"
   ]
  },
  {
   "cell_type": "code",
   "execution_count": 17,
   "id": "d90cd2a7",
   "metadata": {},
   "outputs": [
    {
     "name": "stdout",
     "output_type": "stream",
     "text": [
      "(2734, 2)\n"
     ]
    }
   ],
   "source": [
    "cond_6 = (sample_df['topic_idx']==6)\n",
    "\n",
    "plus_6 = sample_df.loc[cond_6].sample(n=(15057-12323))\n",
    "print(plus_6.shape)"
   ]
  },
  {
   "cell_type": "code",
   "execution_count": 18,
   "id": "80466ab3",
   "metadata": {},
   "outputs": [
    {
     "name": "stdout",
     "output_type": "stream",
     "text": [
      "(3313, 2)\n"
     ]
    }
   ],
   "source": [
    "cond_1 = (sample_df['topic_idx']==1)\n",
    "\n",
    "plus_1 = sample_df.loc[cond_1].sample(n=(15057-11744))\n",
    "print(plus_1.shape)"
   ]
  },
  {
   "cell_type": "code",
   "execution_count": 19,
   "id": "d8fa311d",
   "metadata": {},
   "outputs": [
    {
     "name": "stdout",
     "output_type": "stream",
     "text": [
      "(3937, 2)\n"
     ]
    }
   ],
   "source": [
    "cond_3 = (sample_df['topic_idx']==3)\n",
    "\n",
    "plus_3 = sample_df.loc[cond_3].sample(n=(15057-11120))\n",
    "print(plus_3.shape)"
   ]
  },
  {
   "cell_type": "code",
   "execution_count": 20,
   "id": "49d980da",
   "metadata": {
    "scrolled": true
   },
   "outputs": [
    {
     "name": "stdout",
     "output_type": "stream",
     "text": [
      "(5539, 2)\n"
     ]
    }
   ],
   "source": [
    "cond_0 = (sample_df['topic_idx']==0)\n",
    "\n",
    "plus_0 = sample_df.loc[cond_0].sample(n=(15057-9518))\n",
    "print(plus_0.shape)"
   ]
  },
  {
   "cell_type": "code",
   "execution_count": 21,
   "id": "eb3b5d8a",
   "metadata": {},
   "outputs": [],
   "source": [
    "plus_df = pd.concat([plus_2, plus_5, plus_6, plus_1, plus_3, plus_0], axis=0)"
   ]
  },
  {
   "cell_type": "code",
   "execution_count": 22,
   "id": "02138073",
   "metadata": {},
   "outputs": [
    {
     "data": {
      "text/plain": [
       "0    5539\n",
       "3    3937\n",
       "1    3313\n",
       "6    2734\n",
       "5    1717\n",
       "2    1606\n",
       "Name: topic_idx, dtype: int64"
      ]
     },
     "execution_count": 22,
     "metadata": {},
     "output_type": "execute_result"
    }
   ],
   "source": [
    "plus_df['topic_idx'].value_counts()"
   ]
  },
  {
   "cell_type": "code",
   "execution_count": 23,
   "id": "32f2d389",
   "metadata": {},
   "outputs": [],
   "source": [
    "balanced_df = pd.concat([sample_df, plus_df], axis=0)"
   ]
  },
  {
   "cell_type": "code",
   "execution_count": 24,
   "id": "53d949f2",
   "metadata": {},
   "outputs": [],
   "source": [
    "balanced_df = balanced_df[['title', 'topic_idx']]"
   ]
  },
  {
   "cell_type": "code",
   "execution_count": 25,
   "id": "11e40293",
   "metadata": {},
   "outputs": [],
   "source": [
    "balanced_df = balanced_df.sample(frac=1).reset_index(drop=True)"
   ]
  },
  {
   "cell_type": "code",
   "execution_count": 26,
   "id": "fcca49ed",
   "metadata": {},
   "outputs": [
    {
     "data": {
      "text/plain": [
       "(105399, 2)"
      ]
     },
     "execution_count": 26,
     "metadata": {},
     "output_type": "execute_result"
    }
   ],
   "source": [
    "balanced_df.shape"
   ]
  },
  {
   "cell_type": "code",
   "execution_count": 27,
   "id": "51b5481f",
   "metadata": {
    "scrolled": true
   },
   "outputs": [
    {
     "data": {
      "text/plain": [
       "5    15057\n",
       "1    15057\n",
       "2    15057\n",
       "0    15057\n",
       "6    15057\n",
       "3    15057\n",
       "4    15057\n",
       "Name: topic_idx, dtype: int64"
      ]
     },
     "execution_count": 27,
     "metadata": {},
     "output_type": "execute_result"
    }
   ],
   "source": [
    "balanced_df['topic_idx'].value_counts()"
   ]
  },
  {
   "cell_type": "code",
   "execution_count": 28,
   "id": "d9616a31",
   "metadata": {},
   "outputs": [
    {
     "data": {
      "text/html": [
       "<div>\n",
       "<style scoped>\n",
       "    .dataframe tbody tr th:only-of-type {\n",
       "        vertical-align: middle;\n",
       "    }\n",
       "\n",
       "    .dataframe tbody tr th {\n",
       "        vertical-align: top;\n",
       "    }\n",
       "\n",
       "    .dataframe thead th {\n",
       "        text-align: right;\n",
       "    }\n",
       "</style>\n",
       "<table border=\"1\" class=\"dataframe\">\n",
       "  <thead>\n",
       "    <tr style=\"text-align: right;\">\n",
       "      <th></th>\n",
       "      <th>title</th>\n",
       "      <th>topic_idx</th>\n",
       "    </tr>\n",
       "  </thead>\n",
       "  <tbody>\n",
       "    <tr>\n",
       "      <th>0</th>\n",
       "      <td>엔리케 메시지는 최고의... 심지어 먹을 때도 남아있다.</td>\n",
       "      <td>5</td>\n",
       "    </tr>\n",
       "    <tr>\n",
       "      <th>1</th>\n",
       "      <td>공기 보조금 지급... 나머지 예산·인출 반환 하지 않다.</td>\n",
       "      <td>1</td>\n",
       "    </tr>\n",
       "    <tr>\n",
       "      <th>2</th>\n",
       "      <td>한·일 시민들 日오키나와서 강제동원 희생자 유골과 마주보다</td>\n",
       "      <td>2</td>\n",
       "    </tr>\n",
       "    <tr>\n",
       "      <th>3</th>\n",
       "      <td>화웨이 AI 탑재 첫 스마트폰 메이트 10…최고 100만원대 출시</td>\n",
       "      <td>0</td>\n",
       "    </tr>\n",
       "    <tr>\n",
       "      <th>4</th>\n",
       "      <td>1 분기 주택 면허 16만 가구...지난 해보다 37.2% ↑</td>\n",
       "      <td>1</td>\n",
       "    </tr>\n",
       "    <tr>\n",
       "      <th>...</th>\n",
       "      <td>...</td>\n",
       "      <td>...</td>\n",
       "    </tr>\n",
       "    <tr>\n",
       "      <th>105394</th>\n",
       "      <td>넥센 선택 조정 승수 실패...브리검 4인닝 5점 강판</td>\n",
       "      <td>5</td>\n",
       "    </tr>\n",
       "    <tr>\n",
       "      <th>105395</th>\n",
       "      <td>오스트리아에서 플레이한 김재우 센터</td>\n",
       "      <td>5</td>\n",
       "    </tr>\n",
       "    <tr>\n",
       "      <th>105396</th>\n",
       "      <td>졸업 가운·학사모에 마스크...코로나19가 바꾸어 졸업 사진 풍경</td>\n",
       "      <td>2</td>\n",
       "    </tr>\n",
       "    <tr>\n",
       "      <th>105397</th>\n",
       "      <td>정치적 격렬함을 촉진하는 문학이 필요하다.</td>\n",
       "      <td>3</td>\n",
       "    </tr>\n",
       "    <tr>\n",
       "      <th>105398</th>\n",
       "      <td>특검 삼성 합병 외압의혹 문형표·김진수 자택 압수수색</td>\n",
       "      <td>2</td>\n",
       "    </tr>\n",
       "  </tbody>\n",
       "</table>\n",
       "<p>105399 rows × 2 columns</p>\n",
       "</div>"
      ],
      "text/plain": [
       "                                       title  topic_idx\n",
       "0            엔리케 메시지는 최고의... 심지어 먹을 때도 남아있다.          5\n",
       "1           공기 보조금 지급... 나머지 예산·인출 반환 하지 않다.          1\n",
       "2           한·일 시민들 日오키나와서 강제동원 희생자 유골과 마주보다          2\n",
       "3       화웨이 AI 탑재 첫 스마트폰 메이트 10…최고 100만원대 출시          0\n",
       "4         1 분기 주택 면허 16만 가구...지난 해보다 37.2% ↑          1\n",
       "...                                      ...        ...\n",
       "105394        넥센 선택 조정 승수 실패...브리검 4인닝 5점 강판          5\n",
       "105395                   오스트리아에서 플레이한 김재우 센터          5\n",
       "105396  졸업 가운·학사모에 마스크...코로나19가 바꾸어 졸업 사진 풍경          2\n",
       "105397               정치적 격렬함을 촉진하는 문학이 필요하다.          3\n",
       "105398         특검 삼성 합병 외압의혹 문형표·김진수 자택 압수수색          2\n",
       "\n",
       "[105399 rows x 2 columns]"
      ]
     },
     "execution_count": 28,
     "metadata": {},
     "output_type": "execute_result"
    }
   ],
   "source": [
    "balanced_df"
   ]
  },
  {
   "cell_type": "code",
   "execution_count": 29,
   "id": "dfa06fa4",
   "metadata": {},
   "outputs": [],
   "source": [
    "balanced_df.to_csv('revised_data.csv')"
   ]
  },
  {
   "cell_type": "code",
   "execution_count": null,
   "id": "c0eb0bd0",
   "metadata": {},
   "outputs": [],
   "source": [
    "train = pd.read_csv('revised_data.csv')\n"
   ]
  }
 ],
 "metadata": {
  "kernelspec": {
   "display_name": "Python 3 (ipykernel)",
   "language": "python",
   "name": "python3"
  },
  "language_info": {
   "codemirror_mode": {
    "name": "ipython",
    "version": 3
   },
   "file_extension": ".py",
   "mimetype": "text/x-python",
   "name": "python",
   "nbconvert_exporter": "python",
   "pygments_lexer": "ipython3",
   "version": "3.9.10"
  }
 },
 "nbformat": 4,
 "nbformat_minor": 5
}
