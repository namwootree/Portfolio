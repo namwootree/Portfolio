{
 "cells": [
  {
   "cell_type": "code",
   "execution_count": 72,
   "id": "edde6776",
   "metadata": {},
   "outputs": [],
   "source": [
    "import pandas as pd\n",
    "\n",
    "org = pd.read_csv('train_data.csv')\n",
    "aug = pd.read_csv('final_aug_data.csv')"
   ]
  },
  {
   "cell_type": "code",
   "execution_count": 73,
   "id": "879d779c",
   "metadata": {},
   "outputs": [
    {
     "name": "stdout",
     "output_type": "stream",
     "text": [
      "(45654, 3)\n",
      "(41868, 3)\n"
     ]
    }
   ],
   "source": [
    "print(org.shape)\n",
    "print(aug.shape)"
   ]
  },
  {
   "cell_type": "code",
   "execution_count": 74,
   "id": "9fbc073c",
   "metadata": {},
   "outputs": [
    {
     "name": "stdout",
     "output_type": "stream",
     "text": [
      "4    7629\n",
      "2    7362\n",
      "5    6933\n",
      "6    6751\n",
      "1    6222\n",
      "3    5933\n",
      "0    4824\n",
      "Name: topic_idx, dtype: int64\n",
      "4    7484\n",
      "5    6535\n",
      "2    6335\n",
      "6    5743\n",
      "1    5664\n",
      "3    5376\n",
      "0    4731\n",
      "Name: topic_idx, dtype: int64\n"
     ]
    }
   ],
   "source": [
    "print(org['topic_idx'].value_counts())\n",
    "print(aug['topic_idx'].value_counts())"
   ]
  },
  {
   "cell_type": "code",
   "execution_count": 75,
   "id": "eeff6396",
   "metadata": {
    "scrolled": false
   },
   "outputs": [
    {
     "name": "stdout",
     "output_type": "stream",
     "text": [
      "(87522, 4)\n",
      "\n",
      "4    15113\n",
      "2    13697\n",
      "5    13468\n",
      "6    12494\n",
      "1    11886\n",
      "3    11309\n",
      "0     9555\n",
      "Name: topic_idx, dtype: int64\n"
     ]
    }
   ],
   "source": [
    "sample_df = pd.concat([org, aug], axis=0)\n",
    "print(sample_df.shape)\n",
    "print()\n",
    "print(sample_df['topic_idx'].value_counts())"
   ]
  },
  {
   "cell_type": "code",
   "execution_count": 76,
   "id": "d96ed951",
   "metadata": {
    "scrolled": true
   },
   "outputs": [
    {
     "data": {
      "text/plain": [
       "Index(['index', 'title', 'topic_idx', 'Unnamed: 0'], dtype='object')"
      ]
     },
     "execution_count": 76,
     "metadata": {},
     "output_type": "execute_result"
    }
   ],
   "source": [
    "sample_df.columns"
   ]
  },
  {
   "cell_type": "code",
   "execution_count": 77,
   "id": "db6c840d",
   "metadata": {},
   "outputs": [],
   "source": [
    "sample_df = sample_df[['title', 'topic_idx']]"
   ]
  },
  {
   "cell_type": "code",
   "execution_count": 78,
   "id": "6713f8fa",
   "metadata": {},
   "outputs": [
    {
     "name": "stdout",
     "output_type": "stream",
     "text": [
      "<class 'pandas.core.frame.DataFrame'>\n",
      "Int64Index: 87522 entries, 0 to 41867\n",
      "Data columns (total 2 columns):\n",
      " #   Column     Non-Null Count  Dtype \n",
      "---  ------     --------------  ----- \n",
      " 0   title      87522 non-null  object\n",
      " 1   topic_idx  87522 non-null  int64 \n",
      "dtypes: int64(1), object(1)\n",
      "memory usage: 2.0+ MB\n"
     ]
    }
   ],
   "source": [
    "sample_df.info()"
   ]
  },
  {
   "cell_type": "code",
   "execution_count": 79,
   "id": "a850c5e7",
   "metadata": {
    "scrolled": true
   },
   "outputs": [
    {
     "name": "stdout",
     "output_type": "stream",
     "text": [
      "(1416, 2)\n"
     ]
    }
   ],
   "source": [
    "cond_2 = (sample_df['topic_idx']==2)\n",
    "\n",
    "plus_2 = sample_df.loc[cond_2].sample(n=(15113-13697))\n",
    "print(plus_2.shape)"
   ]
  },
  {
   "cell_type": "code",
   "execution_count": 80,
   "id": "f1775704",
   "metadata": {},
   "outputs": [
    {
     "name": "stdout",
     "output_type": "stream",
     "text": [
      "(1645, 2)\n"
     ]
    }
   ],
   "source": [
    "cond_5 = (sample_df['topic_idx']==5)\n",
    "\n",
    "plus_5 = sample_df.loc[cond_5].sample(n=(15113-13468))\n",
    "print(plus_5.shape)"
   ]
  },
  {
   "cell_type": "code",
   "execution_count": 81,
   "id": "d90cd2a7",
   "metadata": {},
   "outputs": [
    {
     "name": "stdout",
     "output_type": "stream",
     "text": [
      "(2619, 2)\n"
     ]
    }
   ],
   "source": [
    "cond_6 = (sample_df['topic_idx']==6)\n",
    "\n",
    "plus_6 = sample_df.loc[cond_6].sample(n=(15113-12494))\n",
    "print(plus_6.shape)"
   ]
  },
  {
   "cell_type": "code",
   "execution_count": 82,
   "id": "80466ab3",
   "metadata": {},
   "outputs": [
    {
     "name": "stdout",
     "output_type": "stream",
     "text": [
      "(3227, 2)\n"
     ]
    }
   ],
   "source": [
    "cond_1 = (sample_df['topic_idx']==1)\n",
    "\n",
    "plus_1 = sample_df.loc[cond_1].sample(n=(15113-11886))\n",
    "print(plus_1.shape)"
   ]
  },
  {
   "cell_type": "code",
   "execution_count": 83,
   "id": "d8fa311d",
   "metadata": {},
   "outputs": [
    {
     "name": "stdout",
     "output_type": "stream",
     "text": [
      "(3804, 2)\n"
     ]
    }
   ],
   "source": [
    "cond_3 = (sample_df['topic_idx']==3)\n",
    "\n",
    "plus_3 = sample_df.loc[cond_3].sample(n=(15113-11309))\n",
    "print(plus_3.shape)"
   ]
  },
  {
   "cell_type": "code",
   "execution_count": 84,
   "id": "49d980da",
   "metadata": {
    "scrolled": true
   },
   "outputs": [
    {
     "name": "stdout",
     "output_type": "stream",
     "text": [
      "(5558, 2)\n"
     ]
    }
   ],
   "source": [
    "cond_0 = (sample_df['topic_idx']==0)\n",
    "\n",
    "plus_0 = sample_df.loc[cond_0].sample(n=(15113-9555))\n",
    "print(plus_0.shape)"
   ]
  },
  {
   "cell_type": "code",
   "execution_count": 92,
   "id": "eb3b5d8a",
   "metadata": {},
   "outputs": [],
   "source": [
    "plus_df = pd.concat([plus_2, plus_5, plus_6, plus_1, plus_3, plus_0], axis=0)"
   ]
  },
  {
   "cell_type": "code",
   "execution_count": 93,
   "id": "02138073",
   "metadata": {},
   "outputs": [
    {
     "data": {
      "text/plain": [
       "0    5558\n",
       "3    3804\n",
       "1    3227\n",
       "6    2619\n",
       "5    1645\n",
       "2    1416\n",
       "Name: topic_idx, dtype: int64"
      ]
     },
     "execution_count": 93,
     "metadata": {},
     "output_type": "execute_result"
    }
   ],
   "source": [
    "plus_df['topic_idx'].value_counts()"
   ]
  },
  {
   "cell_type": "code",
   "execution_count": 99,
   "id": "32f2d389",
   "metadata": {},
   "outputs": [],
   "source": [
    "balanced_df = pd.concat([sample_df, plus_df], axis=0)"
   ]
  },
  {
   "cell_type": "code",
   "execution_count": 100,
   "id": "53d949f2",
   "metadata": {},
   "outputs": [],
   "source": [
    "balanced_df = balanced_df[['title', 'topic_idx']]"
   ]
  },
  {
   "cell_type": "code",
   "execution_count": 101,
   "id": "11e40293",
   "metadata": {},
   "outputs": [],
   "source": [
    "balanced_df = balanced_df.sample(frac=1).reset_index(drop=True)"
   ]
  },
  {
   "cell_type": "code",
   "execution_count": 102,
   "id": "fcca49ed",
   "metadata": {},
   "outputs": [
    {
     "data": {
      "text/plain": [
       "(105791, 2)"
      ]
     },
     "execution_count": 102,
     "metadata": {},
     "output_type": "execute_result"
    }
   ],
   "source": [
    "balanced_df.shape"
   ]
  },
  {
   "cell_type": "code",
   "execution_count": 103,
   "id": "51b5481f",
   "metadata": {
    "scrolled": true
   },
   "outputs": [
    {
     "data": {
      "text/plain": [
       "1    15113\n",
       "6    15113\n",
       "4    15113\n",
       "3    15113\n",
       "5    15113\n",
       "2    15113\n",
       "0    15113\n",
       "Name: topic_idx, dtype: int64"
      ]
     },
     "execution_count": 103,
     "metadata": {},
     "output_type": "execute_result"
    }
   ],
   "source": [
    "balanced_df['topic_idx'].value_counts()"
   ]
  },
  {
   "cell_type": "code",
   "execution_count": 104,
   "id": "d9616a31",
   "metadata": {},
   "outputs": [
    {
     "data": {
      "text/html": [
       "<div>\n",
       "<style scoped>\n",
       "    .dataframe tbody tr th:only-of-type {\n",
       "        vertical-align: middle;\n",
       "    }\n",
       "\n",
       "    .dataframe tbody tr th {\n",
       "        vertical-align: top;\n",
       "    }\n",
       "\n",
       "    .dataframe thead th {\n",
       "        text-align: right;\n",
       "    }\n",
       "</style>\n",
       "<table border=\"1\" class=\"dataframe\">\n",
       "  <thead>\n",
       "    <tr style=\"text-align: right;\">\n",
       "      <th></th>\n",
       "      <th>title</th>\n",
       "      <th>topic_idx</th>\n",
       "    </tr>\n",
       "  </thead>\n",
       "  <tbody>\n",
       "    <tr>\n",
       "      <th>0</th>\n",
       "      <td>특별한 세대의 결정에 대하여</td>\n",
       "      <td>1</td>\n",
       "    </tr>\n",
       "    <tr>\n",
       "      <th>1</th>\n",
       "      <td>하나금투 LG디스플레이 패널 가격 상승 기대…목표가↑</td>\n",
       "      <td>1</td>\n",
       "    </tr>\n",
       "    <tr>\n",
       "      <th>2</th>\n",
       "      <td>SNS 선거운동 글쓰기만으론 부족…라이브 활용해야 효과↑</td>\n",
       "      <td>6</td>\n",
       "    </tr>\n",
       "    <tr>\n",
       "      <th>3</th>\n",
       "      <td>멕시코 마야 유적 지하서 수로 발견…사후세계로 가는 통로</td>\n",
       "      <td>4</td>\n",
       "    </tr>\n",
       "    <tr>\n",
       "      <th>4</th>\n",
       "      <td>신간 시미안 수업·클래식 스크린에 흐르는</td>\n",
       "      <td>3</td>\n",
       "    </tr>\n",
       "    <tr>\n",
       "      <th>...</th>\n",
       "      <td>...</td>\n",
       "      <td>...</td>\n",
       "    </tr>\n",
       "    <tr>\n",
       "      <th>105786</th>\n",
       "      <td>바른미래당 사무처노조 주대환 규정 어기고 당직자 징계철회</td>\n",
       "      <td>6</td>\n",
       "    </tr>\n",
       "    <tr>\n",
       "      <th>105787</th>\n",
       "      <td>혼돈의 학교⑤ 매년 학교 떠나는 교사·학생 6천여명…이유는</td>\n",
       "      <td>2</td>\n",
       "    </tr>\n",
       "    <tr>\n",
       "      <th>105788</th>\n",
       "      <td>지노위 MBC 계약직 아나운서 부당해고 판정</td>\n",
       "      <td>2</td>\n",
       "    </tr>\n",
       "    <tr>\n",
       "      <th>105789</th>\n",
       "      <td>영화 드라마를 선택하는 방법</td>\n",
       "      <td>0</td>\n",
       "    </tr>\n",
       "    <tr>\n",
       "      <th>105790</th>\n",
       "      <td>KTB 투자 증권 작년 연결 판매 이익 428억원...49% ↑</td>\n",
       "      <td>1</td>\n",
       "    </tr>\n",
       "  </tbody>\n",
       "</table>\n",
       "<p>105791 rows × 2 columns</p>\n",
       "</div>"
      ],
      "text/plain": [
       "                                      title  topic_idx\n",
       "0                           특별한 세대의 결정에 대하여          1\n",
       "1             하나금투 LG디스플레이 패널 가격 상승 기대…목표가↑          1\n",
       "2           SNS 선거운동 글쓰기만으론 부족…라이브 활용해야 효과↑          6\n",
       "3           멕시코 마야 유적 지하서 수로 발견…사후세계로 가는 통로          4\n",
       "4                    신간 시미안 수업·클래식 스크린에 흐르는          3\n",
       "...                                     ...        ...\n",
       "105786      바른미래당 사무처노조 주대환 규정 어기고 당직자 징계철회          6\n",
       "105787     혼돈의 학교⑤ 매년 학교 떠나는 교사·학생 6천여명…이유는          2\n",
       "105788             지노위 MBC 계약직 아나운서 부당해고 판정          2\n",
       "105789                      영화 드라마를 선택하는 방법          0\n",
       "105790  KTB 투자 증권 작년 연결 판매 이익 428억원...49% ↑          1\n",
       "\n",
       "[105791 rows x 2 columns]"
      ]
     },
     "execution_count": 104,
     "metadata": {},
     "output_type": "execute_result"
    }
   ],
   "source": [
    "balanced_df"
   ]
  },
  {
   "cell_type": "code",
   "execution_count": 105,
   "id": "dfa06fa4",
   "metadata": {},
   "outputs": [],
   "source": [
    "balanced_df.to_csv('revised_data.csv')"
   ]
  }
 ],
 "metadata": {
  "kernelspec": {
   "display_name": "Python 3 (ipykernel)",
   "language": "python",
   "name": "python3"
  },
  "language_info": {
   "codemirror_mode": {
    "name": "ipython",
    "version": 3
   },
   "file_extension": ".py",
   "mimetype": "text/x-python",
   "name": "python",
   "nbconvert_exporter": "python",
   "pygments_lexer": "ipython3",
   "version": "3.9.10"
  }
 },
 "nbformat": 4,
 "nbformat_minor": 5
}
