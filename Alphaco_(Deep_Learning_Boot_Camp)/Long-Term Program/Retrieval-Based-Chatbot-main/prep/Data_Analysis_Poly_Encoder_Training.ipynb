{
  "nbformat": 4,
  "nbformat_minor": 0,
  "metadata": {
    "colab": {
      "name": "Data Analysis - Poly Encoder Training.ipynb",
      "provenance": [],
      "collapsed_sections": [],
      "machine_shape": "hm",
      "authorship_tag": "ABX9TyOFMdLSYWWDwpzhnj9sWjKT",
      "include_colab_link": true
    },
    "kernelspec": {
      "name": "python3",
      "display_name": "Python 3"
    },
    "language_info": {
      "name": "python"
    },
    "gpuClass": "standard"
  },
  "cells": [
    {
      "cell_type": "markdown",
      "metadata": {
        "id": "view-in-github",
        "colab_type": "text"
      },
      "source": [
        "<a href=\"https://colab.research.google.com/github/dotsnangles/Retrieval-Based-Chatbot/blob/main/Data_Analysis_Poly_Encoder_Training.ipynb\" target=\"_parent\"><img src=\"https://colab.research.google.com/assets/colab-badge.svg\" alt=\"Open In Colab\"/></a>"
      ]
    },
    {
      "cell_type": "code",
      "source": [
        "!pip install -q transformers datasets folium==0.2.1"
      ],
      "metadata": {
        "colab": {
          "base_uri": "https://localhost:8080/"
        },
        "id": "n-ZyBZPWfX5m",
        "outputId": "8d76979b-7d9c-4e6d-9fba-0f6f167b4727"
      },
      "execution_count": 1,
      "outputs": [
        {
          "output_type": "stream",
          "name": "stdout",
          "text": [
            "\u001b[K     |████████████████████████████████| 4.4 MB 5.1 MB/s \n",
            "\u001b[K     |████████████████████████████████| 362 kB 51.4 MB/s \n",
            "\u001b[K     |████████████████████████████████| 69 kB 5.4 MB/s \n",
            "\u001b[K     |████████████████████████████████| 101 kB 3.2 MB/s \n",
            "\u001b[K     |████████████████████████████████| 596 kB 54.9 MB/s \n",
            "\u001b[K     |████████████████████████████████| 6.6 MB 39.9 MB/s \n",
            "\u001b[K     |████████████████████████████████| 1.1 MB 65.0 MB/s \n",
            "\u001b[K     |████████████████████████████████| 140 kB 79.0 MB/s \n",
            "\u001b[K     |████████████████████████████████| 212 kB 48.8 MB/s \n",
            "\u001b[K     |████████████████████████████████| 127 kB 61.3 MB/s \n",
            "\u001b[K     |████████████████████████████████| 271 kB 59.5 MB/s \n",
            "\u001b[K     |████████████████████████████████| 144 kB 60.0 MB/s \n",
            "\u001b[K     |████████████████████████████████| 94 kB 2.8 MB/s \n",
            "\u001b[?25h  Building wheel for folium (setup.py) ... \u001b[?25l\u001b[?25hdone\n"
          ]
        }
      ]
    },
    {
      "cell_type": "code",
      "execution_count": 2,
      "metadata": {
        "id": "M4lrYnocYNH4"
      },
      "outputs": [],
      "source": [
        "!git clone -q https://github.com/dotsnangles/Poly-Encoder.git"
      ]
    },
    {
      "cell_type": "code",
      "source": [
        "!gdown -q --folder 1uC1pSCrh9xlieF60z78QuCg7OxvU9kUs\n",
        "!mv /content/dstc7/*.json /content/Poly-Encoder/dstc7\n",
        "!mv /content/dstc7/*.tsv /content/Poly-Encoder/dstc7"
      ],
      "metadata": {
        "id": "edrW8JmxZWrb"
      },
      "execution_count": 3,
      "outputs": []
    },
    {
      "cell_type": "code",
      "source": [
        "%cd /content/Poly-Encoder/dstc7\n",
        "!bash parse.sh\n",
        "%cd /content"
      ],
      "metadata": {
        "colab": {
          "base_uri": "https://localhost:8080/"
        },
        "id": "vGQaVPejhcsG",
        "outputId": "360b98f5-8546-4371-94bd-265c07fec0ae"
      },
      "execution_count": 4,
      "outputs": [
        {
          "output_type": "stream",
          "name": "stdout",
          "text": [
            "/content/Poly-Encoder/dstc7\n",
            "tcmalloc: large alloc 1859141632 bytes == 0x2ca8000 @  0x7f457d4101e7 0x4a3940 0x5b438c 0x5ea94f 0x5939cb 0x594cd3 0x5d0ecb 0x5939af 0x594cd3 0x594f8e 0x59526e 0x5bfba0 0x59aeca 0x515655 0x549e0e 0x593fce 0x548ae9 0x51566f 0x549576 0x604173 0x5f5506 0x5f8c6c 0x5f9206 0x64faf2 0x64fc4e 0x7f457d00dc87 0x5b621a\n",
            "tcmalloc: large alloc 1859141632 bytes == 0x719ac000 @  0x7f457d4101e7 0x4a3940 0x52ab72 0x527cf3 0x51d358 0x59358d 0x548c51 0x51566f 0x549576 0x4bcb19 0x59c019 0x59588e 0x595e64 0x4d8924 0x5bfbcb 0x59aeca 0x515655 0x549e0e 0x593fce 0x548ae9 0x51566f 0x549576 0x604173 0x5f5506 0x5f8c6c 0x5f9206 0x64faf2 0x64fc4e 0x7f457d00dc87 0x5b621a\n",
            "/content\n"
          ]
        }
      ]
    },
    {
      "cell_type": "code",
      "source": [
        "# with open('/content/Poly-Encoder/dstc7/train.txt', 'r') as f:\n",
        "#     lines = f.readline()\n",
        "# print(lines)\n",
        "# # idx = 0\n",
        "# # for line in lines:\n",
        "# #     print(line)\n",
        "# #     idx += 1\n",
        "# #     if idx == 100:\n",
        "# #         break"
      ],
      "metadata": {
        "id": "gz4SlnSXIwiw"
      },
      "execution_count": 5,
      "outputs": []
    },
    {
      "cell_type": "code",
      "source": [
        "file_path = '/content/Poly-Encoder/dstc7/train.txt'"
      ],
      "metadata": {
        "id": "7-fUwCz0MLr9"
      },
      "execution_count": 6,
      "outputs": []
    },
    {
      "cell_type": "code",
      "source": [
        "# with open(file_path, encoding='utf-8') as f:\n",
        "#     for i, line in enumerate(f):\n",
        "#         if i == 30:\n",
        "#             break\n",
        "#         print(line)"
      ],
      "metadata": {
        "id": "nSUR7RnHdm4G"
      },
      "execution_count": 7,
      "outputs": []
    },
    {
      "cell_type": "code",
      "source": [
        "train_data_source = []\n",
        "train_neg_responses = []\n",
        "sample_cnt = None"
      ],
      "metadata": {
        "id": "iebR8XsgMjMA"
      },
      "execution_count": 8,
      "outputs": []
    },
    {
      "cell_type": "code",
      "source": [
        "with open(file_path, encoding='utf-8') as f:\n",
        "    group = {\n",
        "        'context': None,\n",
        "        'responses': [],\n",
        "        'labels': []\n",
        "    }\n",
        "    for line in f:\n",
        "        split = line.strip('\\n').split('\\t')\n",
        "        lbl, context, response = int(split[0]), split[1:-1], split[-1]\n",
        "        if lbl == 1 and len(group['responses']) > 0:\n",
        "            train_data_source.append(group)\n",
        "            group = {\n",
        "                'context': None,\n",
        "                'responses': [],\n",
        "                'labels': []\n",
        "            }\n",
        "            if sample_cnt is not None and len(train_data_source) >= sample_cnt:\n",
        "                break\n",
        "        else:\n",
        "                train_neg_responses.append(response)\n",
        "        group['responses'].append(response)\n",
        "        group['labels'].append(lbl)\n",
        "        group['context'] = context\n",
        "    if len(group['responses']) > 0:\n",
        "        train_data_source.append(group)"
      ],
      "metadata": {
        "id": "peefUGQTMImx"
      },
      "execution_count": 9,
      "outputs": []
    },
    {
      "cell_type": "code",
      "source": [
        "len(train_data_source)"
      ],
      "metadata": {
        "colab": {
          "base_uri": "https://localhost:8080/"
        },
        "id": "R6CaiXnR4N4x",
        "outputId": "bd78cb11-b14d-4a63-906f-3c195fa0c464"
      },
      "execution_count": 10,
      "outputs": [
        {
          "output_type": "execute_result",
          "data": {
            "text/plain": [
              "100000"
            ]
          },
          "metadata": {},
          "execution_count": 10
        }
      ]
    },
    {
      "cell_type": "code",
      "source": [
        "idx = 0"
      ],
      "metadata": {
        "id": "k91AZcNc1Th2"
      },
      "execution_count": 28,
      "outputs": []
    },
    {
      "cell_type": "code",
      "source": [
        "train_data_source[idx]['context']"
      ],
      "metadata": {
        "colab": {
          "base_uri": "https://localhost:8080/"
        },
        "id": "-E8vgafu06uF",
        "outputId": "b55d8f2f-df84-4dcf-dab6-61b298098d5e"
      },
      "execution_count": 29,
      "outputs": [
        {
          "output_type": "execute_result",
          "data": {
            "text/plain": [
              "['participant 1: Hi, I want to run a graphical application from the command line, here is the script I wrote: https://paste8.com/4XQiHrXZ - it\\'s Ubuntu Server 12.04 + Unity. What I get is an error from xhost \"unable to open display :0\" and from the graphical application I want to use (Sikuli) \"Can\\'t connect to X11 window server using \\':0\\' as the value of the DISPLAY variable.\". I\\'ve tried using DISPLAY:=1 as I use this number when connecting with a VNC client but it doesn\\'t wo. rk either...',\n",
              " 'participant 2: is X running?',\n",
              " 'participant 1: I think so: https://paste8.com/HvhlT6vO.  maybe you prefer this check: https://paste8.com/0OhcBmfB',\n",
              " 'participant 2: these days you use lightdm (or gdm, kdm) to start X, so i\\'d try to kill what\\'s there but unreachable with \"sudo killall X\" and then \"sudo service lightdm start\"',\n",
              " 'participant 1: what do I kill precisely? because it says \"X: no such process\"',\n",
              " 'participant 2: nothing, X wasn\\'t running if you get that, proceed with \"sudo service lightdm start\" and then test your script',\n",
              " 'participant 1: alright but \"start: Job is already running: lightdm\"',\n",
              " 'participant 2: worm: try restart',\n",
              " 'participant 1: I did but I get \"No protocol specified. \" followed by \"xhost: unable to open display :0\" when executing my script (i.e. https://paste8.com/4XQiHrXZ). does it matter I run everything from a root tty? because that\\'s what I do',\n",
              " 'participant 2: ahh, not a good idea to try to start X as root no.  now your regular users ~/.Xauthority file is probably owned by root, check that.  what does \"ls -la ~/.Xauthority\" give you?',\n",
              " 'participant 1: yes I got /root/.Xauthority I need to append an entry for my regular user right?',\n",
              " 'participant 2: check if your regular user still owns his .Xauthority file and remove the one for root',\n",
              " \"participant 1: there is no .Xauthority for my regular user I'm afraid\",\n",
              " 'participant 2: well, copy the one from root to the user /home and make him own it, use the chown command.  sudo chown $USER:$USER $HOME/.Xauthority',\n",
              " 'participant 1: done, but running $sudo service lightdm start; returns \"Sorry, user <myuser> is not allowed to execute \\'/usr/sbin/service lightdm start\\' as root on <myhost>.\"',\n",
              " 'participant 2: is the regular user in the sudoers?',\n",
              " \"participant 1: no, I believe I have to create a file in /etc/sudoers.d but I don't know the syntax yet\"]"
            ]
          },
          "metadata": {},
          "execution_count": 29
        }
      ]
    },
    {
      "cell_type": "code",
      "source": [
        "train_data_source[idx]['responses']"
      ],
      "metadata": {
        "colab": {
          "base_uri": "https://localhost:8080/"
        },
        "id": "dmCQC-7e1Ebw",
        "outputId": "461d81be-0af6-402d-c615-ba8ba7f33da4"
      },
      "execution_count": 30,
      "outputs": [
        {
          "output_type": "execute_result",
          "data": {
            "text/plain": [
              "[\"are you still running in root terminal? if so, try from a non-root one.. i've got to go prepare dinner so i'll be afk .. ask the channel for help on that, hope you get things up\",\n",
              " 'quite',\n",
              " \"hey join #.  so i can tell you things that the kiddies won't latch on to\",\n",
              " 'did you complete the ubuntu installation??',\n",
              " 'how did you run mplayer?',\n",
              " \"a skype replacement? i think google talk works in the US (i wouldn't know i'm in uk)\",\n",
              " \"you only need the libraries for each.... ... which isn't too expensive\",\n",
              " 'try sudo apt-get install ubuntu-desktop',\n",
              " \"which error is that?. btw don't make us ask these questions\",\n",
              " \"I'm not sure there is one, you may need to just tweak ~/.config/xfce4.\",\n",
              " \"- you'll figure it out - best to you.\",\n",
              " 'try running \"sudo updatedb\" then \"locate eclipse\". youll find it then',\n",
              " \"I don't remember though. anyone else? how to get verbose output during a boot? turn of boot splash during live cd?\",\n",
              " \"It's painful that's true :p.\",\n",
              " 'Try cat /etc/issue.  Sorry, debian_version is for the debian version, not the ubuntu version',\n",
              " '1 mini pastbin']"
            ]
          },
          "metadata": {},
          "execution_count": 30
        }
      ]
    },
    {
      "cell_type": "code",
      "source": [
        "train_data_source[idx]['labels']"
      ],
      "metadata": {
        "colab": {
          "base_uri": "https://localhost:8080/"
        },
        "id": "kllkK1vQb_YU",
        "outputId": "e442abf0-c16e-46bd-d587-b0da2401e1d8"
      },
      "execution_count": 31,
      "outputs": [
        {
          "output_type": "execute_result",
          "data": {
            "text/plain": [
              "[1, 0, 0, 0, 0, 0, 0, 0, 0, 0, 0, 0, 0, 0, 0, 0]"
            ]
          },
          "metadata": {},
          "execution_count": 31
        }
      ]
    },
    {
      "cell_type": "code",
      "source": [
        "train_neg_responses[0]"
      ],
      "metadata": {
        "id": "3YS3YdmYeF9p",
        "colab": {
          "base_uri": "https://localhost:8080/",
          "height": 54
        },
        "outputId": "09466d7f-4686-4096-ca70-bbb0e5b974b6"
      },
      "execution_count": 15,
      "outputs": [
        {
          "output_type": "execute_result",
          "data": {
            "text/plain": [
              "\"are you still running in root terminal? if so, try from a non-root one.. i've got to go prepare dinner so i'll be afk .. ask the channel for help on that, hope you get things up\""
            ],
            "application/vnd.google.colaboratory.intrinsic+json": {
              "type": "string"
            }
          },
          "metadata": {},
          "execution_count": 15
        }
      ]
    },
    {
      "cell_type": "code",
      "source": [
        "file_path = '/content/Poly-Encoder/dstc7/dev.txt'"
      ],
      "metadata": {
        "id": "ZELpm4iO1gvp"
      },
      "execution_count": 32,
      "outputs": []
    },
    {
      "cell_type": "code",
      "source": [
        "dev_data_source = []\n",
        "dev_neg_responses = []\n",
        "sample_cnt = 3"
      ],
      "metadata": {
        "id": "DJDZw1kB2E8-"
      },
      "execution_count": 33,
      "outputs": []
    },
    {
      "cell_type": "code",
      "source": [
        "with open(file_path, encoding='utf-8') as f:\n",
        "    group = {\n",
        "        'context': None,\n",
        "        'responses': [],\n",
        "        'labels': []\n",
        "    }\n",
        "    for line in f:\n",
        "        split = line.strip('\\n').split('\\t')\n",
        "        lbl, context, response = int(split[0]), split[1:-1], split[-1]\n",
        "        if lbl == 1 and len(group['responses']) > 0:\n",
        "            dev_data_source.append(group)\n",
        "            group = {\n",
        "                'context': None,\n",
        "                'responses': [],\n",
        "                'labels': []\n",
        "            }\n",
        "            if sample_cnt is not None and len(dev_data_source) >= sample_cnt:\n",
        "                break\n",
        "        else:\n",
        "                dev_neg_responses.append(response)\n",
        "        group['responses'].append(response)\n",
        "        group['labels'].append(lbl)\n",
        "        group['context'] = context\n",
        "    if len(group['responses']) > 0:\n",
        "        dev_data_source.append(group)"
      ],
      "metadata": {
        "id": "Y_ciTtFt2B4b"
      },
      "execution_count": 34,
      "outputs": []
    },
    {
      "cell_type": "code",
      "source": [
        "idx = 0"
      ],
      "metadata": {
        "id": "RIHwG1cw2B4b"
      },
      "execution_count": 35,
      "outputs": []
    },
    {
      "cell_type": "code",
      "source": [
        "dev_data_source[idx]['context']"
      ],
      "metadata": {
        "colab": {
          "base_uri": "https://localhost:8080/"
        },
        "outputId": "2c0b4455-a684-48e3-ed07-7b73d0cab50f",
        "id": "-zvIhlfR2B4b"
      },
      "execution_count": 36,
      "outputs": [
        {
          "output_type": "execute_result",
          "data": {
            "text/plain": [
              "['participant 1: hey guys, does your livecd have chroot installed? and bash?',\n",
              " 'participant 2: sure',\n",
              " 'participant 1: does it have everything I need to format a partition ext2?. and ext3?',\n",
              " 'participant 2: yep',\n",
              " 'participant 1: yay I can use it to install gentoo. !',\n",
              " 'participant 2: lol. LOL',\n",
              " 'participant 1: =-). brb rebooting into ubuntu',\n",
              " 'participant 2: form last week:. 04:21:47] <findme> this is a big crowd here. [04:21:53] <findme> have all gentoo users moved here ?',\n",
              " 'participant 1: to bad its still using apt I would switch in a heart beat if it had its own package manager']"
            ]
          },
          "metadata": {},
          "execution_count": 36
        }
      ]
    },
    {
      "cell_type": "code",
      "source": [
        "dev_data_source[idx]['responses']"
      ],
      "metadata": {
        "colab": {
          "base_uri": "https://localhost:8080/"
        },
        "outputId": "5411a37e-a0f3-4266-9643-0382c098f60e",
        "id": "HJ4Jhlb82B4b"
      },
      "execution_count": 37,
      "outputs": [
        {
          "output_type": "execute_result",
          "data": {
            "text/plain": [
              "['what are you missing in apt ?',\n",
              " \"issues with msn?. I'm experiencing them on windows atm, current msn version\",\n",
              " \"<> AmaroqWolf: alias='sudo admincommand'.  <AmaroqWolf>  aw, can't make myself type sudo? I like it better that way.\",\n",
              " 'lspci will list your hardware, take a look at the VGA line',\n",
              " 'even if you set gnome proxy, not all applications obey it. if your particular application has a network settings option, set the proxy there.',\n",
              " 'beryll had that 3d cube effect.',\n",
              " 'Change both Sound In and Sound Out on the sound devices option to: HDA Intel (hw:intel,0).  Then do a test call',\n",
              " \"does setting the cpu frequency with the gnome panel applet work for you? It works for me....  that might be _because_ I don't have (again, to the best of my knowledge) any cpu-frequency-setting app running\",\n",
              " 'export http_proxy=http://proxy:port export ftp_proxy=http://proxy:port',\n",
              " 'what laptop?',\n",
              " 'for what?',\n",
              " \"atleast you're now using the fglrx drivers. anyways, check around the bug track and type your error in, go to www.ubuntu.com and search the forums and howtos. I reinstalled ubuntu about 4 times until everything was right. but that's cause I fiddled with the wrong ff, and didn't backup any files or anything\",\n",
              " 'what vmware are you installing btw? workstation or server, i usually use the .sh script they have',\n",
              " 'at least pixbuf and murrine you can install right away',\n",
              " 'yeah',\n",
              " 'wb',\n",
              " 'or not use natty',\n",
              " 'did you restart the browser?',\n",
              " 'what is what?',\n",
              " 'your system logs will show errors maybe, so pastebin network manager problems (drom your system logs). -from',\n",
              " '^^',\n",
              " \"i just didn't have any time\",\n",
              " 'did you update before installing?',\n",
              " 'how/where do i get / install it, is it',\n",
              " 'do you have synaptic package manager open?',\n",
              " '\"file yourfile.run\" tells you. most likely a binary installer',\n",
              " 'Ok. You\\'ll have to configure \"wpa_supplicant\" to connect to your wireless network. I\\'m not too good at that, but there are some FAQs',\n",
              " 'are you using the Ubuntu OS right now?',\n",
              " \"if that doesn't fix it, then get with the network admins at your school to figure out why there is so much IPv6 traffic on the network\",\n",
              " 'I believe the apache on ubuntu is using a www-data group. you should only need to add them to the www-data group. I am assuming there is g+w on the web root dir',\n",
              " '8.3 is in the repos?. !info expect',\n",
              " \"try it and see, or build your own.  the point is, with that, that it's easy to build your own colors, you just follow the example there.  try it out and then play around with it, change the color names, etc\",\n",
              " \"also, be sure to check out tmux if you aren't aware of it (it's a nice alternative to screen)\",\n",
              " 'does gnash actually work on websites?',\n",
              " 'huh.. what is the F9 key supposed to do?',\n",
              " \"then you have a corrpted OS, it's spelt incorrectly\",\n",
              " 'Yes but i get errors',\n",
              " 'darn... I only know Korean.  check out livemocha.com.  http://cn.livemocha.com/',\n",
              " \"I've heard good things about vsftpd\",\n",
              " \"what's the error?\",\n",
              " 'oh !.  anyway how do i know which drivers i m using now ?!?! the xorg.0.log has some messy log !',\n",
              " 'storing user passwords',\n",
              " '<> Are you able to try one monitor in the HDMI port ?',\n",
              " 'export PATH=/some/thing:$PATH',\n",
              " \"!paste. You can always hit 'printscreen'. i think you set your tv as primairy display, 720x576\",\n",
              " 'you should check the repositories first before install a deb though. installing*',\n",
              " 'no one in #compiz?',\n",
              " \"it still has carriage returns?.  my nick starts with a lowercase L. you're using an uppercase i so my client doesn't think that you're talking to me\",\n",
              " 'no problem',\n",
              " 'get rid of extensions and plugins, see if it still crashes',\n",
              " '\\'man smb.conf\\' lists a server option \"unix extensions\" (enabled by default)..  However, if the server is Windows...',\n",
              " 'are you trying to clone an actual disk? I use ddrescue to make an image on my hard drive, then burn that image. Some disks do funky things to prevent them from being copied. Sometimes in these cases ddrescue will work, sometimes not.. OK for real now, I am leaving',\n",
              " 'at a prompt sudo cp /etc/X11/xorg.conf /etc/X11xorg.conf.old && sudo dpkg-reconfigufe xserver-xorg',\n",
              " 'if you can disable gdm (gnome) or kdm(kde) via recovery cd, do so..  ok, but i was loking fo rhow to pass options when booting.....',\n",
              " 'thought so...hm..do you think if I put symlink that points to a direction would help? My original install is in /usr/share/xbmc and new one (with .deb) is in /usr/local/share/xbmc',\n",
              " 'paste.ubuntu.com',\n",
              " 'what about rightclicking on the pidgin icon and se if someting similar to \"blink upon new messages\" is checked?',\n",
              " 'does your dvd drive have a disk in it',\n",
              " \"use 'sudo lshw' to get a model number of some kind for it, then use google\",\n",
              " 'nothing there',\n",
              " 'is it possible to write to ntfs using a windows client in a vmware linux server?',\n",
              " \"i dont 'video' chat.. :P i text chat.. the way its MENT to be done.. ;p;\",\n",
              " 'yes.. so ctrl+alt+F2.. login then type the line listed above',\n",
              " 'that could be the problem, did you use the ones from nVidia webpage or in apt ?',\n",
              " 'fixres is, like, http://www.ubuntulinux.org/wiki/FixVideoResolutionHowto',\n",
              " 'when do you get that warning?',\n",
              " \"i believe in your tomcat.conf in catalina_opts (or java_opts, i'm not sure)\",\n",
              " 'gnomad2. !info gnomad2',\n",
              " 'what kind of device',\n",
              " 'perfect. remove that folder.',\n",
              " 'just like - slowly, to one side, or like - when you move it',\n",
              " ':)',\n",
              " \"probably because it's not needed for the default look chosen for ubuntu\",\n",
              " 'what os are the pcs running?',\n",
              " 'you should upgrade to any supported release. 12.10, 13.04 and 13.10 are all no longer supported.',\n",
              " \"well there ya go, we're all just trying to help our fellow ubuntuers :)\",\n",
              " 'byte of python ?',\n",
              " \"select IRC :).  you need to add an IRC account first though, and make sure it's connected.\",\n",
              " 'paste.ubuntulinux.nl',\n",
              " 'try \"sudo halt\" without being superuser',\n",
              " 'oh?',\n",
              " 'please take feisty questions to #ubuntu+1 anyway',\n",
              " \"Weird. I have no idea then. If you want to try on a lark to see if it is the same problem I had (and you were using pulseaudio): open a terminal and run pulseaudio. That was how I figured it out (audio should suddenly start working if that's the problem)\",\n",
              " 'you mean \"winecfg\" perhaps?',\n",
              " 'no... sudo nano /etc/network/interfaces ... or gksudo gedit /etc/network/interfaces is likely what you want',\n",
              " 'open a terminal in Ubuntu and run this command free -m and post this output',\n",
              " \"Can't say I do, sorry. With any of them, right-click > page info > media lets you save things, albeit more tedious..  I'd guess either mplayer or vlc though\",\n",
              " 'ppa:tualatrix/ppa. you have to add that to sources.list',\n",
              " \"That's not so easy actually, you can look at the packages here: http://packages.ubuntu.com/vivid/nginx by clicking on the list-of-files .. but it is most likly the core or full and either the default index page or documentation.\",\n",
              " 'whats the problem ?',\n",
              " 'then I am stumped  try #beryl ;)',\n",
              " 'boot the old kernel first from grub menu and make sure it solves the problem. Then purge the new one. and pin the old',\n",
              " 'find /thedir -name \"*.rar\" -exec unrar e \\'{}\\' \\';\\' (extra \\' after {})',\n",
              " 'does 6.06 or 6.10 remind you of anything ?',\n",
              " 'well, you _should_ have a backup anyway :p',\n",
              " \"don't you have x64 processor?\",\n",
              " 'np',\n",
              " 'simple solutions are always nice :-)',\n",
              " \"I thought that's what you asked...\",\n",
              " 'but yes ethereal should be able to do it too.  this is assuming your switch and network card support VLAN tags']"
            ]
          },
          "metadata": {},
          "execution_count": 37
        }
      ]
    },
    {
      "cell_type": "code",
      "source": [
        "dev_data_source[idx]['labels']"
      ],
      "metadata": {
        "colab": {
          "base_uri": "https://localhost:8080/"
        },
        "outputId": "d49b7ace-7e9a-478a-a854-a682793bfd95",
        "id": "t6ddIoSu2B4b"
      },
      "execution_count": 38,
      "outputs": [
        {
          "output_type": "execute_result",
          "data": {
            "text/plain": [
              "[1,\n",
              " 0,\n",
              " 0,\n",
              " 0,\n",
              " 0,\n",
              " 0,\n",
              " 0,\n",
              " 0,\n",
              " 0,\n",
              " 0,\n",
              " 0,\n",
              " 0,\n",
              " 0,\n",
              " 0,\n",
              " 0,\n",
              " 0,\n",
              " 0,\n",
              " 0,\n",
              " 0,\n",
              " 0,\n",
              " 0,\n",
              " 0,\n",
              " 0,\n",
              " 0,\n",
              " 0,\n",
              " 0,\n",
              " 0,\n",
              " 0,\n",
              " 0,\n",
              " 0,\n",
              " 0,\n",
              " 0,\n",
              " 0,\n",
              " 0,\n",
              " 0,\n",
              " 0,\n",
              " 0,\n",
              " 0,\n",
              " 0,\n",
              " 0,\n",
              " 0,\n",
              " 0,\n",
              " 0,\n",
              " 0,\n",
              " 0,\n",
              " 0,\n",
              " 0,\n",
              " 0,\n",
              " 0,\n",
              " 0,\n",
              " 0,\n",
              " 0,\n",
              " 0,\n",
              " 0,\n",
              " 0,\n",
              " 0,\n",
              " 0,\n",
              " 0,\n",
              " 0,\n",
              " 0,\n",
              " 0,\n",
              " 0,\n",
              " 0,\n",
              " 0,\n",
              " 0,\n",
              " 0,\n",
              " 0,\n",
              " 0,\n",
              " 0,\n",
              " 0,\n",
              " 0,\n",
              " 0,\n",
              " 0,\n",
              " 0,\n",
              " 0,\n",
              " 0,\n",
              " 0,\n",
              " 0,\n",
              " 0,\n",
              " 0,\n",
              " 0,\n",
              " 0,\n",
              " 0,\n",
              " 0,\n",
              " 0,\n",
              " 0,\n",
              " 0,\n",
              " 0,\n",
              " 0,\n",
              " 0,\n",
              " 0,\n",
              " 0,\n",
              " 0,\n",
              " 0,\n",
              " 0,\n",
              " 0,\n",
              " 0,\n",
              " 0,\n",
              " 0,\n",
              " 0]"
            ]
          },
          "metadata": {},
          "execution_count": 38
        }
      ]
    },
    {
      "cell_type": "code",
      "source": [
        "dev_neg_responses[100]"
      ],
      "metadata": {
        "colab": {
          "base_uri": "https://localhost:8080/",
          "height": 35
        },
        "outputId": "4e2f850a-d615-477f-cc37-34c24d1e7cff",
        "id": "ArsYEB512B4b"
      },
      "execution_count": 23,
      "outputs": [
        {
          "output_type": "execute_result",
          "data": {
            "text/plain": [
              "\"maybe it works under your account because of your envvironmental variables, eg. current directory etc which aren't set during boot\""
            ],
            "application/vnd.google.colaboratory.intrinsic+json": {
              "type": "string"
            }
          },
          "metadata": {},
          "execution_count": 23
        }
      ]
    },
    {
      "cell_type": "code",
      "source": [
        ""
      ],
      "metadata": {
        "id": "ndY00gb62XV2"
      },
      "execution_count": 23,
      "outputs": []
    }
  ]
}