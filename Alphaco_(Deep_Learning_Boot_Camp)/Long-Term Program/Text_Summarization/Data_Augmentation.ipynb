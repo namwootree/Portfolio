{
  "cells": [
    {
      "cell_type": "markdown",
      "metadata": {
        "id": "view-in-github",
        "colab_type": "text"
      },
      "source": [
        "<a href=\"https://colab.research.google.com/github/namwootree/Portfolio/blob/main/Alphaco_(Deep_Learning_Boot_Camp)/Long-Term%20Program/Text_Summarization/Data_Augmentation.ipynb\" target=\"_parent\"><img src=\"https://colab.research.google.com/assets/colab-badge.svg\" alt=\"Open In Colab\"/></a>"
      ]
    },
    {
      "cell_type": "markdown",
      "metadata": {
        "id": "RXc--yPGKGAw"
      },
      "source": [
        "# Setting"
      ]
    },
    {
      "cell_type": "code",
      "execution_count": 1,
      "metadata": {
        "colab": {
          "base_uri": "https://localhost:8080/"
        },
        "id": "eHPojkLmuV5X",
        "outputId": "0f4a9e9b-39e2-4d00-bf11-6b5cc613b14e"
      },
      "outputs": [
        {
          "output_type": "stream",
          "name": "stdout",
          "text": [
            "Looking in indexes: https://pypi.org/simple, https://us-python.pkg.dev/colab-wheels/public/simple/\n",
            "Requirement already satisfied: transformers in /usr/local/lib/python3.7/dist-packages (4.19.4)\n",
            "Requirement already satisfied: tqdm>=4.27 in /usr/local/lib/python3.7/dist-packages (from transformers) (4.64.0)\n",
            "Requirement already satisfied: regex!=2019.12.17 in /usr/local/lib/python3.7/dist-packages (from transformers) (2022.6.2)\n",
            "Requirement already satisfied: huggingface-hub<1.0,>=0.1.0 in /usr/local/lib/python3.7/dist-packages (from transformers) (0.7.0)\n",
            "Requirement already satisfied: packaging>=20.0 in /usr/local/lib/python3.7/dist-packages (from transformers) (21.3)\n",
            "Requirement already satisfied: importlib-metadata in /usr/local/lib/python3.7/dist-packages (from transformers) (4.11.4)\n",
            "Requirement already satisfied: numpy>=1.17 in /usr/local/lib/python3.7/dist-packages (from transformers) (1.21.6)\n",
            "Requirement already satisfied: requests in /usr/local/lib/python3.7/dist-packages (from transformers) (2.23.0)\n",
            "Requirement already satisfied: tokenizers!=0.11.3,<0.13,>=0.11.1 in /usr/local/lib/python3.7/dist-packages (from transformers) (0.12.1)\n",
            "Requirement already satisfied: pyyaml>=5.1 in /usr/local/lib/python3.7/dist-packages (from transformers) (6.0)\n",
            "Requirement already satisfied: filelock in /usr/local/lib/python3.7/dist-packages (from transformers) (3.7.1)\n",
            "Requirement already satisfied: typing-extensions>=3.7.4.3 in /usr/local/lib/python3.7/dist-packages (from huggingface-hub<1.0,>=0.1.0->transformers) (4.2.0)\n",
            "Requirement already satisfied: pyparsing!=3.0.5,>=2.0.2 in /usr/local/lib/python3.7/dist-packages (from packaging>=20.0->transformers) (3.0.9)\n",
            "Requirement already satisfied: zipp>=0.5 in /usr/local/lib/python3.7/dist-packages (from importlib-metadata->transformers) (3.8.0)\n",
            "Requirement already satisfied: idna<3,>=2.5 in /usr/local/lib/python3.7/dist-packages (from requests->transformers) (2.10)\n",
            "Requirement already satisfied: chardet<4,>=3.0.2 in /usr/local/lib/python3.7/dist-packages (from requests->transformers) (3.0.4)\n",
            "Requirement already satisfied: urllib3!=1.25.0,!=1.25.1,<1.26,>=1.21.1 in /usr/local/lib/python3.7/dist-packages (from requests->transformers) (1.24.3)\n",
            "Requirement already satisfied: certifi>=2017.4.17 in /usr/local/lib/python3.7/dist-packages (from requests->transformers) (2022.5.18.1)\n",
            "Looking in indexes: https://pypi.org/simple, https://us-python.pkg.dev/colab-wheels/public/simple/\n",
            "Requirement already satisfied: sentencepiece in /usr/local/lib/python3.7/dist-packages (0.1.96)\n",
            "Looking in indexes: https://pypi.org/simple, https://us-python.pkg.dev/colab-wheels/public/simple/\n",
            "Requirement already satisfied: nltk in /usr/local/lib/python3.7/dist-packages (3.7)\n",
            "Requirement already satisfied: tqdm in /usr/local/lib/python3.7/dist-packages (from nltk) (4.64.0)\n",
            "Requirement already satisfied: click in /usr/local/lib/python3.7/dist-packages (from nltk) (7.1.2)\n",
            "Requirement already satisfied: regex>=2021.8.3 in /usr/local/lib/python3.7/dist-packages (from nltk) (2022.6.2)\n",
            "Requirement already satisfied: joblib in /usr/local/lib/python3.7/dist-packages (from nltk) (1.1.0)\n"
          ]
        }
      ],
      "source": [
        "!pip install transformers\n",
        "!pip install sentencepiece\n",
        "!pip install nltk"
      ]
    },
    {
      "cell_type": "code",
      "execution_count": 2,
      "metadata": {
        "colab": {
          "base_uri": "https://localhost:8080/"
        },
        "id": "fsgGDTgsurfq",
        "outputId": "0952f5a8-662b-4b39-d08a-d25c0ea2e472"
      },
      "outputs": [
        {
          "output_type": "stream",
          "name": "stdout",
          "text": [
            "Drive already mounted at /content/drive; to attempt to forcibly remount, call drive.mount(\"/content/drive\", force_remount=True).\n"
          ]
        }
      ],
      "source": [
        "from google.colab import drive\n",
        "drive.mount('/content/drive')"
      ]
    },
    {
      "cell_type": "code",
      "execution_count": 3,
      "metadata": {
        "id": "wz8wYmJFu3RG"
      },
      "outputs": [],
      "source": [
        "import pandas as pd\n",
        "\n",
        "import transformers\n",
        "from transformers import pipeline\n",
        "import random\n",
        "\n",
        "import nltk\n",
        "from nltk.tokenize import sent_tokenize\n",
        "\n",
        "from tqdm.notebook import tqdm"
      ]
    },
    {
      "cell_type": "code",
      "source": [
        "nltk.download('punkt')"
      ],
      "metadata": {
        "colab": {
          "base_uri": "https://localhost:8080/"
        },
        "id": "YfhXQwA8gg0b",
        "outputId": "bbb48ec4-b161-4a44-ad34-f202bb619273"
      },
      "execution_count": 4,
      "outputs": [
        {
          "output_type": "stream",
          "name": "stderr",
          "text": [
            "[nltk_data] Downloading package punkt to /root/nltk_data...\n",
            "[nltk_data]   Package punkt is already up-to-date!\n"
          ]
        },
        {
          "output_type": "execute_result",
          "data": {
            "text/plain": [
              "True"
            ]
          },
          "metadata": {},
          "execution_count": 4
        }
      ]
    },
    {
      "cell_type": "code",
      "execution_count": 5,
      "metadata": {
        "id": "KruC48MVvTMd"
      },
      "outputs": [],
      "source": [
        "train = pd.read_csv('/content/drive/MyDrive/장기 프로젝트/문서 요약/train_df.csv')"
      ]
    },
    {
      "cell_type": "code",
      "source": [
        "train['context'] = train['context'].str.replace('.', '. ').replace('?', '? ').replace('없습니다.', '없습니다')"
      ],
      "metadata": {
        "colab": {
          "base_uri": "https://localhost:8080/"
        },
        "id": "aQY-ugSSizLW",
        "outputId": "3af47930-a442-4f66-eb7f-aabf5f1aa433"
      },
      "execution_count": 6,
      "outputs": [
        {
          "output_type": "stream",
          "name": "stderr",
          "text": [
            "/usr/local/lib/python3.7/dist-packages/ipykernel_launcher.py:1: FutureWarning: The default value of regex will change from True to False in a future version. In addition, single character regular expressions will *not* be treated as literal strings when regex=True.\n",
            "  \"\"\"Entry point for launching an IPython kernel.\n"
          ]
        }
      ]
    },
    {
      "cell_type": "code",
      "execution_count": 7,
      "metadata": {
        "colab": {
          "base_uri": "https://localhost:8080/",
          "height": 875
        },
        "id": "LShSltX3vavV",
        "outputId": "ea5ed103-7517-4586-f61b-eaabbe5ac6c1"
      },
      "outputs": [
        {
          "output_type": "execute_result",
          "data": {
            "text/plain": [
              "   Unnamed: 0    id                                 title region    agenda  \\\n",
              "0        1000  2000         제207회 완주군의회(임시회) 제 1 차 본회의회의록     완주  AGENDA_1   \n",
              "1        1001  2000         제207회 완주군의회(임시회) 제 1 차 본회의회의록     완주  AGENDA_2   \n",
              "2        1002  2000         제207회 완주군의회(임시회) 제 1 차 본회의회의록     완주  AGENDA_3   \n",
              "3        1003  2000         제207회 완주군의회(임시회) 제 1 차 본회의회의록     완주  AGENDA_4   \n",
              "4        1004  2001  제251회 완주군의회(제1차 정례회) 제1차 본 회 의 회 의 록     완주  AGENDA_1   \n",
              "\n",
              "                                             context  \\\n",
              "0  의석을 정돈하여 주시기 바랍니다.  성원이 되었으므로 제207회 완주군의회 임시회 ...   \n",
              "1  의사팀장 수고하셨습니다.  먼저 의사일정 제1항 제207회 완주군의회 임시회 회기 ...   \n",
              "2  다음은 의사일정 제2항 제207회 완주군의회 임시회 회의록 서명의원 선출의 건을 상...   \n",
              "3  다음은 의사일정 제3항 본회의 휴회의 건을 상정합니다.  상임의원회 의정활동을 위하...   \n",
              "4  의석을 정돈하여 주시기 바랍니다.  성원이 되었으므로 제251회 완주군의회 제1차 ...   \n",
              "\n",
              "                                             summary  \\\n",
              "0                     제207회 완주군의회 임시회 제1차 본회의 개의 선포.   \n",
              "1   제207회 완주군의회 임시회 회기는 8월 26일부터 9월 4일까지 10일간으로 가결됨.   \n",
              "2    제207회 완주군의회 임시회 회의록 서명의원으로 최등원 의원과 박웅배 의원이 선출됨.   \n",
              "3  8월 27일부터 9월 3일까지 8일간 휴회가 가결됨. 제2차 본회의는 9월 4일 오...   \n",
              "4                 제251회 완주군의회 제1차 정례회 제1차 본회의 개의 선포.   \n",
              "\n",
              "                                               total  \n",
              "0  제207회 완주군의회(임시회) 제 1 차 본회의회의록 완주 의석을 정돈하여 주시기 ...  \n",
              "1  제207회 완주군의회(임시회) 제 1 차 본회의회의록 완주 의사팀장 수고하셨습니다....  \n",
              "2  제207회 완주군의회(임시회) 제 1 차 본회의회의록 완주 다음은 의사일정 제2항 ...  \n",
              "3  제207회 완주군의회(임시회) 제 1 차 본회의회의록 완주 다음은 의사일정 제3항 ...  \n",
              "4  제251회 완주군의회(제1차 정례회) 제1차 본 회 의 회 의 록 완주 의석을 정돈...  "
            ],
            "text/html": [
              "\n",
              "  <div id=\"df-d99858f2-17fb-460a-a094-b7867a80f66d\">\n",
              "    <div class=\"colab-df-container\">\n",
              "      <div>\n",
              "<style scoped>\n",
              "    .dataframe tbody tr th:only-of-type {\n",
              "        vertical-align: middle;\n",
              "    }\n",
              "\n",
              "    .dataframe tbody tr th {\n",
              "        vertical-align: top;\n",
              "    }\n",
              "\n",
              "    .dataframe thead th {\n",
              "        text-align: right;\n",
              "    }\n",
              "</style>\n",
              "<table border=\"1\" class=\"dataframe\">\n",
              "  <thead>\n",
              "    <tr style=\"text-align: right;\">\n",
              "      <th></th>\n",
              "      <th>Unnamed: 0</th>\n",
              "      <th>id</th>\n",
              "      <th>title</th>\n",
              "      <th>region</th>\n",
              "      <th>agenda</th>\n",
              "      <th>context</th>\n",
              "      <th>summary</th>\n",
              "      <th>total</th>\n",
              "    </tr>\n",
              "  </thead>\n",
              "  <tbody>\n",
              "    <tr>\n",
              "      <th>0</th>\n",
              "      <td>1000</td>\n",
              "      <td>2000</td>\n",
              "      <td>제207회 완주군의회(임시회) 제 1 차 본회의회의록</td>\n",
              "      <td>완주</td>\n",
              "      <td>AGENDA_1</td>\n",
              "      <td>의석을 정돈하여 주시기 바랍니다.  성원이 되었으므로 제207회 완주군의회 임시회 ...</td>\n",
              "      <td>제207회 완주군의회 임시회 제1차 본회의 개의 선포.</td>\n",
              "      <td>제207회 완주군의회(임시회) 제 1 차 본회의회의록 완주 의석을 정돈하여 주시기 ...</td>\n",
              "    </tr>\n",
              "    <tr>\n",
              "      <th>1</th>\n",
              "      <td>1001</td>\n",
              "      <td>2000</td>\n",
              "      <td>제207회 완주군의회(임시회) 제 1 차 본회의회의록</td>\n",
              "      <td>완주</td>\n",
              "      <td>AGENDA_2</td>\n",
              "      <td>의사팀장 수고하셨습니다.  먼저 의사일정 제1항 제207회 완주군의회 임시회 회기 ...</td>\n",
              "      <td>제207회 완주군의회 임시회 회기는 8월 26일부터 9월 4일까지 10일간으로 가결됨.</td>\n",
              "      <td>제207회 완주군의회(임시회) 제 1 차 본회의회의록 완주 의사팀장 수고하셨습니다....</td>\n",
              "    </tr>\n",
              "    <tr>\n",
              "      <th>2</th>\n",
              "      <td>1002</td>\n",
              "      <td>2000</td>\n",
              "      <td>제207회 완주군의회(임시회) 제 1 차 본회의회의록</td>\n",
              "      <td>완주</td>\n",
              "      <td>AGENDA_3</td>\n",
              "      <td>다음은 의사일정 제2항 제207회 완주군의회 임시회 회의록 서명의원 선출의 건을 상...</td>\n",
              "      <td>제207회 완주군의회 임시회 회의록 서명의원으로 최등원 의원과 박웅배 의원이 선출됨.</td>\n",
              "      <td>제207회 완주군의회(임시회) 제 1 차 본회의회의록 완주 다음은 의사일정 제2항 ...</td>\n",
              "    </tr>\n",
              "    <tr>\n",
              "      <th>3</th>\n",
              "      <td>1003</td>\n",
              "      <td>2000</td>\n",
              "      <td>제207회 완주군의회(임시회) 제 1 차 본회의회의록</td>\n",
              "      <td>완주</td>\n",
              "      <td>AGENDA_4</td>\n",
              "      <td>다음은 의사일정 제3항 본회의 휴회의 건을 상정합니다.  상임의원회 의정활동을 위하...</td>\n",
              "      <td>8월 27일부터 9월 3일까지 8일간 휴회가 가결됨. 제2차 본회의는 9월 4일 오...</td>\n",
              "      <td>제207회 완주군의회(임시회) 제 1 차 본회의회의록 완주 다음은 의사일정 제3항 ...</td>\n",
              "    </tr>\n",
              "    <tr>\n",
              "      <th>4</th>\n",
              "      <td>1004</td>\n",
              "      <td>2001</td>\n",
              "      <td>제251회 완주군의회(제1차 정례회) 제1차 본 회 의 회 의 록</td>\n",
              "      <td>완주</td>\n",
              "      <td>AGENDA_1</td>\n",
              "      <td>의석을 정돈하여 주시기 바랍니다.  성원이 되었으므로 제251회 완주군의회 제1차 ...</td>\n",
              "      <td>제251회 완주군의회 제1차 정례회 제1차 본회의 개의 선포.</td>\n",
              "      <td>제251회 완주군의회(제1차 정례회) 제1차 본 회 의 회 의 록 완주 의석을 정돈...</td>\n",
              "    </tr>\n",
              "  </tbody>\n",
              "</table>\n",
              "</div>\n",
              "      <button class=\"colab-df-convert\" onclick=\"convertToInteractive('df-d99858f2-17fb-460a-a094-b7867a80f66d')\"\n",
              "              title=\"Convert this dataframe to an interactive table.\"\n",
              "              style=\"display:none;\">\n",
              "        \n",
              "  <svg xmlns=\"http://www.w3.org/2000/svg\" height=\"24px\"viewBox=\"0 0 24 24\"\n",
              "       width=\"24px\">\n",
              "    <path d=\"M0 0h24v24H0V0z\" fill=\"none\"/>\n",
              "    <path d=\"M18.56 5.44l.94 2.06.94-2.06 2.06-.94-2.06-.94-.94-2.06-.94 2.06-2.06.94zm-11 1L8.5 8.5l.94-2.06 2.06-.94-2.06-.94L8.5 2.5l-.94 2.06-2.06.94zm10 10l.94 2.06.94-2.06 2.06-.94-2.06-.94-.94-2.06-.94 2.06-2.06.94z\"/><path d=\"M17.41 7.96l-1.37-1.37c-.4-.4-.92-.59-1.43-.59-.52 0-1.04.2-1.43.59L10.3 9.45l-7.72 7.72c-.78.78-.78 2.05 0 2.83L4 21.41c.39.39.9.59 1.41.59.51 0 1.02-.2 1.41-.59l7.78-7.78 2.81-2.81c.8-.78.8-2.07 0-2.86zM5.41 20L4 18.59l7.72-7.72 1.47 1.35L5.41 20z\"/>\n",
              "  </svg>\n",
              "      </button>\n",
              "      \n",
              "  <style>\n",
              "    .colab-df-container {\n",
              "      display:flex;\n",
              "      flex-wrap:wrap;\n",
              "      gap: 12px;\n",
              "    }\n",
              "\n",
              "    .colab-df-convert {\n",
              "      background-color: #E8F0FE;\n",
              "      border: none;\n",
              "      border-radius: 50%;\n",
              "      cursor: pointer;\n",
              "      display: none;\n",
              "      fill: #1967D2;\n",
              "      height: 32px;\n",
              "      padding: 0 0 0 0;\n",
              "      width: 32px;\n",
              "    }\n",
              "\n",
              "    .colab-df-convert:hover {\n",
              "      background-color: #E2EBFA;\n",
              "      box-shadow: 0px 1px 2px rgba(60, 64, 67, 0.3), 0px 1px 3px 1px rgba(60, 64, 67, 0.15);\n",
              "      fill: #174EA6;\n",
              "    }\n",
              "\n",
              "    [theme=dark] .colab-df-convert {\n",
              "      background-color: #3B4455;\n",
              "      fill: #D2E3FC;\n",
              "    }\n",
              "\n",
              "    [theme=dark] .colab-df-convert:hover {\n",
              "      background-color: #434B5C;\n",
              "      box-shadow: 0px 1px 3px 1px rgba(0, 0, 0, 0.15);\n",
              "      filter: drop-shadow(0px 1px 2px rgba(0, 0, 0, 0.3));\n",
              "      fill: #FFFFFF;\n",
              "    }\n",
              "  </style>\n",
              "\n",
              "      <script>\n",
              "        const buttonEl =\n",
              "          document.querySelector('#df-d99858f2-17fb-460a-a094-b7867a80f66d button.colab-df-convert');\n",
              "        buttonEl.style.display =\n",
              "          google.colab.kernel.accessAllowed ? 'block' : 'none';\n",
              "\n",
              "        async function convertToInteractive(key) {\n",
              "          const element = document.querySelector('#df-d99858f2-17fb-460a-a094-b7867a80f66d');\n",
              "          const dataTable =\n",
              "            await google.colab.kernel.invokeFunction('convertToInteractive',\n",
              "                                                     [key], {});\n",
              "          if (!dataTable) return;\n",
              "\n",
              "          const docLinkHtml = 'Like what you see? Visit the ' +\n",
              "            '<a target=\"_blank\" href=https://colab.research.google.com/notebooks/data_table.ipynb>data table notebook</a>'\n",
              "            + ' to learn more about interactive tables.';\n",
              "          element.innerHTML = '';\n",
              "          dataTable['output_type'] = 'display_data';\n",
              "          await google.colab.output.renderOutput(dataTable, element);\n",
              "          const docLink = document.createElement('div');\n",
              "          docLink.innerHTML = docLinkHtml;\n",
              "          element.appendChild(docLink);\n",
              "        }\n",
              "      </script>\n",
              "    </div>\n",
              "  </div>\n",
              "  "
            ]
          },
          "metadata": {},
          "execution_count": 7
        }
      ],
      "source": [
        "train.head()"
      ]
    },
    {
      "cell_type": "markdown",
      "metadata": {
        "id": "rm8fuZWxKH_C"
      },
      "source": [
        "# Random Insertion"
      ]
    },
    {
      "cell_type": "code",
      "execution_count": null,
      "metadata": {
        "colab": {
          "base_uri": "https://localhost:8080/",
          "height": 140,
          "referenced_widgets": [
            "665f604ea4e1438485df3b4d853f28e2",
            "dd12975ac7c44d72b6468697c1a4c15e",
            "c33a3d0e2b6e4f2094692f8f98f1ba2a",
            "609f8dbad785423d98416f405fde5c3f",
            "642008f997024fce8776eb5575dd214a",
            "f36e41f5fef1494f8a95975906713ff2",
            "ed89126b4b0c490cbe5c3f74fb3ea541",
            "964db6beb91844b89922c62d0ce333e0",
            "ac8b95cbe30446b19a7f9832be03452a",
            "da51161e903544cf97d23724c49961b7",
            "11f6609f53394ab58aa10f331e173155"
          ]
        },
        "id": "D5Ie1a6GvcyH",
        "outputId": "f294b04a-0e7f-4706-e6ca-cfd37d5ac8dc"
      },
      "outputs": [
        {
          "output_type": "display_data",
          "data": {
            "text/plain": [
              "  0%|          | 0/2994 [00:00<?, ?it/s]"
            ],
            "application/vnd.jupyter.widget-view+json": {
              "version_major": 2,
              "version_minor": 0,
              "model_id": "665f604ea4e1438485df3b4d853f28e2"
            }
          },
          "metadata": {}
        },
        {
          "output_type": "stream",
          "name": "stderr",
          "text": [
            "Token indices sequence length is longer than the specified maximum sequence length for this model (677 > 512). Running this sequence through the model will result in indexing errors\n"
          ]
        },
        {
          "output_type": "stream",
          "name": "stdout",
          "text": [
            "오류 : 다음은 의원 발의 의안으로 이재길 의원님이 대표 발의하신 청주시장 및 관계공무원 출석요구의 건, 안흥수 의원님이 대표 발의하신 ｢청주시 의사상자 등 예우 및 지원에 관한 조례안｣, 변창수 의원님이 대표 발의하신 ｢청주시 장애인공무원 편의지원 조례안｣, 임기중 의원님이 대표 발의하신 ｢청주시 출산장려 및 양육에 대한 지원 조례 일부개정조례안｣, 서지한 의원님이 대표 발의하신 ｢청주시립요양병원 설치 및 운영에 관한 조례 일부개정조례안｣, 육미선 의원님이 대표 발의하신 ｢청주시 마을방송시스템 설치 지원에 관한 조례안｣, 최진현 의원님이 대표 발의하신 ｢청주시 주민자치센터 설치 및 운영 조례 일부개정조례안｣, 맹순자 의원님이 대표 발의하신 ｢청주시 지방재정계획심의위원회 설치ㆍ운영 조례 일부개정조례안｣, 박상돈 의원님이 대표 발의하신 ｢청주시 전통시장 및 상점가 육성과 관리에 관한 조례 일부개정조례안｣, 이유자 의원님이 대표 발의하신 ｢청주시 재능기부 활성화 조례안｣, 김성택 의원님이 대표 발의하신 ｢청주시 문화산업진흥재단 설립 및 운영ㆍ지원 조례 일부개정조례안｣, 박노학 의원님이 대표 발의하신 ｢청주시 용역과제심의위원회 설치 및 운영 조례 일부개정조례안｣, 임기중 의원님이 대표 발의하신 ｢청주시 양성평등 기본 조례 일부개정조례안｣, 홍순평 의원님이 대표 발의하신 ｢청주시 재난취약계층 지원 조례안｣, 김병국 의원님이 대표 발의하신 ｢청주시의회 행정사무감사 및 조사에 관한 조례 일부개정조례안｣과 ｢청주시의회 회기운영 [MASK] 등에 관한 조례 일부개정조례안｣, 박현순 의원님이 대표 발의하신 ｢청주시 안전관리민관협력위원회 구성 및 운영 조례안｣, ｢청주시 빈집 정비 조례안｣, 김태수 의원님이 대표 발의하신 ｢청주시 공공디자인 진흥 조례안｣, 신언식 의원님이 대표 발의하신 ｢청주시 청소년 노동인권 보호 및 증진 조례안｣, ｢청주시 한부모가족 지원 조례안｣, 박금순 의원님이 대표 발의하신 ｢청주시 경력단절여성등의 경제활동 촉진에 관한 조례안｣, 안성현 의원님이 대표 발의하신 ｢청주시 야외운동기구 설치 및 관리 조례안｣, 김현기 의원님이 대표 발의하신 ｢청주시 공동주택 층간소음 방지에 관한 조례안｣, 전규식 의원님이 대표 발의하신 ｢청주시 가축분뇨의 관리 및 이용에 관한 조례 일부개정조례안｣ 등 조례안 24건과 안흥수 의원님이 대표 발의하신 ｢청주시의회 회의 규칙 일부개정규칙안｣ 등 규칙안 1건, 김태수 의원님이 대표 발의하신 서울∼세종고속도로 충청권 균형발전 위한 청주 경유 건의안 등 건의안 1건을 포함, 모두 27건의 의원 발의 안건이 접수되었습니다.\n",
            "오류 : 주요골자는 건축법 및 건축법 시행령개정으로 인하여 조례로 정하는 사항에서 건축심의위원회 심의사항을 완화하고 법령에 위반될 경우 심의사항을 신설하는 사항과 대지안의 조경과 지역 및 지구 안에서의 건축물 등 건폐율, 용적을 대지면적의 최소한도등 건축법 제45조부터 54조까지는 본 조례로 적용을 완화할 수 있도록 하였고 완화 받고자 하는 자는 필요한 자료를 군수에게 제출하도록 하고, 건축법 시행령 제7조가 삭제되어 지금까지 건축에 관한 계획의 사전 결정을 받을 수 있었으나 이를 전면 폐지하였고, 이법 또는 다른 법령의 개정으로 인해 기존의 건축물 등이 건축법에 불합리하게 되었을 경우의 완화 규정을 신설함으로써 기존 건축주를 보호하는 규정을 신설하였고, 표준설계도 서로서 건축신고를 할 수 있는 건축물을 단독주택, 축사, 창고, 작물재배 시, 농·축산용 건축물로 새롭게 규정하였으며 현장조사, 검사 및 확인 업무의 건축사의 대행과 대행 업무를 명기하고 법 제2조 제17호의 건축법이 적용되지 않는 공사의 현장 관리인이 될 수 있는지를 명시하였으며 대지안의 조경면적을 종전 [MASK] 330㎡에서 200㎡ 이상으로 개정하고 미관지구 및 기준 건축물의 미술 장식품의 설치 기준을 폐지하였고 준주거지역, 일반공업지역,, 준공업지역 내에서의 건축금지 제한을 완화하여 판매시설 등을 건축할 수 있도록 하였으며, 또한 각종 도시계획 지역 내에서의 건폐율을 진용, 일반, 준공업지역은 100분의 60에서 100분의 70이하로, 보전녹지, 자연녹지, 생산녹지지역의 자연취락지구는 100분의 40이하로 건폐율 규정을 신설하고 도시계획 구역안의 공장을 100분의 60에서 100분의 80이하로 완화하였고 대지면적의 최소한도를 완화하여 보전녹지, 자연녹지 지역안의 자연취락지구는 200제곱미터까지 건축할 수 있도록 신설하였으며 일조등의 확보를 위한 진축물의 높이제한을 일부 완화 및 제조 정하고 인접대지 경계선으로부터 띄어야 할 거리를 담장 및 30㎡ 이하인 부속건축물에는 폐지하였고, 건축분쟁 조정위원회를 법 제76조의2 규정에 의하여 설치할 수 있는 규정을 신설하였으며, 분쟁조정 역할을 할 수 있도록 하고 회의운영 및 위원장의 직무, 비용 부담 등을 정하였습니다.\n",
            "오류 : 일반회계 세출분야로는 해외여행 및 국내 견학 자제차원에서 일반보상금 민간해외여비 1천만원과 공무원 해외연수여비(POOL)예산 5천만원 중 4천만원을 여성단체 해외견학 여비 1천8백만원, 농업경영인 해외 연수비 1천5백만원, 농정시책 우수 공무원 선진지 견학 비 6백만원, 학습단체 우수 회원 해외연수비 1천8백만원을 각각 삭감하였고 1998년 하반기 중 계획인 군정발전 대 토론회 수용비 147만원과 토론회 개최 급식 및 발표사례금 160만원, 토론회 연구논문 용역 비 450만원 전액을 충분한 검토를 거쳐 추후 예산반영 의견으로 각각 삭감하였으며, 사업규모 축소운영이 바람직하다는 의견으로 경영행정 연구발표 우수부서 시상 포상금 3백만원 중 150만원과 문화예술 공연개최 보조금 3천만원 중 1천5백만원을 사물놀이 구입비 3,880만원 중 1,880만원을 삭감하였고, 일만 수용비 군정업무 추진수용비(POOL) 예산 2천만원 중 1천만원과 군정업무 추진여비(POOL) 2천만원 중 1천만원을 이동식 수영장 설치비 4천5백만원 전액과 길거리 농구대 설치비 7천만원 중 3천5백만원을, 공무원 이장 자녀 전산교육비 2백만원 전액과 모범공무원 산업시찰 경비 1천5백만원, 우수 담배 소매인 [MASK] 시상금품 50만원, 모자가정 연수비 150만원, 쌀 생산대책 추진 평가 상 사업비 1억원 중 5천만원과 농약 비료살포기 지원비 1천2백만원 전액을, 음성 농 특산물 상징 조형물 제작비 3천5백만원 전액과 청결고추 세척기 지원 6,720만원 중 4,992만원을 민간경상보조 수출규격 돈 생산농가 지원비 2천만원 전액과 농업경영인 교육 관련 보상금 750만원 등을 예산 절감 의견으로 삭감 하였으며, 세정 우수 읍·면 포상과 병행 실시하는 것이 바람직하다는 의견으로 담배 우수 읍면 포상금 180만원 전액을 삭감하였고,1997년도 분사용 잔량 활용 의견으로 유류유출 사고방제 장비 약품구입비 510만원을 삭감 하였으며, 정밀 검토 후 예산반영 의견으로 관성 저수지 수질 개선사업 재료비 1,203만2천원과 신규 행사 지양 및 신규사업 자체 지양으로는 환경인 체육대회 비 930만원과 고추 명품 화 사업 연구 용역비 1천만원을, 우수농촌지도자 과제 자금지원 1천8백만원과 특수 가축 사양시범 6백만원을 삭감하였고, 고추축제비 2천만원과 읍면 예비군 중대본부 상황판 제작비 2천만원을 설성문화제 행사와 병행 실시, 읍면 방위협의회비 활용의견으로 삭감하였으며, 출연금 기금조성 수준 유지로 농촌지도자회 2천만원 중 1천만원과 생활개선회 2천만원 중 1천만원을 삭감하였고 찰옥수수 재배 시험비 1천만원 전액은 사업 효과 미흡으로 청소년수련원 침구류 세탁비 960만원 중 720만원은 대형세탁기 구입사용 의견으로 각각 삭감하였습니다.\n"
          ]
        }
      ],
      "source": [
        "dict_random_insertion = {\n",
        "    'id':list(train['id']),\n",
        "    'title':list(train['title']),\n",
        "    'region':list(train['agenda']),\n",
        "    'context':[],\n",
        "    'summary':list(train['summary'])\n",
        "}\n",
        "\n",
        "\n",
        "unmasker = pipeline('fill-mask', model='klue/roberta-base')\n",
        "\n",
        "for input_text in tqdm(list(train['context'])):\n",
        "\n",
        "  new_text = ''\n",
        "  \n",
        "  sentence_list = sent_tokenize(input_text)\n",
        "\n",
        "  for sentence in sentence_list:\n",
        "\n",
        "    orig_text_list = sentence.split()\n",
        "    len_input = len(orig_text_list)\n",
        "    if len_input <= 2:\n",
        "\n",
        "      new_text_list = orig_text_list[:1] + ['[MASK]'] + orig_text_list[1:]\n",
        "      new_mask_sent = ' '.join(new_text_list)\n",
        "\n",
        "      try:\n",
        "        augmented_text_list = unmasker(new_mask_sent)\n",
        "        augmented_text = augmented_text_list[0]['sequence']\n",
        "\n",
        "        new_augmented_text = ' ' + augmented_text\n",
        "        new_text += new_augmented_text\n",
        "        new_text = new_text.lstrip(' ')\n",
        "      except:\n",
        "        print(f'오류 : {new_mask_sent}')\n",
        "        new_text += ' ' + sentence\n",
        "        pass\n",
        "\n",
        "    else:\n",
        "      rand_idx = random.randint(1, len_input-2)\n",
        "\n",
        "      new_text_list = orig_text_list[:rand_idx] + ['[MASK]'] + orig_text_list[rand_idx:]\n",
        "      new_mask_sent = ' '.join(new_text_list)\n",
        "\n",
        "      try:\n",
        "        augmented_text_list = unmasker(new_mask_sent)\n",
        "        augmented_text = augmented_text_list[0]['sequence']\n",
        "\n",
        "        new_augmented_text = ' ' + augmented_text\n",
        "        new_text += new_augmented_text\n",
        "        new_text = new_text.lstrip(' ')\n",
        "      except:\n",
        "        print(f'오류 : {new_mask_sent}')\n",
        "        new_text += ' ' + sentence\n",
        "        pass\n",
        "\n",
        "  dict_random_insertion['context'].append(new_text+'.')\n",
        "\n",
        "df_random_insertion = pd.DataFrame(dict_random_insertion)\n",
        "df_random_insertion.to_csv('df_random_insertion.csv')\n",
        "df_random_insertion.head()"
      ]
    },
    {
      "cell_type": "code",
      "source": [
        "context = 0\n",
        "sentence = 11\n",
        "\n",
        "print('원본 데이터 :')\n",
        "print(train['context'][context].split('.')[sentence])\n",
        "\n",
        "print('\\n-----------------------------------------\\n')\n",
        "\n",
        "print('증식된 데이터 :')\n",
        "print(dict_random_insertion['context'][context].split('.')[sentence])"
      ],
      "metadata": {
        "colab": {
          "base_uri": "https://localhost:8080/"
        },
        "id": "ATvf7c1NEx5P",
        "outputId": "b7e0df07-539f-41b8-e3cb-a152b4b2bfb4"
      },
      "execution_count": 20,
      "outputs": [
        {
          "output_type": "stream",
          "name": "stdout",
          "text": [
            "원본 데이터 :\n",
            "  다음은 완주군수로부터 제출된 안건입니다\n",
            "\n",
            "-----------------------------------------\n",
            "\n",
            "증식된 데이터 :\n",
            " 다음은 완주군수로부터 공식 제출된 안건입니다\n"
          ]
        }
      ]
    },
    {
      "cell_type": "markdown",
      "metadata": {
        "id": "iw-4G0dGKMj_"
      },
      "source": [
        "# Random Replacement"
      ]
    },
    {
      "cell_type": "code",
      "execution_count": null,
      "metadata": {
        "id": "4o-tDN21Dof-",
        "colab": {
          "base_uri": "https://localhost:8080/",
          "height": 158,
          "referenced_widgets": [
            "af7b19a719ce45b59b603b9da1159c72",
            "2a4894018fcf4c309f9ee0d0e52d3f9d",
            "3551f1ec54f84842b508df664c278343",
            "78589424bd9943bd9c632a4b700b4dc6",
            "c9ea774df21640d8921ed6a278df330a",
            "9901c94c849846f483fcb6371c87a93f",
            "1730bb62a54c41fb934f3d53f95f865d",
            "9dad2269eaad41e8aa65ae1ccffa4f29",
            "d672fc035344490690a359094f220645",
            "14df7d4d432b4a539bf9f849c2fc2b3d",
            "0b9bc50a867f48d2a590670fa850ebc4"
          ]
        },
        "outputId": "1abe264d-7e9b-4788-84c7-83a1b864e7f6"
      },
      "outputs": [
        {
          "output_type": "display_data",
          "data": {
            "text/plain": [
              "  0%|          | 0/2994 [00:00<?, ?it/s]"
            ],
            "application/vnd.jupyter.widget-view+json": {
              "version_major": 2,
              "version_minor": 0,
              "model_id": "af7b19a719ce45b59b603b9da1159c72"
            }
          },
          "metadata": {}
        },
        {
          "output_type": "stream",
          "name": "stdout",
          "text": [
            "비학습 : 유의식 의원님이 발의한 완주군 자치분권 촉진 및 지원에 관한 조례, 소완섭 의원님이 발의한 완주문화원 육성 및 지원에 관한 조례, 김재천 의원님이 발의한 [MASK] 민주평화통일자문회의 완주군협의회 지원에 관한 조례가 제출되었고, 전체 의원님이 공동 발의한 완주군의정회 지원 조례 폐지 조례안, 완주군의회 의원 윤리강령 및 행동강령 조례 일부개정 조례안, 완주군의회 의원 의정활동비 등 지급에 관한 조례 일부개정 조례안이 제출되어 해당 상임위원회로 회부하였습니다.\n",
            "비학습 : 의원 [MASK] 이의 있으십니까?(『없습니다.\n"
          ]
        },
        {
          "output_type": "stream",
          "name": "stderr",
          "text": [
            "Token indices sequence length is longer than the specified maximum sequence length for this model (676 > 512). Running this sequence through the model will result in indexing errors\n"
          ]
        },
        {
          "output_type": "stream",
          "name": "stdout",
          "text": [
            "비학습 : 다음은 의원 [MASK] 의안으로 이재길 의원님이 대표 발의하신 청주시장 및 관계공무원 출석요구의 건, 안흥수 의원님이 대표 발의하신 ｢청주시 의사상자 등 예우 및 지원에 관한 조례안｣, 변창수 의원님이 대표 발의하신 ｢청주시 장애인공무원 편의지원 조례안｣, 임기중 의원님이 대표 발의하신 ｢청주시 출산장려 및 양육에 대한 지원 조례 일부개정조례안｣, 서지한 의원님이 대표 발의하신 ｢청주시립요양병원 설치 및 운영에 관한 조례 일부개정조례안｣, 육미선 의원님이 대표 발의하신 ｢청주시 마을방송시스템 설치 지원에 관한 조례안｣, 최진현 의원님이 대표 발의하신 ｢청주시 주민자치센터 설치 및 운영 조례 일부개정조례안｣, 맹순자 의원님이 대표 발의하신 ｢청주시 지방재정계획심의위원회 설치ㆍ운영 조례 일부개정조례안｣, 박상돈 의원님이 대표 발의하신 ｢청주시 전통시장 및 상점가 육성과 관리에 관한 조례 일부개정조례안｣, 이유자 의원님이 대표 발의하신 ｢청주시 재능기부 활성화 조례안｣, 김성택 의원님이 대표 발의하신 ｢청주시 문화산업진흥재단 설립 및 운영ㆍ지원 조례 일부개정조례안｣, 박노학 의원님이 대표 발의하신 ｢청주시 용역과제심의위원회 설치 및 운영 조례 일부개정조례안｣, 임기중 의원님이 대표 발의하신 ｢청주시 양성평등 기본 조례 일부개정조례안｣, 홍순평 의원님이 대표 발의하신 ｢청주시 재난취약계층 지원 조례안｣, 김병국 의원님이 대표 발의하신 ｢청주시의회 행정사무감사 및 조사에 관한 조례 일부개정조례안｣과 ｢청주시의회 회기운영 등에 관한 조례 일부개정조례안｣, 박현순 의원님이 대표 발의하신 ｢청주시 안전관리민관협력위원회 구성 및 운영 조례안｣, ｢청주시 빈집 정비 조례안｣, 김태수 의원님이 대표 발의하신 ｢청주시 공공디자인 진흥 조례안｣, 신언식 의원님이 대표 발의하신 ｢청주시 청소년 노동인권 보호 및 증진 조례안｣, ｢청주시 한부모가족 지원 조례안｣, 박금순 의원님이 대표 발의하신 ｢청주시 경력단절여성등의 경제활동 촉진에 관한 조례안｣, 안성현 의원님이 대표 발의하신 ｢청주시 야외운동기구 설치 및 관리 조례안｣, 김현기 의원님이 대표 발의하신 ｢청주시 공동주택 층간소음 방지에 관한 조례안｣, 전규식 의원님이 대표 발의하신 ｢청주시 가축분뇨의 관리 및 이용에 관한 조례 일부개정조례안｣ 등 조례안 24건과 안흥수 의원님이 대표 발의하신 ｢청주시의회 회의 규칙 일부개정규칙안｣ 등 규칙안 1건, 김태수 의원님이 대표 발의하신 서울∼세종고속도로 충청권 균형발전 위한 청주 경유 건의안 등 건의안 1건을 포함, 모두 27건의 의원 발의 안건이 접수되었습니다.\n",
            "비학습 : 둘째, 고유가 추세와 국내 내수시장 둔화로 경기상승세가 정체된 시점에서 지속적인 성장과 군민의 삶의 질을 높이는데 역점을 두고, 일반운영비 등 경상경비에서 예산 절감을 추진, 지역현안사업에 재투자하였으며, 셋째, 계속사업 및 현재 추진중인 현안사업 중에서 당초사업예산 중 사업비 전액 확보 못한 사업과 사업비 부족이 예상되는 사업에 대하여 정밀 검토를 거쳐 [MASK] 금번 추경에 전액 확보하였습니다.\n"
          ]
        }
      ],
      "source": [
        "dict_random_replacement = {\n",
        "    'id':list(train['id']),\n",
        "    'title':list(train['title']),\n",
        "    'region':list(train['agenda']),\n",
        "    'context':[],\n",
        "    'summary':list(train['summary'])\n",
        "}\n",
        "\n",
        "unmasker = pipeline('fill-mask', model='klue/roberta-base')\n",
        "\n",
        "for input_text in tqdm(list(train['context'])):\n",
        "\n",
        "  new_text = ''\n",
        "  \n",
        "  sentence_list = sent_tokenize(input_text)\n",
        "\n",
        "  for sentence in sentence_list:\n",
        "\n",
        "    orig_text_list = sentence.split()\n",
        "    len_input = len(orig_text_list)\n",
        "    \n",
        "\n",
        "    if len_input == 1:\n",
        "      new_text += ' ' + sentence\n",
        "\n",
        "    elif len_input <= 3:\n",
        "      orig_word = orig_text_list[1]\n",
        "      new_text_list = orig_text_list.copy()\n",
        "      new_text_list[1] = '[MASK]'\n",
        "      new_mask_sent = ' '.join(new_text_list)\n",
        "\n",
        "      try:\n",
        "        augmented_text_list = unmasker(new_mask_sent)\n",
        "        for res in augmented_text_list:\n",
        "          if res['token_str'] != orig_word:\n",
        "            augmented_text = res['sequence']\n",
        "            break\n",
        "\n",
        "            new_augmented_text = ' ' + augmented_text\n",
        "            new_text += new_augmented_text\n",
        "            new_text = new_text.lstrip(' ')\n",
        "\n",
        "      except:\n",
        "        print(f'오류 : {new_mask_sent}')\n",
        "        new_text += ' ' + sentence\n",
        "        pass\n",
        "\n",
        "    else:\n",
        "      rand_idx = random.randint(1, len_input-2)\n",
        "\n",
        "      orig_word = orig_text_list[rand_idx]\n",
        "      new_text_list = orig_text_list.copy()\n",
        "      new_text_list[rand_idx] = '[MASK]'\n",
        "      new_mask_sent = ' '.join(new_text_list)\n",
        "\n",
        "      try:\n",
        "        augmented_text_list = unmasker(new_mask_sent)\n",
        "        for res in augmented_text_list:\n",
        "          if res['token_str'] != orig_word:\n",
        "            augmented_text = res['sequence']\n",
        "            break\n",
        "      except:\n",
        "        print(f'오류 : {new_mask_sent}')\n",
        "        new_text += ' ' + sentence\n",
        "        pass\n",
        "\n",
        "      new_augmented_text = ' ' + augmented_text\n",
        "      new_text += new_augmented_text\n",
        "      new_text = new_text.lstrip(' ')\n",
        "\n",
        "  dict_random_replacement['context'].append(new_text+'.')\n",
        "\n",
        "df_random_replacement = pd.DataFrame(dict_random_replacement)\n",
        "df_random_replacement.to_csv('df_random_replacement.csv')\n",
        "df_random_replacement.head()"
      ]
    },
    {
      "cell_type": "code",
      "execution_count": 72,
      "metadata": {
        "id": "ctyHOgNvSO5B",
        "colab": {
          "base_uri": "https://localhost:8080/"
        },
        "outputId": "90d9f1e6-5d45-40a6-a09d-b5ae763b7fc3"
      },
      "outputs": [
        {
          "output_type": "stream",
          "name": "stdout",
          "text": [
            "원본 데이터 :\n",
            "  다음 제2차 본회의는 9월 4일 오전 10시에 개의하겠습니다\n",
            "\n",
            "-----------------------------------------\n",
            "\n",
            "증식된 데이터 :\n",
            " 다음 제2차 본회의는 내일 4일 오전 10시에 개의하겠습니다\n"
          ]
        }
      ],
      "source": [
        "context = 3\n",
        "sentence = 4\n",
        "\n",
        "print('원본 데이터 :')\n",
        "print(train['context'][context].split('.')[sentence])\n",
        "\n",
        "print('\\n-----------------------------------------\\n')\n",
        "\n",
        "print('증식된 데이터 :')\n",
        "print(dict_random_replacement['context'][context].split('.')[sentence])"
      ]
    },
    {
      "cell_type": "code",
      "source": [
        "train['context'][context]"
      ],
      "metadata": {
        "colab": {
          "base_uri": "https://localhost:8080/",
          "height": 89
        },
        "id": "gZ37cKIeeZoo",
        "outputId": "bc23b8f6-fefd-44a4-f592-35e9cafe73a7"
      },
      "execution_count": 66,
      "outputs": [
        {
          "output_type": "execute_result",
          "data": {
            "text/plain": [
              "'다음은 의사일정 제2항 제207회 완주군의회 임시회 회의록 서명의원 선출의 건을 상정합니다.  회의록 서명의원으로는 최등원 의원님과 박웅배 의원님을 선출하고자 하는데 의원여러분 이의 있습니까?(『없습니다』하는 의원 있음)이의가 없으므로 가결되었음을 선포합니다.  그럼 두 분 의원님께서는 본 회기동안 수고하여 주시기 바랍니다'"
            ],
            "application/vnd.google.colaboratory.intrinsic+json": {
              "type": "string"
            }
          },
          "metadata": {},
          "execution_count": 66
        }
      ]
    },
    {
      "cell_type": "code",
      "source": [
        "dict_random_replacement['context'][context]"
      ],
      "metadata": {
        "colab": {
          "base_uri": "https://localhost:8080/",
          "height": 89
        },
        "id": "XCdFyAF1eaKv",
        "outputId": "44d5a82a-684a-4cbf-defd-5f4bb003e915"
      },
      "execution_count": 67,
      "outputs": [
        {
          "output_type": "execute_result",
          "data": {
            "text/plain": [
              "'다음은 의사일정 중 제207회 완주군의회 임시회 회의록 서명의원 선출의 건을 상정합니다. 회의록 서명의원으로는 최등원 의원님과 박웅배 의원님을 추천 하는데 의원여러분 이의 있습니까? ( 『 없습니다 』 하는 의원 있음 ) 이의가 없으므로 이를 선포합니다. 그럼 두 분 의원님께서는 본 회기동안 지켜봐 주시기 바랍니다'"
            ],
            "application/vnd.google.colaboratory.intrinsic+json": {
              "type": "string"
            }
          },
          "metadata": {},
          "execution_count": 67
        }
      ]
    },
    {
      "cell_type": "markdown",
      "source": [
        "# RI + SR"
      ],
      "metadata": {
        "id": "Y-_CCdRIYjHl"
      }
    },
    {
      "cell_type": "code",
      "source": [
        "dict_RI_SR = {\n",
        "    'id':list(train['id']),\n",
        "    'title':list(train['title']),\n",
        "    'region':list(train['agenda']),\n",
        "    'context':[],\n",
        "    'summary':list(train['summary'])\n",
        "}\n",
        "\n",
        "unmasker = pipeline('fill-mask', model='klue/roberta-base')\n",
        "\n",
        "for input_text in tqdm(list(train['context'])):\n",
        "\n",
        "  new_text = ''\n",
        "  \n",
        "  sentence_list = sent_tokenize(input_text)\n",
        "\n",
        "  for sentence in sentence_list:\n",
        "\n",
        "    orig_text_list = sentence.split()\n",
        "    len_input = len(orig_text_list)\n",
        "\n",
        "    if len_input == 1:\n",
        "      new_text += ' ' + sentence      \n",
        "\n",
        "    elif len_input <= 2:\n",
        "\n",
        "      orig_word = orig_text_list[1]\n",
        "      new_text_list = orig_text_list.copy()\n",
        "      new_text_list[1] = '[MASK]'\n",
        "\n",
        "      new_text_list = orig_text_list[:1] + ['[MASK]'] + orig_text_list[1:]\n",
        "      \n",
        "      new_mask_sent = ' '.join(new_text_list)\n",
        "\n",
        "      try:\n",
        "        augmented_text_list = unmasker(new_mask_sent)\n",
        "        for res in augmented_text_list:\n",
        "          if res['token_str'] != orig_word:\n",
        "            augmented_text = res['sequence']\n",
        "            break\n",
        "\n",
        "        new_augmented_text = ' ' + augmented_text\n",
        "        new_text += new_augmented_text\n",
        "        new_text = new_text.lstrip(' ')\n",
        "\n",
        "      except:\n",
        "        print(f'오류 : {new_mask_sent}')\n",
        "        new_text += ' ' + sentence\n",
        "        pass\n",
        "\n",
        "    else:\n",
        "      rand_idx = random.randint(1, len_input-2)\n",
        "\n",
        "      orig_word = orig_text_list[rand_idx]\n",
        "      new_text_list = orig_text_list.copy()\n",
        "      new_text_list[rand_idx] = '[MASK]'\n",
        "\n",
        "      new_text_list = orig_text_list[:rand_idx] + ['[MASK]'] + orig_text_list[rand_idx:]\n",
        "      \n",
        "      new_mask_sent = ' '.join(new_text_list)\n",
        "\n",
        "      try:\n",
        "        augmented_text_list = unmasker(new_mask_sent)\n",
        "        for res in augmented_text_list:\n",
        "          if res['token_str'] != orig_word:\n",
        "            augmented_text = res['sequence']\n",
        "            break\n",
        "\n",
        "        new_augmented_text = ' ' + augmented_text\n",
        "        new_text += new_augmented_text\n",
        "        new_text = new_text.lstrip(' ')\n",
        "\n",
        "      except:\n",
        "        print(f'오류 : {new_mask_sent}')\n",
        "        new_text += ' ' + sentence\n",
        "        pass\n",
        "\n",
        "  dict_RI_SR['context'].append(new_text+'.')\n",
        "\n",
        "df_RI_SR = pd.DataFrame(dict_RI_SR)\n",
        "df_RI_SR.to_csv('df_RI_SR.csv')\n",
        "df_RI_SR.head()"
      ],
      "metadata": {
        "id": "yuBTO78TYoFB"
      },
      "execution_count": null,
      "outputs": []
    }
  ],
  "metadata": {
    "accelerator": "GPU",
    "colab": {
      "background_execution": "on",
      "machine_shape": "hm",
      "name": "Data_Augmentation.ipynb",
      "provenance": [],
      "collapsed_sections": [],
      "authorship_tag": "ABX9TyMfVmDHcWdEIU+S8WRsC/6E",
      "include_colab_link": true
    },
    "gpuClass": "standard",
    "kernelspec": {
      "display_name": "Python 3",
      "name": "python3"
    },
    "language_info": {
      "name": "python"
    },
    "widgets": {
      "application/vnd.jupyter.widget-state+json": {
        "665f604ea4e1438485df3b4d853f28e2": {
          "model_module": "@jupyter-widgets/controls",
          "model_name": "HBoxModel",
          "model_module_version": "1.5.0",
          "state": {
            "_dom_classes": [],
            "_model_module": "@jupyter-widgets/controls",
            "_model_module_version": "1.5.0",
            "_model_name": "HBoxModel",
            "_view_count": null,
            "_view_module": "@jupyter-widgets/controls",
            "_view_module_version": "1.5.0",
            "_view_name": "HBoxView",
            "box_style": "",
            "children": [
              "IPY_MODEL_dd12975ac7c44d72b6468697c1a4c15e",
              "IPY_MODEL_c33a3d0e2b6e4f2094692f8f98f1ba2a",
              "IPY_MODEL_609f8dbad785423d98416f405fde5c3f"
            ],
            "layout": "IPY_MODEL_642008f997024fce8776eb5575dd214a"
          }
        },
        "dd12975ac7c44d72b6468697c1a4c15e": {
          "model_module": "@jupyter-widgets/controls",
          "model_name": "HTMLModel",
          "model_module_version": "1.5.0",
          "state": {
            "_dom_classes": [],
            "_model_module": "@jupyter-widgets/controls",
            "_model_module_version": "1.5.0",
            "_model_name": "HTMLModel",
            "_view_count": null,
            "_view_module": "@jupyter-widgets/controls",
            "_view_module_version": "1.5.0",
            "_view_name": "HTMLView",
            "description": "",
            "description_tooltip": null,
            "layout": "IPY_MODEL_f36e41f5fef1494f8a95975906713ff2",
            "placeholder": "​",
            "style": "IPY_MODEL_ed89126b4b0c490cbe5c3f74fb3ea541",
            "value": " 45%"
          }
        },
        "c33a3d0e2b6e4f2094692f8f98f1ba2a": {
          "model_module": "@jupyter-widgets/controls",
          "model_name": "FloatProgressModel",
          "model_module_version": "1.5.0",
          "state": {
            "_dom_classes": [],
            "_model_module": "@jupyter-widgets/controls",
            "_model_module_version": "1.5.0",
            "_model_name": "FloatProgressModel",
            "_view_count": null,
            "_view_module": "@jupyter-widgets/controls",
            "_view_module_version": "1.5.0",
            "_view_name": "ProgressView",
            "bar_style": "",
            "description": "",
            "description_tooltip": null,
            "layout": "IPY_MODEL_964db6beb91844b89922c62d0ce333e0",
            "max": 2994,
            "min": 0,
            "orientation": "horizontal",
            "style": "IPY_MODEL_ac8b95cbe30446b19a7f9832be03452a",
            "value": 1339
          }
        },
        "609f8dbad785423d98416f405fde5c3f": {
          "model_module": "@jupyter-widgets/controls",
          "model_name": "HTMLModel",
          "model_module_version": "1.5.0",
          "state": {
            "_dom_classes": [],
            "_model_module": "@jupyter-widgets/controls",
            "_model_module_version": "1.5.0",
            "_model_name": "HTMLModel",
            "_view_count": null,
            "_view_module": "@jupyter-widgets/controls",
            "_view_module_version": "1.5.0",
            "_view_name": "HTMLView",
            "description": "",
            "description_tooltip": null,
            "layout": "IPY_MODEL_da51161e903544cf97d23724c49961b7",
            "placeholder": "​",
            "style": "IPY_MODEL_11f6609f53394ab58aa10f331e173155",
            "value": " 1339/2994 [36:08&lt;40:58,  1.49s/it]"
          }
        },
        "642008f997024fce8776eb5575dd214a": {
          "model_module": "@jupyter-widgets/base",
          "model_name": "LayoutModel",
          "model_module_version": "1.2.0",
          "state": {
            "_model_module": "@jupyter-widgets/base",
            "_model_module_version": "1.2.0",
            "_model_name": "LayoutModel",
            "_view_count": null,
            "_view_module": "@jupyter-widgets/base",
            "_view_module_version": "1.2.0",
            "_view_name": "LayoutView",
            "align_content": null,
            "align_items": null,
            "align_self": null,
            "border": null,
            "bottom": null,
            "display": null,
            "flex": null,
            "flex_flow": null,
            "grid_area": null,
            "grid_auto_columns": null,
            "grid_auto_flow": null,
            "grid_auto_rows": null,
            "grid_column": null,
            "grid_gap": null,
            "grid_row": null,
            "grid_template_areas": null,
            "grid_template_columns": null,
            "grid_template_rows": null,
            "height": null,
            "justify_content": null,
            "justify_items": null,
            "left": null,
            "margin": null,
            "max_height": null,
            "max_width": null,
            "min_height": null,
            "min_width": null,
            "object_fit": null,
            "object_position": null,
            "order": null,
            "overflow": null,
            "overflow_x": null,
            "overflow_y": null,
            "padding": null,
            "right": null,
            "top": null,
            "visibility": null,
            "width": null
          }
        },
        "f36e41f5fef1494f8a95975906713ff2": {
          "model_module": "@jupyter-widgets/base",
          "model_name": "LayoutModel",
          "model_module_version": "1.2.0",
          "state": {
            "_model_module": "@jupyter-widgets/base",
            "_model_module_version": "1.2.0",
            "_model_name": "LayoutModel",
            "_view_count": null,
            "_view_module": "@jupyter-widgets/base",
            "_view_module_version": "1.2.0",
            "_view_name": "LayoutView",
            "align_content": null,
            "align_items": null,
            "align_self": null,
            "border": null,
            "bottom": null,
            "display": null,
            "flex": null,
            "flex_flow": null,
            "grid_area": null,
            "grid_auto_columns": null,
            "grid_auto_flow": null,
            "grid_auto_rows": null,
            "grid_column": null,
            "grid_gap": null,
            "grid_row": null,
            "grid_template_areas": null,
            "grid_template_columns": null,
            "grid_template_rows": null,
            "height": null,
            "justify_content": null,
            "justify_items": null,
            "left": null,
            "margin": null,
            "max_height": null,
            "max_width": null,
            "min_height": null,
            "min_width": null,
            "object_fit": null,
            "object_position": null,
            "order": null,
            "overflow": null,
            "overflow_x": null,
            "overflow_y": null,
            "padding": null,
            "right": null,
            "top": null,
            "visibility": null,
            "width": null
          }
        },
        "ed89126b4b0c490cbe5c3f74fb3ea541": {
          "model_module": "@jupyter-widgets/controls",
          "model_name": "DescriptionStyleModel",
          "model_module_version": "1.5.0",
          "state": {
            "_model_module": "@jupyter-widgets/controls",
            "_model_module_version": "1.5.0",
            "_model_name": "DescriptionStyleModel",
            "_view_count": null,
            "_view_module": "@jupyter-widgets/base",
            "_view_module_version": "1.2.0",
            "_view_name": "StyleView",
            "description_width": ""
          }
        },
        "964db6beb91844b89922c62d0ce333e0": {
          "model_module": "@jupyter-widgets/base",
          "model_name": "LayoutModel",
          "model_module_version": "1.2.0",
          "state": {
            "_model_module": "@jupyter-widgets/base",
            "_model_module_version": "1.2.0",
            "_model_name": "LayoutModel",
            "_view_count": null,
            "_view_module": "@jupyter-widgets/base",
            "_view_module_version": "1.2.0",
            "_view_name": "LayoutView",
            "align_content": null,
            "align_items": null,
            "align_self": null,
            "border": null,
            "bottom": null,
            "display": null,
            "flex": null,
            "flex_flow": null,
            "grid_area": null,
            "grid_auto_columns": null,
            "grid_auto_flow": null,
            "grid_auto_rows": null,
            "grid_column": null,
            "grid_gap": null,
            "grid_row": null,
            "grid_template_areas": null,
            "grid_template_columns": null,
            "grid_template_rows": null,
            "height": null,
            "justify_content": null,
            "justify_items": null,
            "left": null,
            "margin": null,
            "max_height": null,
            "max_width": null,
            "min_height": null,
            "min_width": null,
            "object_fit": null,
            "object_position": null,
            "order": null,
            "overflow": null,
            "overflow_x": null,
            "overflow_y": null,
            "padding": null,
            "right": null,
            "top": null,
            "visibility": null,
            "width": null
          }
        },
        "ac8b95cbe30446b19a7f9832be03452a": {
          "model_module": "@jupyter-widgets/controls",
          "model_name": "ProgressStyleModel",
          "model_module_version": "1.5.0",
          "state": {
            "_model_module": "@jupyter-widgets/controls",
            "_model_module_version": "1.5.0",
            "_model_name": "ProgressStyleModel",
            "_view_count": null,
            "_view_module": "@jupyter-widgets/base",
            "_view_module_version": "1.2.0",
            "_view_name": "StyleView",
            "bar_color": null,
            "description_width": ""
          }
        },
        "da51161e903544cf97d23724c49961b7": {
          "model_module": "@jupyter-widgets/base",
          "model_name": "LayoutModel",
          "model_module_version": "1.2.0",
          "state": {
            "_model_module": "@jupyter-widgets/base",
            "_model_module_version": "1.2.0",
            "_model_name": "LayoutModel",
            "_view_count": null,
            "_view_module": "@jupyter-widgets/base",
            "_view_module_version": "1.2.0",
            "_view_name": "LayoutView",
            "align_content": null,
            "align_items": null,
            "align_self": null,
            "border": null,
            "bottom": null,
            "display": null,
            "flex": null,
            "flex_flow": null,
            "grid_area": null,
            "grid_auto_columns": null,
            "grid_auto_flow": null,
            "grid_auto_rows": null,
            "grid_column": null,
            "grid_gap": null,
            "grid_row": null,
            "grid_template_areas": null,
            "grid_template_columns": null,
            "grid_template_rows": null,
            "height": null,
            "justify_content": null,
            "justify_items": null,
            "left": null,
            "margin": null,
            "max_height": null,
            "max_width": null,
            "min_height": null,
            "min_width": null,
            "object_fit": null,
            "object_position": null,
            "order": null,
            "overflow": null,
            "overflow_x": null,
            "overflow_y": null,
            "padding": null,
            "right": null,
            "top": null,
            "visibility": null,
            "width": null
          }
        },
        "11f6609f53394ab58aa10f331e173155": {
          "model_module": "@jupyter-widgets/controls",
          "model_name": "DescriptionStyleModel",
          "model_module_version": "1.5.0",
          "state": {
            "_model_module": "@jupyter-widgets/controls",
            "_model_module_version": "1.5.0",
            "_model_name": "DescriptionStyleModel",
            "_view_count": null,
            "_view_module": "@jupyter-widgets/base",
            "_view_module_version": "1.2.0",
            "_view_name": "StyleView",
            "description_width": ""
          }
        },
        "af7b19a719ce45b59b603b9da1159c72": {
          "model_module": "@jupyter-widgets/controls",
          "model_name": "HBoxModel",
          "model_module_version": "1.5.0",
          "state": {
            "_dom_classes": [],
            "_model_module": "@jupyter-widgets/controls",
            "_model_module_version": "1.5.0",
            "_model_name": "HBoxModel",
            "_view_count": null,
            "_view_module": "@jupyter-widgets/controls",
            "_view_module_version": "1.5.0",
            "_view_name": "HBoxView",
            "box_style": "",
            "children": [
              "IPY_MODEL_2a4894018fcf4c309f9ee0d0e52d3f9d",
              "IPY_MODEL_3551f1ec54f84842b508df664c278343",
              "IPY_MODEL_78589424bd9943bd9c632a4b700b4dc6"
            ],
            "layout": "IPY_MODEL_c9ea774df21640d8921ed6a278df330a"
          }
        },
        "2a4894018fcf4c309f9ee0d0e52d3f9d": {
          "model_module": "@jupyter-widgets/controls",
          "model_name": "HTMLModel",
          "model_module_version": "1.5.0",
          "state": {
            "_dom_classes": [],
            "_model_module": "@jupyter-widgets/controls",
            "_model_module_version": "1.5.0",
            "_model_name": "HTMLModel",
            "_view_count": null,
            "_view_module": "@jupyter-widgets/controls",
            "_view_module_version": "1.5.0",
            "_view_name": "HTMLView",
            "description": "",
            "description_tooltip": null,
            "layout": "IPY_MODEL_9901c94c849846f483fcb6371c87a93f",
            "placeholder": "​",
            "style": "IPY_MODEL_1730bb62a54c41fb934f3d53f95f865d",
            "value": "  6%"
          }
        },
        "3551f1ec54f84842b508df664c278343": {
          "model_module": "@jupyter-widgets/controls",
          "model_name": "FloatProgressModel",
          "model_module_version": "1.5.0",
          "state": {
            "_dom_classes": [],
            "_model_module": "@jupyter-widgets/controls",
            "_model_module_version": "1.5.0",
            "_model_name": "FloatProgressModel",
            "_view_count": null,
            "_view_module": "@jupyter-widgets/controls",
            "_view_module_version": "1.5.0",
            "_view_name": "ProgressView",
            "bar_style": "",
            "description": "",
            "description_tooltip": null,
            "layout": "IPY_MODEL_9dad2269eaad41e8aa65ae1ccffa4f29",
            "max": 2994,
            "min": 0,
            "orientation": "horizontal",
            "style": "IPY_MODEL_d672fc035344490690a359094f220645",
            "value": 176
          }
        },
        "78589424bd9943bd9c632a4b700b4dc6": {
          "model_module": "@jupyter-widgets/controls",
          "model_name": "HTMLModel",
          "model_module_version": "1.5.0",
          "state": {
            "_dom_classes": [],
            "_model_module": "@jupyter-widgets/controls",
            "_model_module_version": "1.5.0",
            "_model_name": "HTMLModel",
            "_view_count": null,
            "_view_module": "@jupyter-widgets/controls",
            "_view_module_version": "1.5.0",
            "_view_name": "HTMLView",
            "description": "",
            "description_tooltip": null,
            "layout": "IPY_MODEL_14df7d4d432b4a539bf9f849c2fc2b3d",
            "placeholder": "​",
            "style": "IPY_MODEL_0b9bc50a867f48d2a590670fa850ebc4",
            "value": " 176/2994 [03:35&lt;49:06,  1.05s/it]"
          }
        },
        "c9ea774df21640d8921ed6a278df330a": {
          "model_module": "@jupyter-widgets/base",
          "model_name": "LayoutModel",
          "model_module_version": "1.2.0",
          "state": {
            "_model_module": "@jupyter-widgets/base",
            "_model_module_version": "1.2.0",
            "_model_name": "LayoutModel",
            "_view_count": null,
            "_view_module": "@jupyter-widgets/base",
            "_view_module_version": "1.2.0",
            "_view_name": "LayoutView",
            "align_content": null,
            "align_items": null,
            "align_self": null,
            "border": null,
            "bottom": null,
            "display": null,
            "flex": null,
            "flex_flow": null,
            "grid_area": null,
            "grid_auto_columns": null,
            "grid_auto_flow": null,
            "grid_auto_rows": null,
            "grid_column": null,
            "grid_gap": null,
            "grid_row": null,
            "grid_template_areas": null,
            "grid_template_columns": null,
            "grid_template_rows": null,
            "height": null,
            "justify_content": null,
            "justify_items": null,
            "left": null,
            "margin": null,
            "max_height": null,
            "max_width": null,
            "min_height": null,
            "min_width": null,
            "object_fit": null,
            "object_position": null,
            "order": null,
            "overflow": null,
            "overflow_x": null,
            "overflow_y": null,
            "padding": null,
            "right": null,
            "top": null,
            "visibility": null,
            "width": null
          }
        },
        "9901c94c849846f483fcb6371c87a93f": {
          "model_module": "@jupyter-widgets/base",
          "model_name": "LayoutModel",
          "model_module_version": "1.2.0",
          "state": {
            "_model_module": "@jupyter-widgets/base",
            "_model_module_version": "1.2.0",
            "_model_name": "LayoutModel",
            "_view_count": null,
            "_view_module": "@jupyter-widgets/base",
            "_view_module_version": "1.2.0",
            "_view_name": "LayoutView",
            "align_content": null,
            "align_items": null,
            "align_self": null,
            "border": null,
            "bottom": null,
            "display": null,
            "flex": null,
            "flex_flow": null,
            "grid_area": null,
            "grid_auto_columns": null,
            "grid_auto_flow": null,
            "grid_auto_rows": null,
            "grid_column": null,
            "grid_gap": null,
            "grid_row": null,
            "grid_template_areas": null,
            "grid_template_columns": null,
            "grid_template_rows": null,
            "height": null,
            "justify_content": null,
            "justify_items": null,
            "left": null,
            "margin": null,
            "max_height": null,
            "max_width": null,
            "min_height": null,
            "min_width": null,
            "object_fit": null,
            "object_position": null,
            "order": null,
            "overflow": null,
            "overflow_x": null,
            "overflow_y": null,
            "padding": null,
            "right": null,
            "top": null,
            "visibility": null,
            "width": null
          }
        },
        "1730bb62a54c41fb934f3d53f95f865d": {
          "model_module": "@jupyter-widgets/controls",
          "model_name": "DescriptionStyleModel",
          "model_module_version": "1.5.0",
          "state": {
            "_model_module": "@jupyter-widgets/controls",
            "_model_module_version": "1.5.0",
            "_model_name": "DescriptionStyleModel",
            "_view_count": null,
            "_view_module": "@jupyter-widgets/base",
            "_view_module_version": "1.2.0",
            "_view_name": "StyleView",
            "description_width": ""
          }
        },
        "9dad2269eaad41e8aa65ae1ccffa4f29": {
          "model_module": "@jupyter-widgets/base",
          "model_name": "LayoutModel",
          "model_module_version": "1.2.0",
          "state": {
            "_model_module": "@jupyter-widgets/base",
            "_model_module_version": "1.2.0",
            "_model_name": "LayoutModel",
            "_view_count": null,
            "_view_module": "@jupyter-widgets/base",
            "_view_module_version": "1.2.0",
            "_view_name": "LayoutView",
            "align_content": null,
            "align_items": null,
            "align_self": null,
            "border": null,
            "bottom": null,
            "display": null,
            "flex": null,
            "flex_flow": null,
            "grid_area": null,
            "grid_auto_columns": null,
            "grid_auto_flow": null,
            "grid_auto_rows": null,
            "grid_column": null,
            "grid_gap": null,
            "grid_row": null,
            "grid_template_areas": null,
            "grid_template_columns": null,
            "grid_template_rows": null,
            "height": null,
            "justify_content": null,
            "justify_items": null,
            "left": null,
            "margin": null,
            "max_height": null,
            "max_width": null,
            "min_height": null,
            "min_width": null,
            "object_fit": null,
            "object_position": null,
            "order": null,
            "overflow": null,
            "overflow_x": null,
            "overflow_y": null,
            "padding": null,
            "right": null,
            "top": null,
            "visibility": null,
            "width": null
          }
        },
        "d672fc035344490690a359094f220645": {
          "model_module": "@jupyter-widgets/controls",
          "model_name": "ProgressStyleModel",
          "model_module_version": "1.5.0",
          "state": {
            "_model_module": "@jupyter-widgets/controls",
            "_model_module_version": "1.5.0",
            "_model_name": "ProgressStyleModel",
            "_view_count": null,
            "_view_module": "@jupyter-widgets/base",
            "_view_module_version": "1.2.0",
            "_view_name": "StyleView",
            "bar_color": null,
            "description_width": ""
          }
        },
        "14df7d4d432b4a539bf9f849c2fc2b3d": {
          "model_module": "@jupyter-widgets/base",
          "model_name": "LayoutModel",
          "model_module_version": "1.2.0",
          "state": {
            "_model_module": "@jupyter-widgets/base",
            "_model_module_version": "1.2.0",
            "_model_name": "LayoutModel",
            "_view_count": null,
            "_view_module": "@jupyter-widgets/base",
            "_view_module_version": "1.2.0",
            "_view_name": "LayoutView",
            "align_content": null,
            "align_items": null,
            "align_self": null,
            "border": null,
            "bottom": null,
            "display": null,
            "flex": null,
            "flex_flow": null,
            "grid_area": null,
            "grid_auto_columns": null,
            "grid_auto_flow": null,
            "grid_auto_rows": null,
            "grid_column": null,
            "grid_gap": null,
            "grid_row": null,
            "grid_template_areas": null,
            "grid_template_columns": null,
            "grid_template_rows": null,
            "height": null,
            "justify_content": null,
            "justify_items": null,
            "left": null,
            "margin": null,
            "max_height": null,
            "max_width": null,
            "min_height": null,
            "min_width": null,
            "object_fit": null,
            "object_position": null,
            "order": null,
            "overflow": null,
            "overflow_x": null,
            "overflow_y": null,
            "padding": null,
            "right": null,
            "top": null,
            "visibility": null,
            "width": null
          }
        },
        "0b9bc50a867f48d2a590670fa850ebc4": {
          "model_module": "@jupyter-widgets/controls",
          "model_name": "DescriptionStyleModel",
          "model_module_version": "1.5.0",
          "state": {
            "_model_module": "@jupyter-widgets/controls",
            "_model_module_version": "1.5.0",
            "_model_name": "DescriptionStyleModel",
            "_view_count": null,
            "_view_module": "@jupyter-widgets/base",
            "_view_module_version": "1.2.0",
            "_view_name": "StyleView",
            "description_width": ""
          }
        }
      }
    }
  },
  "nbformat": 4,
  "nbformat_minor": 0
}