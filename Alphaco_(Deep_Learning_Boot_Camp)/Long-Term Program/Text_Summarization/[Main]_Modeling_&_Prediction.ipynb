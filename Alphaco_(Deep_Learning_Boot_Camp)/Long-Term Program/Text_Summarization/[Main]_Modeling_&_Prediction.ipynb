{
  "cells": [
    {
      "cell_type": "markdown",
      "metadata": {
        "id": "view-in-github",
        "colab_type": "text"
      },
      "source": [
        "<a href=\"https://colab.research.google.com/github/namwootree/Portfolio/blob/main/Alphaco_(Deep_Learning_Boot_Camp)/Long-Term%20Program/Text_Summarization/%5BMain%5D_Modeling_%26_Prediction.ipynb\" target=\"_parent\"><img src=\"https://colab.research.google.com/assets/colab-badge.svg\" alt=\"Open In Colab\"/></a>"
      ]
    },
    {
      "cell_type": "code",
      "source": [
        "!nvidia-smi"
      ],
      "metadata": {
        "colab": {
          "base_uri": "https://localhost:8080/"
        },
        "id": "L2oh-Qgvlhgy",
        "outputId": "a1f96242-5068-4665-912c-633705d56491"
      },
      "execution_count": null,
      "outputs": [
        {
          "output_type": "stream",
          "name": "stdout",
          "text": [
            "Sat Jun 18 18:29:41 2022       \n",
            "+-----------------------------------------------------------------------------+\n",
            "| NVIDIA-SMI 460.32.03    Driver Version: 460.32.03    CUDA Version: 11.2     |\n",
            "|-------------------------------+----------------------+----------------------+\n",
            "| GPU  Name        Persistence-M| Bus-Id        Disp.A | Volatile Uncorr. ECC |\n",
            "| Fan  Temp  Perf  Pwr:Usage/Cap|         Memory-Usage | GPU-Util  Compute M. |\n",
            "|                               |                      |               MIG M. |\n",
            "|===============================+======================+======================|\n",
            "|   0  Tesla P100-PCIE...  Off  | 00000000:00:04.0 Off |                    0 |\n",
            "| N/A   61C    P0    36W / 250W |      0MiB / 16280MiB |      0%      Default |\n",
            "|                               |                      |                  N/A |\n",
            "+-------------------------------+----------------------+----------------------+\n",
            "                                                                               \n",
            "+-----------------------------------------------------------------------------+\n",
            "| Processes:                                                                  |\n",
            "|  GPU   GI   CI        PID   Type   Process name                  GPU Memory |\n",
            "|        ID   ID                                                   Usage      |\n",
            "|=============================================================================|\n",
            "|  No running processes found                                                 |\n",
            "+-----------------------------------------------------------------------------+\n"
          ]
        }
      ]
    },
    {
      "cell_type": "code",
      "execution_count": null,
      "metadata": {
        "colab": {
          "base_uri": "https://localhost:8080/"
        },
        "id": "cycOZEiOw9zq",
        "outputId": "44f7eee7-4a2f-4300-be1e-3f6feda8dbd5"
      },
      "outputs": [
        {
          "output_type": "stream",
          "name": "stdout",
          "text": [
            "Drive already mounted at /content/drive; to attempt to forcibly remount, call drive.mount(\"/content/drive\", force_remount=True).\n"
          ]
        }
      ],
      "source": [
        "from google.colab import drive\n",
        "drive.mount('/content/drive')"
      ]
    },
    {
      "cell_type": "code",
      "execution_count": null,
      "metadata": {
        "id": "8ZxS0VGZt_2e"
      },
      "outputs": [],
      "source": [
        "!pip install -q datasets transformers rouge-score nltk sentencepiece wandb"
      ]
    },
    {
      "cell_type": "code",
      "execution_count": null,
      "metadata": {
        "id": "SAfkv4dduPno"
      },
      "outputs": [],
      "source": [
        "from transformers import AutoConfig, AutoTokenizer, AutoModelForSeq2SeqLM, Seq2SeqTrainingArguments, Seq2SeqTrainer, DataCollatorForSeq2Seq, EarlyStoppingCallback\n",
        "from datasets import load_dataset, load_metric, Dataset\n",
        "import wandb\n",
        "import pandas as pd\n",
        "import numpy as np\n",
        "import re\n",
        "import nltk\n",
        "import torch\n",
        "import os"
      ]
    },
    {
      "cell_type": "code",
      "execution_count": null,
      "metadata": {
        "colab": {
          "base_uri": "https://localhost:8080/"
        },
        "id": "McxN7GpEFx4f",
        "outputId": "548ff382-5278-44f4-aac3-4f86775ab21c"
      },
      "outputs": [
        {
          "output_type": "stream",
          "name": "stderr",
          "text": [
            "[nltk_data] Downloading package punkt to /root/nltk_data...\n",
            "[nltk_data]   Package punkt is already up-to-date!\n"
          ]
        },
        {
          "output_type": "execute_result",
          "data": {
            "text/plain": [
              "True"
            ]
          },
          "metadata": {},
          "execution_count": 5
        }
      ],
      "source": [
        "nltk.download('punkt')"
      ]
    },
    {
      "cell_type": "markdown",
      "metadata": {
        "id": "henuwWba1hcd"
      },
      "source": [
        "### Load Model & Tokenizer & Metric"
      ]
    },
    {
      "cell_type": "code",
      "execution_count": null,
      "metadata": {
        "id": "ZrNnIEQhuEaG"
      },
      "outputs": [],
      "source": [
        "model_name = 'ainize/kobart-news'\n",
        "metric_name = 'rouge'"
      ]
    },
    {
      "cell_type": "code",
      "source": [
        "config = AutoConfig.from_pretrained(model_name)"
      ],
      "metadata": {
        "colab": {
          "base_uri": "https://localhost:8080/"
        },
        "id": "RoQQEkxyRxwX",
        "outputId": "0ba2185a-9977-4f7a-8369-1200587bc5ae"
      },
      "execution_count": null,
      "outputs": [
        {
          "output_type": "stream",
          "name": "stderr",
          "text": [
            "You passed along `num_labels=3` with an incompatible id to label map: {'0': 'NEGATIVE', '1': 'POSITIVE'}. The number of labels wil be overwritten to 2.\n"
          ]
        }
      ]
    },
    {
      "cell_type": "code",
      "source": [
        "del config.label2id\n",
        "del config.id2label\n",
        "del config.task_specific_params\n",
        "\n",
        "# config.max_position_embeddings=2050"
      ],
      "metadata": {
        "id": "waAPz3eBSys_"
      },
      "execution_count": null,
      "outputs": []
    },
    {
      "cell_type": "code",
      "source": [
        "config"
      ],
      "metadata": {
        "colab": {
          "base_uri": "https://localhost:8080/"
        },
        "id": "CCZBN3xWR0bS",
        "outputId": "322e77a9-7f73-4394-f404-85254d3ea3c6"
      },
      "execution_count": null,
      "outputs": [
        {
          "output_type": "execute_result",
          "data": {
            "text/plain": [
              "BartConfig {\n",
              "  \"_name_or_path\": \"ainize/kobart-news\",\n",
              "  \"activation_dropout\": 0.0,\n",
              "  \"activation_function\": \"gelu\",\n",
              "  \"add_bias_logits\": false,\n",
              "  \"add_final_layer_norm\": false,\n",
              "  \"architectures\": [\n",
              "    \"BartForConditionalGeneration\"\n",
              "  ],\n",
              "  \"attention_dropout\": 0.0,\n",
              "  \"bos_token_id\": 0,\n",
              "  \"classif_dropout\": 0.1,\n",
              "  \"classifier_dropout\": 0.1,\n",
              "  \"d_model\": 768,\n",
              "  \"decoder_attention_heads\": 16,\n",
              "  \"decoder_ffn_dim\": 3072,\n",
              "  \"decoder_layerdrop\": 0.0,\n",
              "  \"decoder_layers\": 6,\n",
              "  \"decoder_start_token_id\": 2,\n",
              "  \"do_blenderbot_90_layernorm\": false,\n",
              "  \"dropout\": 0.1,\n",
              "  \"encoder_attention_heads\": 16,\n",
              "  \"encoder_ffn_dim\": 3072,\n",
              "  \"encoder_layerdrop\": 0.0,\n",
              "  \"encoder_layers\": 6,\n",
              "  \"eos_token_id\": 1,\n",
              "  \"extra_pos_embeddings\": 2,\n",
              "  \"force_bos_token_to_be_generated\": false,\n",
              "  \"forced_eos_token_id\": 2,\n",
              "  \"gradient_checkpointing\": false,\n",
              "  \"init_std\": 0.02,\n",
              "  \"is_encoder_decoder\": true,\n",
              "  \"max_position_embeddings\": 1026,\n",
              "  \"model_type\": \"bart\",\n",
              "  \"normalize_before\": false,\n",
              "  \"normalize_embedding\": true,\n",
              "  \"num_hidden_layers\": 6,\n",
              "  \"pad_token_id\": 3,\n",
              "  \"scale_embedding\": false,\n",
              "  \"static_position_embeddings\": false,\n",
              "  \"transformers_version\": \"4.20.0\",\n",
              "  \"use_cache\": true,\n",
              "  \"vocab_size\": 30000\n",
              "}"
            ]
          },
          "metadata": {},
          "execution_count": 9
        }
      ]
    },
    {
      "cell_type": "code",
      "execution_count": null,
      "metadata": {
        "id": "JuaaERTfuX2K"
      },
      "outputs": [],
      "source": [
        "model = AutoModelForSeq2SeqLM.from_pretrained(model_name, config=config)\n",
        "tokenizer = AutoTokenizer.from_pretrained(model_name)\n",
        "metric = load_metric(metric_name)"
      ]
    },
    {
      "cell_type": "markdown",
      "metadata": {
        "id": "9oMVmQMpXaog"
      },
      "source": [
        "### Declear Functions"
      ]
    },
    {
      "cell_type": "code",
      "execution_count": null,
      "metadata": {
        "id": "l-TRe_5HzjXy"
      },
      "outputs": [],
      "source": [
        "prefix = \"\"\n",
        "# prefix = \"summarize: \"\n",
        "\n",
        "max_input_length = 1026\n",
        "max_target_length = 514\n",
        "\n",
        "def preprocess_function(examples):\n",
        "    inputs = [prefix + doc for doc in examples[\"context\"]]\n",
        "    model_inputs = tokenizer(inputs, max_length=max_input_length, truncation=True)\n",
        "\n",
        "    # Setup the tokenizer for targets\n",
        "    with tokenizer.as_target_tokenizer():\n",
        "        labels = tokenizer(examples[\"summary\"], max_length=max_target_length, truncation=True)\n",
        "\n",
        "    model_inputs[\"labels\"] = labels[\"input_ids\"]\n",
        "    return model_inputs"
      ]
    },
    {
      "cell_type": "code",
      "execution_count": null,
      "metadata": {
        "id": "nzV3FdbYXd8l"
      },
      "outputs": [],
      "source": [
        "def compute_metrics(eval_pred):\n",
        "    predictions, labels = eval_pred\n",
        "    decoded_preds = tokenizer.batch_decode(predictions, skip_special_tokens=True)\n",
        "    # Replace -100 in the labels as we can't decode them.\n",
        "    labels = np.where(labels != -100, labels, tokenizer.pad_token_id)\n",
        "    decoded_labels = tokenizer.batch_decode(labels, skip_special_tokens=True)\n",
        "    \n",
        "    # Rouge expects a newline after each sentence\n",
        "    decoded_preds = [\"\\n\".join(nltk.sent_tokenize(pred.strip())) for pred in decoded_preds]\n",
        "    decoded_labels = [\"\\n\".join(nltk.sent_tokenize(label.strip())) for label in decoded_labels]\n",
        "    \n",
        "    result = metric.compute(predictions=decoded_preds, references=decoded_labels, use_stemmer=True)\n",
        "    # Extract a few results\n",
        "    result = {key: value.mid.fmeasure * 100 for key, value in result.items()}\n",
        "    \n",
        "    # Add mean generated length\n",
        "    prediction_lens = [np.count_nonzero(pred != tokenizer.pad_token_id) for pred in predictions]\n",
        "    result[\"gen_len\"] = np.mean(prediction_lens)\n",
        "    \n",
        "    return {k: round(v, 4) for k, v in result.items()}"
      ]
    },
    {
      "cell_type": "markdown",
      "metadata": {
        "id": "gjak7mvx0Q02"
      },
      "source": [
        "### Load Data"
      ]
    },
    {
      "cell_type": "code",
      "execution_count": null,
      "metadata": {
        "id": "bCs8GMAYw9jT"
      },
      "outputs": [],
      "source": [
        "train_path = '/content/drive/MyDrive/장기 프로젝트/문서 요약/augmented_data_set_247756.csv'\n",
        "eval_path = '/content/drive/MyDrive/장기 프로젝트/문서 요약/train_df.csv'"
      ]
    },
    {
      "cell_type": "code",
      "execution_count": null,
      "metadata": {
        "id": "ywCn8gB9w9fQ"
      },
      "outputs": [],
      "source": [
        "train_df = pd.read_csv(train_path).iloc[:150000]\n",
        "\n",
        "eval_df = pd.read_csv(eval_path)"
      ]
    },
    {
      "cell_type": "code",
      "source": [
        "train_df.shape, eval_df.shape"
      ],
      "metadata": {
        "colab": {
          "base_uri": "https://localhost:8080/"
        },
        "id": "VokPJNYXs9t-",
        "outputId": "e4af1ad1-e9c8-4aae-ea8d-d50c7509b88f"
      },
      "execution_count": null,
      "outputs": [
        {
          "output_type": "execute_result",
          "data": {
            "text/plain": [
              "((150000, 3), (2994, 3))"
            ]
          },
          "metadata": {},
          "execution_count": 18
        }
      ]
    },
    {
      "cell_type": "code",
      "execution_count": null,
      "metadata": {
        "id": "RO98ZKnJSXvb"
      },
      "outputs": [],
      "source": [
        "split_ratio = 0.1\n",
        "train_dataset = Dataset.from_pandas(train_df).shuffle(seed=100)\n",
        "eval_dataset = Dataset.from_pandas(eval_df).train_test_split(split_ratio, seed=100)['test']"
      ]
    },
    {
      "cell_type": "code",
      "source": [
        "print(train_dataset)\n",
        "print(eval_dataset)"
      ],
      "metadata": {
        "colab": {
          "base_uri": "https://localhost:8080/"
        },
        "id": "Nui3hHxb6V_T",
        "outputId": "a832ccb0-6f6a-46f9-839f-bdbf2fd6a9f8"
      },
      "execution_count": null,
      "outputs": [
        {
          "output_type": "stream",
          "name": "stdout",
          "text": [
            "Dataset({\n",
            "    features: ['Unnamed: 0', 'context', 'summary'],\n",
            "    num_rows: 150000\n",
            "})\n",
            "Dataset({\n",
            "    features: ['context', 'evidence', 'summary'],\n",
            "    num_rows: 300\n",
            "})\n"
          ]
        }
      ]
    },
    {
      "cell_type": "code",
      "execution_count": null,
      "metadata": {
        "colab": {
          "base_uri": "https://localhost:8080/",
          "height": 256,
          "referenced_widgets": [
            "ab8d24ea145e4b3bb1988312ff01f420",
            "8e6e675ec99f456e92dcdcdca360442d",
            "5653e4cccf9d4a989a4a010dd911dc7a",
            "e606736039134aa0aa3bb7887fcba3e3",
            "2758eb6859ea48a5a625cec08db36e1b",
            "5195dbf0335c4d089b8d326a51362b11",
            "a5589ffa9a954bef927ba78e1346f83f",
            "3d873d1d9607464ab70820b49c3151a8",
            "b38623cd4f8d4c2d8b10c16a1e7ccd35",
            "c26368152c9d42da8522b3efe1f653a1",
            "84aa4c7c9b164fb6b5d017258ea558ed",
            "e4a575feb88a4a5abf7160f781c6c733",
            "6cac3949188e4e8f8ef96a52979c1048",
            "2021ee177f974b449a8e29c73afb9122",
            "df50f38647754a50aa6c1aa870bd3d96",
            "e7732761ef074c7e82db914aa5ca387f",
            "3f056a6b39294368b5834706f0021875",
            "cce3996acaa644078556fdf560d57d68",
            "6cf2330fa1a74131810f89eef1815192",
            "bc7d418de16048548251d075fcca3976",
            "fee4c5b3af6f456599b0d5e442aeac74",
            "e9001e3b4242446e91412752ea1b562f",
            "177875bc9efc49d28617dc6c43e009e7",
            "6550cc895b514f4ab794434192564122",
            "5a587c9d361241b1a5abf5db40e57da2",
            "b2bb59a51b4e4ebfb680bf7e05a37408",
            "99b7efdba1b343c891084964ef621792",
            "de2ce05306634713b7aebdc7b1a7553f",
            "61aeca32167e4f1cbfb35331b52f33f4",
            "4e64e896cd214c2f850e3fed700ccd74",
            "2beab064d87f4bb5a6f120330ae87c33",
            "f4cf7e6f867a4848bb1eb48f5c920f4c",
            "f12e59abf7874a99b255cc7634ad1b89",
            "b1c09d99f4be4f5a8d9d66d837042117",
            "3ce23278ef8345c48863b016552b6383",
            "387b9932134e45548b8ae69f1d2c8036",
            "c4c1d9194d044d6f84662ebf3d1099cd",
            "56176b8bfb4d4233a6e9698f368ccfcb",
            "7a74e433f09b418594a98327d6ab9ce7",
            "81895379cdef4eb69447eff3377bd68b",
            "6a066fba6c994b7c9544ffa0889207f1",
            "8eabc0d877704fdcb71864ef0690f1ad",
            "527dbc8b4f0443639d068e6da6585cd6",
            "256c0062c62e4b34a171a23fedce1130"
          ]
        },
        "id": "UI-nIRzcGYLz",
        "outputId": "9e8fb535-4094-4322-9677-c10e0e733718"
      },
      "outputs": [
        {
          "output_type": "stream",
          "name": "stderr",
          "text": [
            "Parameter 'function'=<function preprocess_function at 0x7f6720411170> of the transform datasets.arrow_dataset.Dataset._map_single couldn't be hashed properly, a random hash was used instead. Make sure your transforms and parameters are serializable with pickle or dill for the dataset fingerprinting and caching to work. If you reuse this transform, the caching mechanism will consider it to be different from the previous calls and recompute everything. This warning is only showed once. Subsequent hashing failures won't be showed.\n"
          ]
        },
        {
          "output_type": "stream",
          "name": "stdout",
          "text": [
            "     "
          ]
        },
        {
          "output_type": "display_data",
          "data": {
            "text/plain": [
              "#0:   0%|          | 0/38 [00:00<?, ?ba/s]"
            ],
            "application/vnd.jupyter.widget-view+json": {
              "version_major": 2,
              "version_minor": 0,
              "model_id": "ab8d24ea145e4b3bb1988312ff01f420"
            }
          },
          "metadata": {}
        },
        {
          "output_type": "stream",
          "name": "stdout",
          "text": [
            " "
          ]
        },
        {
          "output_type": "display_data",
          "data": {
            "text/plain": [
              "#1:   0%|          | 0/38 [00:00<?, ?ba/s]"
            ],
            "application/vnd.jupyter.widget-view+json": {
              "version_major": 2,
              "version_minor": 0,
              "model_id": "e4a575feb88a4a5abf7160f781c6c733"
            }
          },
          "metadata": {}
        },
        {
          "output_type": "stream",
          "name": "stdout",
          "text": [
            " "
          ]
        },
        {
          "output_type": "display_data",
          "data": {
            "text/plain": [
              "#2:   0%|          | 0/38 [00:00<?, ?ba/s]"
            ],
            "application/vnd.jupyter.widget-view+json": {
              "version_major": 2,
              "version_minor": 0,
              "model_id": "177875bc9efc49d28617dc6c43e009e7"
            }
          },
          "metadata": {}
        },
        {
          "output_type": "stream",
          "name": "stdout",
          "text": [
            " "
          ]
        },
        {
          "output_type": "display_data",
          "data": {
            "text/plain": [
              "#3:   0%|          | 0/38 [00:00<?, ?ba/s]"
            ],
            "application/vnd.jupyter.widget-view+json": {
              "version_major": 2,
              "version_minor": 0,
              "model_id": "b1c09d99f4be4f5a8d9d66d837042117"
            }
          },
          "metadata": {}
        }
      ],
      "source": [
        "train_dataset = train_dataset.map(preprocess_function, \n",
        "                                  batched=True, \n",
        "                                  num_proc=4, \n",
        "                                  remove_columns=train_dataset.column_names)\n",
        "\n",
        "eval_dataset = eval_dataset.map(preprocess_function, \n",
        "                                batched=True, \n",
        "                                num_proc=4, \n",
        "                                remove_columns=eval_dataset.column_names)"
      ]
    },
    {
      "cell_type": "code",
      "source": [
        "print(train_dataset)\n",
        "print(eval_dataset)"
      ],
      "metadata": {
        "id": "ntfnSg6FfgEk"
      },
      "execution_count": null,
      "outputs": []
    },
    {
      "cell_type": "markdown",
      "source": [
        "### Logging and WandB Configs"
      ],
      "metadata": {
        "id": "5OgEjBBtgHS9"
      }
    },
    {
      "cell_type": "code",
      "source": [
        "wandb.login()"
      ],
      "metadata": {
        "id": "rTYl4KT_nKgB"
      },
      "execution_count": null,
      "outputs": []
    },
    {
      "cell_type": "code",
      "source": [
        "output_dir = \"./log\""
      ],
      "metadata": {
        "id": "c2TVNsFTiSZI"
      },
      "execution_count": null,
      "outputs": []
    },
    {
      "cell_type": "code",
      "source": [
        "%env WANDB_PROJECT=BART-Generative-Summarization\n",
        "report_to=\"wandb\"\n",
        "run_name=\"2994-Samples-Augmented-to-150000-Samples\""
      ],
      "metadata": {
        "id": "LcD__Cc1neJT"
      },
      "execution_count": null,
      "outputs": []
    },
    {
      "cell_type": "markdown",
      "metadata": {
        "id": "qKU7F6dJ1vKr"
      },
      "source": [
        "### Training"
      ]
    },
    {
      "cell_type": "code",
      "execution_count": null,
      "metadata": {
        "id": "fnbmdkbeWI0w"
      },
      "outputs": [],
      "source": [
        "num_train_epochs = 3\n",
        "\n",
        "per_device_train_batch_size = 1\n",
        "per_device_eval_batch_size = 1\n",
        "\n",
        "gradient_accumulation_steps = 1\n",
        "\n",
        "es = EarlyStoppingCallback(early_stopping_patience=8)\n",
        "save_total_limit = 10\n",
        "data_collator = DataCollatorForSeq2Seq(tokenizer=tokenizer, model=model, padding=True)"
      ]
    },
    {
      "cell_type": "code",
      "execution_count": null,
      "metadata": {
        "id": "BUxb7E099PTM"
      },
      "outputs": [],
      "source": [
        "training_args = Seq2SeqTrainingArguments(\n",
        "    seed=100,\n",
        "\n",
        "    output_dir=output_dir,\n",
        "\n",
        "    num_train_epochs=num_train_epochs,\n",
        "    learning_rate=2e-5,\n",
        "\n",
        "    per_device_train_batch_size=per_device_train_batch_size,\n",
        "    per_device_eval_batch_size=per_device_eval_batch_size,\n",
        "    \n",
        "    gradient_accumulation_steps=gradient_accumulation_steps,\n",
        "    # fp16=True,\n",
        "\n",
        "    save_total_limit=save_total_limit,\n",
        "    save_strategy='steps',\n",
        "    evaluation_strategy=\"steps\",\n",
        "    save_steps=7500,\n",
        "    eval_steps=7500,\n",
        "\n",
        "    logging_strategy='steps',\n",
        "    logging_first_step=True,\n",
        "    logging_steps= 500,\n",
        "\n",
        "    weight_decay=0.01,\n",
        "\n",
        "    lr_scheduler_type='cosine',\n",
        "    warmup_ratio=0.1,\n",
        "\n",
        "    metric_for_best_model='eval_rouge1',\n",
        "    load_best_model_at_end=True,\n",
        "\n",
        "    predict_with_generate=True,\n",
        "    generation_max_length=512,\n",
        "    generation_num_beams=5,\n",
        "\n",
        "    report_to=report_to,\n",
        "    run_name=run_name,\n",
        ")"
      ]
    },
    {
      "cell_type": "code",
      "execution_count": null,
      "metadata": {
        "id": "qEcXCFz91RKX"
      },
      "outputs": [],
      "source": [
        "trainer = Seq2SeqTrainer(\n",
        "    model=model,\n",
        "    args=training_args,\n",
        "    train_dataset=train_dataset,\n",
        "    eval_dataset=eval_dataset,\n",
        "    tokenizer=tokenizer,\n",
        "    data_collator=data_collator,\n",
        "    compute_metrics=compute_metrics,\n",
        "    callbacks=[es],\n",
        ")"
      ]
    },
    {
      "cell_type": "code",
      "execution_count": null,
      "metadata": {
        "colab": {
          "base_uri": "https://localhost:8080/",
          "height": 1000,
          "referenced_widgets": [
            "cd28c6def5724c90bc1585bafcc34c4c",
            "aea13977a2704067b5fd851d902c08f8",
            "bcff94837ce14d5aba651a4136e9203f",
            "11b7f62f5b4a4227972ba8d4a3608359",
            "aa990154102446adab3a2a30905fd75d",
            "8f4dd0830021410a8e71f473bb329fd5",
            "f42dae8d8a7c43879865b3304c070ebd",
            "d656b5c74dc14ee989cf1d30fdb19276"
          ]
        },
        "id": "KkBXS4RIstUd",
        "outputId": "6ab30b02-a1ca-4e13-c892-5558c185d851"
      },
      "outputs": [
        {
          "output_type": "stream",
          "name": "stderr",
          "text": [
            "The following columns in the training set don't have a corresponding argument in `BartForConditionalGeneration.forward` and have been ignored: token_type_ids. If token_type_ids are not expected by `BartForConditionalGeneration.forward`,  you can safely ignore this message.\n",
            "/usr/local/lib/python3.7/dist-packages/transformers/optimization.py:310: FutureWarning: This implementation of AdamW is deprecated and will be removed in a future version. Use the PyTorch implementation torch.optim.AdamW instead, or set `no_deprecation_warning=True` to disable this warning\n",
            "  FutureWarning,\n",
            "***** Running training *****\n",
            "  Num examples = 150000\n",
            "  Num Epochs = 3\n",
            "  Instantaneous batch size per device = 1\n",
            "  Total train batch size (w. parallel, distributed & accumulation) = 1\n",
            "  Gradient Accumulation steps = 1\n",
            "  Total optimization steps = 450000\n",
            "Automatic Weights & Biases logging enabled, to disable set os.environ[\"WANDB_DISABLED\"] = \"true\"\n"
          ]
        },
        {
          "output_type": "display_data",
          "data": {
            "text/plain": [
              "<IPython.core.display.HTML object>"
            ],
            "text/html": [
              "Changes to your `wandb` environment variables will be ignored because your `wandb` session has already started. For more information on how to modify your settings with `wandb.init()` arguments, please refer to <a href=\"https://wandb.me/wandb-init\" target=\"_blank\">the W&B docs</a>."
            ]
          },
          "metadata": {}
        },
        {
          "output_type": "display_data",
          "data": {
            "text/plain": [
              "<IPython.core.display.HTML object>"
            ],
            "text/html": [
              "Tracking run with wandb version 0.12.18"
            ]
          },
          "metadata": {}
        },
        {
          "output_type": "display_data",
          "data": {
            "text/plain": [
              "<IPython.core.display.HTML object>"
            ],
            "text/html": [
              "Run data is saved locally in <code>/content/wandb/run-20220618_095652-3rjgzrsl</code>"
            ]
          },
          "metadata": {}
        },
        {
          "output_type": "display_data",
          "data": {
            "text/plain": [
              "<IPython.core.display.HTML object>"
            ],
            "text/html": [
              "Syncing run <strong><a href=\"https://wandb.ai/dotsnangles/BART-Generative-Summarization/runs/3rjgzrsl\" target=\"_blank\">2994-Samples-Augmented-to-150000-Samples</a></strong> to <a href=\"https://wandb.ai/dotsnangles/BART-Generative-Summarization\" target=\"_blank\">Weights & Biases</a> (<a href=\"https://wandb.me/run\" target=\"_blank\">docs</a>)<br/>"
            ]
          },
          "metadata": {}
        },
        {
          "output_type": "display_data",
          "data": {
            "text/plain": [
              "<IPython.core.display.HTML object>"
            ],
            "text/html": [
              "\n",
              "    <div>\n",
              "      \n",
              "      <progress value='135000' max='450000' style='width:300px; height:20px; vertical-align: middle;'></progress>\n",
              "      [135000/450000 5:18:42 < 12:23:40, 7.06 it/s, Epoch 0/3]\n",
              "    </div>\n",
              "    <table border=\"1\" class=\"dataframe\">\n",
              "  <thead>\n",
              " <tr style=\"text-align: left;\">\n",
              "      <th>Step</th>\n",
              "      <th>Training Loss</th>\n",
              "      <th>Validation Loss</th>\n",
              "      <th>Rouge1</th>\n",
              "      <th>Rouge2</th>\n",
              "      <th>Rougel</th>\n",
              "      <th>Rougelsum</th>\n",
              "      <th>Gen Len</th>\n",
              "    </tr>\n",
              "  </thead>\n",
              "  <tbody>\n",
              "    <tr>\n",
              "      <td>7500</td>\n",
              "      <td>0.846600</td>\n",
              "      <td>0.564626</td>\n",
              "      <td>60.635200</td>\n",
              "      <td>42.262800</td>\n",
              "      <td>60.261700</td>\n",
              "      <td>60.375900</td>\n",
              "      <td>37.066700</td>\n",
              "    </tr>\n",
              "    <tr>\n",
              "      <td>15000</td>\n",
              "      <td>0.565100</td>\n",
              "      <td>0.357319</td>\n",
              "      <td>63.800500</td>\n",
              "      <td>45.048200</td>\n",
              "      <td>63.435500</td>\n",
              "      <td>63.583800</td>\n",
              "      <td>36.860000</td>\n",
              "    </tr>\n",
              "    <tr>\n",
              "      <td>22500</td>\n",
              "      <td>0.365700</td>\n",
              "      <td>0.201218</td>\n",
              "      <td>66.329500</td>\n",
              "      <td>47.738900</td>\n",
              "      <td>66.030000</td>\n",
              "      <td>66.044400</td>\n",
              "      <td>37.706700</td>\n",
              "    </tr>\n",
              "    <tr>\n",
              "      <td>30000</td>\n",
              "      <td>0.197900</td>\n",
              "      <td>0.104445</td>\n",
              "      <td>68.196900</td>\n",
              "      <td>48.887000</td>\n",
              "      <td>67.766800</td>\n",
              "      <td>67.953200</td>\n",
              "      <td>38.743300</td>\n",
              "    </tr>\n",
              "    <tr>\n",
              "      <td>37500</td>\n",
              "      <td>0.152100</td>\n",
              "      <td>0.074487</td>\n",
              "      <td>69.957700</td>\n",
              "      <td>50.303600</td>\n",
              "      <td>69.798700</td>\n",
              "      <td>69.760200</td>\n",
              "      <td>38.996700</td>\n",
              "    </tr>\n",
              "    <tr>\n",
              "      <td>45000</td>\n",
              "      <td>0.116800</td>\n",
              "      <td>0.061620</td>\n",
              "      <td>70.152100</td>\n",
              "      <td>50.686900</td>\n",
              "      <td>70.108000</td>\n",
              "      <td>69.825300</td>\n",
              "      <td>39.263300</td>\n",
              "    </tr>\n",
              "    <tr>\n",
              "      <td>52500</td>\n",
              "      <td>0.098000</td>\n",
              "      <td>0.050459</td>\n",
              "      <td>69.965700</td>\n",
              "      <td>49.923600</td>\n",
              "      <td>69.735100</td>\n",
              "      <td>69.961900</td>\n",
              "      <td>38.453300</td>\n",
              "    </tr>\n",
              "    <tr>\n",
              "      <td>60000</td>\n",
              "      <td>0.071200</td>\n",
              "      <td>0.044529</td>\n",
              "      <td>70.331900</td>\n",
              "      <td>51.909900</td>\n",
              "      <td>70.208800</td>\n",
              "      <td>70.362600</td>\n",
              "      <td>39.756700</td>\n",
              "    </tr>\n",
              "    <tr>\n",
              "      <td>67500</td>\n",
              "      <td>0.062600</td>\n",
              "      <td>0.028301</td>\n",
              "      <td>71.949500</td>\n",
              "      <td>53.286300</td>\n",
              "      <td>71.914900</td>\n",
              "      <td>71.851300</td>\n",
              "      <td>39.706700</td>\n",
              "    </tr>\n",
              "    <tr>\n",
              "      <td>75000</td>\n",
              "      <td>0.051200</td>\n",
              "      <td>0.029703</td>\n",
              "      <td>71.582100</td>\n",
              "      <td>53.267400</td>\n",
              "      <td>71.628700</td>\n",
              "      <td>71.519300</td>\n",
              "      <td>40.346700</td>\n",
              "    </tr>\n",
              "    <tr>\n",
              "      <td>82500</td>\n",
              "      <td>0.046700</td>\n",
              "      <td>0.011057</td>\n",
              "      <td>72.399200</td>\n",
              "      <td>54.171200</td>\n",
              "      <td>72.338900</td>\n",
              "      <td>72.256200</td>\n",
              "      <td>39.950000</td>\n",
              "    </tr>\n",
              "    <tr>\n",
              "      <td>90000</td>\n",
              "      <td>0.039500</td>\n",
              "      <td>0.010482</td>\n",
              "      <td>72.564400</td>\n",
              "      <td>54.503400</td>\n",
              "      <td>72.603000</td>\n",
              "      <td>72.448100</td>\n",
              "      <td>39.970000</td>\n",
              "    </tr>\n",
              "    <tr>\n",
              "      <td>97500</td>\n",
              "      <td>0.032100</td>\n",
              "      <td>0.010211</td>\n",
              "      <td>72.682900</td>\n",
              "      <td>54.937300</td>\n",
              "      <td>72.684700</td>\n",
              "      <td>72.586700</td>\n",
              "      <td>40.186700</td>\n",
              "    </tr>\n",
              "    <tr>\n",
              "      <td>105000</td>\n",
              "      <td>0.035700</td>\n",
              "      <td>0.012881</td>\n",
              "      <td>72.572200</td>\n",
              "      <td>54.202000</td>\n",
              "      <td>72.583600</td>\n",
              "      <td>72.481100</td>\n",
              "      <td>39.800000</td>\n",
              "    </tr>\n",
              "    <tr>\n",
              "      <td>112500</td>\n",
              "      <td>0.025700</td>\n",
              "      <td>0.018792</td>\n",
              "      <td>72.947400</td>\n",
              "      <td>55.000000</td>\n",
              "      <td>72.947400</td>\n",
              "      <td>72.888900</td>\n",
              "      <td>39.890000</td>\n",
              "    </tr>\n",
              "    <tr>\n",
              "      <td>120000</td>\n",
              "      <td>0.036200</td>\n",
              "      <td>0.003031</td>\n",
              "      <td>72.888900</td>\n",
              "      <td>54.791700</td>\n",
              "      <td>72.888900</td>\n",
              "      <td>72.777800</td>\n",
              "      <td>39.820000</td>\n",
              "    </tr>\n",
              "    <tr>\n",
              "      <td>127500</td>\n",
              "      <td>0.025800</td>\n",
              "      <td>0.007205</td>\n",
              "      <td>72.921800</td>\n",
              "      <td>55.115700</td>\n",
              "      <td>72.946800</td>\n",
              "      <td>72.874400</td>\n",
              "      <td>39.783300</td>\n",
              "    </tr>\n",
              "    <tr>\n",
              "      <td>135000</td>\n",
              "      <td>0.022500</td>\n",
              "      <td>0.004519</td>\n",
              "      <td>72.888900</td>\n",
              "      <td>55.000000</td>\n",
              "      <td>72.888900</td>\n",
              "      <td>72.777800</td>\n",
              "      <td>39.826700</td>\n",
              "    </tr>\n",
              "  </tbody>\n",
              "</table><p>"
            ]
          },
          "metadata": {}
        },
        {
          "output_type": "stream",
          "name": "stderr",
          "text": [
            "The following columns in the evaluation set don't have a corresponding argument in `BartForConditionalGeneration.forward` and have been ignored: token_type_ids. If token_type_ids are not expected by `BartForConditionalGeneration.forward`,  you can safely ignore this message.\n",
            "***** Running Evaluation *****\n",
            "  Num examples = 300\n",
            "  Batch size = 1\n",
            "Saving model checkpoint to ./log/checkpoint-7500\n",
            "Configuration saved in ./log/checkpoint-7500/config.json\n",
            "Model weights saved in ./log/checkpoint-7500/pytorch_model.bin\n",
            "tokenizer config file saved in ./log/checkpoint-7500/tokenizer_config.json\n",
            "Special tokens file saved in ./log/checkpoint-7500/special_tokens_map.json\n",
            "The following columns in the evaluation set don't have a corresponding argument in `BartForConditionalGeneration.forward` and have been ignored: token_type_ids. If token_type_ids are not expected by `BartForConditionalGeneration.forward`,  you can safely ignore this message.\n",
            "***** Running Evaluation *****\n",
            "  Num examples = 300\n",
            "  Batch size = 1\n",
            "Saving model checkpoint to ./log/checkpoint-15000\n",
            "Configuration saved in ./log/checkpoint-15000/config.json\n",
            "Model weights saved in ./log/checkpoint-15000/pytorch_model.bin\n",
            "tokenizer config file saved in ./log/checkpoint-15000/tokenizer_config.json\n",
            "Special tokens file saved in ./log/checkpoint-15000/special_tokens_map.json\n",
            "The following columns in the evaluation set don't have a corresponding argument in `BartForConditionalGeneration.forward` and have been ignored: token_type_ids. If token_type_ids are not expected by `BartForConditionalGeneration.forward`,  you can safely ignore this message.\n",
            "***** Running Evaluation *****\n",
            "  Num examples = 300\n",
            "  Batch size = 1\n",
            "Saving model checkpoint to ./log/checkpoint-22500\n",
            "Configuration saved in ./log/checkpoint-22500/config.json\n",
            "Model weights saved in ./log/checkpoint-22500/pytorch_model.bin\n",
            "tokenizer config file saved in ./log/checkpoint-22500/tokenizer_config.json\n",
            "Special tokens file saved in ./log/checkpoint-22500/special_tokens_map.json\n",
            "The following columns in the evaluation set don't have a corresponding argument in `BartForConditionalGeneration.forward` and have been ignored: token_type_ids. If token_type_ids are not expected by `BartForConditionalGeneration.forward`,  you can safely ignore this message.\n",
            "***** Running Evaluation *****\n",
            "  Num examples = 300\n",
            "  Batch size = 1\n",
            "Saving model checkpoint to ./log/checkpoint-30000\n",
            "Configuration saved in ./log/checkpoint-30000/config.json\n",
            "Model weights saved in ./log/checkpoint-30000/pytorch_model.bin\n",
            "tokenizer config file saved in ./log/checkpoint-30000/tokenizer_config.json\n",
            "Special tokens file saved in ./log/checkpoint-30000/special_tokens_map.json\n",
            "Deleting older checkpoint [log/checkpoint-7500] due to args.save_total_limit\n",
            "The following columns in the evaluation set don't have a corresponding argument in `BartForConditionalGeneration.forward` and have been ignored: token_type_ids. If token_type_ids are not expected by `BartForConditionalGeneration.forward`,  you can safely ignore this message.\n",
            "***** Running Evaluation *****\n",
            "  Num examples = 300\n",
            "  Batch size = 1\n",
            "Saving model checkpoint to ./log/checkpoint-37500\n",
            "Configuration saved in ./log/checkpoint-37500/config.json\n",
            "Model weights saved in ./log/checkpoint-37500/pytorch_model.bin\n",
            "tokenizer config file saved in ./log/checkpoint-37500/tokenizer_config.json\n",
            "Special tokens file saved in ./log/checkpoint-37500/special_tokens_map.json\n",
            "Deleting older checkpoint [log/checkpoint-15000] due to args.save_total_limit\n",
            "The following columns in the evaluation set don't have a corresponding argument in `BartForConditionalGeneration.forward` and have been ignored: token_type_ids. If token_type_ids are not expected by `BartForConditionalGeneration.forward`,  you can safely ignore this message.\n",
            "***** Running Evaluation *****\n",
            "  Num examples = 300\n",
            "  Batch size = 1\n",
            "Saving model checkpoint to ./log/checkpoint-45000\n",
            "Configuration saved in ./log/checkpoint-45000/config.json\n",
            "Model weights saved in ./log/checkpoint-45000/pytorch_model.bin\n",
            "tokenizer config file saved in ./log/checkpoint-45000/tokenizer_config.json\n",
            "Special tokens file saved in ./log/checkpoint-45000/special_tokens_map.json\n",
            "Deleting older checkpoint [log/checkpoint-22500] due to args.save_total_limit\n",
            "The following columns in the evaluation set don't have a corresponding argument in `BartForConditionalGeneration.forward` and have been ignored: token_type_ids. If token_type_ids are not expected by `BartForConditionalGeneration.forward`,  you can safely ignore this message.\n",
            "***** Running Evaluation *****\n",
            "  Num examples = 300\n",
            "  Batch size = 1\n",
            "Saving model checkpoint to ./log/checkpoint-52500\n",
            "Configuration saved in ./log/checkpoint-52500/config.json\n",
            "Model weights saved in ./log/checkpoint-52500/pytorch_model.bin\n",
            "tokenizer config file saved in ./log/checkpoint-52500/tokenizer_config.json\n",
            "Special tokens file saved in ./log/checkpoint-52500/special_tokens_map.json\n",
            "Deleting older checkpoint [log/checkpoint-30000] due to args.save_total_limit\n",
            "The following columns in the evaluation set don't have a corresponding argument in `BartForConditionalGeneration.forward` and have been ignored: token_type_ids. If token_type_ids are not expected by `BartForConditionalGeneration.forward`,  you can safely ignore this message.\n",
            "***** Running Evaluation *****\n",
            "  Num examples = 300\n",
            "  Batch size = 1\n",
            "Saving model checkpoint to ./log/checkpoint-60000\n",
            "Configuration saved in ./log/checkpoint-60000/config.json\n",
            "Model weights saved in ./log/checkpoint-60000/pytorch_model.bin\n",
            "tokenizer config file saved in ./log/checkpoint-60000/tokenizer_config.json\n",
            "Special tokens file saved in ./log/checkpoint-60000/special_tokens_map.json\n",
            "Deleting older checkpoint [log/checkpoint-37500] due to args.save_total_limit\n",
            "The following columns in the evaluation set don't have a corresponding argument in `BartForConditionalGeneration.forward` and have been ignored: token_type_ids. If token_type_ids are not expected by `BartForConditionalGeneration.forward`,  you can safely ignore this message.\n",
            "***** Running Evaluation *****\n",
            "  Num examples = 300\n",
            "  Batch size = 1\n",
            "Saving model checkpoint to ./log/checkpoint-67500\n",
            "Configuration saved in ./log/checkpoint-67500/config.json\n",
            "Model weights saved in ./log/checkpoint-67500/pytorch_model.bin\n",
            "tokenizer config file saved in ./log/checkpoint-67500/tokenizer_config.json\n",
            "Special tokens file saved in ./log/checkpoint-67500/special_tokens_map.json\n",
            "Deleting older checkpoint [log/checkpoint-45000] due to args.save_total_limit\n",
            "The following columns in the evaluation set don't have a corresponding argument in `BartForConditionalGeneration.forward` and have been ignored: token_type_ids. If token_type_ids are not expected by `BartForConditionalGeneration.forward`,  you can safely ignore this message.\n",
            "***** Running Evaluation *****\n",
            "  Num examples = 300\n",
            "  Batch size = 1\n",
            "Saving model checkpoint to ./log/checkpoint-75000\n",
            "Configuration saved in ./log/checkpoint-75000/config.json\n",
            "Model weights saved in ./log/checkpoint-75000/pytorch_model.bin\n",
            "tokenizer config file saved in ./log/checkpoint-75000/tokenizer_config.json\n",
            "Special tokens file saved in ./log/checkpoint-75000/special_tokens_map.json\n",
            "Deleting older checkpoint [log/checkpoint-52500] due to args.save_total_limit\n",
            "The following columns in the evaluation set don't have a corresponding argument in `BartForConditionalGeneration.forward` and have been ignored: token_type_ids. If token_type_ids are not expected by `BartForConditionalGeneration.forward`,  you can safely ignore this message.\n",
            "***** Running Evaluation *****\n",
            "  Num examples = 300\n",
            "  Batch size = 1\n",
            "Saving model checkpoint to ./log/checkpoint-82500\n",
            "Configuration saved in ./log/checkpoint-82500/config.json\n",
            "Model weights saved in ./log/checkpoint-82500/pytorch_model.bin\n",
            "tokenizer config file saved in ./log/checkpoint-82500/tokenizer_config.json\n",
            "Special tokens file saved in ./log/checkpoint-82500/special_tokens_map.json\n",
            "Deleting older checkpoint [log/checkpoint-60000] due to args.save_total_limit\n",
            "The following columns in the evaluation set don't have a corresponding argument in `BartForConditionalGeneration.forward` and have been ignored: token_type_ids. If token_type_ids are not expected by `BartForConditionalGeneration.forward`,  you can safely ignore this message.\n",
            "***** Running Evaluation *****\n",
            "  Num examples = 300\n",
            "  Batch size = 1\n",
            "Saving model checkpoint to ./log/checkpoint-90000\n",
            "Configuration saved in ./log/checkpoint-90000/config.json\n",
            "Model weights saved in ./log/checkpoint-90000/pytorch_model.bin\n",
            "tokenizer config file saved in ./log/checkpoint-90000/tokenizer_config.json\n",
            "Special tokens file saved in ./log/checkpoint-90000/special_tokens_map.json\n",
            "Deleting older checkpoint [log/checkpoint-67500] due to args.save_total_limit\n",
            "The following columns in the evaluation set don't have a corresponding argument in `BartForConditionalGeneration.forward` and have been ignored: token_type_ids. If token_type_ids are not expected by `BartForConditionalGeneration.forward`,  you can safely ignore this message.\n",
            "***** Running Evaluation *****\n",
            "  Num examples = 300\n",
            "  Batch size = 1\n",
            "Saving model checkpoint to ./log/checkpoint-97500\n",
            "Configuration saved in ./log/checkpoint-97500/config.json\n",
            "Model weights saved in ./log/checkpoint-97500/pytorch_model.bin\n",
            "tokenizer config file saved in ./log/checkpoint-97500/tokenizer_config.json\n",
            "Special tokens file saved in ./log/checkpoint-97500/special_tokens_map.json\n",
            "Deleting older checkpoint [log/checkpoint-75000] due to args.save_total_limit\n",
            "The following columns in the evaluation set don't have a corresponding argument in `BartForConditionalGeneration.forward` and have been ignored: token_type_ids. If token_type_ids are not expected by `BartForConditionalGeneration.forward`,  you can safely ignore this message.\n",
            "***** Running Evaluation *****\n",
            "  Num examples = 300\n",
            "  Batch size = 1\n",
            "Saving model checkpoint to ./log/checkpoint-105000\n",
            "Configuration saved in ./log/checkpoint-105000/config.json\n",
            "Model weights saved in ./log/checkpoint-105000/pytorch_model.bin\n",
            "tokenizer config file saved in ./log/checkpoint-105000/tokenizer_config.json\n",
            "Special tokens file saved in ./log/checkpoint-105000/special_tokens_map.json\n",
            "Deleting older checkpoint [log/checkpoint-82500] due to args.save_total_limit\n",
            "The following columns in the evaluation set don't have a corresponding argument in `BartForConditionalGeneration.forward` and have been ignored: token_type_ids. If token_type_ids are not expected by `BartForConditionalGeneration.forward`,  you can safely ignore this message.\n",
            "***** Running Evaluation *****\n",
            "  Num examples = 300\n",
            "  Batch size = 1\n",
            "Saving model checkpoint to ./log/checkpoint-112500\n",
            "Configuration saved in ./log/checkpoint-112500/config.json\n",
            "Model weights saved in ./log/checkpoint-112500/pytorch_model.bin\n",
            "tokenizer config file saved in ./log/checkpoint-112500/tokenizer_config.json\n",
            "Special tokens file saved in ./log/checkpoint-112500/special_tokens_map.json\n",
            "Deleting older checkpoint [log/checkpoint-90000] due to args.save_total_limit\n",
            "The following columns in the evaluation set don't have a corresponding argument in `BartForConditionalGeneration.forward` and have been ignored: token_type_ids. If token_type_ids are not expected by `BartForConditionalGeneration.forward`,  you can safely ignore this message.\n",
            "***** Running Evaluation *****\n",
            "  Num examples = 300\n",
            "  Batch size = 1\n",
            "Saving model checkpoint to ./log/checkpoint-120000\n",
            "Configuration saved in ./log/checkpoint-120000/config.json\n",
            "Model weights saved in ./log/checkpoint-120000/pytorch_model.bin\n",
            "tokenizer config file saved in ./log/checkpoint-120000/tokenizer_config.json\n",
            "Special tokens file saved in ./log/checkpoint-120000/special_tokens_map.json\n",
            "Deleting older checkpoint [log/checkpoint-97500] due to args.save_total_limit\n",
            "The following columns in the evaluation set don't have a corresponding argument in `BartForConditionalGeneration.forward` and have been ignored: token_type_ids. If token_type_ids are not expected by `BartForConditionalGeneration.forward`,  you can safely ignore this message.\n",
            "***** Running Evaluation *****\n",
            "  Num examples = 300\n",
            "  Batch size = 1\n",
            "Saving model checkpoint to ./log/checkpoint-127500\n",
            "Configuration saved in ./log/checkpoint-127500/config.json\n",
            "Model weights saved in ./log/checkpoint-127500/pytorch_model.bin\n",
            "tokenizer config file saved in ./log/checkpoint-127500/tokenizer_config.json\n",
            "Special tokens file saved in ./log/checkpoint-127500/special_tokens_map.json\n",
            "Deleting older checkpoint [log/checkpoint-105000] due to args.save_total_limit\n",
            "The following columns in the evaluation set don't have a corresponding argument in `BartForConditionalGeneration.forward` and have been ignored: token_type_ids. If token_type_ids are not expected by `BartForConditionalGeneration.forward`,  you can safely ignore this message.\n",
            "***** Running Evaluation *****\n",
            "  Num examples = 300\n",
            "  Batch size = 1\n",
            "Saving model checkpoint to ./log/checkpoint-135000\n",
            "Configuration saved in ./log/checkpoint-135000/config.json\n",
            "Model weights saved in ./log/checkpoint-135000/pytorch_model.bin\n",
            "tokenizer config file saved in ./log/checkpoint-135000/tokenizer_config.json\n",
            "Special tokens file saved in ./log/checkpoint-135000/special_tokens_map.json\n",
            "Deleting older checkpoint [log/checkpoint-120000] due to args.save_total_limit\n",
            "\n",
            "\n",
            "Training completed. Do not forget to share your model on huggingface.co/models =)\n",
            "\n",
            "\n",
            "Loading best model from ./log/checkpoint-112500 (score: 72.9474).\n"
          ]
        },
        {
          "output_type": "display_data",
          "data": {
            "text/plain": [
              "<IPython.core.display.HTML object>"
            ],
            "text/html": [
              "Waiting for W&B process to finish... <strong style=\"color:green\">(success).</strong>"
            ]
          },
          "metadata": {}
        },
        {
          "output_type": "display_data",
          "data": {
            "text/plain": [
              "VBox(children=(Label(value='0.001 MB of 0.001 MB uploaded (0.000 MB deduped)\\r'), FloatProgress(value=1.0, max…"
            ],
            "application/vnd.jupyter.widget-view+json": {
              "version_major": 2,
              "version_minor": 0,
              "model_id": "cd28c6def5724c90bc1585bafcc34c4c"
            }
          },
          "metadata": {}
        },
        {
          "output_type": "display_data",
          "data": {
            "text/plain": [
              "<IPython.core.display.HTML object>"
            ],
            "text/html": [
              "<style>\n",
              "    table.wandb td:nth-child(1) { padding: 0 10px; text-align: left ; width: auto;} td:nth-child(2) {text-align: left ; width: 100%}\n",
              "    .wandb-row { display: flex; flex-direction: row; flex-wrap: wrap; justify-content: flex-start; width: 100% }\n",
              "    .wandb-col { display: flex; flex-direction: column; flex-basis: 100%; flex: 1; padding: 10px; }\n",
              "    </style>\n",
              "<div class=\"wandb-row\"><div class=\"wandb-col\"><h3>Run history:</h3><br/><table class=\"wandb\"><tr><td>eval/gen_len</td><td>▁▁▃▅▅▆▄▇▇█▇▇█▇▇▇▇▇</td></tr><tr><td>eval/loss</td><td>█▅▃▂▂▂▂▂▁▁▁▁▁▁▁▁▁▁</td></tr><tr><td>eval/rouge1</td><td>▁▃▄▅▆▆▆▇▇▇████████</td></tr><tr><td>eval/rouge2</td><td>▁▃▄▅▅▆▅▆▇▇▇███████</td></tr><tr><td>eval/rougeL</td><td>▁▃▄▅▆▆▆▆▇▇████████</td></tr><tr><td>eval/rougeLsum</td><td>▁▃▄▅▆▆▆▇▇▇████████</td></tr><tr><td>eval/runtime</td><td>▄▃▂█▄▇▁▇▄▇▆▁▃▂▂▅▂▁</td></tr><tr><td>eval/samples_per_second</td><td>▅▆▇▁▅▂█▂▅▂▃█▆▇▇▄▇█</td></tr><tr><td>eval/steps_per_second</td><td>▅▆▇▁▅▂█▂▅▂▃█▆▇▇▄▇█</td></tr><tr><td>train/epoch</td><td>▁▁▁▂▂▂▂▂▂▃▃▃▃▃▄▄▄▄▄▄▅▅▅▅▅▅▆▆▆▆▆▇▇▇▇▇▇███</td></tr><tr><td>train/global_step</td><td>▁▁▁▁▂▂▂▂▂▃▃▃▃▃▃▄▄▄▄▄▅▅▅▅▅▅▆▆▆▆▆▇▇▇▇▇▇███</td></tr><tr><td>train/learning_rate</td><td>▁▁▂▃▃▄▄▅▅▆▆▇██████████████████████▇▇▇▇▇▇</td></tr><tr><td>train/loss</td><td>█▆▅▃▃▃▂▂▂▂▂▂▁▁▁▁▁▁▁▁▁▁▁▁▁▁▁▁▁▁▁▁▁▁▁▁▁▁▁▁</td></tr><tr><td>train/total_flos</td><td>▁</td></tr><tr><td>train/train_loss</td><td>▁</td></tr><tr><td>train/train_runtime</td><td>▁</td></tr><tr><td>train/train_samples_per_second</td><td>▁</td></tr><tr><td>train/train_steps_per_second</td><td>▁</td></tr></table><br/></div><div class=\"wandb-col\"><h3>Run summary:</h3><br/><table class=\"wandb\"><tr><td>eval/gen_len</td><td>39.8267</td></tr><tr><td>eval/loss</td><td>0.00452</td></tr><tr><td>eval/rouge1</td><td>72.8889</td></tr><tr><td>eval/rouge2</td><td>55.0</td></tr><tr><td>eval/rougeL</td><td>72.8889</td></tr><tr><td>eval/rougeLsum</td><td>72.7778</td></tr><tr><td>eval/runtime</td><td>138.7824</td></tr><tr><td>eval/samples_per_second</td><td>2.162</td></tr><tr><td>eval/steps_per_second</td><td>2.162</td></tr><tr><td>train/epoch</td><td>0.9</td></tr><tr><td>train/global_step</td><td>135000</td></tr><tr><td>train/learning_rate</td><td>2e-05</td></tr><tr><td>train/loss</td><td>0.0225</td></tr><tr><td>train/total_flos</td><td>4.1688155029248e+16</td></tr><tr><td>train/train_loss</td><td>0.21012</td></tr><tr><td>train/train_runtime</td><td>19127.5347</td></tr><tr><td>train/train_samples_per_second</td><td>23.526</td></tr><tr><td>train/train_steps_per_second</td><td>23.526</td></tr></table><br/></div></div>"
            ]
          },
          "metadata": {}
        },
        {
          "output_type": "display_data",
          "data": {
            "text/plain": [
              "<IPython.core.display.HTML object>"
            ],
            "text/html": [
              "Synced <strong style=\"color:#cdcd00\">2994-Samples-Augmented-to-150000-Samples</strong>: <a href=\"https://wandb.ai/dotsnangles/BART-Generative-Summarization/runs/3rjgzrsl\" target=\"_blank\">https://wandb.ai/dotsnangles/BART-Generative-Summarization/runs/3rjgzrsl</a><br/>Synced 5 W&B file(s), 0 media file(s), 0 artifact file(s) and 0 other file(s)"
            ]
          },
          "metadata": {}
        },
        {
          "output_type": "display_data",
          "data": {
            "text/plain": [
              "<IPython.core.display.HTML object>"
            ],
            "text/html": [
              "Find logs at: <code>./wandb/run-20220618_095652-3rjgzrsl/logs</code>"
            ]
          },
          "metadata": {}
        }
      ],
      "source": [
        "trainer.train()\n",
        "# wandb.finish()"
      ]
    },
    {
      "cell_type": "markdown",
      "source": [
        "### Resume Training from CKPT"
      ],
      "metadata": {
        "id": "Jyxo00EZbkZD"
      }
    },
    {
      "cell_type": "code",
      "execution_count": null,
      "metadata": {
        "colab": {
          "base_uri": "https://localhost:8080/",
          "height": 1000,
          "referenced_widgets": [
            "268405eba77f4193a8fbccb22ef5c7ed",
            "faa9217e6a7e43c2928cd6f5583aabbe",
            "4bb90a2fb55a4bca9ce321c925bdbb56",
            "dc12b5dd7d154652918742dd3e585784",
            "dfb7c554e3b647bda88147ef8e497969",
            "3c4d2cbc96174fa0aaa49dc4fb0cb436",
            "b9b165a482ea43a8863e4ab273cc1fe5",
            "10f1e5e8db1e471c98457e154028581a",
            "dbe39d74ad2f4f1c95776daf0eb13d86",
            "a49a46509a134c09986678ea3e533f93",
            "20565951275c48309b1e05cb2b88b8a2",
            "c1567285b0fa4af5813901437db022d6",
            "b70a70a251d843578f9efcb300ed63ca",
            "ba255769c2e44c44ae07fa3a83ef741e",
            "92e398953d6a48999e28ec152b612b4d",
            "64fc8c945cea452fba8ac2b62779dfff",
            "74452bca5401478db9cdc57be4c56174",
            "670f35021d484c7b823ff01dede5e8b8",
            "eea120a2b58540598fa5875599a67965"
          ]
        },
        "id": "z5Ir269RbNsr",
        "outputId": "b3ab3754-9056-4c12-ef76-88334c75158b"
      },
      "outputs": [
        {
          "output_type": "stream",
          "name": "stderr",
          "text": [
            "Loading model from /content/drive/MyDrive/checkpoint-135000.\n",
            "The following columns in the training set don't have a corresponding argument in `BartForConditionalGeneration.forward` and have been ignored: token_type_ids. If token_type_ids are not expected by `BartForConditionalGeneration.forward`,  you can safely ignore this message.\n",
            "/usr/local/lib/python3.7/dist-packages/transformers/optimization.py:310: FutureWarning: This implementation of AdamW is deprecated and will be removed in a future version. Use the PyTorch implementation torch.optim.AdamW instead, or set `no_deprecation_warning=True` to disable this warning\n",
            "  FutureWarning,\n",
            "***** Running training *****\n",
            "  Num examples = 150000\n",
            "  Num Epochs = 3\n",
            "  Instantaneous batch size per device = 1\n",
            "  Total train batch size (w. parallel, distributed & accumulation) = 1\n",
            "  Gradient Accumulation steps = 1\n",
            "  Total optimization steps = 450000\n",
            "  Continuing training from checkpoint, will skip to saved global_step\n",
            "  Continuing training from epoch 0\n",
            "  Continuing training from global step 135000\n",
            "  Will skip the first 0 epochs then the first 135000 batches in the first epoch. If this takes a lot of time, you can add the `--ignore_data_skip` flag to your launch command, but you will resume the training on data already seen by your model.\n"
          ]
        },
        {
          "output_type": "display_data",
          "data": {
            "text/plain": [
              "  0%|          | 0/135000 [00:00<?, ?it/s]"
            ],
            "application/vnd.jupyter.widget-view+json": {
              "version_major": 2,
              "version_minor": 0,
              "model_id": "268405eba77f4193a8fbccb22ef5c7ed"
            }
          },
          "metadata": {}
        },
        {
          "output_type": "stream",
          "name": "stderr",
          "text": [
            "Automatic Weights & Biases logging enabled, to disable set os.environ[\"WANDB_DISABLED\"] = \"true\"\n"
          ]
        },
        {
          "output_type": "display_data",
          "data": {
            "text/plain": [
              "<IPython.core.display.HTML object>"
            ],
            "text/html": [
              "\n",
              "    <div>\n",
              "      \n",
              "      <progress value='187500' max='450000' style='width:300px; height:20px; vertical-align: middle;'></progress>\n",
              "      [187500/450000 1:35:25 < 7:57:07, 9.17 it/s, Epoch 1/3]\n",
              "    </div>\n",
              "    <table border=\"1\" class=\"dataframe\">\n",
              "  <thead>\n",
              " <tr style=\"text-align: left;\">\n",
              "      <th>Step</th>\n",
              "      <th>Training Loss</th>\n",
              "      <th>Validation Loss</th>\n",
              "      <th>Rouge1</th>\n",
              "      <th>Rouge2</th>\n",
              "      <th>Rougel</th>\n",
              "      <th>Rougelsum</th>\n",
              "      <th>Gen Len</th>\n",
              "    </tr>\n",
              "  </thead>\n",
              "  <tbody>\n",
              "    <tr>\n",
              "      <td>142500</td>\n",
              "      <td>0.023600</td>\n",
              "      <td>0.005599</td>\n",
              "      <td>73.063900</td>\n",
              "      <td>54.669900</td>\n",
              "      <td>72.894400</td>\n",
              "      <td>72.969400</td>\n",
              "      <td>39.920000</td>\n",
              "    </tr>\n",
              "    <tr>\n",
              "      <td>150000</td>\n",
              "      <td>0.022100</td>\n",
              "      <td>0.005130</td>\n",
              "      <td>73.111100</td>\n",
              "      <td>55.000000</td>\n",
              "      <td>73.000000</td>\n",
              "      <td>73.000000</td>\n",
              "      <td>39.890000</td>\n",
              "    </tr>\n",
              "    <tr>\n",
              "      <td>157500</td>\n",
              "      <td>0.013400</td>\n",
              "      <td>0.004135</td>\n",
              "      <td>73.111100</td>\n",
              "      <td>54.733300</td>\n",
              "      <td>72.888900</td>\n",
              "      <td>73.000000</td>\n",
              "      <td>39.823300</td>\n",
              "    </tr>\n",
              "    <tr>\n",
              "      <td>165000</td>\n",
              "      <td>0.012600</td>\n",
              "      <td>0.004049</td>\n",
              "      <td>73.083300</td>\n",
              "      <td>54.909100</td>\n",
              "      <td>72.916700</td>\n",
              "      <td>72.944400</td>\n",
              "      <td>39.703300</td>\n",
              "    </tr>\n",
              "    <tr>\n",
              "      <td>172500</td>\n",
              "      <td>0.014900</td>\n",
              "      <td>0.007563</td>\n",
              "      <td>73.044400</td>\n",
              "      <td>54.666700</td>\n",
              "      <td>72.822200</td>\n",
              "      <td>72.950000</td>\n",
              "      <td>39.830000</td>\n",
              "    </tr>\n",
              "    <tr>\n",
              "      <td>180000</td>\n",
              "      <td>0.014200</td>\n",
              "      <td>0.009425</td>\n",
              "      <td>72.924100</td>\n",
              "      <td>54.545000</td>\n",
              "      <td>72.729600</td>\n",
              "      <td>72.777800</td>\n",
              "      <td>39.893300</td>\n",
              "    </tr>\n",
              "    <tr>\n",
              "      <td>187500</td>\n",
              "      <td>0.008700</td>\n",
              "      <td>0.007579</td>\n",
              "      <td>72.879900</td>\n",
              "      <td>54.409500</td>\n",
              "      <td>72.743800</td>\n",
              "      <td>72.811000</td>\n",
              "      <td>40.026700</td>\n",
              "    </tr>\n",
              "  </tbody>\n",
              "</table><p>"
            ]
          },
          "metadata": {}
        },
        {
          "output_type": "stream",
          "name": "stderr",
          "text": [
            "The following columns in the evaluation set don't have a corresponding argument in `BartForConditionalGeneration.forward` and have been ignored: token_type_ids. If token_type_ids are not expected by `BartForConditionalGeneration.forward`,  you can safely ignore this message.\n",
            "***** Running Evaluation *****\n",
            "  Num examples = 300\n",
            "  Batch size = 1\n",
            "Saving model checkpoint to ./log/checkpoint-142500\n",
            "Configuration saved in ./log/checkpoint-142500/config.json\n",
            "Model weights saved in ./log/checkpoint-142500/pytorch_model.bin\n",
            "tokenizer config file saved in ./log/checkpoint-142500/tokenizer_config.json\n",
            "Special tokens file saved in ./log/checkpoint-142500/special_tokens_map.json\n",
            "The following columns in the evaluation set don't have a corresponding argument in `BartForConditionalGeneration.forward` and have been ignored: token_type_ids. If token_type_ids are not expected by `BartForConditionalGeneration.forward`,  you can safely ignore this message.\n",
            "***** Running Evaluation *****\n",
            "  Num examples = 300\n",
            "  Batch size = 1\n",
            "Saving model checkpoint to ./log/checkpoint-150000\n",
            "Configuration saved in ./log/checkpoint-150000/config.json\n",
            "Model weights saved in ./log/checkpoint-150000/pytorch_model.bin\n",
            "tokenizer config file saved in ./log/checkpoint-150000/tokenizer_config.json\n",
            "Special tokens file saved in ./log/checkpoint-150000/special_tokens_map.json\n",
            "The following columns in the evaluation set don't have a corresponding argument in `BartForConditionalGeneration.forward` and have been ignored: token_type_ids. If token_type_ids are not expected by `BartForConditionalGeneration.forward`,  you can safely ignore this message.\n",
            "***** Running Evaluation *****\n",
            "  Num examples = 300\n",
            "  Batch size = 1\n",
            "Saving model checkpoint to ./log/checkpoint-157500\n",
            "Configuration saved in ./log/checkpoint-157500/config.json\n",
            "Model weights saved in ./log/checkpoint-157500/pytorch_model.bin\n",
            "tokenizer config file saved in ./log/checkpoint-157500/tokenizer_config.json\n",
            "Special tokens file saved in ./log/checkpoint-157500/special_tokens_map.json\n",
            "The following columns in the evaluation set don't have a corresponding argument in `BartForConditionalGeneration.forward` and have been ignored: token_type_ids. If token_type_ids are not expected by `BartForConditionalGeneration.forward`,  you can safely ignore this message.\n",
            "***** Running Evaluation *****\n",
            "  Num examples = 300\n",
            "  Batch size = 1\n",
            "Saving model checkpoint to ./log/checkpoint-165000\n",
            "Configuration saved in ./log/checkpoint-165000/config.json\n",
            "Model weights saved in ./log/checkpoint-165000/pytorch_model.bin\n",
            "tokenizer config file saved in ./log/checkpoint-165000/tokenizer_config.json\n",
            "Special tokens file saved in ./log/checkpoint-165000/special_tokens_map.json\n",
            "The following columns in the evaluation set don't have a corresponding argument in `BartForConditionalGeneration.forward` and have been ignored: token_type_ids. If token_type_ids are not expected by `BartForConditionalGeneration.forward`,  you can safely ignore this message.\n",
            "***** Running Evaluation *****\n",
            "  Num examples = 300\n",
            "  Batch size = 1\n",
            "Saving model checkpoint to ./log/checkpoint-172500\n",
            "Configuration saved in ./log/checkpoint-172500/config.json\n",
            "Model weights saved in ./log/checkpoint-172500/pytorch_model.bin\n",
            "tokenizer config file saved in ./log/checkpoint-172500/tokenizer_config.json\n",
            "Special tokens file saved in ./log/checkpoint-172500/special_tokens_map.json\n",
            "The following columns in the evaluation set don't have a corresponding argument in `BartForConditionalGeneration.forward` and have been ignored: token_type_ids. If token_type_ids are not expected by `BartForConditionalGeneration.forward`,  you can safely ignore this message.\n",
            "***** Running Evaluation *****\n",
            "  Num examples = 300\n",
            "  Batch size = 1\n",
            "Saving model checkpoint to ./log/checkpoint-180000\n",
            "Configuration saved in ./log/checkpoint-180000/config.json\n",
            "Model weights saved in ./log/checkpoint-180000/pytorch_model.bin\n",
            "tokenizer config file saved in ./log/checkpoint-180000/tokenizer_config.json\n",
            "Special tokens file saved in ./log/checkpoint-180000/special_tokens_map.json\n",
            "The following columns in the evaluation set don't have a corresponding argument in `BartForConditionalGeneration.forward` and have been ignored: token_type_ids. If token_type_ids are not expected by `BartForConditionalGeneration.forward`,  you can safely ignore this message.\n",
            "***** Running Evaluation *****\n",
            "  Num examples = 300\n",
            "  Batch size = 1\n",
            "Saving model checkpoint to ./log/checkpoint-187500\n",
            "Configuration saved in ./log/checkpoint-187500/config.json\n",
            "Model weights saved in ./log/checkpoint-187500/pytorch_model.bin\n",
            "tokenizer config file saved in ./log/checkpoint-187500/tokenizer_config.json\n",
            "Special tokens file saved in ./log/checkpoint-187500/special_tokens_map.json\n",
            "\n",
            "\n",
            "Training completed. Do not forget to share your model on huggingface.co/models =)\n",
            "\n",
            "\n",
            "Loading best model from ./log/checkpoint-150000 (score: 73.1111).\n"
          ]
        },
        {
          "output_type": "display_data",
          "data": {
            "text/plain": [
              "<IPython.core.display.HTML object>"
            ],
            "text/html": [
              "Waiting for W&B process to finish... <strong style=\"color:green\">(success).</strong>"
            ]
          },
          "metadata": {}
        },
        {
          "output_type": "display_data",
          "data": {
            "text/plain": [
              "VBox(children=(Label(value='0.001 MB of 0.001 MB uploaded (0.000 MB deduped)\\r'), FloatProgress(value=1.0, max…"
            ],
            "application/vnd.jupyter.widget-view+json": {
              "version_major": 2,
              "version_minor": 0,
              "model_id": "c1567285b0fa4af5813901437db022d6"
            }
          },
          "metadata": {}
        },
        {
          "output_type": "display_data",
          "data": {
            "text/plain": [
              "<IPython.core.display.HTML object>"
            ],
            "text/html": [
              "<style>\n",
              "    table.wandb td:nth-child(1) { padding: 0 10px; text-align: left ; width: auto;} td:nth-child(2) {text-align: left ; width: 100%}\n",
              "    .wandb-row { display: flex; flex-direction: row; flex-wrap: wrap; justify-content: flex-start; width: 100% }\n",
              "    .wandb-col { display: flex; flex-direction: column; flex-basis: 100%; flex: 1; padding: 10px; }\n",
              "    </style>\n",
              "<div class=\"wandb-row\"><div class=\"wandb-col\"><h3>Run history:</h3><br/><table class=\"wandb\"><tr><td>eval/gen_len</td><td>▆▅▄▁▄▅█</td></tr><tr><td>eval/loss</td><td>▃▂▁▁▆█▆</td></tr><tr><td>eval/rouge1</td><td>▇██▇▆▂▁</td></tr><tr><td>eval/rouge2</td><td>▄█▅▇▄▃▁</td></tr><tr><td>eval/rougeL</td><td>▅█▅▆▃▁▁</td></tr><tr><td>eval/rougeLsum</td><td>▇██▆▆▁▂</td></tr><tr><td>eval/runtime</td><td>▇█▁▅▂▇▂</td></tr><tr><td>eval/samples_per_second</td><td>▂▁█▄▇▂▇</td></tr><tr><td>eval/steps_per_second</td><td>▂▁█▄▇▂▇</td></tr><tr><td>train/epoch</td><td>▁▁▁▁▁▂▂▂▂▂▂▃▃▃▃▃▄▄▄▄▄▅▅▅▅▅▆▆▆▆▆▇▇▇▇▇▇███</td></tr><tr><td>train/global_step</td><td>▁▁▁▁▁▁▂▂▂▂▂▃▃▃▃▃▄▄▄▄▄▅▅▅▅▅▆▆▆▆▆▇▇▇▇▇▇███</td></tr><tr><td>train/learning_rate</td><td>██████▇▇▇▇▇▇▆▆▆▆▆▆▅▅▅▅▅▄▄▄▄▄▃▃▃▃▃▂▂▂▂▁▁▁</td></tr><tr><td>train/loss</td><td>▇▄▅▇▅▅▇▆▆▃▆█▄▅▄▂▂▄▄▃▃▃▄▂▃▃▄▄▂▃▄▃▃▄▃▄▄▄▁▁</td></tr><tr><td>train/total_flos</td><td>▁</td></tr><tr><td>train/train_loss</td><td>▁</td></tr><tr><td>train/train_runtime</td><td>▁</td></tr><tr><td>train/train_samples_per_second</td><td>▁</td></tr><tr><td>train/train_steps_per_second</td><td>▁</td></tr></table><br/></div><div class=\"wandb-col\"><h3>Run summary:</h3><br/><table class=\"wandb\"><tr><td>eval/gen_len</td><td>40.0267</td></tr><tr><td>eval/loss</td><td>0.00758</td></tr><tr><td>eval/rouge1</td><td>72.8799</td></tr><tr><td>eval/rouge2</td><td>54.4095</td></tr><tr><td>eval/rougeL</td><td>72.7438</td></tr><tr><td>eval/rougeLsum</td><td>72.811</td></tr><tr><td>eval/runtime</td><td>88.897</td></tr><tr><td>eval/samples_per_second</td><td>3.375</td></tr><tr><td>eval/steps_per_second</td><td>3.375</td></tr><tr><td>train/epoch</td><td>1.25</td></tr><tr><td>train/global_step</td><td>187500</td></tr><tr><td>train/learning_rate</td><td>1e-05</td></tr><tr><td>train/loss</td><td>0.0087</td></tr><tr><td>train/total_flos</td><td>5.78955961479168e+16</td></tr><tr><td>train/train_loss</td><td>0.00463</td></tr><tr><td>train/train_runtime</td><td>5827.89</td></tr><tr><td>train/train_samples_per_second</td><td>77.215</td></tr><tr><td>train/train_steps_per_second</td><td>77.215</td></tr></table><br/></div></div>"
            ]
          },
          "metadata": {}
        },
        {
          "output_type": "display_data",
          "data": {
            "text/plain": [
              "<IPython.core.display.HTML object>"
            ],
            "text/html": [
              "Synced <strong style=\"color:#cdcd00\">2994-Samples-Augmented-to-150000-Samples</strong>: <a href=\"https://wandb.ai/dotsnangles/BART-Generative-Summarization/runs/1wj5d0b5\" target=\"_blank\">https://wandb.ai/dotsnangles/BART-Generative-Summarization/runs/1wj5d0b5</a><br/>Synced 5 W&B file(s), 0 media file(s), 0 artifact file(s) and 0 other file(s)"
            ]
          },
          "metadata": {}
        },
        {
          "output_type": "display_data",
          "data": {
            "text/plain": [
              "<IPython.core.display.HTML object>"
            ],
            "text/html": [
              "Find logs at: <code>./wandb/run-20220618_163647-1wj5d0b5/logs</code>"
            ]
          },
          "metadata": {}
        }
      ],
      "source": [
        "trainer.train('/content/drive/MyDrive/checkpoint-135000')\n",
        "wandb.finish()"
      ]
    },
    {
      "cell_type": "code",
      "source": [
        "trainer.train('/content/log/checkpoint-187500')\n",
        "wandb.finish()"
      ],
      "metadata": {
        "id": "ygClZYL1EGDi"
      },
      "execution_count": null,
      "outputs": []
    },
    {
      "cell_type": "markdown",
      "metadata": {
        "id": "2L9idzyJ-vGO"
      },
      "source": [
        "### Save Model"
      ]
    },
    {
      "cell_type": "code",
      "execution_count": null,
      "metadata": {
        "id": "PWZgNViWxc5g"
      },
      "outputs": [],
      "source": [
        "gdrive_path = '/content/drive/MyDrive/Data Science/알파코 딥러닝 부트캠프/프로젝트/AI 기반 회의 녹취록 요약 경진대회'\n",
        "save_name = 'con2sum ainize-kobart-news 2994-Samples-Augmented-to-150000-Samples run 3 (from ckpt 187500)'"
      ]
    },
    {
      "cell_type": "code",
      "execution_count": null,
      "metadata": {
        "id": "ZOZ8YTSsw7wF"
      },
      "outputs": [],
      "source": [
        "model.save_pretrained(f'{gdrive_path}/save/{save_name}')\n",
        "tokenizer.save_pretrained(f'{gdrive_path}/save/{save_name}')"
      ]
    },
    {
      "cell_type": "markdown",
      "metadata": {
        "id": "W-C6-Dk6_HTR"
      },
      "source": [
        "### Load Model"
      ]
    },
    {
      "cell_type": "code",
      "execution_count": null,
      "metadata": {
        "id": "qHBClJt3_-SG"
      },
      "outputs": [],
      "source": [
        "gdrive_path = '/content/drive/MyDrive/문서 요약'"
      ]
    },
    {
      "cell_type": "code",
      "execution_count": null,
      "metadata": {
        "id": "A4FBpa2_04qb"
      },
      "outputs": [],
      "source": [
        "model = AutoModelForSeq2SeqLM.from_pretrained(f'{gdrive_path}/save')\n",
        "tokenizer = AutoTokenizer.from_pretrained(f'{gdrive_path}/save')"
      ]
    },
    {
      "cell_type": "code",
      "execution_count": null,
      "metadata": {
        "id": "VCI9_L8g_wTR"
      },
      "outputs": [],
      "source": [
        "per_device_train_batch_size = 1\n",
        "per_device_eval_batch_size = 1\n",
        "num_train_epochs = 10\n",
        "es = EarlyStoppingCallback(early_stopping_patience=3)\n",
        "data_collator = DataCollatorForSeq2Seq(tokenizer=tokenizer, model=model, padding=True)"
      ]
    },
    {
      "cell_type": "code",
      "execution_count": null,
      "metadata": {
        "id": "8Oasjem5_wTY"
      },
      "outputs": [],
      "source": [
        "training_args = Seq2SeqTrainingArguments(\n",
        "    output_dir=\"./log\",\n",
        "\n",
        "    num_train_epochs=num_train_epochs,\n",
        "    learning_rate=2e-5,\n",
        "\n",
        "    per_device_train_batch_size=per_device_train_batch_size,\n",
        "    # gradient_accumulation_steps=16,\n",
        "\n",
        "    per_device_eval_batch_size=per_device_eval_batch_size,\n",
        "    evaluation_strategy=\"epoch\",\n",
        "\n",
        "    save_strategy='epoch',\n",
        "    save_total_limit=3,\n",
        "\n",
        "    # fp16=True,\n",
        "\n",
        "    weight_decay=0.01,\n",
        "    # lr_scheduler_type='linear',\n",
        "    # warmup_ratio=0.1,\n",
        "\n",
        "    metric_for_best_model='eval_loss',\n",
        "    load_best_model_at_end=True,\n",
        "\n",
        "    predict_with_generate=True,\n",
        "    # generation_max_length=512,\n",
        "    # generation_num_beams=5,\n",
        ")"
      ]
    },
    {
      "cell_type": "code",
      "execution_count": null,
      "metadata": {
        "id": "3s5cPrjq_wTY"
      },
      "outputs": [],
      "source": [
        "trainer = Seq2SeqTrainer(\n",
        "    model=model,\n",
        "    args=training_args,\n",
        "    tokenizer=tokenizer,\n",
        "    data_collator=data_collator\n",
        ")"
      ]
    },
    {
      "cell_type": "code",
      "source": [
        "test_path = '/content/drive/MyDrive/장기 프로젝트/문서 요약/test_df.csv'\n",
        "\n",
        "test_df = pd.read_csv(test_path, index_col=False)\n",
        "test_df.drop(['Unnamed: 0', 'id', 'title', 'region', 'agenda', 'total'], axis=1, inplace=True)\n",
        "dataset = Dataset.from_pandas(test_df)\n",
        "\n",
        "dataset = dataset.map(preprocess_function, batched=True)"
      ],
      "metadata": {
        "id": "unSQ5NkNGspj"
      },
      "execution_count": null,
      "outputs": []
    },
    {
      "cell_type": "code",
      "execution_count": null,
      "metadata": {
        "colab": {
          "base_uri": "https://localhost:8080/",
          "height": 126
        },
        "id": "ePXZTlKZ_K5p",
        "outputId": "54f94303-3447-4982-e8d3-4a7951ca1bea"
      },
      "outputs": [
        {
          "name": "stderr",
          "output_type": "stream",
          "text": [
            "The following columns in the test set don't have a corresponding argument in `MT5ForConditionalGeneration.forward` and have been ignored: summary, context. If summary, context are not expected by `MT5ForConditionalGeneration.forward`,  you can safely ignore this message.\n",
            "***** Running Prediction *****\n",
            "  Num examples = 300\n",
            "  Batch size = 1\n"
          ]
        },
        {
          "data": {
            "text/html": [
              "\n",
              "    <div>\n",
              "      \n",
              "      <progress value='300' max='300' style='width:300px; height:20px; vertical-align: middle;'></progress>\n",
              "      [300/300 04:47]\n",
              "    </div>\n",
              "    "
            ],
            "text/plain": [
              "<IPython.core.display.HTML object>"
            ]
          },
          "metadata": {},
          "output_type": "display_data"
        }
      ],
      "source": [
        "preds = trainer.predict(dataset)"
      ]
    },
    {
      "cell_type": "code",
      "source": [
        "summary = []\n",
        "\n",
        "for pred in preds.predictions:\n",
        "    pred = tokenizer.decode(pred, skip_special_tokens=True)\n",
        "    summary.append(pred)"
      ],
      "metadata": {
        "id": "dv0jT5MvG553"
      },
      "execution_count": null,
      "outputs": []
    },
    {
      "cell_type": "code",
      "source": [
        "sample_path = '/content/drive/MyDrive/장기 프로젝트/문서 요약/sample_submission.csv'\n",
        "\n",
        "result = pd.read_csv(sample_path)\n",
        "result['summary'] = summary\n",
        "\n",
        "result.to_csv('result_kobart-news_24만개_6.csv', index=False)"
      ],
      "metadata": {
        "id": "-jPL4fmgG7Pa"
      },
      "execution_count": null,
      "outputs": []
    }
  ],
  "metadata": {
    "accelerator": "GPU",
    "colab": {
      "collapsed_sections": [
        "_53bFlvH1rWo"
      ],
      "machine_shape": "hm",
      "name": "[Main]_Modeling_&_Prediction.ipynb",
      "provenance": [],
      "include_colab_link": true
    },
    "gpuClass": "standard",
    "kernelspec": {
      "display_name": "Python 3",
      "name": "python3"
    },
    "language_info": {
      "name": "python"
    },
    "widgets": {
      "application/vnd.jupyter.widget-state+json": {
        "ab8d24ea145e4b3bb1988312ff01f420": {
          "model_module": "@jupyter-widgets/controls",
          "model_name": "HBoxModel",
          "model_module_version": "1.5.0",
          "state": {
            "_dom_classes": [],
            "_model_module": "@jupyter-widgets/controls",
            "_model_module_version": "1.5.0",
            "_model_name": "HBoxModel",
            "_view_count": null,
            "_view_module": "@jupyter-widgets/controls",
            "_view_module_version": "1.5.0",
            "_view_name": "HBoxView",
            "box_style": "",
            "children": [
              "IPY_MODEL_8e6e675ec99f456e92dcdcdca360442d",
              "IPY_MODEL_5653e4cccf9d4a989a4a010dd911dc7a",
              "IPY_MODEL_e606736039134aa0aa3bb7887fcba3e3"
            ],
            "layout": "IPY_MODEL_2758eb6859ea48a5a625cec08db36e1b"
          }
        },
        "8e6e675ec99f456e92dcdcdca360442d": {
          "model_module": "@jupyter-widgets/controls",
          "model_name": "HTMLModel",
          "model_module_version": "1.5.0",
          "state": {
            "_dom_classes": [],
            "_model_module": "@jupyter-widgets/controls",
            "_model_module_version": "1.5.0",
            "_model_name": "HTMLModel",
            "_view_count": null,
            "_view_module": "@jupyter-widgets/controls",
            "_view_module_version": "1.5.0",
            "_view_name": "HTMLView",
            "description": "",
            "description_tooltip": null,
            "layout": "IPY_MODEL_5195dbf0335c4d089b8d326a51362b11",
            "placeholder": "​",
            "style": "IPY_MODEL_a5589ffa9a954bef927ba78e1346f83f",
            "value": "#0:  66%"
          }
        },
        "5653e4cccf9d4a989a4a010dd911dc7a": {
          "model_module": "@jupyter-widgets/controls",
          "model_name": "FloatProgressModel",
          "model_module_version": "1.5.0",
          "state": {
            "_dom_classes": [],
            "_model_module": "@jupyter-widgets/controls",
            "_model_module_version": "1.5.0",
            "_model_name": "FloatProgressModel",
            "_view_count": null,
            "_view_module": "@jupyter-widgets/controls",
            "_view_module_version": "1.5.0",
            "_view_name": "ProgressView",
            "bar_style": "",
            "description": "",
            "description_tooltip": null,
            "layout": "IPY_MODEL_3d873d1d9607464ab70820b49c3151a8",
            "max": 38,
            "min": 0,
            "orientation": "horizontal",
            "style": "IPY_MODEL_b38623cd4f8d4c2d8b10c16a1e7ccd35",
            "value": 25
          }
        },
        "e606736039134aa0aa3bb7887fcba3e3": {
          "model_module": "@jupyter-widgets/controls",
          "model_name": "HTMLModel",
          "model_module_version": "1.5.0",
          "state": {
            "_dom_classes": [],
            "_model_module": "@jupyter-widgets/controls",
            "_model_module_version": "1.5.0",
            "_model_name": "HTMLModel",
            "_view_count": null,
            "_view_module": "@jupyter-widgets/controls",
            "_view_module_version": "1.5.0",
            "_view_name": "HTMLView",
            "description": "",
            "description_tooltip": null,
            "layout": "IPY_MODEL_c26368152c9d42da8522b3efe1f653a1",
            "placeholder": "​",
            "style": "IPY_MODEL_84aa4c7c9b164fb6b5d017258ea558ed",
            "value": " 25/38 [01:27&lt;00:43,  3.38s/ba]"
          }
        },
        "2758eb6859ea48a5a625cec08db36e1b": {
          "model_module": "@jupyter-widgets/base",
          "model_name": "LayoutModel",
          "model_module_version": "1.2.0",
          "state": {
            "_model_module": "@jupyter-widgets/base",
            "_model_module_version": "1.2.0",
            "_model_name": "LayoutModel",
            "_view_count": null,
            "_view_module": "@jupyter-widgets/base",
            "_view_module_version": "1.2.0",
            "_view_name": "LayoutView",
            "align_content": null,
            "align_items": null,
            "align_self": null,
            "border": null,
            "bottom": null,
            "display": null,
            "flex": null,
            "flex_flow": null,
            "grid_area": null,
            "grid_auto_columns": null,
            "grid_auto_flow": null,
            "grid_auto_rows": null,
            "grid_column": null,
            "grid_gap": null,
            "grid_row": null,
            "grid_template_areas": null,
            "grid_template_columns": null,
            "grid_template_rows": null,
            "height": null,
            "justify_content": null,
            "justify_items": null,
            "left": null,
            "margin": null,
            "max_height": null,
            "max_width": null,
            "min_height": null,
            "min_width": null,
            "object_fit": null,
            "object_position": null,
            "order": null,
            "overflow": null,
            "overflow_x": null,
            "overflow_y": null,
            "padding": null,
            "right": null,
            "top": null,
            "visibility": null,
            "width": null
          }
        },
        "5195dbf0335c4d089b8d326a51362b11": {
          "model_module": "@jupyter-widgets/base",
          "model_name": "LayoutModel",
          "model_module_version": "1.2.0",
          "state": {
            "_model_module": "@jupyter-widgets/base",
            "_model_module_version": "1.2.0",
            "_model_name": "LayoutModel",
            "_view_count": null,
            "_view_module": "@jupyter-widgets/base",
            "_view_module_version": "1.2.0",
            "_view_name": "LayoutView",
            "align_content": null,
            "align_items": null,
            "align_self": null,
            "border": null,
            "bottom": null,
            "display": null,
            "flex": null,
            "flex_flow": null,
            "grid_area": null,
            "grid_auto_columns": null,
            "grid_auto_flow": null,
            "grid_auto_rows": null,
            "grid_column": null,
            "grid_gap": null,
            "grid_row": null,
            "grid_template_areas": null,
            "grid_template_columns": null,
            "grid_template_rows": null,
            "height": null,
            "justify_content": null,
            "justify_items": null,
            "left": null,
            "margin": null,
            "max_height": null,
            "max_width": null,
            "min_height": null,
            "min_width": null,
            "object_fit": null,
            "object_position": null,
            "order": null,
            "overflow": null,
            "overflow_x": null,
            "overflow_y": null,
            "padding": null,
            "right": null,
            "top": null,
            "visibility": null,
            "width": null
          }
        },
        "a5589ffa9a954bef927ba78e1346f83f": {
          "model_module": "@jupyter-widgets/controls",
          "model_name": "DescriptionStyleModel",
          "model_module_version": "1.5.0",
          "state": {
            "_model_module": "@jupyter-widgets/controls",
            "_model_module_version": "1.5.0",
            "_model_name": "DescriptionStyleModel",
            "_view_count": null,
            "_view_module": "@jupyter-widgets/base",
            "_view_module_version": "1.2.0",
            "_view_name": "StyleView",
            "description_width": ""
          }
        },
        "3d873d1d9607464ab70820b49c3151a8": {
          "model_module": "@jupyter-widgets/base",
          "model_name": "LayoutModel",
          "model_module_version": "1.2.0",
          "state": {
            "_model_module": "@jupyter-widgets/base",
            "_model_module_version": "1.2.0",
            "_model_name": "LayoutModel",
            "_view_count": null,
            "_view_module": "@jupyter-widgets/base",
            "_view_module_version": "1.2.0",
            "_view_name": "LayoutView",
            "align_content": null,
            "align_items": null,
            "align_self": null,
            "border": null,
            "bottom": null,
            "display": null,
            "flex": null,
            "flex_flow": null,
            "grid_area": null,
            "grid_auto_columns": null,
            "grid_auto_flow": null,
            "grid_auto_rows": null,
            "grid_column": null,
            "grid_gap": null,
            "grid_row": null,
            "grid_template_areas": null,
            "grid_template_columns": null,
            "grid_template_rows": null,
            "height": null,
            "justify_content": null,
            "justify_items": null,
            "left": null,
            "margin": null,
            "max_height": null,
            "max_width": null,
            "min_height": null,
            "min_width": null,
            "object_fit": null,
            "object_position": null,
            "order": null,
            "overflow": null,
            "overflow_x": null,
            "overflow_y": null,
            "padding": null,
            "right": null,
            "top": null,
            "visibility": null,
            "width": null
          }
        },
        "b38623cd4f8d4c2d8b10c16a1e7ccd35": {
          "model_module": "@jupyter-widgets/controls",
          "model_name": "ProgressStyleModel",
          "model_module_version": "1.5.0",
          "state": {
            "_model_module": "@jupyter-widgets/controls",
            "_model_module_version": "1.5.0",
            "_model_name": "ProgressStyleModel",
            "_view_count": null,
            "_view_module": "@jupyter-widgets/base",
            "_view_module_version": "1.2.0",
            "_view_name": "StyleView",
            "bar_color": null,
            "description_width": ""
          }
        },
        "c26368152c9d42da8522b3efe1f653a1": {
          "model_module": "@jupyter-widgets/base",
          "model_name": "LayoutModel",
          "model_module_version": "1.2.0",
          "state": {
            "_model_module": "@jupyter-widgets/base",
            "_model_module_version": "1.2.0",
            "_model_name": "LayoutModel",
            "_view_count": null,
            "_view_module": "@jupyter-widgets/base",
            "_view_module_version": "1.2.0",
            "_view_name": "LayoutView",
            "align_content": null,
            "align_items": null,
            "align_self": null,
            "border": null,
            "bottom": null,
            "display": null,
            "flex": null,
            "flex_flow": null,
            "grid_area": null,
            "grid_auto_columns": null,
            "grid_auto_flow": null,
            "grid_auto_rows": null,
            "grid_column": null,
            "grid_gap": null,
            "grid_row": null,
            "grid_template_areas": null,
            "grid_template_columns": null,
            "grid_template_rows": null,
            "height": null,
            "justify_content": null,
            "justify_items": null,
            "left": null,
            "margin": null,
            "max_height": null,
            "max_width": null,
            "min_height": null,
            "min_width": null,
            "object_fit": null,
            "object_position": null,
            "order": null,
            "overflow": null,
            "overflow_x": null,
            "overflow_y": null,
            "padding": null,
            "right": null,
            "top": null,
            "visibility": null,
            "width": null
          }
        },
        "84aa4c7c9b164fb6b5d017258ea558ed": {
          "model_module": "@jupyter-widgets/controls",
          "model_name": "DescriptionStyleModel",
          "model_module_version": "1.5.0",
          "state": {
            "_model_module": "@jupyter-widgets/controls",
            "_model_module_version": "1.5.0",
            "_model_name": "DescriptionStyleModel",
            "_view_count": null,
            "_view_module": "@jupyter-widgets/base",
            "_view_module_version": "1.2.0",
            "_view_name": "StyleView",
            "description_width": ""
          }
        },
        "e4a575feb88a4a5abf7160f781c6c733": {
          "model_module": "@jupyter-widgets/controls",
          "model_name": "HBoxModel",
          "model_module_version": "1.5.0",
          "state": {
            "_dom_classes": [],
            "_model_module": "@jupyter-widgets/controls",
            "_model_module_version": "1.5.0",
            "_model_name": "HBoxModel",
            "_view_count": null,
            "_view_module": "@jupyter-widgets/controls",
            "_view_module_version": "1.5.0",
            "_view_name": "HBoxView",
            "box_style": "",
            "children": [
              "IPY_MODEL_6cac3949188e4e8f8ef96a52979c1048",
              "IPY_MODEL_2021ee177f974b449a8e29c73afb9122",
              "IPY_MODEL_df50f38647754a50aa6c1aa870bd3d96"
            ],
            "layout": "IPY_MODEL_e7732761ef074c7e82db914aa5ca387f"
          }
        },
        "6cac3949188e4e8f8ef96a52979c1048": {
          "model_module": "@jupyter-widgets/controls",
          "model_name": "HTMLModel",
          "model_module_version": "1.5.0",
          "state": {
            "_dom_classes": [],
            "_model_module": "@jupyter-widgets/controls",
            "_model_module_version": "1.5.0",
            "_model_name": "HTMLModel",
            "_view_count": null,
            "_view_module": "@jupyter-widgets/controls",
            "_view_module_version": "1.5.0",
            "_view_name": "HTMLView",
            "description": "",
            "description_tooltip": null,
            "layout": "IPY_MODEL_3f056a6b39294368b5834706f0021875",
            "placeholder": "​",
            "style": "IPY_MODEL_cce3996acaa644078556fdf560d57d68",
            "value": "#1:  61%"
          }
        },
        "2021ee177f974b449a8e29c73afb9122": {
          "model_module": "@jupyter-widgets/controls",
          "model_name": "FloatProgressModel",
          "model_module_version": "1.5.0",
          "state": {
            "_dom_classes": [],
            "_model_module": "@jupyter-widgets/controls",
            "_model_module_version": "1.5.0",
            "_model_name": "FloatProgressModel",
            "_view_count": null,
            "_view_module": "@jupyter-widgets/controls",
            "_view_module_version": "1.5.0",
            "_view_name": "ProgressView",
            "bar_style": "",
            "description": "",
            "description_tooltip": null,
            "layout": "IPY_MODEL_6cf2330fa1a74131810f89eef1815192",
            "max": 38,
            "min": 0,
            "orientation": "horizontal",
            "style": "IPY_MODEL_bc7d418de16048548251d075fcca3976",
            "value": 23
          }
        },
        "df50f38647754a50aa6c1aa870bd3d96": {
          "model_module": "@jupyter-widgets/controls",
          "model_name": "HTMLModel",
          "model_module_version": "1.5.0",
          "state": {
            "_dom_classes": [],
            "_model_module": "@jupyter-widgets/controls",
            "_model_module_version": "1.5.0",
            "_model_name": "HTMLModel",
            "_view_count": null,
            "_view_module": "@jupyter-widgets/controls",
            "_view_module_version": "1.5.0",
            "_view_name": "HTMLView",
            "description": "",
            "description_tooltip": null,
            "layout": "IPY_MODEL_fee4c5b3af6f456599b0d5e442aeac74",
            "placeholder": "​",
            "style": "IPY_MODEL_e9001e3b4242446e91412752ea1b562f",
            "value": " 23/38 [01:22&lt;00:51,  3.41s/ba]"
          }
        },
        "e7732761ef074c7e82db914aa5ca387f": {
          "model_module": "@jupyter-widgets/base",
          "model_name": "LayoutModel",
          "model_module_version": "1.2.0",
          "state": {
            "_model_module": "@jupyter-widgets/base",
            "_model_module_version": "1.2.0",
            "_model_name": "LayoutModel",
            "_view_count": null,
            "_view_module": "@jupyter-widgets/base",
            "_view_module_version": "1.2.0",
            "_view_name": "LayoutView",
            "align_content": null,
            "align_items": null,
            "align_self": null,
            "border": null,
            "bottom": null,
            "display": null,
            "flex": null,
            "flex_flow": null,
            "grid_area": null,
            "grid_auto_columns": null,
            "grid_auto_flow": null,
            "grid_auto_rows": null,
            "grid_column": null,
            "grid_gap": null,
            "grid_row": null,
            "grid_template_areas": null,
            "grid_template_columns": null,
            "grid_template_rows": null,
            "height": null,
            "justify_content": null,
            "justify_items": null,
            "left": null,
            "margin": null,
            "max_height": null,
            "max_width": null,
            "min_height": null,
            "min_width": null,
            "object_fit": null,
            "object_position": null,
            "order": null,
            "overflow": null,
            "overflow_x": null,
            "overflow_y": null,
            "padding": null,
            "right": null,
            "top": null,
            "visibility": null,
            "width": null
          }
        },
        "3f056a6b39294368b5834706f0021875": {
          "model_module": "@jupyter-widgets/base",
          "model_name": "LayoutModel",
          "model_module_version": "1.2.0",
          "state": {
            "_model_module": "@jupyter-widgets/base",
            "_model_module_version": "1.2.0",
            "_model_name": "LayoutModel",
            "_view_count": null,
            "_view_module": "@jupyter-widgets/base",
            "_view_module_version": "1.2.0",
            "_view_name": "LayoutView",
            "align_content": null,
            "align_items": null,
            "align_self": null,
            "border": null,
            "bottom": null,
            "display": null,
            "flex": null,
            "flex_flow": null,
            "grid_area": null,
            "grid_auto_columns": null,
            "grid_auto_flow": null,
            "grid_auto_rows": null,
            "grid_column": null,
            "grid_gap": null,
            "grid_row": null,
            "grid_template_areas": null,
            "grid_template_columns": null,
            "grid_template_rows": null,
            "height": null,
            "justify_content": null,
            "justify_items": null,
            "left": null,
            "margin": null,
            "max_height": null,
            "max_width": null,
            "min_height": null,
            "min_width": null,
            "object_fit": null,
            "object_position": null,
            "order": null,
            "overflow": null,
            "overflow_x": null,
            "overflow_y": null,
            "padding": null,
            "right": null,
            "top": null,
            "visibility": null,
            "width": null
          }
        },
        "cce3996acaa644078556fdf560d57d68": {
          "model_module": "@jupyter-widgets/controls",
          "model_name": "DescriptionStyleModel",
          "model_module_version": "1.5.0",
          "state": {
            "_model_module": "@jupyter-widgets/controls",
            "_model_module_version": "1.5.0",
            "_model_name": "DescriptionStyleModel",
            "_view_count": null,
            "_view_module": "@jupyter-widgets/base",
            "_view_module_version": "1.2.0",
            "_view_name": "StyleView",
            "description_width": ""
          }
        },
        "6cf2330fa1a74131810f89eef1815192": {
          "model_module": "@jupyter-widgets/base",
          "model_name": "LayoutModel",
          "model_module_version": "1.2.0",
          "state": {
            "_model_module": "@jupyter-widgets/base",
            "_model_module_version": "1.2.0",
            "_model_name": "LayoutModel",
            "_view_count": null,
            "_view_module": "@jupyter-widgets/base",
            "_view_module_version": "1.2.0",
            "_view_name": "LayoutView",
            "align_content": null,
            "align_items": null,
            "align_self": null,
            "border": null,
            "bottom": null,
            "display": null,
            "flex": null,
            "flex_flow": null,
            "grid_area": null,
            "grid_auto_columns": null,
            "grid_auto_flow": null,
            "grid_auto_rows": null,
            "grid_column": null,
            "grid_gap": null,
            "grid_row": null,
            "grid_template_areas": null,
            "grid_template_columns": null,
            "grid_template_rows": null,
            "height": null,
            "justify_content": null,
            "justify_items": null,
            "left": null,
            "margin": null,
            "max_height": null,
            "max_width": null,
            "min_height": null,
            "min_width": null,
            "object_fit": null,
            "object_position": null,
            "order": null,
            "overflow": null,
            "overflow_x": null,
            "overflow_y": null,
            "padding": null,
            "right": null,
            "top": null,
            "visibility": null,
            "width": null
          }
        },
        "bc7d418de16048548251d075fcca3976": {
          "model_module": "@jupyter-widgets/controls",
          "model_name": "ProgressStyleModel",
          "model_module_version": "1.5.0",
          "state": {
            "_model_module": "@jupyter-widgets/controls",
            "_model_module_version": "1.5.0",
            "_model_name": "ProgressStyleModel",
            "_view_count": null,
            "_view_module": "@jupyter-widgets/base",
            "_view_module_version": "1.2.0",
            "_view_name": "StyleView",
            "bar_color": null,
            "description_width": ""
          }
        },
        "fee4c5b3af6f456599b0d5e442aeac74": {
          "model_module": "@jupyter-widgets/base",
          "model_name": "LayoutModel",
          "model_module_version": "1.2.0",
          "state": {
            "_model_module": "@jupyter-widgets/base",
            "_model_module_version": "1.2.0",
            "_model_name": "LayoutModel",
            "_view_count": null,
            "_view_module": "@jupyter-widgets/base",
            "_view_module_version": "1.2.0",
            "_view_name": "LayoutView",
            "align_content": null,
            "align_items": null,
            "align_self": null,
            "border": null,
            "bottom": null,
            "display": null,
            "flex": null,
            "flex_flow": null,
            "grid_area": null,
            "grid_auto_columns": null,
            "grid_auto_flow": null,
            "grid_auto_rows": null,
            "grid_column": null,
            "grid_gap": null,
            "grid_row": null,
            "grid_template_areas": null,
            "grid_template_columns": null,
            "grid_template_rows": null,
            "height": null,
            "justify_content": null,
            "justify_items": null,
            "left": null,
            "margin": null,
            "max_height": null,
            "max_width": null,
            "min_height": null,
            "min_width": null,
            "object_fit": null,
            "object_position": null,
            "order": null,
            "overflow": null,
            "overflow_x": null,
            "overflow_y": null,
            "padding": null,
            "right": null,
            "top": null,
            "visibility": null,
            "width": null
          }
        },
        "e9001e3b4242446e91412752ea1b562f": {
          "model_module": "@jupyter-widgets/controls",
          "model_name": "DescriptionStyleModel",
          "model_module_version": "1.5.0",
          "state": {
            "_model_module": "@jupyter-widgets/controls",
            "_model_module_version": "1.5.0",
            "_model_name": "DescriptionStyleModel",
            "_view_count": null,
            "_view_module": "@jupyter-widgets/base",
            "_view_module_version": "1.2.0",
            "_view_name": "StyleView",
            "description_width": ""
          }
        },
        "177875bc9efc49d28617dc6c43e009e7": {
          "model_module": "@jupyter-widgets/controls",
          "model_name": "HBoxModel",
          "model_module_version": "1.5.0",
          "state": {
            "_dom_classes": [],
            "_model_module": "@jupyter-widgets/controls",
            "_model_module_version": "1.5.0",
            "_model_name": "HBoxModel",
            "_view_count": null,
            "_view_module": "@jupyter-widgets/controls",
            "_view_module_version": "1.5.0",
            "_view_name": "HBoxView",
            "box_style": "",
            "children": [
              "IPY_MODEL_6550cc895b514f4ab794434192564122",
              "IPY_MODEL_5a587c9d361241b1a5abf5db40e57da2",
              "IPY_MODEL_b2bb59a51b4e4ebfb680bf7e05a37408"
            ],
            "layout": "IPY_MODEL_99b7efdba1b343c891084964ef621792"
          }
        },
        "6550cc895b514f4ab794434192564122": {
          "model_module": "@jupyter-widgets/controls",
          "model_name": "HTMLModel",
          "model_module_version": "1.5.0",
          "state": {
            "_dom_classes": [],
            "_model_module": "@jupyter-widgets/controls",
            "_model_module_version": "1.5.0",
            "_model_name": "HTMLModel",
            "_view_count": null,
            "_view_module": "@jupyter-widgets/controls",
            "_view_module_version": "1.5.0",
            "_view_name": "HTMLView",
            "description": "",
            "description_tooltip": null,
            "layout": "IPY_MODEL_de2ce05306634713b7aebdc7b1a7553f",
            "placeholder": "​",
            "style": "IPY_MODEL_61aeca32167e4f1cbfb35331b52f33f4",
            "value": "#2:  61%"
          }
        },
        "5a587c9d361241b1a5abf5db40e57da2": {
          "model_module": "@jupyter-widgets/controls",
          "model_name": "FloatProgressModel",
          "model_module_version": "1.5.0",
          "state": {
            "_dom_classes": [],
            "_model_module": "@jupyter-widgets/controls",
            "_model_module_version": "1.5.0",
            "_model_name": "FloatProgressModel",
            "_view_count": null,
            "_view_module": "@jupyter-widgets/controls",
            "_view_module_version": "1.5.0",
            "_view_name": "ProgressView",
            "bar_style": "",
            "description": "",
            "description_tooltip": null,
            "layout": "IPY_MODEL_4e64e896cd214c2f850e3fed700ccd74",
            "max": 38,
            "min": 0,
            "orientation": "horizontal",
            "style": "IPY_MODEL_2beab064d87f4bb5a6f120330ae87c33",
            "value": 23
          }
        },
        "b2bb59a51b4e4ebfb680bf7e05a37408": {
          "model_module": "@jupyter-widgets/controls",
          "model_name": "HTMLModel",
          "model_module_version": "1.5.0",
          "state": {
            "_dom_classes": [],
            "_model_module": "@jupyter-widgets/controls",
            "_model_module_version": "1.5.0",
            "_model_name": "HTMLModel",
            "_view_count": null,
            "_view_module": "@jupyter-widgets/controls",
            "_view_module_version": "1.5.0",
            "_view_name": "HTMLView",
            "description": "",
            "description_tooltip": null,
            "layout": "IPY_MODEL_f4cf7e6f867a4848bb1eb48f5c920f4c",
            "placeholder": "​",
            "style": "IPY_MODEL_f12e59abf7874a99b255cc7634ad1b89",
            "value": " 23/38 [01:19&lt;00:49,  3.28s/ba]"
          }
        },
        "99b7efdba1b343c891084964ef621792": {
          "model_module": "@jupyter-widgets/base",
          "model_name": "LayoutModel",
          "model_module_version": "1.2.0",
          "state": {
            "_model_module": "@jupyter-widgets/base",
            "_model_module_version": "1.2.0",
            "_model_name": "LayoutModel",
            "_view_count": null,
            "_view_module": "@jupyter-widgets/base",
            "_view_module_version": "1.2.0",
            "_view_name": "LayoutView",
            "align_content": null,
            "align_items": null,
            "align_self": null,
            "border": null,
            "bottom": null,
            "display": null,
            "flex": null,
            "flex_flow": null,
            "grid_area": null,
            "grid_auto_columns": null,
            "grid_auto_flow": null,
            "grid_auto_rows": null,
            "grid_column": null,
            "grid_gap": null,
            "grid_row": null,
            "grid_template_areas": null,
            "grid_template_columns": null,
            "grid_template_rows": null,
            "height": null,
            "justify_content": null,
            "justify_items": null,
            "left": null,
            "margin": null,
            "max_height": null,
            "max_width": null,
            "min_height": null,
            "min_width": null,
            "object_fit": null,
            "object_position": null,
            "order": null,
            "overflow": null,
            "overflow_x": null,
            "overflow_y": null,
            "padding": null,
            "right": null,
            "top": null,
            "visibility": null,
            "width": null
          }
        },
        "de2ce05306634713b7aebdc7b1a7553f": {
          "model_module": "@jupyter-widgets/base",
          "model_name": "LayoutModel",
          "model_module_version": "1.2.0",
          "state": {
            "_model_module": "@jupyter-widgets/base",
            "_model_module_version": "1.2.0",
            "_model_name": "LayoutModel",
            "_view_count": null,
            "_view_module": "@jupyter-widgets/base",
            "_view_module_version": "1.2.0",
            "_view_name": "LayoutView",
            "align_content": null,
            "align_items": null,
            "align_self": null,
            "border": null,
            "bottom": null,
            "display": null,
            "flex": null,
            "flex_flow": null,
            "grid_area": null,
            "grid_auto_columns": null,
            "grid_auto_flow": null,
            "grid_auto_rows": null,
            "grid_column": null,
            "grid_gap": null,
            "grid_row": null,
            "grid_template_areas": null,
            "grid_template_columns": null,
            "grid_template_rows": null,
            "height": null,
            "justify_content": null,
            "justify_items": null,
            "left": null,
            "margin": null,
            "max_height": null,
            "max_width": null,
            "min_height": null,
            "min_width": null,
            "object_fit": null,
            "object_position": null,
            "order": null,
            "overflow": null,
            "overflow_x": null,
            "overflow_y": null,
            "padding": null,
            "right": null,
            "top": null,
            "visibility": null,
            "width": null
          }
        },
        "61aeca32167e4f1cbfb35331b52f33f4": {
          "model_module": "@jupyter-widgets/controls",
          "model_name": "DescriptionStyleModel",
          "model_module_version": "1.5.0",
          "state": {
            "_model_module": "@jupyter-widgets/controls",
            "_model_module_version": "1.5.0",
            "_model_name": "DescriptionStyleModel",
            "_view_count": null,
            "_view_module": "@jupyter-widgets/base",
            "_view_module_version": "1.2.0",
            "_view_name": "StyleView",
            "description_width": ""
          }
        },
        "4e64e896cd214c2f850e3fed700ccd74": {
          "model_module": "@jupyter-widgets/base",
          "model_name": "LayoutModel",
          "model_module_version": "1.2.0",
          "state": {
            "_model_module": "@jupyter-widgets/base",
            "_model_module_version": "1.2.0",
            "_model_name": "LayoutModel",
            "_view_count": null,
            "_view_module": "@jupyter-widgets/base",
            "_view_module_version": "1.2.0",
            "_view_name": "LayoutView",
            "align_content": null,
            "align_items": null,
            "align_self": null,
            "border": null,
            "bottom": null,
            "display": null,
            "flex": null,
            "flex_flow": null,
            "grid_area": null,
            "grid_auto_columns": null,
            "grid_auto_flow": null,
            "grid_auto_rows": null,
            "grid_column": null,
            "grid_gap": null,
            "grid_row": null,
            "grid_template_areas": null,
            "grid_template_columns": null,
            "grid_template_rows": null,
            "height": null,
            "justify_content": null,
            "justify_items": null,
            "left": null,
            "margin": null,
            "max_height": null,
            "max_width": null,
            "min_height": null,
            "min_width": null,
            "object_fit": null,
            "object_position": null,
            "order": null,
            "overflow": null,
            "overflow_x": null,
            "overflow_y": null,
            "padding": null,
            "right": null,
            "top": null,
            "visibility": null,
            "width": null
          }
        },
        "2beab064d87f4bb5a6f120330ae87c33": {
          "model_module": "@jupyter-widgets/controls",
          "model_name": "ProgressStyleModel",
          "model_module_version": "1.5.0",
          "state": {
            "_model_module": "@jupyter-widgets/controls",
            "_model_module_version": "1.5.0",
            "_model_name": "ProgressStyleModel",
            "_view_count": null,
            "_view_module": "@jupyter-widgets/base",
            "_view_module_version": "1.2.0",
            "_view_name": "StyleView",
            "bar_color": null,
            "description_width": ""
          }
        },
        "f4cf7e6f867a4848bb1eb48f5c920f4c": {
          "model_module": "@jupyter-widgets/base",
          "model_name": "LayoutModel",
          "model_module_version": "1.2.0",
          "state": {
            "_model_module": "@jupyter-widgets/base",
            "_model_module_version": "1.2.0",
            "_model_name": "LayoutModel",
            "_view_count": null,
            "_view_module": "@jupyter-widgets/base",
            "_view_module_version": "1.2.0",
            "_view_name": "LayoutView",
            "align_content": null,
            "align_items": null,
            "align_self": null,
            "border": null,
            "bottom": null,
            "display": null,
            "flex": null,
            "flex_flow": null,
            "grid_area": null,
            "grid_auto_columns": null,
            "grid_auto_flow": null,
            "grid_auto_rows": null,
            "grid_column": null,
            "grid_gap": null,
            "grid_row": null,
            "grid_template_areas": null,
            "grid_template_columns": null,
            "grid_template_rows": null,
            "height": null,
            "justify_content": null,
            "justify_items": null,
            "left": null,
            "margin": null,
            "max_height": null,
            "max_width": null,
            "min_height": null,
            "min_width": null,
            "object_fit": null,
            "object_position": null,
            "order": null,
            "overflow": null,
            "overflow_x": null,
            "overflow_y": null,
            "padding": null,
            "right": null,
            "top": null,
            "visibility": null,
            "width": null
          }
        },
        "f12e59abf7874a99b255cc7634ad1b89": {
          "model_module": "@jupyter-widgets/controls",
          "model_name": "DescriptionStyleModel",
          "model_module_version": "1.5.0",
          "state": {
            "_model_module": "@jupyter-widgets/controls",
            "_model_module_version": "1.5.0",
            "_model_name": "DescriptionStyleModel",
            "_view_count": null,
            "_view_module": "@jupyter-widgets/base",
            "_view_module_version": "1.2.0",
            "_view_name": "StyleView",
            "description_width": ""
          }
        },
        "b1c09d99f4be4f5a8d9d66d837042117": {
          "model_module": "@jupyter-widgets/controls",
          "model_name": "HBoxModel",
          "model_module_version": "1.5.0",
          "state": {
            "_dom_classes": [],
            "_model_module": "@jupyter-widgets/controls",
            "_model_module_version": "1.5.0",
            "_model_name": "HBoxModel",
            "_view_count": null,
            "_view_module": "@jupyter-widgets/controls",
            "_view_module_version": "1.5.0",
            "_view_name": "HBoxView",
            "box_style": "",
            "children": [
              "IPY_MODEL_3ce23278ef8345c48863b016552b6383",
              "IPY_MODEL_387b9932134e45548b8ae69f1d2c8036",
              "IPY_MODEL_c4c1d9194d044d6f84662ebf3d1099cd"
            ],
            "layout": "IPY_MODEL_56176b8bfb4d4233a6e9698f368ccfcb"
          }
        },
        "3ce23278ef8345c48863b016552b6383": {
          "model_module": "@jupyter-widgets/controls",
          "model_name": "HTMLModel",
          "model_module_version": "1.5.0",
          "state": {
            "_dom_classes": [],
            "_model_module": "@jupyter-widgets/controls",
            "_model_module_version": "1.5.0",
            "_model_name": "HTMLModel",
            "_view_count": null,
            "_view_module": "@jupyter-widgets/controls",
            "_view_module_version": "1.5.0",
            "_view_name": "HTMLView",
            "description": "",
            "description_tooltip": null,
            "layout": "IPY_MODEL_7a74e433f09b418594a98327d6ab9ce7",
            "placeholder": "​",
            "style": "IPY_MODEL_81895379cdef4eb69447eff3377bd68b",
            "value": "#3:  55%"
          }
        },
        "387b9932134e45548b8ae69f1d2c8036": {
          "model_module": "@jupyter-widgets/controls",
          "model_name": "FloatProgressModel",
          "model_module_version": "1.5.0",
          "state": {
            "_dom_classes": [],
            "_model_module": "@jupyter-widgets/controls",
            "_model_module_version": "1.5.0",
            "_model_name": "FloatProgressModel",
            "_view_count": null,
            "_view_module": "@jupyter-widgets/controls",
            "_view_module_version": "1.5.0",
            "_view_name": "ProgressView",
            "bar_style": "",
            "description": "",
            "description_tooltip": null,
            "layout": "IPY_MODEL_6a066fba6c994b7c9544ffa0889207f1",
            "max": 38,
            "min": 0,
            "orientation": "horizontal",
            "style": "IPY_MODEL_8eabc0d877704fdcb71864ef0690f1ad",
            "value": 21
          }
        },
        "c4c1d9194d044d6f84662ebf3d1099cd": {
          "model_module": "@jupyter-widgets/controls",
          "model_name": "HTMLModel",
          "model_module_version": "1.5.0",
          "state": {
            "_dom_classes": [],
            "_model_module": "@jupyter-widgets/controls",
            "_model_module_version": "1.5.0",
            "_model_name": "HTMLModel",
            "_view_count": null,
            "_view_module": "@jupyter-widgets/controls",
            "_view_module_version": "1.5.0",
            "_view_name": "HTMLView",
            "description": "",
            "description_tooltip": null,
            "layout": "IPY_MODEL_527dbc8b4f0443639d068e6da6585cd6",
            "placeholder": "​",
            "style": "IPY_MODEL_256c0062c62e4b34a171a23fedce1130",
            "value": " 21/38 [01:12&lt;00:56,  3.34s/ba]"
          }
        },
        "56176b8bfb4d4233a6e9698f368ccfcb": {
          "model_module": "@jupyter-widgets/base",
          "model_name": "LayoutModel",
          "model_module_version": "1.2.0",
          "state": {
            "_model_module": "@jupyter-widgets/base",
            "_model_module_version": "1.2.0",
            "_model_name": "LayoutModel",
            "_view_count": null,
            "_view_module": "@jupyter-widgets/base",
            "_view_module_version": "1.2.0",
            "_view_name": "LayoutView",
            "align_content": null,
            "align_items": null,
            "align_self": null,
            "border": null,
            "bottom": null,
            "display": null,
            "flex": null,
            "flex_flow": null,
            "grid_area": null,
            "grid_auto_columns": null,
            "grid_auto_flow": null,
            "grid_auto_rows": null,
            "grid_column": null,
            "grid_gap": null,
            "grid_row": null,
            "grid_template_areas": null,
            "grid_template_columns": null,
            "grid_template_rows": null,
            "height": null,
            "justify_content": null,
            "justify_items": null,
            "left": null,
            "margin": null,
            "max_height": null,
            "max_width": null,
            "min_height": null,
            "min_width": null,
            "object_fit": null,
            "object_position": null,
            "order": null,
            "overflow": null,
            "overflow_x": null,
            "overflow_y": null,
            "padding": null,
            "right": null,
            "top": null,
            "visibility": null,
            "width": null
          }
        },
        "7a74e433f09b418594a98327d6ab9ce7": {
          "model_module": "@jupyter-widgets/base",
          "model_name": "LayoutModel",
          "model_module_version": "1.2.0",
          "state": {
            "_model_module": "@jupyter-widgets/base",
            "_model_module_version": "1.2.0",
            "_model_name": "LayoutModel",
            "_view_count": null,
            "_view_module": "@jupyter-widgets/base",
            "_view_module_version": "1.2.0",
            "_view_name": "LayoutView",
            "align_content": null,
            "align_items": null,
            "align_self": null,
            "border": null,
            "bottom": null,
            "display": null,
            "flex": null,
            "flex_flow": null,
            "grid_area": null,
            "grid_auto_columns": null,
            "grid_auto_flow": null,
            "grid_auto_rows": null,
            "grid_column": null,
            "grid_gap": null,
            "grid_row": null,
            "grid_template_areas": null,
            "grid_template_columns": null,
            "grid_template_rows": null,
            "height": null,
            "justify_content": null,
            "justify_items": null,
            "left": null,
            "margin": null,
            "max_height": null,
            "max_width": null,
            "min_height": null,
            "min_width": null,
            "object_fit": null,
            "object_position": null,
            "order": null,
            "overflow": null,
            "overflow_x": null,
            "overflow_y": null,
            "padding": null,
            "right": null,
            "top": null,
            "visibility": null,
            "width": null
          }
        },
        "81895379cdef4eb69447eff3377bd68b": {
          "model_module": "@jupyter-widgets/controls",
          "model_name": "DescriptionStyleModel",
          "model_module_version": "1.5.0",
          "state": {
            "_model_module": "@jupyter-widgets/controls",
            "_model_module_version": "1.5.0",
            "_model_name": "DescriptionStyleModel",
            "_view_count": null,
            "_view_module": "@jupyter-widgets/base",
            "_view_module_version": "1.2.0",
            "_view_name": "StyleView",
            "description_width": ""
          }
        },
        "6a066fba6c994b7c9544ffa0889207f1": {
          "model_module": "@jupyter-widgets/base",
          "model_name": "LayoutModel",
          "model_module_version": "1.2.0",
          "state": {
            "_model_module": "@jupyter-widgets/base",
            "_model_module_version": "1.2.0",
            "_model_name": "LayoutModel",
            "_view_count": null,
            "_view_module": "@jupyter-widgets/base",
            "_view_module_version": "1.2.0",
            "_view_name": "LayoutView",
            "align_content": null,
            "align_items": null,
            "align_self": null,
            "border": null,
            "bottom": null,
            "display": null,
            "flex": null,
            "flex_flow": null,
            "grid_area": null,
            "grid_auto_columns": null,
            "grid_auto_flow": null,
            "grid_auto_rows": null,
            "grid_column": null,
            "grid_gap": null,
            "grid_row": null,
            "grid_template_areas": null,
            "grid_template_columns": null,
            "grid_template_rows": null,
            "height": null,
            "justify_content": null,
            "justify_items": null,
            "left": null,
            "margin": null,
            "max_height": null,
            "max_width": null,
            "min_height": null,
            "min_width": null,
            "object_fit": null,
            "object_position": null,
            "order": null,
            "overflow": null,
            "overflow_x": null,
            "overflow_y": null,
            "padding": null,
            "right": null,
            "top": null,
            "visibility": null,
            "width": null
          }
        },
        "8eabc0d877704fdcb71864ef0690f1ad": {
          "model_module": "@jupyter-widgets/controls",
          "model_name": "ProgressStyleModel",
          "model_module_version": "1.5.0",
          "state": {
            "_model_module": "@jupyter-widgets/controls",
            "_model_module_version": "1.5.0",
            "_model_name": "ProgressStyleModel",
            "_view_count": null,
            "_view_module": "@jupyter-widgets/base",
            "_view_module_version": "1.2.0",
            "_view_name": "StyleView",
            "bar_color": null,
            "description_width": ""
          }
        },
        "527dbc8b4f0443639d068e6da6585cd6": {
          "model_module": "@jupyter-widgets/base",
          "model_name": "LayoutModel",
          "model_module_version": "1.2.0",
          "state": {
            "_model_module": "@jupyter-widgets/base",
            "_model_module_version": "1.2.0",
            "_model_name": "LayoutModel",
            "_view_count": null,
            "_view_module": "@jupyter-widgets/base",
            "_view_module_version": "1.2.0",
            "_view_name": "LayoutView",
            "align_content": null,
            "align_items": null,
            "align_self": null,
            "border": null,
            "bottom": null,
            "display": null,
            "flex": null,
            "flex_flow": null,
            "grid_area": null,
            "grid_auto_columns": null,
            "grid_auto_flow": null,
            "grid_auto_rows": null,
            "grid_column": null,
            "grid_gap": null,
            "grid_row": null,
            "grid_template_areas": null,
            "grid_template_columns": null,
            "grid_template_rows": null,
            "height": null,
            "justify_content": null,
            "justify_items": null,
            "left": null,
            "margin": null,
            "max_height": null,
            "max_width": null,
            "min_height": null,
            "min_width": null,
            "object_fit": null,
            "object_position": null,
            "order": null,
            "overflow": null,
            "overflow_x": null,
            "overflow_y": null,
            "padding": null,
            "right": null,
            "top": null,
            "visibility": null,
            "width": null
          }
        },
        "256c0062c62e4b34a171a23fedce1130": {
          "model_module": "@jupyter-widgets/controls",
          "model_name": "DescriptionStyleModel",
          "model_module_version": "1.5.0",
          "state": {
            "_model_module": "@jupyter-widgets/controls",
            "_model_module_version": "1.5.0",
            "_model_name": "DescriptionStyleModel",
            "_view_count": null,
            "_view_module": "@jupyter-widgets/base",
            "_view_module_version": "1.2.0",
            "_view_name": "StyleView",
            "description_width": ""
          }
        },
        "cd28c6def5724c90bc1585bafcc34c4c": {
          "model_module": "@jupyter-widgets/controls",
          "model_name": "VBoxModel",
          "model_module_version": "1.5.0",
          "state": {
            "_dom_classes": [],
            "_model_module": "@jupyter-widgets/controls",
            "_model_module_version": "1.5.0",
            "_model_name": "VBoxModel",
            "_view_count": null,
            "_view_module": "@jupyter-widgets/controls",
            "_view_module_version": "1.5.0",
            "_view_name": "VBoxView",
            "box_style": "",
            "children": [
              "IPY_MODEL_aea13977a2704067b5fd851d902c08f8",
              "IPY_MODEL_bcff94837ce14d5aba651a4136e9203f"
            ],
            "layout": "IPY_MODEL_11b7f62f5b4a4227972ba8d4a3608359"
          }
        },
        "aea13977a2704067b5fd851d902c08f8": {
          "model_module": "@jupyter-widgets/controls",
          "model_name": "LabelModel",
          "model_module_version": "1.5.0",
          "state": {
            "_dom_classes": [],
            "_model_module": "@jupyter-widgets/controls",
            "_model_module_version": "1.5.0",
            "_model_name": "LabelModel",
            "_view_count": null,
            "_view_module": "@jupyter-widgets/controls",
            "_view_module_version": "1.5.0",
            "_view_name": "LabelView",
            "description": "",
            "description_tooltip": null,
            "layout": "IPY_MODEL_aa990154102446adab3a2a30905fd75d",
            "placeholder": "​",
            "style": "IPY_MODEL_8f4dd0830021410a8e71f473bb329fd5",
            "value": "0.604 MB of 0.604 MB uploaded (0.000 MB deduped)\r"
          }
        },
        "bcff94837ce14d5aba651a4136e9203f": {
          "model_module": "@jupyter-widgets/controls",
          "model_name": "FloatProgressModel",
          "model_module_version": "1.5.0",
          "state": {
            "_dom_classes": [],
            "_model_module": "@jupyter-widgets/controls",
            "_model_module_version": "1.5.0",
            "_model_name": "FloatProgressModel",
            "_view_count": null,
            "_view_module": "@jupyter-widgets/controls",
            "_view_module_version": "1.5.0",
            "_view_name": "ProgressView",
            "bar_style": "",
            "description": "",
            "description_tooltip": null,
            "layout": "IPY_MODEL_f42dae8d8a7c43879865b3304c070ebd",
            "max": 1,
            "min": 0,
            "orientation": "horizontal",
            "style": "IPY_MODEL_d656b5c74dc14ee989cf1d30fdb19276",
            "value": 1
          }
        },
        "11b7f62f5b4a4227972ba8d4a3608359": {
          "model_module": "@jupyter-widgets/base",
          "model_name": "LayoutModel",
          "model_module_version": "1.2.0",
          "state": {
            "_model_module": "@jupyter-widgets/base",
            "_model_module_version": "1.2.0",
            "_model_name": "LayoutModel",
            "_view_count": null,
            "_view_module": "@jupyter-widgets/base",
            "_view_module_version": "1.2.0",
            "_view_name": "LayoutView",
            "align_content": null,
            "align_items": null,
            "align_self": null,
            "border": null,
            "bottom": null,
            "display": null,
            "flex": null,
            "flex_flow": null,
            "grid_area": null,
            "grid_auto_columns": null,
            "grid_auto_flow": null,
            "grid_auto_rows": null,
            "grid_column": null,
            "grid_gap": null,
            "grid_row": null,
            "grid_template_areas": null,
            "grid_template_columns": null,
            "grid_template_rows": null,
            "height": null,
            "justify_content": null,
            "justify_items": null,
            "left": null,
            "margin": null,
            "max_height": null,
            "max_width": null,
            "min_height": null,
            "min_width": null,
            "object_fit": null,
            "object_position": null,
            "order": null,
            "overflow": null,
            "overflow_x": null,
            "overflow_y": null,
            "padding": null,
            "right": null,
            "top": null,
            "visibility": null,
            "width": null
          }
        },
        "aa990154102446adab3a2a30905fd75d": {
          "model_module": "@jupyter-widgets/base",
          "model_name": "LayoutModel",
          "model_module_version": "1.2.0",
          "state": {
            "_model_module": "@jupyter-widgets/base",
            "_model_module_version": "1.2.0",
            "_model_name": "LayoutModel",
            "_view_count": null,
            "_view_module": "@jupyter-widgets/base",
            "_view_module_version": "1.2.0",
            "_view_name": "LayoutView",
            "align_content": null,
            "align_items": null,
            "align_self": null,
            "border": null,
            "bottom": null,
            "display": null,
            "flex": null,
            "flex_flow": null,
            "grid_area": null,
            "grid_auto_columns": null,
            "grid_auto_flow": null,
            "grid_auto_rows": null,
            "grid_column": null,
            "grid_gap": null,
            "grid_row": null,
            "grid_template_areas": null,
            "grid_template_columns": null,
            "grid_template_rows": null,
            "height": null,
            "justify_content": null,
            "justify_items": null,
            "left": null,
            "margin": null,
            "max_height": null,
            "max_width": null,
            "min_height": null,
            "min_width": null,
            "object_fit": null,
            "object_position": null,
            "order": null,
            "overflow": null,
            "overflow_x": null,
            "overflow_y": null,
            "padding": null,
            "right": null,
            "top": null,
            "visibility": null,
            "width": null
          }
        },
        "8f4dd0830021410a8e71f473bb329fd5": {
          "model_module": "@jupyter-widgets/controls",
          "model_name": "DescriptionStyleModel",
          "model_module_version": "1.5.0",
          "state": {
            "_model_module": "@jupyter-widgets/controls",
            "_model_module_version": "1.5.0",
            "_model_name": "DescriptionStyleModel",
            "_view_count": null,
            "_view_module": "@jupyter-widgets/base",
            "_view_module_version": "1.2.0",
            "_view_name": "StyleView",
            "description_width": ""
          }
        },
        "f42dae8d8a7c43879865b3304c070ebd": {
          "model_module": "@jupyter-widgets/base",
          "model_name": "LayoutModel",
          "model_module_version": "1.2.0",
          "state": {
            "_model_module": "@jupyter-widgets/base",
            "_model_module_version": "1.2.0",
            "_model_name": "LayoutModel",
            "_view_count": null,
            "_view_module": "@jupyter-widgets/base",
            "_view_module_version": "1.2.0",
            "_view_name": "LayoutView",
            "align_content": null,
            "align_items": null,
            "align_self": null,
            "border": null,
            "bottom": null,
            "display": null,
            "flex": null,
            "flex_flow": null,
            "grid_area": null,
            "grid_auto_columns": null,
            "grid_auto_flow": null,
            "grid_auto_rows": null,
            "grid_column": null,
            "grid_gap": null,
            "grid_row": null,
            "grid_template_areas": null,
            "grid_template_columns": null,
            "grid_template_rows": null,
            "height": null,
            "justify_content": null,
            "justify_items": null,
            "left": null,
            "margin": null,
            "max_height": null,
            "max_width": null,
            "min_height": null,
            "min_width": null,
            "object_fit": null,
            "object_position": null,
            "order": null,
            "overflow": null,
            "overflow_x": null,
            "overflow_y": null,
            "padding": null,
            "right": null,
            "top": null,
            "visibility": null,
            "width": null
          }
        },
        "d656b5c74dc14ee989cf1d30fdb19276": {
          "model_module": "@jupyter-widgets/controls",
          "model_name": "ProgressStyleModel",
          "model_module_version": "1.5.0",
          "state": {
            "_model_module": "@jupyter-widgets/controls",
            "_model_module_version": "1.5.0",
            "_model_name": "ProgressStyleModel",
            "_view_count": null,
            "_view_module": "@jupyter-widgets/base",
            "_view_module_version": "1.2.0",
            "_view_name": "StyleView",
            "bar_color": null,
            "description_width": ""
          }
        },
        "268405eba77f4193a8fbccb22ef5c7ed": {
          "model_module": "@jupyter-widgets/controls",
          "model_name": "HBoxModel",
          "model_module_version": "1.5.0",
          "state": {
            "_dom_classes": [],
            "_model_module": "@jupyter-widgets/controls",
            "_model_module_version": "1.5.0",
            "_model_name": "HBoxModel",
            "_view_count": null,
            "_view_module": "@jupyter-widgets/controls",
            "_view_module_version": "1.5.0",
            "_view_name": "HBoxView",
            "box_style": "",
            "children": [
              "IPY_MODEL_faa9217e6a7e43c2928cd6f5583aabbe",
              "IPY_MODEL_4bb90a2fb55a4bca9ce321c925bdbb56",
              "IPY_MODEL_dc12b5dd7d154652918742dd3e585784"
            ],
            "layout": "IPY_MODEL_dfb7c554e3b647bda88147ef8e497969"
          }
        },
        "faa9217e6a7e43c2928cd6f5583aabbe": {
          "model_module": "@jupyter-widgets/controls",
          "model_name": "HTMLModel",
          "model_module_version": "1.5.0",
          "state": {
            "_dom_classes": [],
            "_model_module": "@jupyter-widgets/controls",
            "_model_module_version": "1.5.0",
            "_model_name": "HTMLModel",
            "_view_count": null,
            "_view_module": "@jupyter-widgets/controls",
            "_view_module_version": "1.5.0",
            "_view_name": "HTMLView",
            "description": "",
            "description_tooltip": null,
            "layout": "IPY_MODEL_3c4d2cbc96174fa0aaa49dc4fb0cb436",
            "placeholder": "​",
            "style": "IPY_MODEL_b9b165a482ea43a8863e4ab273cc1fe5",
            "value": "Skipping the first batches: 100%"
          }
        },
        "4bb90a2fb55a4bca9ce321c925bdbb56": {
          "model_module": "@jupyter-widgets/controls",
          "model_name": "FloatProgressModel",
          "model_module_version": "1.5.0",
          "state": {
            "_dom_classes": [],
            "_model_module": "@jupyter-widgets/controls",
            "_model_module_version": "1.5.0",
            "_model_name": "FloatProgressModel",
            "_view_count": null,
            "_view_module": "@jupyter-widgets/controls",
            "_view_module_version": "1.5.0",
            "_view_name": "ProgressView",
            "bar_style": "success",
            "description": "",
            "description_tooltip": null,
            "layout": "IPY_MODEL_10f1e5e8db1e471c98457e154028581a",
            "max": 135000,
            "min": 0,
            "orientation": "horizontal",
            "style": "IPY_MODEL_dbe39d74ad2f4f1c95776daf0eb13d86",
            "value": 135000
          }
        },
        "dc12b5dd7d154652918742dd3e585784": {
          "model_module": "@jupyter-widgets/controls",
          "model_name": "HTMLModel",
          "model_module_version": "1.5.0",
          "state": {
            "_dom_classes": [],
            "_model_module": "@jupyter-widgets/controls",
            "_model_module_version": "1.5.0",
            "_model_name": "HTMLModel",
            "_view_count": null,
            "_view_module": "@jupyter-widgets/controls",
            "_view_module_version": "1.5.0",
            "_view_name": "HTMLView",
            "description": "",
            "description_tooltip": null,
            "layout": "IPY_MODEL_a49a46509a134c09986678ea3e533f93",
            "placeholder": "​",
            "style": "IPY_MODEL_20565951275c48309b1e05cb2b88b8a2",
            "value": " 135000/135000 [01:42&lt;00:00, 1330.41it/s]"
          }
        },
        "dfb7c554e3b647bda88147ef8e497969": {
          "model_module": "@jupyter-widgets/base",
          "model_name": "LayoutModel",
          "model_module_version": "1.2.0",
          "state": {
            "_model_module": "@jupyter-widgets/base",
            "_model_module_version": "1.2.0",
            "_model_name": "LayoutModel",
            "_view_count": null,
            "_view_module": "@jupyter-widgets/base",
            "_view_module_version": "1.2.0",
            "_view_name": "LayoutView",
            "align_content": null,
            "align_items": null,
            "align_self": null,
            "border": null,
            "bottom": null,
            "display": null,
            "flex": null,
            "flex_flow": null,
            "grid_area": null,
            "grid_auto_columns": null,
            "grid_auto_flow": null,
            "grid_auto_rows": null,
            "grid_column": null,
            "grid_gap": null,
            "grid_row": null,
            "grid_template_areas": null,
            "grid_template_columns": null,
            "grid_template_rows": null,
            "height": null,
            "justify_content": null,
            "justify_items": null,
            "left": null,
            "margin": null,
            "max_height": null,
            "max_width": null,
            "min_height": null,
            "min_width": null,
            "object_fit": null,
            "object_position": null,
            "order": null,
            "overflow": null,
            "overflow_x": null,
            "overflow_y": null,
            "padding": null,
            "right": null,
            "top": null,
            "visibility": null,
            "width": null
          }
        },
        "3c4d2cbc96174fa0aaa49dc4fb0cb436": {
          "model_module": "@jupyter-widgets/base",
          "model_name": "LayoutModel",
          "model_module_version": "1.2.0",
          "state": {
            "_model_module": "@jupyter-widgets/base",
            "_model_module_version": "1.2.0",
            "_model_name": "LayoutModel",
            "_view_count": null,
            "_view_module": "@jupyter-widgets/base",
            "_view_module_version": "1.2.0",
            "_view_name": "LayoutView",
            "align_content": null,
            "align_items": null,
            "align_self": null,
            "border": null,
            "bottom": null,
            "display": null,
            "flex": null,
            "flex_flow": null,
            "grid_area": null,
            "grid_auto_columns": null,
            "grid_auto_flow": null,
            "grid_auto_rows": null,
            "grid_column": null,
            "grid_gap": null,
            "grid_row": null,
            "grid_template_areas": null,
            "grid_template_columns": null,
            "grid_template_rows": null,
            "height": null,
            "justify_content": null,
            "justify_items": null,
            "left": null,
            "margin": null,
            "max_height": null,
            "max_width": null,
            "min_height": null,
            "min_width": null,
            "object_fit": null,
            "object_position": null,
            "order": null,
            "overflow": null,
            "overflow_x": null,
            "overflow_y": null,
            "padding": null,
            "right": null,
            "top": null,
            "visibility": null,
            "width": null
          }
        },
        "b9b165a482ea43a8863e4ab273cc1fe5": {
          "model_module": "@jupyter-widgets/controls",
          "model_name": "DescriptionStyleModel",
          "model_module_version": "1.5.0",
          "state": {
            "_model_module": "@jupyter-widgets/controls",
            "_model_module_version": "1.5.0",
            "_model_name": "DescriptionStyleModel",
            "_view_count": null,
            "_view_module": "@jupyter-widgets/base",
            "_view_module_version": "1.2.0",
            "_view_name": "StyleView",
            "description_width": ""
          }
        },
        "10f1e5e8db1e471c98457e154028581a": {
          "model_module": "@jupyter-widgets/base",
          "model_name": "LayoutModel",
          "model_module_version": "1.2.0",
          "state": {
            "_model_module": "@jupyter-widgets/base",
            "_model_module_version": "1.2.0",
            "_model_name": "LayoutModel",
            "_view_count": null,
            "_view_module": "@jupyter-widgets/base",
            "_view_module_version": "1.2.0",
            "_view_name": "LayoutView",
            "align_content": null,
            "align_items": null,
            "align_self": null,
            "border": null,
            "bottom": null,
            "display": null,
            "flex": null,
            "flex_flow": null,
            "grid_area": null,
            "grid_auto_columns": null,
            "grid_auto_flow": null,
            "grid_auto_rows": null,
            "grid_column": null,
            "grid_gap": null,
            "grid_row": null,
            "grid_template_areas": null,
            "grid_template_columns": null,
            "grid_template_rows": null,
            "height": null,
            "justify_content": null,
            "justify_items": null,
            "left": null,
            "margin": null,
            "max_height": null,
            "max_width": null,
            "min_height": null,
            "min_width": null,
            "object_fit": null,
            "object_position": null,
            "order": null,
            "overflow": null,
            "overflow_x": null,
            "overflow_y": null,
            "padding": null,
            "right": null,
            "top": null,
            "visibility": null,
            "width": null
          }
        },
        "dbe39d74ad2f4f1c95776daf0eb13d86": {
          "model_module": "@jupyter-widgets/controls",
          "model_name": "ProgressStyleModel",
          "model_module_version": "1.5.0",
          "state": {
            "_model_module": "@jupyter-widgets/controls",
            "_model_module_version": "1.5.0",
            "_model_name": "ProgressStyleModel",
            "_view_count": null,
            "_view_module": "@jupyter-widgets/base",
            "_view_module_version": "1.2.0",
            "_view_name": "StyleView",
            "bar_color": null,
            "description_width": ""
          }
        },
        "a49a46509a134c09986678ea3e533f93": {
          "model_module": "@jupyter-widgets/base",
          "model_name": "LayoutModel",
          "model_module_version": "1.2.0",
          "state": {
            "_model_module": "@jupyter-widgets/base",
            "_model_module_version": "1.2.0",
            "_model_name": "LayoutModel",
            "_view_count": null,
            "_view_module": "@jupyter-widgets/base",
            "_view_module_version": "1.2.0",
            "_view_name": "LayoutView",
            "align_content": null,
            "align_items": null,
            "align_self": null,
            "border": null,
            "bottom": null,
            "display": null,
            "flex": null,
            "flex_flow": null,
            "grid_area": null,
            "grid_auto_columns": null,
            "grid_auto_flow": null,
            "grid_auto_rows": null,
            "grid_column": null,
            "grid_gap": null,
            "grid_row": null,
            "grid_template_areas": null,
            "grid_template_columns": null,
            "grid_template_rows": null,
            "height": null,
            "justify_content": null,
            "justify_items": null,
            "left": null,
            "margin": null,
            "max_height": null,
            "max_width": null,
            "min_height": null,
            "min_width": null,
            "object_fit": null,
            "object_position": null,
            "order": null,
            "overflow": null,
            "overflow_x": null,
            "overflow_y": null,
            "padding": null,
            "right": null,
            "top": null,
            "visibility": null,
            "width": null
          }
        },
        "20565951275c48309b1e05cb2b88b8a2": {
          "model_module": "@jupyter-widgets/controls",
          "model_name": "DescriptionStyleModel",
          "model_module_version": "1.5.0",
          "state": {
            "_model_module": "@jupyter-widgets/controls",
            "_model_module_version": "1.5.0",
            "_model_name": "DescriptionStyleModel",
            "_view_count": null,
            "_view_module": "@jupyter-widgets/base",
            "_view_module_version": "1.2.0",
            "_view_name": "StyleView",
            "description_width": ""
          }
        },
        "c1567285b0fa4af5813901437db022d6": {
          "model_module": "@jupyter-widgets/controls",
          "model_name": "VBoxModel",
          "model_module_version": "1.5.0",
          "state": {
            "_dom_classes": [],
            "_model_module": "@jupyter-widgets/controls",
            "_model_module_version": "1.5.0",
            "_model_name": "VBoxModel",
            "_view_count": null,
            "_view_module": "@jupyter-widgets/controls",
            "_view_module_version": "1.5.0",
            "_view_name": "VBoxView",
            "box_style": "",
            "children": [
              "IPY_MODEL_b70a70a251d843578f9efcb300ed63ca",
              "IPY_MODEL_ba255769c2e44c44ae07fa3a83ef741e"
            ],
            "layout": "IPY_MODEL_92e398953d6a48999e28ec152b612b4d"
          }
        },
        "b70a70a251d843578f9efcb300ed63ca": {
          "model_module": "@jupyter-widgets/controls",
          "model_name": "LabelModel",
          "model_module_version": "1.5.0",
          "state": {
            "_dom_classes": [],
            "_model_module": "@jupyter-widgets/controls",
            "_model_module_version": "1.5.0",
            "_model_name": "LabelModel",
            "_view_count": null,
            "_view_module": "@jupyter-widgets/controls",
            "_view_module_version": "1.5.0",
            "_view_name": "LabelView",
            "description": "",
            "description_tooltip": null,
            "layout": "IPY_MODEL_64fc8c945cea452fba8ac2b62779dfff",
            "placeholder": "​",
            "style": "IPY_MODEL_74452bca5401478db9cdc57be4c56174",
            "value": "1.163 MB of 1.163 MB uploaded (0.000 MB deduped)\r"
          }
        },
        "ba255769c2e44c44ae07fa3a83ef741e": {
          "model_module": "@jupyter-widgets/controls",
          "model_name": "FloatProgressModel",
          "model_module_version": "1.5.0",
          "state": {
            "_dom_classes": [],
            "_model_module": "@jupyter-widgets/controls",
            "_model_module_version": "1.5.0",
            "_model_name": "FloatProgressModel",
            "_view_count": null,
            "_view_module": "@jupyter-widgets/controls",
            "_view_module_version": "1.5.0",
            "_view_name": "ProgressView",
            "bar_style": "",
            "description": "",
            "description_tooltip": null,
            "layout": "IPY_MODEL_670f35021d484c7b823ff01dede5e8b8",
            "max": 1,
            "min": 0,
            "orientation": "horizontal",
            "style": "IPY_MODEL_eea120a2b58540598fa5875599a67965",
            "value": 1
          }
        },
        "92e398953d6a48999e28ec152b612b4d": {
          "model_module": "@jupyter-widgets/base",
          "model_name": "LayoutModel",
          "model_module_version": "1.2.0",
          "state": {
            "_model_module": "@jupyter-widgets/base",
            "_model_module_version": "1.2.0",
            "_model_name": "LayoutModel",
            "_view_count": null,
            "_view_module": "@jupyter-widgets/base",
            "_view_module_version": "1.2.0",
            "_view_name": "LayoutView",
            "align_content": null,
            "align_items": null,
            "align_self": null,
            "border": null,
            "bottom": null,
            "display": null,
            "flex": null,
            "flex_flow": null,
            "grid_area": null,
            "grid_auto_columns": null,
            "grid_auto_flow": null,
            "grid_auto_rows": null,
            "grid_column": null,
            "grid_gap": null,
            "grid_row": null,
            "grid_template_areas": null,
            "grid_template_columns": null,
            "grid_template_rows": null,
            "height": null,
            "justify_content": null,
            "justify_items": null,
            "left": null,
            "margin": null,
            "max_height": null,
            "max_width": null,
            "min_height": null,
            "min_width": null,
            "object_fit": null,
            "object_position": null,
            "order": null,
            "overflow": null,
            "overflow_x": null,
            "overflow_y": null,
            "padding": null,
            "right": null,
            "top": null,
            "visibility": null,
            "width": null
          }
        },
        "64fc8c945cea452fba8ac2b62779dfff": {
          "model_module": "@jupyter-widgets/base",
          "model_name": "LayoutModel",
          "model_module_version": "1.2.0",
          "state": {
            "_model_module": "@jupyter-widgets/base",
            "_model_module_version": "1.2.0",
            "_model_name": "LayoutModel",
            "_view_count": null,
            "_view_module": "@jupyter-widgets/base",
            "_view_module_version": "1.2.0",
            "_view_name": "LayoutView",
            "align_content": null,
            "align_items": null,
            "align_self": null,
            "border": null,
            "bottom": null,
            "display": null,
            "flex": null,
            "flex_flow": null,
            "grid_area": null,
            "grid_auto_columns": null,
            "grid_auto_flow": null,
            "grid_auto_rows": null,
            "grid_column": null,
            "grid_gap": null,
            "grid_row": null,
            "grid_template_areas": null,
            "grid_template_columns": null,
            "grid_template_rows": null,
            "height": null,
            "justify_content": null,
            "justify_items": null,
            "left": null,
            "margin": null,
            "max_height": null,
            "max_width": null,
            "min_height": null,
            "min_width": null,
            "object_fit": null,
            "object_position": null,
            "order": null,
            "overflow": null,
            "overflow_x": null,
            "overflow_y": null,
            "padding": null,
            "right": null,
            "top": null,
            "visibility": null,
            "width": null
          }
        },
        "74452bca5401478db9cdc57be4c56174": {
          "model_module": "@jupyter-widgets/controls",
          "model_name": "DescriptionStyleModel",
          "model_module_version": "1.5.0",
          "state": {
            "_model_module": "@jupyter-widgets/controls",
            "_model_module_version": "1.5.0",
            "_model_name": "DescriptionStyleModel",
            "_view_count": null,
            "_view_module": "@jupyter-widgets/base",
            "_view_module_version": "1.2.0",
            "_view_name": "StyleView",
            "description_width": ""
          }
        },
        "670f35021d484c7b823ff01dede5e8b8": {
          "model_module": "@jupyter-widgets/base",
          "model_name": "LayoutModel",
          "model_module_version": "1.2.0",
          "state": {
            "_model_module": "@jupyter-widgets/base",
            "_model_module_version": "1.2.0",
            "_model_name": "LayoutModel",
            "_view_count": null,
            "_view_module": "@jupyter-widgets/base",
            "_view_module_version": "1.2.0",
            "_view_name": "LayoutView",
            "align_content": null,
            "align_items": null,
            "align_self": null,
            "border": null,
            "bottom": null,
            "display": null,
            "flex": null,
            "flex_flow": null,
            "grid_area": null,
            "grid_auto_columns": null,
            "grid_auto_flow": null,
            "grid_auto_rows": null,
            "grid_column": null,
            "grid_gap": null,
            "grid_row": null,
            "grid_template_areas": null,
            "grid_template_columns": null,
            "grid_template_rows": null,
            "height": null,
            "justify_content": null,
            "justify_items": null,
            "left": null,
            "margin": null,
            "max_height": null,
            "max_width": null,
            "min_height": null,
            "min_width": null,
            "object_fit": null,
            "object_position": null,
            "order": null,
            "overflow": null,
            "overflow_x": null,
            "overflow_y": null,
            "padding": null,
            "right": null,
            "top": null,
            "visibility": null,
            "width": null
          }
        },
        "eea120a2b58540598fa5875599a67965": {
          "model_module": "@jupyter-widgets/controls",
          "model_name": "ProgressStyleModel",
          "model_module_version": "1.5.0",
          "state": {
            "_model_module": "@jupyter-widgets/controls",
            "_model_module_version": "1.5.0",
            "_model_name": "ProgressStyleModel",
            "_view_count": null,
            "_view_module": "@jupyter-widgets/base",
            "_view_module_version": "1.2.0",
            "_view_name": "StyleView",
            "bar_color": null,
            "description_width": ""
          }
        }
      }
    }
  },
  "nbformat": 4,
  "nbformat_minor": 0
}