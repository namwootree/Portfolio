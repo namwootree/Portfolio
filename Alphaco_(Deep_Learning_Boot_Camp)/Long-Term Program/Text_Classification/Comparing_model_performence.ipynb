{
  "nbformat": 4,
  "nbformat_minor": 0,
  "metadata": {
    "colab": {
      "name": "Comparing_model_performence.ipynb",
      "provenance": [],
      "collapsed_sections": [],
      "include_colab_link": true
    },
    "kernelspec": {
      "name": "python3",
      "display_name": "Python 3"
    },
    "language_info": {
      "name": "python"
    }
  },
  "cells": [
    {
      "cell_type": "markdown",
      "metadata": {
        "id": "view-in-github",
        "colab_type": "text"
      },
      "source": [
        "<a href=\"https://colab.research.google.com/github/namwootree/Portfolio/blob/main/Alphaco_(Deep_Learning_Boot_Camp)/Long-Term%20Program/Text_Classification/Comparing_model_performence.ipynb\" target=\"_parent\"><img src=\"https://colab.research.google.com/assets/colab-badge.svg\" alt=\"Open In Colab\"/></a>"
      ]
    },
    {
      "cell_type": "code",
      "source": [
        "import pickle"
      ],
      "metadata": {
        "id": "tC4Lmfw7y3ku"
      },
      "execution_count": null,
      "outputs": []
    },
    {
      "cell_type": "code",
      "execution_count": null,
      "metadata": {
        "id": "WTo4uc7xyGqW"
      },
      "outputs": [],
      "source": [
        "with open('bert-base-multilingual-uncased.pkl', 'rb') as f:\n",
        "  data = pickle.load(f)\n",
        "with open('klue_roberta-base.pkl', 'rb') as f:\n",
        "  data1 = pickle.load(f)\n",
        "with open('klue_roberta-large.pkl', 'rb') as f:\n",
        "  data2 = pickle.load(f)\n",
        "with open('monologg_kobert.pkl', 'rb') as f:\n",
        "  data3 = pickle.load(f)\n",
        "with open('xlm-roberta-large.pkl', 'rb') as f:\n",
        "  data4 = pickle.load(f)\n",
        "with open('klue_roberta-small.pkl', 'rb') as f:\n",
        "  data5 = pickle.load(f)"
      ]
    },
    {
      "cell_type": "code",
      "source": [
        "data"
      ],
      "metadata": {
        "colab": {
          "base_uri": "https://localhost:8080/"
        },
        "id": "94vVXvNrytDi",
        "outputId": "73fb0ae8-e7b8-4751-9617-0325411a6e13"
      },
      "execution_count": null,
      "outputs": [
        {
          "output_type": "execute_result",
          "data": {
            "text/plain": [
              "{'test_accuracy': 0.8644179169860914,\n",
              " 'test_f1': 0.8636499907393546,\n",
              " 'test_loss': 0.3956652283668518,\n",
              " 'test_runtime': 14.8599,\n",
              " 'test_samples_per_second': 614.471,\n",
              " 'test_steps_per_second': 9.623}"
            ]
          },
          "metadata": {},
          "execution_count": 3
        }
      ]
    },
    {
      "cell_type": "code",
      "source": [
        "data.get('test_accuracy')"
      ],
      "metadata": {
        "colab": {
          "base_uri": "https://localhost:8080/"
        },
        "id": "yr1InMuf1dOG",
        "outputId": "c6aa5146-9202-43da-f000-b645f3b53be7"
      },
      "execution_count": null,
      "outputs": [
        {
          "output_type": "execute_result",
          "data": {
            "text/plain": [
              "0.8644179169860914"
            ]
          },
          "metadata": {},
          "execution_count": 4
        }
      ]
    },
    {
      "cell_type": "code",
      "source": [
        "acc = []"
      ],
      "metadata": {
        "id": "zWxwsxfj3TXA"
      },
      "execution_count": null,
      "outputs": []
    },
    {
      "cell_type": "code",
      "source": [
        "acc.append(data.get('test_accuracy'))\n",
        "acc.append(data1.get('test_accuracy'))\n",
        "acc.append(data2.get('test_accuracy'))\n",
        "acc.append(data3.get('test_accuracy'))\n",
        "acc.append(data4.get('test_accuracy'))\n",
        "acc.append(data5.get('test_accuracy'))\n"
      ],
      "metadata": {
        "id": "yZHaQIS13Wth"
      },
      "execution_count": null,
      "outputs": []
    },
    {
      "cell_type": "code",
      "source": [
        "acc"
      ],
      "metadata": {
        "colab": {
          "base_uri": "https://localhost:8080/"
        },
        "id": "zMgxvj9y3bHt",
        "outputId": "33aeb1c3-84cd-49ed-b139-97ac28fd98ae"
      },
      "execution_count": null,
      "outputs": [
        {
          "output_type": "execute_result",
          "data": {
            "text/plain": [
              "[0.8644179169860914,\n",
              " 0.8966159237761472,\n",
              " 0.8990252984339064,\n",
              " 0.5503230752381996,\n",
              " 0.8936589639688972,\n",
              " 0.8934399299091008]"
            ]
          },
          "metadata": {},
          "execution_count": 7
        }
      ]
    },
    {
      "cell_type": "code",
      "source": [
        "import matplotlib.pyplot as plt\n",
        "import numpy as np\n",
        "\n",
        "x = np.arange(6)\n",
        "model = ['bert-base-multilingual-uncased', 'klue_roberta-base', 'klue_roberta-large', 'monologg_kobert', 'xlm-roberta-large', 'klue_roberta-small']\n",
        "values = [acc[0], acc[1], acc[2], acc[3], acc[4], acc[5]]\n",
        "\n",
        "plt.bar(x, values)\n",
        "plt.xticks(x, model)\n",
        "\n",
        "plt.show()"
      ],
      "metadata": {
        "colab": {
          "base_uri": "https://localhost:8080/",
          "height": 266
        },
        "id": "hPVS6_au1flH",
        "outputId": "499a7625-b2b7-4d5f-d25c-7773338eb162"
      },
      "execution_count": null,
      "outputs": [
        {
          "output_type": "display_data",
          "data": {
            "text/plain": [
              "<Figure size 432x288 with 1 Axes>"
            ],
            "image/png": "[encoded data removed]"
          },
          "metadata": {
            "needs_background": "light"
          }
        }
      ]
    },
    {
      "cell_type": "code",
      "source": [
        ""
      ],
      "metadata": {
        "id": "n0nuxm1tzAg2"
      },
      "execution_count": null,
      "outputs": []
    }
  ]
}