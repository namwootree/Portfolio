{
 "cells": [
  {
   "cell_type": "code",
   "execution_count": 24,
   "id": "edde6776",
   "metadata": {},
   "outputs": [],
   "source": [
    "import pandas as pd\n",
    "\n",
    "org = pd.read_csv('train_data.csv')\n",
    "aug = pd.read_csv('final_aug_data.csv')"
   ]
  },
  {
   "cell_type": "code",
   "execution_count": 25,
   "id": "879d779c",
   "metadata": {},
   "outputs": [
    {
     "name": "stdout",
     "output_type": "stream",
     "text": [
      "(45654, 3)\n",
      "(35727, 3)\n"
     ]
    }
   ],
   "source": [
    "print(org.shape)\n",
    "print(aug.shape)"
   ]
  },
  {
   "cell_type": "code",
   "execution_count": 26,
   "id": "9fbc073c",
   "metadata": {},
   "outputs": [
    {
     "name": "stdout",
     "output_type": "stream",
     "text": [
      "4    7629\n",
      "2    7362\n",
      "5    6933\n",
      "6    6751\n",
      "1    6222\n",
      "3    5933\n",
      "0    4824\n",
      "Name: topic_idx, dtype: int64\n",
      "4    6923\n",
      "5    5546\n",
      "2    5111\n",
      "1    4798\n",
      "6    4741\n",
      "3    4390\n",
      "0    4218\n",
      "Name: topic_idx, dtype: int64\n"
     ]
    }
   ],
   "source": [
    "print(org['topic_idx'].value_counts())\n",
    "print(aug['topic_idx'].value_counts())"
   ]
  },
  {
   "cell_type": "code",
   "execution_count": 27,
   "id": "eeff6396",
   "metadata": {
    "scrolled": false
   },
   "outputs": [
    {
     "name": "stdout",
     "output_type": "stream",
     "text": [
      "(81381, 4)\n",
      "\n",
      "4    14552\n",
      "5    12479\n",
      "2    12473\n",
      "6    11492\n",
      "1    11020\n",
      "3    10323\n",
      "0     9042\n",
      "Name: topic_idx, dtype: int64\n"
     ]
    }
   ],
   "source": [
    "sample_df = pd.concat([org, aug], axis=0)\n",
    "print(sample_df.shape)\n",
    "print()\n",
    "print(sample_df['topic_idx'].value_counts())"
   ]
  },
  {
   "cell_type": "code",
   "execution_count": 28,
   "id": "d96ed951",
   "metadata": {
    "scrolled": true
   },
   "outputs": [
    {
     "data": {
      "text/plain": [
       "Index(['index', 'title', 'topic_idx', 'Unnamed: 0'], dtype='object')"
      ]
     },
     "execution_count": 28,
     "metadata": {},
     "output_type": "execute_result"
    }
   ],
   "source": [
    "sample_df.columns"
   ]
  },
  {
   "cell_type": "code",
   "execution_count": 29,
   "id": "db6c840d",
   "metadata": {},
   "outputs": [],
   "source": [
    "sample_df = sample_df[['title', 'topic_idx']]"
   ]
  },
  {
   "cell_type": "code",
   "execution_count": 30,
   "id": "6713f8fa",
   "metadata": {},
   "outputs": [
    {
     "name": "stdout",
     "output_type": "stream",
     "text": [
      "<class 'pandas.core.frame.DataFrame'>\n",
      "Int64Index: 81381 entries, 0 to 35726\n",
      "Data columns (total 2 columns):\n",
      " #   Column     Non-Null Count  Dtype \n",
      "---  ------     --------------  ----- \n",
      " 0   title      81381 non-null  object\n",
      " 1   topic_idx  81381 non-null  int64 \n",
      "dtypes: int64(1), object(1)\n",
      "memory usage: 1.9+ MB\n"
     ]
    }
   ],
   "source": [
    "sample_df.info()"
   ]
  },
  {
   "cell_type": "code",
   "execution_count": 31,
   "id": "a850c5e7",
   "metadata": {
    "scrolled": true
   },
   "outputs": [
    {
     "name": "stdout",
     "output_type": "stream",
     "text": [
      "(2079, 2)\n"
     ]
    }
   ],
   "source": [
    "cond_2 = (sample_df['topic_idx']==2)\n",
    "\n",
    "plus_2 = sample_df.loc[cond_2].sample(n=(14552-12473))\n",
    "print(plus_2.shape)"
   ]
  },
  {
   "cell_type": "code",
   "execution_count": 32,
   "id": "f1775704",
   "metadata": {},
   "outputs": [
    {
     "name": "stdout",
     "output_type": "stream",
     "text": [
      "(2073, 2)\n"
     ]
    }
   ],
   "source": [
    "cond_5 = (sample_df['topic_idx']==5)\n",
    "\n",
    "plus_5 = sample_df.loc[cond_5].sample(n=(14552-12479))\n",
    "print(plus_5.shape)"
   ]
  },
  {
   "cell_type": "code",
   "execution_count": 33,
   "id": "d90cd2a7",
   "metadata": {},
   "outputs": [
    {
     "name": "stdout",
     "output_type": "stream",
     "text": [
      "(3060, 2)\n"
     ]
    }
   ],
   "source": [
    "cond_6 = (sample_df['topic_idx']==6)\n",
    "\n",
    "plus_6 = sample_df.loc[cond_6].sample(n=(14552-11492))\n",
    "print(plus_6.shape)"
   ]
  },
  {
   "cell_type": "code",
   "execution_count": 34,
   "id": "80466ab3",
   "metadata": {},
   "outputs": [
    {
     "name": "stdout",
     "output_type": "stream",
     "text": [
      "(3532, 2)\n"
     ]
    }
   ],
   "source": [
    "cond_1 = (sample_df['topic_idx']==1)\n",
    "\n",
    "plus_1 = sample_df.loc[cond_1].sample(n=(14552-11020))\n",
    "print(plus_1.shape)"
   ]
  },
  {
   "cell_type": "code",
   "execution_count": 35,
   "id": "d8fa311d",
   "metadata": {},
   "outputs": [
    {
     "name": "stdout",
     "output_type": "stream",
     "text": [
      "(4229, 2)\n"
     ]
    }
   ],
   "source": [
    "cond_3 = (sample_df['topic_idx']==3)\n",
    "\n",
    "plus_3 = sample_df.loc[cond_3].sample(n=(14552-10323))\n",
    "print(plus_3.shape)"
   ]
  },
  {
   "cell_type": "code",
   "execution_count": 36,
   "id": "49d980da",
   "metadata": {
    "scrolled": true
   },
   "outputs": [
    {
     "name": "stdout",
     "output_type": "stream",
     "text": [
      "(5510, 2)\n"
     ]
    }
   ],
   "source": [
    "cond_0 = (sample_df['topic_idx']==0)\n",
    "\n",
    "plus_0 = sample_df.loc[cond_0].sample(n=(14552-9042))\n",
    "print(plus_0.shape)"
   ]
  },
  {
   "cell_type": "code",
   "execution_count": 37,
   "id": "eb3b5d8a",
   "metadata": {},
   "outputs": [],
   "source": [
    "plus_df = pd.concat([plus_2, plus_5, plus_6, plus_1, plus_3, plus_0], axis=0)"
   ]
  },
  {
   "cell_type": "code",
   "execution_count": 38,
   "id": "02138073",
   "metadata": {},
   "outputs": [
    {
     "data": {
      "text/plain": [
       "0    5510\n",
       "3    4229\n",
       "1    3532\n",
       "6    3060\n",
       "2    2079\n",
       "5    2073\n",
       "Name: topic_idx, dtype: int64"
      ]
     },
     "execution_count": 38,
     "metadata": {},
     "output_type": "execute_result"
    }
   ],
   "source": [
    "plus_df['topic_idx'].value_counts()"
   ]
  },
  {
   "cell_type": "code",
   "execution_count": 39,
   "id": "32f2d389",
   "metadata": {},
   "outputs": [],
   "source": [
    "balanced_df = pd.concat([sample_df, plus_df], axis=0)"
   ]
  },
  {
   "cell_type": "code",
   "execution_count": 40,
   "id": "53d949f2",
   "metadata": {},
   "outputs": [],
   "source": [
    "balanced_df = balanced_df[['title', 'topic_idx']]"
   ]
  },
  {
   "cell_type": "code",
   "execution_count": 41,
   "id": "11e40293",
   "metadata": {},
   "outputs": [],
   "source": [
    "balanced_df = balanced_df.sample(frac=1).reset_index(drop=True)"
   ]
  },
  {
   "cell_type": "code",
   "execution_count": 42,
   "id": "fcca49ed",
   "metadata": {},
   "outputs": [
    {
     "data": {
      "text/plain": [
       "(101864, 2)"
      ]
     },
     "execution_count": 42,
     "metadata": {},
     "output_type": "execute_result"
    }
   ],
   "source": [
    "balanced_df.shape"
   ]
  },
  {
   "cell_type": "code",
   "execution_count": 43,
   "id": "51b5481f",
   "metadata": {
    "scrolled": true
   },
   "outputs": [
    {
     "data": {
      "text/plain": [
       "3    14552\n",
       "5    14552\n",
       "4    14552\n",
       "1    14552\n",
       "6    14552\n",
       "0    14552\n",
       "2    14552\n",
       "Name: topic_idx, dtype: int64"
      ]
     },
     "execution_count": 43,
     "metadata": {},
     "output_type": "execute_result"
    }
   ],
   "source": [
    "balanced_df['topic_idx'].value_counts()"
   ]
  },
  {
   "cell_type": "code",
   "execution_count": 44,
   "id": "d9616a31",
   "metadata": {},
   "outputs": [
    {
     "data": {
      "text/html": [
       "<div>\n",
       "<style scoped>\n",
       "    .dataframe tbody tr th:only-of-type {\n",
       "        vertical-align: middle;\n",
       "    }\n",
       "\n",
       "    .dataframe tbody tr th {\n",
       "        vertical-align: top;\n",
       "    }\n",
       "\n",
       "    .dataframe thead th {\n",
       "        text-align: right;\n",
       "    }\n",
       "</style>\n",
       "<table border=\"1\" class=\"dataframe\">\n",
       "  <thead>\n",
       "    <tr style=\"text-align: right;\">\n",
       "      <th></th>\n",
       "      <th>title</th>\n",
       "      <th>topic_idx</th>\n",
       "    </tr>\n",
       "  </thead>\n",
       "  <tbody>\n",
       "    <tr>\n",
       "      <th>0</th>\n",
       "      <td>훌륭한 이름도 없고, 훌륭한 이름도 없고, 훌륭한 이름도 없다.</td>\n",
       "      <td>3</td>\n",
       "    </tr>\n",
       "    <tr>\n",
       "      <th>1</th>\n",
       "      <td>내일날씨 전국 구름 많음…아침 기온 다소 올라</td>\n",
       "      <td>3</td>\n",
       "    </tr>\n",
       "    <tr>\n",
       "      <th>2</th>\n",
       "      <td>김연경 금환...이제 도쿄 올림픽 출발을 위해 완성</td>\n",
       "      <td>5</td>\n",
       "    </tr>\n",
       "    <tr>\n",
       "      <th>3</th>\n",
       "      <td>브라질 최대정당 호세프와 결별할 듯…탄핵 가능성 커져</td>\n",
       "      <td>4</td>\n",
       "    </tr>\n",
       "    <tr>\n",
       "      <th>4</th>\n",
       "      <td>책·TV·PC 보면서도 스마트폰 손에서 못 뗀다</td>\n",
       "      <td>3</td>\n",
       "    </tr>\n",
       "    <tr>\n",
       "      <th>...</th>\n",
       "      <td>...</td>\n",
       "      <td>...</td>\n",
       "    </tr>\n",
       "    <tr>\n",
       "      <th>101859</th>\n",
       "      <td>표면을 보다 고르게…신개념 정밀 코팅기술 개발</td>\n",
       "      <td>0</td>\n",
       "    </tr>\n",
       "    <tr>\n",
       "      <th>101860</th>\n",
       "      <td>월드컵 러시아 팬도 손흥민 보러왔어요…인기 스타는 ...</td>\n",
       "      <td>5</td>\n",
       "    </tr>\n",
       "    <tr>\n",
       "      <th>101861</th>\n",
       "      <td>레알 바르사와 함께 승리...강렬한 싸움</td>\n",
       "      <td>5</td>\n",
       "    </tr>\n",
       "    <tr>\n",
       "      <th>101862</th>\n",
       "      <td>프로 농구 인삼공사 KCC에 연장 혈투 승리...콜페퍼 27점</td>\n",
       "      <td>5</td>\n",
       "    </tr>\n",
       "    <tr>\n",
       "      <th>101863</th>\n",
       "      <td>정부의 비상사고와 비상사고에 대한 논의</td>\n",
       "      <td>2</td>\n",
       "    </tr>\n",
       "  </tbody>\n",
       "</table>\n",
       "<p>101864 rows × 2 columns</p>\n",
       "</div>"
      ],
      "text/plain": [
       "                                      title  topic_idx\n",
       "0       훌륭한 이름도 없고, 훌륭한 이름도 없고, 훌륭한 이름도 없다.          3\n",
       "1                 내일날씨 전국 구름 많음…아침 기온 다소 올라          3\n",
       "2              김연경 금환...이제 도쿄 올림픽 출발을 위해 완성          5\n",
       "3             브라질 최대정당 호세프와 결별할 듯…탄핵 가능성 커져          4\n",
       "4                책·TV·PC 보면서도 스마트폰 손에서 못 뗀다          3\n",
       "...                                     ...        ...\n",
       "101859            표면을 보다 고르게…신개념 정밀 코팅기술 개발          0\n",
       "101860      월드컵 러시아 팬도 손흥민 보러왔어요…인기 스타는 ...          5\n",
       "101861               레알 바르사와 함께 승리...강렬한 싸움          5\n",
       "101862   프로 농구 인삼공사 KCC에 연장 혈투 승리...콜페퍼 27점          5\n",
       "101863                정부의 비상사고와 비상사고에 대한 논의          2\n",
       "\n",
       "[101864 rows x 2 columns]"
      ]
     },
     "execution_count": 44,
     "metadata": {},
     "output_type": "execute_result"
    }
   ],
   "source": [
    "balanced_df"
   ]
  },
  {
   "cell_type": "code",
   "execution_count": 45,
   "id": "dfa06fa4",
   "metadata": {},
   "outputs": [],
   "source": [
    "balanced_df.to_csv('revised_data.csv')"
   ]
  },
  {
   "cell_type": "code",
   "execution_count": 46,
   "id": "ebca27cd",
   "metadata": {},
   "outputs": [
    {
     "data": {
      "text/plain": [
       "3    14552\n",
       "5    14552\n",
       "4    14552\n",
       "1    14552\n",
       "6    14552\n",
       "0    14552\n",
       "2    14552\n",
       "Name: topic_idx, dtype: int64"
      ]
     },
     "execution_count": 46,
     "metadata": {},
     "output_type": "execute_result"
    }
   ],
   "source": [
    "train = pd.read_csv('revised_data.csv')\n",
    "train['topic_idx'].value_counts()"
   ]
  },
  {
   "cell_type": "code",
   "execution_count": null,
   "id": "6d82e7f3",
   "metadata": {},
   "outputs": [],
   "source": []
  }
 ],
 "metadata": {
  "kernelspec": {
   "display_name": "Python 3 (ipykernel)",
   "language": "python",
   "name": "python3"
  },
  "language_info": {
   "codemirror_mode": {
    "name": "ipython",
    "version": 3
   },
   "file_extension": ".py",
   "mimetype": "text/x-python",
   "name": "python",
   "nbconvert_exporter": "python",
   "pygments_lexer": "ipython3",
   "version": "3.9.10"
  }
 },
 "nbformat": 4,
 "nbformat_minor": 5
}
