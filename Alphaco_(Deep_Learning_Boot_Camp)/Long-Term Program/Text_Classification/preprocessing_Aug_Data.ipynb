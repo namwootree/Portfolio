{
 "cells": [
  {
   "cell_type": "code",
   "execution_count": 246,
   "id": "0bed443f",
   "metadata": {},
   "outputs": [],
   "source": [
    "import pandas as pd"
   ]
  },
  {
   "cell_type": "code",
   "execution_count": 247,
   "id": "c269e6ba",
   "metadata": {},
   "outputs": [],
   "source": [
    "df1 = pd.read_csv('augment_data_set1.csv')\n",
    "df2 = pd.read_csv('augment_data_set2.csv')\n",
    "df3 = pd.read_csv('augment_data_set3.csv')\n",
    "df4 = pd.read_csv('augment_data_set4.csv')"
   ]
  },
  {
   "cell_type": "code",
   "execution_count": 248,
   "id": "8138d87b",
   "metadata": {
    "scrolled": true
   },
   "outputs": [
    {
     "data": {
      "text/plain": [
       "Unnamed: 0      0\n",
       "title         131\n",
       "topic_idx       0\n",
       "dtype: int64"
      ]
     },
     "execution_count": 248,
     "metadata": {},
     "output_type": "execute_result"
    }
   ],
   "source": [
    "df1.isnull().sum()"
   ]
  },
  {
   "cell_type": "code",
   "execution_count": 249,
   "id": "53ff9786",
   "metadata": {},
   "outputs": [
    {
     "data": {
      "text/plain": [
       "Unnamed: 0      0\n",
       "title         127\n",
       "topic_idx       0\n",
       "dtype: int64"
      ]
     },
     "execution_count": 249,
     "metadata": {},
     "output_type": "execute_result"
    }
   ],
   "source": [
    "df2.isnull().sum()"
   ]
  },
  {
   "cell_type": "code",
   "execution_count": 250,
   "id": "7815ecd3",
   "metadata": {
    "scrolled": true
   },
   "outputs": [
    {
     "data": {
      "text/plain": [
       "Unnamed: 0      0\n",
       "title         118\n",
       "topic_idx       0\n",
       "dtype: int64"
      ]
     },
     "execution_count": 250,
     "metadata": {},
     "output_type": "execute_result"
    }
   ],
   "source": [
    "df3.isnull().sum()"
   ]
  },
  {
   "cell_type": "code",
   "execution_count": 251,
   "id": "3fb25f19",
   "metadata": {},
   "outputs": [
    {
     "data": {
      "text/plain": [
       "Unnamed: 0      0\n",
       "title         181\n",
       "topic_idx       0\n",
       "dtype: int64"
      ]
     },
     "execution_count": 251,
     "metadata": {},
     "output_type": "execute_result"
    }
   ],
   "source": [
    "df4.isnull().sum()# "
   ]
  },
  {
   "cell_type": "code",
   "execution_count": 252,
   "id": "059c738d",
   "metadata": {},
   "outputs": [],
   "source": [
    "df1.dropna(inplace=True)\n",
    "df2.dropna(inplace=True)\n",
    "df3.dropna(inplace=True)\n",
    "df4.dropna(inplace=True)"
   ]
  },
  {
   "cell_type": "code",
   "execution_count": 253,
   "id": "a5c24585",
   "metadata": {},
   "outputs": [],
   "source": [
    "df = pd.concat([df1, df2, df3, df4], axis=0)"
   ]
  },
  {
   "cell_type": "code",
   "execution_count": 254,
   "id": "15bbd557",
   "metadata": {},
   "outputs": [
    {
     "data": {
      "text/html": [
       "<div>\n",
       "<style scoped>\n",
       "    .dataframe tbody tr th:only-of-type {\n",
       "        vertical-align: middle;\n",
       "    }\n",
       "\n",
       "    .dataframe tbody tr th {\n",
       "        vertical-align: top;\n",
       "    }\n",
       "\n",
       "    .dataframe thead th {\n",
       "        text-align: right;\n",
       "    }\n",
       "</style>\n",
       "<table border=\"1\" class=\"dataframe\">\n",
       "  <thead>\n",
       "    <tr style=\"text-align: right;\">\n",
       "      <th></th>\n",
       "      <th>Unnamed: 0</th>\n",
       "      <th>title</th>\n",
       "      <th>topic_idx</th>\n",
       "    </tr>\n",
       "  </thead>\n",
       "  <tbody>\n",
       "    <tr>\n",
       "      <th>0</th>\n",
       "      <td>0</td>\n",
       "      <td>인민→핀란드 항공편 결말...여행객 분열</td>\n",
       "      <td>4</td>\n",
       "    </tr>\n",
       "    <tr>\n",
       "      <th>1</th>\n",
       "      <td>1</td>\n",
       "      <td>실리콘 밸리를 넘어서고, 구글 15조에 들어가서 미국 전역 거주</td>\n",
       "      <td>4</td>\n",
       "    </tr>\n",
       "    <tr>\n",
       "      <th>2</th>\n",
       "      <td>2</td>\n",
       "      <td>이란의 외국 긴장 해결책은 미국이 경제 전쟁을 멈추게 하는 것입니다.</td>\n",
       "      <td>4</td>\n",
       "    </tr>\n",
       "    <tr>\n",
       "      <th>3</th>\n",
       "      <td>3</td>\n",
       "      <td>NYT 클린턴 측 한국 기업 특수 관계 조명...공과 사 대결</td>\n",
       "      <td>4</td>\n",
       "    </tr>\n",
       "    <tr>\n",
       "      <th>4</th>\n",
       "      <td>4</td>\n",
       "      <td>시진핑 트럼프에 중미 무역 협상 빠른 종료 희망</td>\n",
       "      <td>4</td>\n",
       "    </tr>\n",
       "    <tr>\n",
       "      <th>5</th>\n",
       "      <td>5</td>\n",
       "      <td>이스라엘 총격으로 16세 소년 사망</td>\n",
       "      <td>4</td>\n",
       "    </tr>\n",
       "    <tr>\n",
       "      <th>6</th>\n",
       "      <td>6</td>\n",
       "      <td>인도 48년 만에 파키스탄 공격, 테러 캠프 폭격</td>\n",
       "      <td>4</td>\n",
       "    </tr>\n",
       "    <tr>\n",
       "      <th>7</th>\n",
       "      <td>7</td>\n",
       "      <td>트럼프 대신 빌클린턴을 공격하고 실패</td>\n",
       "      <td>4</td>\n",
       "    </tr>\n",
       "    <tr>\n",
       "      <th>8</th>\n",
       "      <td>8</td>\n",
       "      <td>푸틴 한반도 상황 발전을 위한 방 김정은은 위원장과 논의</td>\n",
       "      <td>4</td>\n",
       "    </tr>\n",
       "    <tr>\n",
       "      <th>9</th>\n",
       "      <td>9</td>\n",
       "      <td>특수 면역받은 트럼프 스캔들 언론 맹세...국민의 적</td>\n",
       "      <td>4</td>\n",
       "    </tr>\n",
       "  </tbody>\n",
       "</table>\n",
       "</div>"
      ],
      "text/plain": [
       "   Unnamed: 0                                   title  topic_idx\n",
       "0           0                  인민→핀란드 항공편 결말...여행객 분열          4\n",
       "1           1     실리콘 밸리를 넘어서고, 구글 15조에 들어가서 미국 전역 거주          4\n",
       "2           2  이란의 외국 긴장 해결책은 미국이 경제 전쟁을 멈추게 하는 것입니다.          4\n",
       "3           3      NYT 클린턴 측 한국 기업 특수 관계 조명...공과 사 대결          4\n",
       "4           4              시진핑 트럼프에 중미 무역 협상 빠른 종료 희망          4\n",
       "5           5                     이스라엘 총격으로 16세 소년 사망          4\n",
       "6           6             인도 48년 만에 파키스탄 공격, 테러 캠프 폭격          4\n",
       "7           7                    트럼프 대신 빌클린턴을 공격하고 실패          4\n",
       "8           8         푸틴 한반도 상황 발전을 위한 방 김정은은 위원장과 논의          4\n",
       "9           9           특수 면역받은 트럼프 스캔들 언론 맹세...국민의 적          4"
      ]
     },
     "execution_count": 254,
     "metadata": {},
     "output_type": "execute_result"
    }
   ],
   "source": [
    "df.head(10)"
   ]
  },
  {
   "cell_type": "code",
   "execution_count": 255,
   "id": "88cea9dd",
   "metadata": {
    "scrolled": true
   },
   "outputs": [
    {
     "data": {
      "text/plain": [
       "(45094, 3)"
      ]
     },
     "execution_count": 255,
     "metadata": {},
     "output_type": "execute_result"
    }
   ],
   "source": [
    "df.shape"
   ]
  },
  {
   "cell_type": "code",
   "execution_count": 256,
   "id": "a88a0c6e",
   "metadata": {},
   "outputs": [
    {
     "data": {
      "text/plain": [
       "Unnamed: 0    0\n",
       "title         0\n",
       "topic_idx     0\n",
       "dtype: int64"
      ]
     },
     "execution_count": 256,
     "metadata": {},
     "output_type": "execute_result"
    }
   ],
   "source": [
    "df.isnull().sum()"
   ]
  },
  {
   "cell_type": "code",
   "execution_count": 257,
   "id": "f650e85e",
   "metadata": {},
   "outputs": [],
   "source": [
    "list_title = df['title'].tolist()\n",
    "list_idx = df['topic_idx'].tolist()"
   ]
  },
  {
   "cell_type": "code",
   "execution_count": 258,
   "id": "8cce3e78",
   "metadata": {},
   "outputs": [
    {
     "data": {
      "text/plain": [
       "['인민→핀란드 항공편 결말...여행객 분열',\n",
       " '실리콘 밸리를 넘어서고, 구글 15조에 들어가서 미국 전역 거주',\n",
       " '이란의 외국 긴장 해결책은 미국이 경제 전쟁을 멈추게 하는 것입니다.',\n",
       " 'NYT 클린턴 측 한국 기업 특수 관계 조명...공과 사 대결']"
      ]
     },
     "execution_count": 258,
     "metadata": {},
     "output_type": "execute_result"
    }
   ],
   "source": [
    "list_title[:4]"
   ]
  },
  {
   "cell_type": "code",
   "execution_count": 259,
   "id": "23a72946",
   "metadata": {},
   "outputs": [
    {
     "data": {
      "text/plain": [
       "[4, 4, 4, 4]"
      ]
     },
     "execution_count": 259,
     "metadata": {},
     "output_type": "execute_result"
    }
   ],
   "source": [
    "list_idx[:4]"
   ]
  },
  {
   "cell_type": "code",
   "execution_count": 260,
   "id": "fb1c313c",
   "metadata": {},
   "outputs": [],
   "source": [
    "drity_title1 = []\n",
    "drity_idx1 = []\n",
    "\n",
    "for t, i in zip(list_title, list_idx):\n",
    "    \n",
    "    list_word = t.split(' ')\n",
    "    \n",
    "    if len(list_word) >= 3:\n",
    "    \n",
    "        if list_word[-1] == list_word[-2] or list_word[-1] == list_word[-3]:\n",
    "\n",
    "            drity_title1.append(t)\n",
    "            drity_idx1.append(i)\n",
    "            "
   ]
  },
  {
   "cell_type": "code",
   "execution_count": 261,
   "id": "71694868",
   "metadata": {},
   "outputs": [],
   "source": [
    "drity_title2 = []\n",
    "drity_idx2 = []\n",
    "\n",
    "for t, i in zip(list_title, list_idx):\n",
    "    \n",
    "    list_word = t.split(' ')\n",
    "    \n",
    "    if len(list_word) >= 3:\n",
    "    \n",
    "        if list_word[0] == list_word[1] or list_word[0] == list_word[2]:\n",
    "\n",
    "            drity_title2.append(t)\n",
    "            drity_idx2.append(i)"
   ]
  },
  {
   "cell_type": "code",
   "execution_count": 262,
   "id": "2ae35d99",
   "metadata": {},
   "outputs": [],
   "source": [
    "drity_title3 = []\n",
    "drity_idx3 = []\n",
    "\n",
    "for t, i in zip(list_title, list_idx):\n",
    "    \n",
    "    list_word = t.split(' ')\n",
    "    \n",
    "    if len(list_word) >= 4:\n",
    "    \n",
    "        if list_word[1] == list_word[2] or list_word[1] == list_word[3]:\n",
    "\n",
    "            drity_title3.append(t)\n",
    "            drity_idx3.append(i)"
   ]
  },
  {
   "cell_type": "code",
   "execution_count": 263,
   "id": "8e0f933f",
   "metadata": {
    "scrolled": false
   },
   "outputs": [
    {
     "data": {
      "text/plain": [
       "['촛불이 빛나고 촛불이 빛나고 촛불이 빛나고 촛불이 빛나고 촛불이 빛나고',\n",
       " '텍사스 텍사스 텍사스 텍사스 텍사스 텍사스 텍사스 텍사스 텍사스',\n",
       " '제1조 제1조 제1조 제1조 제1조 제1조 제1조 제1조 제1조 제1조 제1조 제1조 제1조 제1조 제1조 제1조 제1조 제1조 제1조 제1조',\n",
       " '주말 파크 대통령 안보·경제 두 배 위기를 극복 하 고 고',\n",
       " '내일이면 옥수수 옥수수 옥수수 옥수수 옥수수 옥수수',\n",
       " '선생님 선생님 선생님 선생님 선생님 선생님 선생님 선생님 선생님 선생님 선생님 선생님',\n",
       " '황제 황제 황제 황제 황제 황제 황제 황제 황제 황제 황제 황제 황제 황제',\n",
       " '재생된 트라우마 롯데 에 울고 판결에 울고',\n",
       " '북마케도니아 선거 선거 선거 선거 선거 선거 선거 선거 선거',\n",
       " '짐승은 짐승이 짐승이 짐승이 짐승이 짐승이 짐승이 짐승이 짐승이']"
      ]
     },
     "execution_count": 263,
     "metadata": {},
     "output_type": "execute_result"
    }
   ],
   "source": [
    "drity_title1[:10]"
   ]
  },
  {
   "cell_type": "code",
   "execution_count": 264,
   "id": "b00c8f59",
   "metadata": {
    "scrolled": true
   },
   "outputs": [
    {
     "data": {
      "text/plain": [
       "['웃음소리 웃음소리 웃음소리 웃음소리 MVP',\n",
       " '촛불이 빛나고 촛불이 빛나고 촛불이 빛나고 촛불이 빛나고 촛불이 빛나고',\n",
       " '텍사스 텍사스 텍사스 텍사스 텍사스 텍사스 텍사스 텍사스 텍사스',\n",
       " '제1조 제1조 제1조 제1조 제1조 제1조 제1조 제1조 제1조 제1조 제1조 제1조 제1조 제1조 제1조 제1조 제1조 제1조 제1조 제1조',\n",
       " '국회의원, 국회의원, 국회의원, 국회의원, 국회의원, 국회의원, 국회의원, 국회의원',\n",
       " '선생님 선생님 선생님 선생님 선생님 선생님 선생님 선생님 선생님 선생님 선생님 선생님',\n",
       " '황제 황제 황제 황제 황제 황제 황제 황제 황제 황제 황제 황제 황제 황제',\n",
       " '북반발 후 북반발 후 중간점 5안보 제재 후 중간점',\n",
       " '퇴직연금 퇴직연금 퇴직연금 퇴직연금 퇴직연금 퇴직연금',\n",
       " '부상으로 인한 부상으로 인한 부상으로 인한 부상으로 인한 부상으로 인한 부상']"
      ]
     },
     "execution_count": 264,
     "metadata": {},
     "output_type": "execute_result"
    }
   ],
   "source": [
    "drity_title2[:10]"
   ]
  },
  {
   "cell_type": "code",
   "execution_count": 265,
   "id": "73a0e454",
   "metadata": {},
   "outputs": [
    {
     "data": {
      "text/plain": [
       "['터키 대사 러시아 대사 총격, 병원 이송',\n",
       " '웃음소리 웃음소리 웃음소리 웃음소리 MVP',\n",
       " '촛불이 빛나고 촛불이 빛나고 촛불이 빛나고 촛불이 빛나고 촛불이 빛나고',\n",
       " '텍사스 텍사스 텍사스 텍사스 텍사스 텍사스 텍사스 텍사스 텍사스',\n",
       " '제1조 제1조 제1조 제1조 제1조 제1조 제1조 제1조 제1조 제1조 제1조 제1조 제1조 제1조 제1조 제1조 제1조 제1조 제1조 제1조',\n",
       " '국회의원, 국회의원, 국회의원, 국회의원, 국회의원, 국회의원, 국회의원, 국회의원',\n",
       " '헌법재판소는 헌법재판소의 헌법재판소가 헌법재판소의 헌법재판소가 헌법재판소의 헌법재판소가 헌법재판소의 헌법재판소가 헌법재판소의 헌법재판소가 헌법재판소의 헌법재판소가 헌법재판소의 헌법재판소가 헌법재판소의 헌법재판소가 아니기 때문이다.',\n",
       " '내일이면 옥수수 옥수수 옥수수 옥수수 옥수수 옥수수',\n",
       " '헌신에서 헌신으로부터 헌신으로부터 헌신으로부터 헌신으로부터 헌신으로부터 헌신',\n",
       " '선생님 선생님 선생님 선생님 선생님 선생님 선생님 선생님 선생님 선생님 선생님 선생님']"
      ]
     },
     "execution_count": 265,
     "metadata": {},
     "output_type": "execute_result"
    }
   ],
   "source": [
    "drity_title3[:10]"
   ]
  },
  {
   "cell_type": "code",
   "execution_count": 266,
   "id": "b019c576",
   "metadata": {},
   "outputs": [],
   "source": [
    "clean_title = []\n",
    "clean_idx = []\n",
    "\n",
    "for t, i in zip(list_title, list_idx):\n",
    "    \n",
    "    if len(t.split(' ')) >= 4:\n",
    "    \n",
    "        if t not in drity_title1:\n",
    "            if t not in drity_title2:\n",
    "                if t not in drity_title3:\n",
    "                    clean_title.append(t)\n",
    "                    clean_idx.append(i)\n"
   ]
  },
  {
   "cell_type": "code",
   "execution_count": 267,
   "id": "7c09e716",
   "metadata": {},
   "outputs": [],
   "source": [
    "limit_tilte = []\n",
    "limit_idx = []\n",
    "\n",
    "for t, i in zip(clean_title, clean_idx):\n",
    "    \n",
    "    if len(t.split()[-1]) <=5:\n",
    "    \n",
    "        lenght = sum([len(w) for w in t.split()])\n",
    "        if lenght <= 40:\n",
    "            limit_tilte.append(t)\n",
    "            limit_idx.append(i)"
   ]
  },
  {
   "cell_type": "code",
   "execution_count": 268,
   "id": "639183c1",
   "metadata": {
    "scrolled": true
   },
   "outputs": [
    {
     "name": "stdout",
     "output_type": "stream",
     "text": [
      "2480\n",
      "2290\n",
      "3114\n"
     ]
    }
   ],
   "source": [
    "print(len(drity_title1))\n",
    "print(len(drity_title2))\n",
    "print(len(drity_title3))"
   ]
  },
  {
   "cell_type": "code",
   "execution_count": 269,
   "id": "4dfe976d",
   "metadata": {},
   "outputs": [
    {
     "data": {
      "text/plain": [
       "35727"
      ]
     },
     "execution_count": 269,
     "metadata": {},
     "output_type": "execute_result"
    }
   ],
   "source": [
    "len(limit_tilte)"
   ]
  },
  {
   "cell_type": "code",
   "execution_count": 270,
   "id": "7fa2cdf2",
   "metadata": {
    "scrolled": true
   },
   "outputs": [
    {
     "data": {
      "text/plain": [
       "['인민→핀란드 항공편 결말...여행객 분열',\n",
       " '실리콘 밸리를 넘어서고, 구글 15조에 들어가서 미국 전역 거주',\n",
       " '이란의 외국 긴장 해결책은 미국이 경제 전쟁을 멈추게 하는 것입니다.',\n",
       " 'NYT 클린턴 측 한국 기업 특수 관계 조명...공과 사 대결',\n",
       " '시진핑 트럼프에 중미 무역 협상 빠른 종료 희망',\n",
       " '이스라엘 총격으로 16세 소년 사망',\n",
       " '인도 48년 만에 파키스탄 공격, 테러 캠프 폭격',\n",
       " '트럼프 대신 빌클린턴을 공격하고 실패',\n",
       " '푸틴 한반도 상황 발전을 위한 방 김정은은 위원장과 논의',\n",
       " '특수 면역받은 트럼프 스캔들 언론 맹세...국민의 적']"
      ]
     },
     "execution_count": 270,
     "metadata": {},
     "output_type": "execute_result"
    }
   ],
   "source": [
    "limit_tilte[:10]"
   ]
  },
  {
   "cell_type": "code",
   "execution_count": 271,
   "id": "44c9bde9",
   "metadata": {},
   "outputs": [],
   "source": [
    "finish_df = pd.DataFrame({'title':limit_tilte,\n",
    "                        'topic_idx':limit_idx})"
   ]
  },
  {
   "cell_type": "code",
   "execution_count": 272,
   "id": "06932ee6",
   "metadata": {},
   "outputs": [
    {
     "data": {
      "text/html": [
       "<div>\n",
       "<style scoped>\n",
       "    .dataframe tbody tr th:only-of-type {\n",
       "        vertical-align: middle;\n",
       "    }\n",
       "\n",
       "    .dataframe tbody tr th {\n",
       "        vertical-align: top;\n",
       "    }\n",
       "\n",
       "    .dataframe thead th {\n",
       "        text-align: right;\n",
       "    }\n",
       "</style>\n",
       "<table border=\"1\" class=\"dataframe\">\n",
       "  <thead>\n",
       "    <tr style=\"text-align: right;\">\n",
       "      <th></th>\n",
       "      <th>title</th>\n",
       "      <th>topic_idx</th>\n",
       "    </tr>\n",
       "  </thead>\n",
       "  <tbody>\n",
       "    <tr>\n",
       "      <th>0</th>\n",
       "      <td>인민→핀란드 항공편 결말...여행객 분열</td>\n",
       "      <td>4</td>\n",
       "    </tr>\n",
       "    <tr>\n",
       "      <th>1</th>\n",
       "      <td>실리콘 밸리를 넘어서고, 구글 15조에 들어가서 미국 전역 거주</td>\n",
       "      <td>4</td>\n",
       "    </tr>\n",
       "    <tr>\n",
       "      <th>2</th>\n",
       "      <td>이란의 외국 긴장 해결책은 미국이 경제 전쟁을 멈추게 하는 것입니다.</td>\n",
       "      <td>4</td>\n",
       "    </tr>\n",
       "    <tr>\n",
       "      <th>3</th>\n",
       "      <td>NYT 클린턴 측 한국 기업 특수 관계 조명...공과 사 대결</td>\n",
       "      <td>4</td>\n",
       "    </tr>\n",
       "    <tr>\n",
       "      <th>4</th>\n",
       "      <td>시진핑 트럼프에 중미 무역 협상 빠른 종료 희망</td>\n",
       "      <td>4</td>\n",
       "    </tr>\n",
       "    <tr>\n",
       "      <th>...</th>\n",
       "      <td>...</td>\n",
       "      <td>...</td>\n",
       "    </tr>\n",
       "    <tr>\n",
       "      <th>35722</th>\n",
       "      <td>16일 동남부 지진지역 위원회 방문</td>\n",
       "      <td>4</td>\n",
       "    </tr>\n",
       "    <tr>\n",
       "      <th>35723</th>\n",
       "      <td>KB 금융 미국 IB 스티펠과 연합...개발국 시장 공격</td>\n",
       "      <td>1</td>\n",
       "    </tr>\n",
       "    <tr>\n",
       "      <th>35724</th>\n",
       "      <td>1호 서울시교육청 신종코로나 확산에 개입·휴직 검토</td>\n",
       "      <td>2</td>\n",
       "    </tr>\n",
       "    <tr>\n",
       "      <th>35725</th>\n",
       "      <td>응답하는 국립 중앙 박물관</td>\n",
       "      <td>2</td>\n",
       "    </tr>\n",
       "    <tr>\n",
       "      <th>35726</th>\n",
       "      <td>2020 한국인터넷상 수상식 내달 1일 개최...특별한 김성후</td>\n",
       "      <td>2</td>\n",
       "    </tr>\n",
       "  </tbody>\n",
       "</table>\n",
       "<p>35727 rows × 2 columns</p>\n",
       "</div>"
      ],
      "text/plain": [
       "                                        title  topic_idx\n",
       "0                      인민→핀란드 항공편 결말...여행객 분열          4\n",
       "1         실리콘 밸리를 넘어서고, 구글 15조에 들어가서 미국 전역 거주          4\n",
       "2      이란의 외국 긴장 해결책은 미국이 경제 전쟁을 멈추게 하는 것입니다.          4\n",
       "3          NYT 클린턴 측 한국 기업 특수 관계 조명...공과 사 대결          4\n",
       "4                  시진핑 트럼프에 중미 무역 협상 빠른 종료 희망          4\n",
       "...                                       ...        ...\n",
       "35722                     16일 동남부 지진지역 위원회 방문          4\n",
       "35723         KB 금융 미국 IB 스티펠과 연합...개발국 시장 공격          1\n",
       "35724            1호 서울시교육청 신종코로나 확산에 개입·휴직 검토          2\n",
       "35725                          응답하는 국립 중앙 박물관          2\n",
       "35726      2020 한국인터넷상 수상식 내달 1일 개최...특별한 김성후          2\n",
       "\n",
       "[35727 rows x 2 columns]"
      ]
     },
     "execution_count": 272,
     "metadata": {},
     "output_type": "execute_result"
    }
   ],
   "source": [
    "finish_df"
   ]
  },
  {
   "cell_type": "code",
   "execution_count": 273,
   "id": "806cbc37",
   "metadata": {
    "scrolled": true
   },
   "outputs": [
    {
     "data": {
      "text/plain": [
       "(35727, 2)"
      ]
     },
     "execution_count": 273,
     "metadata": {},
     "output_type": "execute_result"
    }
   ],
   "source": [
    "finish_df.shape"
   ]
  },
  {
   "cell_type": "code",
   "execution_count": 274,
   "id": "03e80bc6",
   "metadata": {},
   "outputs": [],
   "source": [
    "c2k = { \"中\": \"중국\", \"美\": \"미국\",\"北\":\"북한\",'日':\"일본\",'英':'영국', '靑':'청와대','朴':'박근혜','銀':'은행','與':'여당',\n",
    "     '文':'문재인','野':'야당','獨':'독일','伊':'이탈리아','韓':'한국','佛':'프랑스','檢':'검찰','軍':'군사','安':'안철수','南':'남한',\n",
    "     '亞':'아시아','展':'전시회','株':'주식'}"
   ]
  },
  {
   "cell_type": "code",
   "execution_count": 275,
   "id": "0f45ee15",
   "metadata": {},
   "outputs": [],
   "source": [
    "list_c = list(c2k.keys())"
   ]
  },
  {
   "cell_type": "code",
   "execution_count": 276,
   "id": "a88f2e72",
   "metadata": {},
   "outputs": [],
   "source": [
    "list_k = list(c2k.values())"
   ]
  },
  {
   "cell_type": "code",
   "execution_count": 277,
   "id": "96ebdd71",
   "metadata": {},
   "outputs": [],
   "source": [
    "k2c = {}\n",
    "\n",
    "for k, c in zip(list_k, list_c):\n",
    "    k2c[k]=c"
   ]
  },
  {
   "cell_type": "code",
   "execution_count": 278,
   "id": "26c19642",
   "metadata": {},
   "outputs": [
    {
     "data": {
      "text/plain": [
       "{'중국': '中',\n",
       " '미국': '美',\n",
       " '북한': '北',\n",
       " '일본': '日',\n",
       " '영국': '英',\n",
       " '청와대': '靑',\n",
       " '박근혜': '朴',\n",
       " '은행': '銀',\n",
       " '여당': '與',\n",
       " '문재인': '文',\n",
       " '야당': '野',\n",
       " '독일': '獨',\n",
       " '이탈리아': '伊',\n",
       " '한국': '韓',\n",
       " '프랑스': '佛',\n",
       " '검찰': '檢',\n",
       " '군사': '軍',\n",
       " '안철수': '安',\n",
       " '남한': '南',\n",
       " '아시아': '亞',\n",
       " '전시회': '展',\n",
       " '주식': '株'}"
      ]
     },
     "execution_count": 278,
     "metadata": {},
     "output_type": "execute_result"
    }
   ],
   "source": [
    "k2c"
   ]
  },
  {
   "cell_type": "code",
   "execution_count": 279,
   "id": "42e02f51",
   "metadata": {},
   "outputs": [],
   "source": [
    "list_n_title = finish_df['title'].tolist()\n",
    "list_n_idx = finish_df['topic_idx'].tolist()"
   ]
  },
  {
   "cell_type": "code",
   "execution_count": 280,
   "id": "5ba31258",
   "metadata": {},
   "outputs": [],
   "source": [
    "def replace_all(text, dic):\n",
    "    for i, j in dic.items():\n",
    "        text = text.replace(i, j)\n",
    "    return text"
   ]
  },
  {
   "cell_type": "code",
   "execution_count": 281,
   "id": "b86a773e",
   "metadata": {},
   "outputs": [],
   "source": [
    "last_title = []\n",
    "last_idx = []\n",
    "\n",
    "for t, i in zip(list_n_title, list_n_idx):\n",
    "    \n",
    "    t = replace_all(t, k2c)\n",
    "    t = t.replace('입니다', '').replace('이다', '').replace('습니다', '다').replace('했다','')\n",
    "    \n",
    "    last_title.append(t)\n",
    "    last_idx.append(i)"
   ]
  },
  {
   "cell_type": "code",
   "execution_count": 282,
   "id": "072f95cb",
   "metadata": {},
   "outputs": [],
   "source": [
    "last_df = pd.DataFrame({'title':last_title,\n",
    "                        'topic_idx':last_idx})"
   ]
  },
  {
   "cell_type": "code",
   "execution_count": 283,
   "id": "85048002",
   "metadata": {},
   "outputs": [
    {
     "data": {
      "text/html": [
       "<div>\n",
       "<style scoped>\n",
       "    .dataframe tbody tr th:only-of-type {\n",
       "        vertical-align: middle;\n",
       "    }\n",
       "\n",
       "    .dataframe tbody tr th {\n",
       "        vertical-align: top;\n",
       "    }\n",
       "\n",
       "    .dataframe thead th {\n",
       "        text-align: right;\n",
       "    }\n",
       "</style>\n",
       "<table border=\"1\" class=\"dataframe\">\n",
       "  <thead>\n",
       "    <tr style=\"text-align: right;\">\n",
       "      <th></th>\n",
       "      <th>title</th>\n",
       "      <th>topic_idx</th>\n",
       "    </tr>\n",
       "  </thead>\n",
       "  <tbody>\n",
       "    <tr>\n",
       "      <th>0</th>\n",
       "      <td>인민→핀란드 항공편 결말...여행객 분열</td>\n",
       "      <td>4</td>\n",
       "    </tr>\n",
       "    <tr>\n",
       "      <th>1</th>\n",
       "      <td>실리콘 밸리를 넘어서고, 구글 15조에 들어가서 美 전역 거주</td>\n",
       "      <td>4</td>\n",
       "    </tr>\n",
       "    <tr>\n",
       "      <th>2</th>\n",
       "      <td>이란의 외국 긴장 해결책은 美이 경제 전쟁을 멈추게 하는 것.</td>\n",
       "      <td>4</td>\n",
       "    </tr>\n",
       "    <tr>\n",
       "      <th>3</th>\n",
       "      <td>NYT 클린턴 측 韓 기업 특수 관계 조명...공과 사 대결</td>\n",
       "      <td>4</td>\n",
       "    </tr>\n",
       "    <tr>\n",
       "      <th>4</th>\n",
       "      <td>시진핑 트럼프에 중미 무역 협상 빠른 종료 희망</td>\n",
       "      <td>4</td>\n",
       "    </tr>\n",
       "    <tr>\n",
       "      <th>...</th>\n",
       "      <td>...</td>\n",
       "      <td>...</td>\n",
       "    </tr>\n",
       "    <tr>\n",
       "      <th>35722</th>\n",
       "      <td>16일 동남부 지진지역 위원회 방문</td>\n",
       "      <td>4</td>\n",
       "    </tr>\n",
       "    <tr>\n",
       "      <th>35723</th>\n",
       "      <td>KB 금융 美 IB 스티펠과 연합...개발국 시장 공격</td>\n",
       "      <td>1</td>\n",
       "    </tr>\n",
       "    <tr>\n",
       "      <th>35724</th>\n",
       "      <td>1호 서울시교육청 신종코로나 확산에 개입·휴직 검토</td>\n",
       "      <td>2</td>\n",
       "    </tr>\n",
       "    <tr>\n",
       "      <th>35725</th>\n",
       "      <td>응답하는 국립 중앙 박물관</td>\n",
       "      <td>2</td>\n",
       "    </tr>\n",
       "    <tr>\n",
       "      <th>35726</th>\n",
       "      <td>2020 韓인터넷상 수상식 내달 1일 개최...특별한 김성후</td>\n",
       "      <td>2</td>\n",
       "    </tr>\n",
       "  </tbody>\n",
       "</table>\n",
       "<p>35727 rows × 2 columns</p>\n",
       "</div>"
      ],
      "text/plain": [
       "                                    title  topic_idx\n",
       "0                  인민→핀란드 항공편 결말...여행객 분열          4\n",
       "1      실리콘 밸리를 넘어서고, 구글 15조에 들어가서 美 전역 거주          4\n",
       "2      이란의 외국 긴장 해결책은 美이 경제 전쟁을 멈추게 하는 것.          4\n",
       "3       NYT 클린턴 측 韓 기업 특수 관계 조명...공과 사 대결          4\n",
       "4              시진핑 트럼프에 중미 무역 협상 빠른 종료 희망          4\n",
       "...                                   ...        ...\n",
       "35722                 16일 동남부 지진지역 위원회 방문          4\n",
       "35723      KB 금융 美 IB 스티펠과 연합...개발국 시장 공격          1\n",
       "35724        1호 서울시교육청 신종코로나 확산에 개입·휴직 검토          2\n",
       "35725                      응답하는 국립 중앙 박물관          2\n",
       "35726   2020 韓인터넷상 수상식 내달 1일 개최...특별한 김성후          2\n",
       "\n",
       "[35727 rows x 2 columns]"
      ]
     },
     "execution_count": 283,
     "metadata": {},
     "output_type": "execute_result"
    }
   ],
   "source": [
    "last_df"
   ]
  },
  {
   "cell_type": "code",
   "execution_count": 284,
   "id": "1e7e0008",
   "metadata": {},
   "outputs": [],
   "source": [
    "last_df.to_csv('final_aug_data.csv')"
   ]
  },
  {
   "cell_type": "code",
   "execution_count": 285,
   "id": "31fb0162",
   "metadata": {},
   "outputs": [
    {
     "data": {
      "text/plain": [
       "4    6923\n",
       "5    5546\n",
       "2    5111\n",
       "1    4798\n",
       "6    4741\n",
       "3    4390\n",
       "0    4218\n",
       "Name: topic_idx, dtype: int64"
      ]
     },
     "execution_count": 285,
     "metadata": {},
     "output_type": "execute_result"
    }
   ],
   "source": [
    "last_df['topic_idx'].value_counts()"
   ]
  }
 ],
 "metadata": {
  "kernelspec": {
   "display_name": "Python 3 (ipykernel)",
   "language": "python",
   "name": "python3"
  },
  "language_info": {
   "codemirror_mode": {
    "name": "ipython",
    "version": 3
   },
   "file_extension": ".py",
   "mimetype": "text/x-python",
   "name": "python",
   "nbconvert_exporter": "python",
   "pygments_lexer": "ipython3",
   "version": "3.9.10"
  }
 },
 "nbformat": 4,
 "nbformat_minor": 5
}
