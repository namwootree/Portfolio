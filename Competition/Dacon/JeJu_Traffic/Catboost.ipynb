{
 "cells": [
  {
   "cell_type": "markdown",
   "metadata": {
    "id": "qe1SXXqJyyGb"
   },
   "source": [
    "# Setting"
   ]
  },
  {
   "cell_type": "markdown",
   "metadata": {
    "id": "2t4GuYHfz4aa"
   },
   "source": [
    "## Install"
   ]
  },
  {
   "cell_type": "code",
   "execution_count": 1,
   "metadata": {
    "colab": {
     "base_uri": "https://localhost:8080/"
    },
    "id": "ImYzmglKz5sP",
    "outputId": "4381a5ab-accb-4b41-b9cc-87e9d02dbe45"
   },
   "outputs": [
    {
     "name": "stdout",
     "output_type": "stream",
     "text": [
      "Requirement already satisfied: catboost in /Library/Frameworks/Python.framework/Versions/3.10/lib/python3.10/site-packages (1.1)\n",
      "Requirement already satisfied: plotly in /Library/Frameworks/Python.framework/Versions/3.10/lib/python3.10/site-packages (from catboost) (5.10.0)\n",
      "Requirement already satisfied: six in /Library/Frameworks/Python.framework/Versions/3.10/lib/python3.10/site-packages (from catboost) (1.16.0)\n",
      "Requirement already satisfied: numpy>=1.16.0 in /Library/Frameworks/Python.framework/Versions/3.10/lib/python3.10/site-packages (from catboost) (1.22.4)\n",
      "Requirement already satisfied: scipy in /Library/Frameworks/Python.framework/Versions/3.10/lib/python3.10/site-packages (from catboost) (1.9.1)\n",
      "Requirement already satisfied: matplotlib in /Library/Frameworks/Python.framework/Versions/3.10/lib/python3.10/site-packages (from catboost) (3.5.2)\n",
      "Requirement already satisfied: pandas>=0.24.0 in /Library/Frameworks/Python.framework/Versions/3.10/lib/python3.10/site-packages (from catboost) (1.4.2)\n",
      "Requirement already satisfied: graphviz in /Library/Frameworks/Python.framework/Versions/3.10/lib/python3.10/site-packages (from catboost) (0.20.1)\n",
      "Requirement already satisfied: pytz>=2020.1 in /Library/Frameworks/Python.framework/Versions/3.10/lib/python3.10/site-packages (from pandas>=0.24.0->catboost) (2022.1)\n",
      "Requirement already satisfied: python-dateutil>=2.8.1 in /Library/Frameworks/Python.framework/Versions/3.10/lib/python3.10/site-packages (from pandas>=0.24.0->catboost) (2.8.2)\n",
      "Requirement already satisfied: pillow>=6.2.0 in /Library/Frameworks/Python.framework/Versions/3.10/lib/python3.10/site-packages (from matplotlib->catboost) (9.1.1)\n",
      "Requirement already satisfied: cycler>=0.10 in /Library/Frameworks/Python.framework/Versions/3.10/lib/python3.10/site-packages (from matplotlib->catboost) (0.11.0)\n",
      "Requirement already satisfied: fonttools>=4.22.0 in /Library/Frameworks/Python.framework/Versions/3.10/lib/python3.10/site-packages (from matplotlib->catboost) (4.33.3)\n",
      "Requirement already satisfied: packaging>=20.0 in /Library/Frameworks/Python.framework/Versions/3.10/lib/python3.10/site-packages (from matplotlib->catboost) (21.3)\n",
      "Requirement already satisfied: kiwisolver>=1.0.1 in /Library/Frameworks/Python.framework/Versions/3.10/lib/python3.10/site-packages (from matplotlib->catboost) (1.4.2)\n",
      "Requirement already satisfied: pyparsing>=2.2.1 in /Library/Frameworks/Python.framework/Versions/3.10/lib/python3.10/site-packages (from matplotlib->catboost) (3.0.9)\n",
      "Requirement already satisfied: tenacity>=6.2.0 in /Library/Frameworks/Python.framework/Versions/3.10/lib/python3.10/site-packages (from plotly->catboost) (8.1.0)\n",
      "\u001b[33mWARNING: You are using pip version 22.0.4; however, version 22.3.1 is available.\n",
      "You should consider upgrading via the '/Library/Frameworks/Python.framework/Versions/3.10/bin/python3.10 -m pip install --upgrade pip' command.\u001b[0m\u001b[33m\n",
      "\u001b[0m"
     ]
    }
   ],
   "source": [
    "!pip3 install catboost"
   ]
  },
  {
   "cell_type": "code",
   "execution_count": 2,
   "metadata": {},
   "outputs": [
    {
     "name": "stdout",
     "output_type": "stream",
     "text": [
      "Requirement already satisfied: seaborn in /Library/Frameworks/Python.framework/Versions/3.10/lib/python3.10/site-packages (0.12.1)\n",
      "Requirement already satisfied: matplotlib!=3.6.1,>=3.1 in /Library/Frameworks/Python.framework/Versions/3.10/lib/python3.10/site-packages (from seaborn) (3.5.2)\n",
      "Requirement already satisfied: pandas>=0.25 in /Library/Frameworks/Python.framework/Versions/3.10/lib/python3.10/site-packages (from seaborn) (1.4.2)\n",
      "Requirement already satisfied: numpy>=1.17 in /Library/Frameworks/Python.framework/Versions/3.10/lib/python3.10/site-packages (from seaborn) (1.22.4)\n",
      "Requirement already satisfied: fonttools>=4.22.0 in /Library/Frameworks/Python.framework/Versions/3.10/lib/python3.10/site-packages (from matplotlib!=3.6.1,>=3.1->seaborn) (4.33.3)\n",
      "Requirement already satisfied: pyparsing>=2.2.1 in /Library/Frameworks/Python.framework/Versions/3.10/lib/python3.10/site-packages (from matplotlib!=3.6.1,>=3.1->seaborn) (3.0.9)\n",
      "Requirement already satisfied: python-dateutil>=2.7 in /Library/Frameworks/Python.framework/Versions/3.10/lib/python3.10/site-packages (from matplotlib!=3.6.1,>=3.1->seaborn) (2.8.2)\n",
      "Requirement already satisfied: pillow>=6.2.0 in /Library/Frameworks/Python.framework/Versions/3.10/lib/python3.10/site-packages (from matplotlib!=3.6.1,>=3.1->seaborn) (9.1.1)\n",
      "Requirement already satisfied: packaging>=20.0 in /Library/Frameworks/Python.framework/Versions/3.10/lib/python3.10/site-packages (from matplotlib!=3.6.1,>=3.1->seaborn) (21.3)\n",
      "Requirement already satisfied: cycler>=0.10 in /Library/Frameworks/Python.framework/Versions/3.10/lib/python3.10/site-packages (from matplotlib!=3.6.1,>=3.1->seaborn) (0.11.0)\n",
      "Requirement already satisfied: kiwisolver>=1.0.1 in /Library/Frameworks/Python.framework/Versions/3.10/lib/python3.10/site-packages (from matplotlib!=3.6.1,>=3.1->seaborn) (1.4.2)\n",
      "Requirement already satisfied: pytz>=2020.1 in /Library/Frameworks/Python.framework/Versions/3.10/lib/python3.10/site-packages (from pandas>=0.25->seaborn) (2022.1)\n",
      "Requirement already satisfied: six>=1.5 in /Library/Frameworks/Python.framework/Versions/3.10/lib/python3.10/site-packages (from python-dateutil>=2.7->matplotlib!=3.6.1,>=3.1->seaborn) (1.16.0)\n",
      "\u001b[33mWARNING: You are using pip version 22.0.4; however, version 22.3.1 is available.\n",
      "You should consider upgrading via the '/Library/Frameworks/Python.framework/Versions/3.10/bin/python3.10 -m pip install --upgrade pip' command.\u001b[0m\u001b[33m\n",
      "\u001b[0m"
     ]
    }
   ],
   "source": [
    "!pip3 install seaborn"
   ]
  },
  {
   "cell_type": "code",
   "execution_count": 3,
   "metadata": {},
   "outputs": [
    {
     "name": "stdout",
     "output_type": "stream",
     "text": [
      "Requirement already satisfied: tqdm in /Library/Frameworks/Python.framework/Versions/3.10/lib/python3.10/site-packages (4.64.1)\n",
      "\u001b[33mWARNING: You are using pip version 22.0.4; however, version 22.3.1 is available.\n",
      "You should consider upgrading via the '/Library/Frameworks/Python.framework/Versions/3.10/bin/python3.10 -m pip install --upgrade pip' command.\u001b[0m\u001b[33m\n",
      "\u001b[0m"
     ]
    }
   ],
   "source": [
    "!pip3 install tqdm"
   ]
  },
  {
   "cell_type": "markdown",
   "metadata": {
    "id": "byX4J0qhBatX"
   },
   "source": [
    "## 라이브러리"
   ]
  },
  {
   "cell_type": "code",
   "execution_count": 4,
   "metadata": {
    "id": "UKStASXoyzZR"
   },
   "outputs": [],
   "source": [
    "import pandas as pd\n",
    "import numpy as np\n",
    "\n",
    "from sklearn.model_selection import train_test_split, KFold\n",
    "\n",
    "from catboost import CatBoostRegressor\n",
    "from sklearn.metrics import mean_absolute_error\n",
    "\n",
    "import matplotlib.pyplot as plt\n",
    "import seaborn as sns\n",
    "\n",
    "from tqdm.notebook import tqdm"
   ]
  },
  {
   "cell_type": "markdown",
   "metadata": {
    "id": "ZZuqumuWZEz6"
   },
   "source": [
    "# Load Data"
   ]
  },
  {
   "cell_type": "code",
   "execution_count": 5,
   "metadata": {
    "id": "U1hxeri2Uty3"
   },
   "outputs": [],
   "source": [
    "df_submission_path = '/Users/namwoo/Desktop/jeju/sample_submission.csv'\n",
    "df_train_path = '//Users/namwoo/Desktop/jeju/df_train_V2.csv'\n",
    "df_test_path = '/Users/namwoo/Desktop/jeju/df_test_V2.csv'"
   ]
  },
  {
   "cell_type": "code",
   "execution_count": 6,
   "metadata": {
    "id": "kb3d2RXiJ-Dx"
   },
   "outputs": [],
   "source": [
    "df_train = pd.read_csv(df_train_path)\n",
    "df_test = pd.read_csv(df_test_path)"
   ]
  },
  {
   "cell_type": "code",
   "execution_count": 7,
   "metadata": {
    "colab": {
     "base_uri": "https://localhost:8080/"
    },
    "id": "DYtcTb314UGg",
    "outputId": "d11640b7-bee6-4675-d2f7-fae6eb2f242b"
   },
   "outputs": [
    {
     "name": "stdout",
     "output_type": "stream",
     "text": [
      "<class 'pandas.core.frame.DataFrame'>\n",
      "RangeIndex: 291241 entries, 0 to 291240\n",
      "Data columns (total 37 columns):\n",
      " #   Column                 Non-Null Count   Dtype \n",
      "---  ------                 --------------   ----- \n",
      " 0   Unnamed: 0             291241 non-null  int64 \n",
      " 1   base_date              291241 non-null  int64 \n",
      " 2   day_of_week            291241 non-null  object\n",
      " 3   base_hour              291241 non-null  object\n",
      " 4   lane_count             291241 non-null  object\n",
      " 5   road_rating            291241 non-null  object\n",
      " 6   multi_linked           291241 non-null  object\n",
      " 7   connect_code           291241 non-null  object\n",
      " 8   road_type              291241 non-null  object\n",
      " 9   maximum_speed_limit    291241 non-null  object\n",
      " 10  weight_restricted      291241 non-null  object\n",
      " 11  start_node_name        291241 non-null  object\n",
      " 12  end_node_name          291241 non-null  object\n",
      " 13  start_latitude         291241 non-null  object\n",
      " 14  end_latitude           291241 non-null  object\n",
      " 15  start_longitude        291241 non-null  object\n",
      " 16  end_longitude          291241 non-null  object\n",
      " 17  start_turn_restricted  291241 non-null  object\n",
      " 18  end_turn_restricted    291241 non-null  object\n",
      " 19  road_name_is_start     291241 non-null  object\n",
      " 20  road_name_is_end       291241 non-null  object\n",
      " 21  start_2_end            291241 non-null  object\n",
      " 22  end_2_start            291241 non-null  object\n",
      " 23  coordinate             291241 non-null  object\n",
      " 24  week_hour              291241 non-null  object\n",
      " 25  imbalanced             291241 non-null  object\n",
      " 26  turn                   291241 non-null  object\n",
      " 27  rest_time              291241 non-null  object\n",
      " 28  time                   291241 non-null  object\n",
      " 29  part_4_hour            291241 non-null  object\n",
      " 30  part_6_hour            291241 non-null  object\n",
      " 31  date_2                 291241 non-null  int64 \n",
      " 32  hour_2                 291241 non-null  object\n",
      " 33  week_2                 291241 non-null  object\n",
      " 34  speed_limit_2          291241 non-null  object\n",
      " 35  count_2                291241 non-null  object\n",
      " 36  coordinate_2           291241 non-null  object\n",
      "dtypes: int64(3), object(34)\n",
      "memory usage: 82.2+ MB\n"
     ]
    }
   ],
   "source": [
    "df_test.info()"
   ]
  },
  {
   "cell_type": "markdown",
   "metadata": {
    "id": "V16wlr6PZHrw"
   },
   "source": [
    "# Preprocessing"
   ]
  },
  {
   "cell_type": "code",
   "execution_count": 8,
   "metadata": {},
   "outputs": [],
   "source": [
    "df_train.drop(columns='Unnamed: 0', inplace=True)\n",
    "df_test.drop(columns='Unnamed: 0', inplace=True)"
   ]
  },
  {
   "cell_type": "code",
   "execution_count": 9,
   "metadata": {
    "id": "AroGKTgJ5GSp"
   },
   "outputs": [],
   "source": [
    "X = df_train.drop(columns='target')\n",
    "y = df_train['target']"
   ]
  },
  {
   "cell_type": "code",
   "execution_count": 10,
   "metadata": {
    "colab": {
     "base_uri": "https://localhost:8080/"
    },
    "id": "cuhzbvuJ5EA4",
    "outputId": "377d6d69-074c-484a-f2cd-e70511afb32a"
   },
   "outputs": [
    {
     "name": "stdout",
     "output_type": "stream",
     "text": [
      "Number of Categorical features:  34\n"
     ]
    }
   ],
   "source": [
    "cat_cols = X.dtypes[X.dtypes == \"object\"].index.tolist()\n",
    "print(\"Number of Categorical features: \", len(cat_cols))"
   ]
  },
  {
   "cell_type": "markdown",
   "metadata": {
    "id": "emkskisW0bku"
   },
   "source": [
    "# Catboost"
   ]
  },
  {
   "cell_type": "code",
   "execution_count": 11,
   "metadata": {},
   "outputs": [],
   "source": [
    "num_model = 0\n",
    "n_KFold = 7\n",
    "\n",
    "early_stopping_rounds = 100"
   ]
  },
  {
   "cell_type": "code",
   "execution_count": 14,
   "metadata": {
    "scrolled": false
   },
   "outputs": [
    {
     "name": "stdout",
     "output_type": "stream",
     "text": [
      "\n",
      "----------------- 0 번 모델 학습 -----------------\n",
      "\n",
      "0:\tlearn: 12.8996234\ttest: 12.8759129\tbest: 12.8759129 (0)\ttotal: 4.34s\tremaining: 1h 12m 20s\n",
      "100:\tlearn: 5.0068548\ttest: 5.0189087\tbest: 5.0189087 (100)\ttotal: 6m 9s\tremaining: 54m 47s\n",
      "200:\tlearn: 4.6545017\ttest: 4.6519716\tbest: 4.6519716 (200)\ttotal: 12m 58s\tremaining: 51m 34s\n",
      "300:\tlearn: 4.4998382\ttest: 4.4922010\tbest: 4.4922010 (300)\ttotal: 20m 22s\tremaining: 47m 20s\n",
      "400:\tlearn: 4.3882313\ttest: 4.3761815\tbest: 4.3761815 (400)\ttotal: 28m 11s\tremaining: 42m 6s\n",
      "500:\tlearn: 4.2999188\ttest: 4.2845073\tbest: 4.2845073 (500)\ttotal: 36m 32s\tremaining: 36m 23s\n",
      "600:\tlearn: 4.2332090\ttest: 4.2150930\tbest: 4.2150930 (600)\ttotal: 44m 45s\tremaining: 29m 42s\n"
     ]
    },
    {
     "ename": "KeyboardInterrupt",
     "evalue": "",
     "output_type": "error",
     "traceback": [
      "\u001b[0;31m---------------------------------------------------------------------------\u001b[0m",
      "\u001b[0;31mKeyboardInterrupt\u001b[0m                         Traceback (most recent call last)",
      "\u001b[1;32m/Users/namwoo/Desktop/jeju/Catboost.ipynb 셀 18\u001b[0m in \u001b[0;36m<cell line: 5>\u001b[0;34m()\u001b[0m\n\u001b[1;32m     <a href='vscode-notebook-cell:/Users/namwoo/Desktop/jeju/Catboost.ipynb#X26sZmlsZQ%3D%3D?line=9'>10</a>\u001b[0m y_train, y_vaild \u001b[39m=\u001b[39m y\u001b[39m.\u001b[39miloc[train_index], y\u001b[39m.\u001b[39miloc[vaild_index]\n\u001b[1;32m     <a href='vscode-notebook-cell:/Users/namwoo/Desktop/jeju/Catboost.ipynb#X26sZmlsZQ%3D%3D?line=11'>12</a>\u001b[0m CAT \u001b[39m=\u001b[39m CatBoostRegressor(\n\u001b[1;32m     <a href='vscode-notebook-cell:/Users/namwoo/Desktop/jeju/Catboost.ipynb#X26sZmlsZQ%3D%3D?line=12'>13</a>\u001b[0m                         \u001b[39m# learning_rate=0.148147,\u001b[39;00m\n\u001b[1;32m     <a href='vscode-notebook-cell:/Users/namwoo/Desktop/jeju/Catboost.ipynb#X26sZmlsZQ%3D%3D?line=13'>14</a>\u001b[0m                         \u001b[39m# feature_weights=feature__weights,\u001b[39;00m\n\u001b[0;32m   (...)\u001b[0m\n\u001b[1;32m     <a href='vscode-notebook-cell:/Users/namwoo/Desktop/jeju/Catboost.ipynb#X26sZmlsZQ%3D%3D?line=16'>17</a>\u001b[0m                         use_best_model\u001b[39m=\u001b[39m\u001b[39mTrue\u001b[39;00m\n\u001b[1;32m     <a href='vscode-notebook-cell:/Users/namwoo/Desktop/jeju/Catboost.ipynb#X26sZmlsZQ%3D%3D?line=17'>18</a>\u001b[0m                         )\n\u001b[0;32m---> <a href='vscode-notebook-cell:/Users/namwoo/Desktop/jeju/Catboost.ipynb#X26sZmlsZQ%3D%3D?line=19'>20</a>\u001b[0m CAT\u001b[39m.\u001b[39;49mfit(X_train, y_train,\n\u001b[1;32m     <a href='vscode-notebook-cell:/Users/namwoo/Desktop/jeju/Catboost.ipynb#X26sZmlsZQ%3D%3D?line=20'>21</a>\u001b[0m         eval_set\u001b[39m=\u001b[39;49m(X_vaild, y_vaild),\n\u001b[1;32m     <a href='vscode-notebook-cell:/Users/namwoo/Desktop/jeju/Catboost.ipynb#X26sZmlsZQ%3D%3D?line=21'>22</a>\u001b[0m         cat_features\u001b[39m=\u001b[39;49mcat_cols,\n\u001b[1;32m     <a href='vscode-notebook-cell:/Users/namwoo/Desktop/jeju/Catboost.ipynb#X26sZmlsZQ%3D%3D?line=22'>23</a>\u001b[0m         early_stopping_rounds\u001b[39m=\u001b[39;49mearly_stopping_rounds,\n\u001b[1;32m     <a href='vscode-notebook-cell:/Users/namwoo/Desktop/jeju/Catboost.ipynb#X26sZmlsZQ%3D%3D?line=23'>24</a>\u001b[0m         use_best_model\u001b[39m=\u001b[39;49m\u001b[39mTrue\u001b[39;49;00m,\n\u001b[1;32m     <a href='vscode-notebook-cell:/Users/namwoo/Desktop/jeju/Catboost.ipynb#X26sZmlsZQ%3D%3D?line=24'>25</a>\u001b[0m         verbose\u001b[39m=\u001b[39;49m\u001b[39m100\u001b[39;49m)\n\u001b[1;32m     <a href='vscode-notebook-cell:/Users/namwoo/Desktop/jeju/Catboost.ipynb#X26sZmlsZQ%3D%3D?line=26'>27</a>\u001b[0m y_pred \u001b[39m=\u001b[39m CAT\u001b[39m.\u001b[39mpredict(X_vaild)\n\u001b[1;32m     <a href='vscode-notebook-cell:/Users/namwoo/Desktop/jeju/Catboost.ipynb#X26sZmlsZQ%3D%3D?line=28'>29</a>\u001b[0m MAE \u001b[39m=\u001b[39m mean_absolute_error(y_pred, y_vaild)\n",
      "File \u001b[0;32m/Library/Frameworks/Python.framework/Versions/3.10/lib/python3.10/site-packages/catboost/core.py:5730\u001b[0m, in \u001b[0;36mCatBoostRegressor.fit\u001b[0;34m(self, X, y, cat_features, text_features, embedding_features, sample_weight, baseline, use_best_model, eval_set, verbose, logging_level, plot, plot_file, column_description, verbose_eval, metric_period, silent, early_stopping_rounds, save_snapshot, snapshot_file, snapshot_interval, init_model, callbacks, log_cout, log_cerr)\u001b[0m\n\u001b[1;32m   5727\u001b[0m \u001b[39mif\u001b[39;00m \u001b[39m'\u001b[39m\u001b[39mloss_function\u001b[39m\u001b[39m'\u001b[39m \u001b[39min\u001b[39;00m params:\n\u001b[1;32m   5728\u001b[0m     CatBoostRegressor\u001b[39m.\u001b[39m_check_is_compatible_loss(params[\u001b[39m'\u001b[39m\u001b[39mloss_function\u001b[39m\u001b[39m'\u001b[39m])\n\u001b[0;32m-> 5730\u001b[0m \u001b[39mreturn\u001b[39;00m \u001b[39mself\u001b[39;49m\u001b[39m.\u001b[39;49m_fit(X, y, cat_features, text_features, embedding_features, \u001b[39mNone\u001b[39;49;00m, sample_weight, \u001b[39mNone\u001b[39;49;00m, \u001b[39mNone\u001b[39;49;00m, \u001b[39mNone\u001b[39;49;00m, \u001b[39mNone\u001b[39;49;00m, baseline,\n\u001b[1;32m   5731\u001b[0m                  use_best_model, eval_set, verbose, logging_level, plot, plot_file, column_description,\n\u001b[1;32m   5732\u001b[0m                  verbose_eval, metric_period, silent, early_stopping_rounds,\n\u001b[1;32m   5733\u001b[0m                  save_snapshot, snapshot_file, snapshot_interval, init_model, callbacks, log_cout, log_cerr)\n",
      "File \u001b[0;32m/Library/Frameworks/Python.framework/Versions/3.10/lib/python3.10/site-packages/catboost/core.py:2355\u001b[0m, in \u001b[0;36mCatBoost._fit\u001b[0;34m(self, X, y, cat_features, text_features, embedding_features, pairs, sample_weight, group_id, group_weight, subgroup_id, pairs_weight, baseline, use_best_model, eval_set, verbose, logging_level, plot, plot_file, column_description, verbose_eval, metric_period, silent, early_stopping_rounds, save_snapshot, snapshot_file, snapshot_interval, init_model, callbacks, log_cout, log_cerr)\u001b[0m\n\u001b[1;32m   2351\u001b[0m allow_clear_pool \u001b[39m=\u001b[39m train_params[\u001b[39m\"\u001b[39m\u001b[39mallow_clear_pool\u001b[39m\u001b[39m\"\u001b[39m]\n\u001b[1;32m   2353\u001b[0m \u001b[39mwith\u001b[39;00m log_fixup(log_cout, log_cerr), \\\n\u001b[1;32m   2354\u001b[0m     plot_wrapper(plot, plot_file, \u001b[39m'\u001b[39m\u001b[39mTraining plots\u001b[39m\u001b[39m'\u001b[39m, [_get_train_dir(\u001b[39mself\u001b[39m\u001b[39m.\u001b[39mget_params())]):\n\u001b[0;32m-> 2355\u001b[0m     \u001b[39mself\u001b[39;49m\u001b[39m.\u001b[39;49m_train(\n\u001b[1;32m   2356\u001b[0m         train_pool,\n\u001b[1;32m   2357\u001b[0m         train_params[\u001b[39m\"\u001b[39;49m\u001b[39meval_sets\u001b[39;49m\u001b[39m\"\u001b[39;49m],\n\u001b[1;32m   2358\u001b[0m         params,\n\u001b[1;32m   2359\u001b[0m         allow_clear_pool,\n\u001b[1;32m   2360\u001b[0m         train_params[\u001b[39m\"\u001b[39;49m\u001b[39minit_model\u001b[39;49m\u001b[39m\"\u001b[39;49m]\n\u001b[1;32m   2361\u001b[0m     )\n\u001b[1;32m   2363\u001b[0m \u001b[39m# Have property feature_importance possibly set\u001b[39;00m\n\u001b[1;32m   2364\u001b[0m loss \u001b[39m=\u001b[39m \u001b[39mself\u001b[39m\u001b[39m.\u001b[39m_object\u001b[39m.\u001b[39m_get_loss_function_name()\n",
      "File \u001b[0;32m/Library/Frameworks/Python.framework/Versions/3.10/lib/python3.10/site-packages/catboost/core.py:1759\u001b[0m, in \u001b[0;36m_CatBoostBase._train\u001b[0;34m(self, train_pool, test_pool, params, allow_clear_pool, init_model)\u001b[0m\n\u001b[1;32m   1758\u001b[0m \u001b[39mdef\u001b[39;00m \u001b[39m_train\u001b[39m(\u001b[39mself\u001b[39m, train_pool, test_pool, params, allow_clear_pool, init_model):\n\u001b[0;32m-> 1759\u001b[0m     \u001b[39mself\u001b[39;49m\u001b[39m.\u001b[39;49m_object\u001b[39m.\u001b[39;49m_train(train_pool, test_pool, params, allow_clear_pool, init_model\u001b[39m.\u001b[39;49m_object \u001b[39mif\u001b[39;49;00m init_model \u001b[39melse\u001b[39;49;00m \u001b[39mNone\u001b[39;49;00m)\n\u001b[1;32m   1760\u001b[0m     \u001b[39mself\u001b[39m\u001b[39m.\u001b[39m_set_trained_model_attributes()\n",
      "File \u001b[0;32m_catboost.pyx:4622\u001b[0m, in \u001b[0;36m_catboost._CatBoost._train\u001b[0;34m()\u001b[0m\n",
      "File \u001b[0;32m_catboost.pyx:4671\u001b[0m, in \u001b[0;36m_catboost._CatBoost._train\u001b[0;34m()\u001b[0m\n",
      "\u001b[0;31mKeyboardInterrupt\u001b[0m: "
     ]
    }
   ],
   "source": [
    "CAT_models = {}\n",
    "\n",
    "kf = KFold(n_splits=n_KFold, shuffle=True, random_state=2022)\n",
    "\n",
    "for train_index, vaild_index in kf.split(X):\n",
    "\n",
    "  print(f'\\n----------------- {num_model} 번 모델 학습 -----------------\\n')\n",
    "  \n",
    "  X_train, X_vaild = X.iloc[train_index], X.iloc[vaild_index]\n",
    "  y_train, y_vaild = y.iloc[train_index], y.iloc[vaild_index]\n",
    "\n",
    "  CAT = CatBoostRegressor(\n",
    "                          # learning_rate=0.148147,\n",
    "                          # feature_weights=feature__weights,\n",
    "                          loss_function='MAE',\n",
    "                          task_type='CPU',\n",
    "                          use_best_model=True\n",
    "                          )\n",
    "\n",
    "  CAT.fit(X_train, y_train,\n",
    "          eval_set=(X_vaild, y_vaild),\n",
    "          cat_features=cat_cols,\n",
    "          early_stopping_rounds=early_stopping_rounds,\n",
    "          use_best_model=True,\n",
    "          verbose=100)\n",
    "\n",
    "  y_pred = CAT.predict(X_vaild)\n",
    "\n",
    "  MAE = mean_absolute_error(y_pred, y_vaild)\n",
    "\n",
    "  print(f'\\n{num_model} 번 Model Vaild MAE : {MAE}\\n')\n",
    "\n",
    "  CAT_models[num_model] = CAT\n",
    "\n",
    "  num_model += 1"
   ]
  },
  {
   "cell_type": "markdown",
   "metadata": {
    "id": "S4chXrJuZoMt"
   },
   "source": [
    "# Submission"
   ]
  },
  {
   "cell_type": "code",
   "execution_count": null,
   "metadata": {
    "id": "sf6Z04u0IM_3"
   },
   "outputs": [],
   "source": [
    "sample_submission = pd.read_csv(df_submission_path)\n",
    "\n",
    "sample_submission.iloc[:,1:] = 0"
   ]
  },
  {
   "cell_type": "code",
   "execution_count": null,
   "metadata": {
    "id": "2NLEtubAIvCF"
   },
   "outputs": [],
   "source": [
    "ensemble_array = np.zeros(df_test.shape[0])\n",
    "\n",
    "for n_model in tqdm(range(n_KFold)):\n",
    "\n",
    "  ensemble_array += CAT_models[n_model].predict(df_test)/n_KFold\n",
    "\n",
    "sample_submission['target'] = ensemble_array"
   ]
  },
  {
   "cell_type": "code",
   "execution_count": null,
   "metadata": {
    "id": "uRy3tsZzI5Ba"
   },
   "outputs": [],
   "source": [
    "sample_submission.to_csv(\"KFold_7_V2.csv\", index = False)"
   ]
  },
  {
   "cell_type": "code",
   "execution_count": null,
   "metadata": {
    "id": "RFgFlQV0I9YB"
   },
   "outputs": [],
   "source": [
    "sample_submission"
   ]
  },
  {
   "cell_type": "markdown",
   "metadata": {
    "id": "O-dprGWqZttK"
   },
   "source": [
    "# Feature Importance"
   ]
  },
  {
   "cell_type": "code",
   "execution_count": null,
   "metadata": {
    "id": "sMEbHFrmZ5ax"
   },
   "outputs": [],
   "source": [
    "def plot_feature_importance(importance,names,model_type):\n",
    "    \n",
    "    feature_importance = np.array(importance)\n",
    "    feature_names = np.array(names)\n",
    "    \n",
    "    data={'feature_names':feature_names,'feature_importance':feature_importance}\n",
    "    fi_df = pd.DataFrame(data)\n",
    "    \n",
    "    fi_df.sort_values(by=['feature_importance'], ascending=False,inplace=True)\n",
    "\n",
    "    plt.figure(figsize=(10,8))\n",
    "\n",
    "    sns.barplot(x=fi_df['feature_importance'], y=fi_df['feature_names'])\n",
    "\n",
    "    plt.title(model_type + ' Feature Importance')\n",
    "    plt.xlabel('Feature Importance')\n",
    "    plt.ylabel('Feature Names')"
   ]
  },
  {
   "cell_type": "code",
   "execution_count": null,
   "metadata": {
    "id": "_X4N9Z-cZ8MY"
   },
   "outputs": [],
   "source": [
    "plot_feature_importance(CAT_models[0].get_feature_importance(),df_test.columns,'CATBOOST')"
   ]
  },
  {
   "cell_type": "code",
   "execution_count": null,
   "metadata": {
    "id": "DHpqqV7pVuZi"
   },
   "outputs": [],
   "source": []
  }
 ],
 "metadata": {
  "accelerator": "GPU",
  "colab": {
   "collapsed_sections": [],
   "machine_shape": "hm",
   "provenance": []
  },
  "gpuClass": "premium",
  "kernelspec": {
   "display_name": "Python 3 (ipykernel)",
   "language": "python",
   "name": "python3"
  },
  "language_info": {
   "codemirror_mode": {
    "name": "ipython",
    "version": 3
   },
   "file_extension": ".py",
   "mimetype": "text/x-python",
   "name": "python",
   "nbconvert_exporter": "python",
   "pygments_lexer": "ipython3",
   "version": "3.10.5"
  },
  "vscode": {
   "interpreter": {
    "hash": "aee8b7b246df8f9039afb4144a1f6fd8d2ca17a180786b69acc140d282b71a49"
   }
  }
 },
 "nbformat": 4,
 "nbformat_minor": 1
}
