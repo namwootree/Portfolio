{
 "cells": [
  {
   "cell_type": "markdown",
   "id": "f57256ef",
   "metadata": {},
   "source": [
    "# Setting"
   ]
  },
  {
   "cell_type": "code",
   "execution_count": 1,
   "id": "8d0a0d3a",
   "metadata": {
    "scrolled": true
   },
   "outputs": [
    {
     "name": "stdout",
     "output_type": "stream",
     "text": [
      "Requirement already satisfied: catboost in /Users/namwoo/opt/anaconda3/lib/python3.9/site-packages (1.0.6)\n",
      "Requirement already satisfied: graphviz in /Users/namwoo/opt/anaconda3/lib/python3.9/site-packages (from catboost) (0.20.1)\n",
      "Requirement already satisfied: pandas>=0.24.0 in /Users/namwoo/opt/anaconda3/lib/python3.9/site-packages (from catboost) (1.4.4)\n",
      "Requirement already satisfied: six in /Users/namwoo/opt/anaconda3/lib/python3.9/site-packages (from catboost) (1.16.0)\n",
      "Requirement already satisfied: numpy>=1.16.0 in /Users/namwoo/opt/anaconda3/lib/python3.9/site-packages (from catboost) (1.21.5)\n",
      "Requirement already satisfied: scipy in /Users/namwoo/opt/anaconda3/lib/python3.9/site-packages (from catboost) (1.7.3)\n",
      "Requirement already satisfied: matplotlib in /Users/namwoo/opt/anaconda3/lib/python3.9/site-packages (from catboost) (3.5.1)\n",
      "Requirement already satisfied: plotly in /Users/namwoo/opt/anaconda3/lib/python3.9/site-packages (from catboost) (5.6.0)\n",
      "Requirement already satisfied: python-dateutil>=2.8.1 in /Users/namwoo/opt/anaconda3/lib/python3.9/site-packages (from pandas>=0.24.0->catboost) (2.8.2)\n",
      "Requirement already satisfied: pytz>=2020.1 in /Users/namwoo/opt/anaconda3/lib/python3.9/site-packages (from pandas>=0.24.0->catboost) (2021.3)\n",
      "Requirement already satisfied: fonttools>=4.22.0 in /Users/namwoo/opt/anaconda3/lib/python3.9/site-packages (from matplotlib->catboost) (4.25.0)\n",
      "Requirement already satisfied: pyparsing>=2.2.1 in /Users/namwoo/opt/anaconda3/lib/python3.9/site-packages (from matplotlib->catboost) (3.0.4)\n",
      "Requirement already satisfied: packaging>=20.0 in /Users/namwoo/opt/anaconda3/lib/python3.9/site-packages (from matplotlib->catboost) (21.3)\n",
      "Requirement already satisfied: kiwisolver>=1.0.1 in /Users/namwoo/opt/anaconda3/lib/python3.9/site-packages (from matplotlib->catboost) (1.3.2)\n",
      "Requirement already satisfied: pillow>=6.2.0 in /Users/namwoo/opt/anaconda3/lib/python3.9/site-packages (from matplotlib->catboost) (9.0.1)\n",
      "Requirement already satisfied: cycler>=0.10 in /Users/namwoo/opt/anaconda3/lib/python3.9/site-packages (from matplotlib->catboost) (0.11.0)\n",
      "Requirement already satisfied: tenacity>=6.2.0 in /Users/namwoo/opt/anaconda3/lib/python3.9/site-packages (from plotly->catboost) (8.0.1)\n"
     ]
    }
   ],
   "source": [
    "!pip install catboost"
   ]
  },
  {
   "cell_type": "code",
   "execution_count": 2,
   "id": "89d3748a",
   "metadata": {},
   "outputs": [
    {
     "name": "stdout",
     "output_type": "stream",
     "text": [
      "Requirement already satisfied: optuna in /Users/namwoo/opt/anaconda3/lib/python3.9/site-packages (2.10.1)\n",
      "Requirement already satisfied: PyYAML in /Users/namwoo/opt/anaconda3/lib/python3.9/site-packages (from optuna) (6.0)\n",
      "Requirement already satisfied: packaging>=20.0 in /Users/namwoo/opt/anaconda3/lib/python3.9/site-packages (from optuna) (21.3)\n",
      "Requirement already satisfied: colorlog in /Users/namwoo/opt/anaconda3/lib/python3.9/site-packages (from optuna) (6.6.0)\n",
      "Requirement already satisfied: alembic in /Users/namwoo/opt/anaconda3/lib/python3.9/site-packages (from optuna) (1.8.1)\n",
      "Requirement already satisfied: numpy in /Users/namwoo/opt/anaconda3/lib/python3.9/site-packages (from optuna) (1.21.5)\n",
      "Requirement already satisfied: cmaes>=0.8.2 in /Users/namwoo/opt/anaconda3/lib/python3.9/site-packages (from optuna) (0.8.2)\n",
      "Requirement already satisfied: sqlalchemy>=1.1.0 in /Users/namwoo/opt/anaconda3/lib/python3.9/site-packages (from optuna) (1.4.32)\n",
      "Requirement already satisfied: tqdm in /Users/namwoo/opt/anaconda3/lib/python3.9/site-packages (from optuna) (4.64.0)\n",
      "Requirement already satisfied: cliff in /Users/namwoo/opt/anaconda3/lib/python3.9/site-packages (from optuna) (4.0.0)\n",
      "Requirement already satisfied: scipy!=1.4.0 in /Users/namwoo/opt/anaconda3/lib/python3.9/site-packages (from optuna) (1.7.3)\n",
      "Requirement already satisfied: pyparsing!=3.0.5,>=2.0.2 in /Users/namwoo/opt/anaconda3/lib/python3.9/site-packages (from packaging>=20.0->optuna) (3.0.4)\n",
      "Requirement already satisfied: greenlet!=0.4.17 in /Users/namwoo/opt/anaconda3/lib/python3.9/site-packages (from sqlalchemy>=1.1.0->optuna) (1.1.1)\n",
      "Requirement already satisfied: Mako in /Users/namwoo/opt/anaconda3/lib/python3.9/site-packages (from alembic->optuna) (1.2.1)\n",
      "Requirement already satisfied: importlib-metadata>=4.4 in /Users/namwoo/opt/anaconda3/lib/python3.9/site-packages (from cliff->optuna) (4.11.3)\n",
      "Requirement already satisfied: PrettyTable>=0.7.2 in /Users/namwoo/opt/anaconda3/lib/python3.9/site-packages (from cliff->optuna) (3.3.0)\n",
      "Requirement already satisfied: stevedore>=2.0.1 in /Users/namwoo/opt/anaconda3/lib/python3.9/site-packages (from cliff->optuna) (4.0.0)\n",
      "Requirement already satisfied: cmd2>=1.0.0 in /Users/namwoo/opt/anaconda3/lib/python3.9/site-packages (from cliff->optuna) (2.4.2)\n",
      "Requirement already satisfied: autopage>=0.4.0 in /Users/namwoo/opt/anaconda3/lib/python3.9/site-packages (from cliff->optuna) (0.5.1)\n",
      "Requirement already satisfied: pyperclip>=1.6 in /Users/namwoo/opt/anaconda3/lib/python3.9/site-packages (from cmd2>=1.0.0->cliff->optuna) (1.8.2)\n",
      "Requirement already satisfied: wcwidth>=0.1.7 in /Users/namwoo/opt/anaconda3/lib/python3.9/site-packages (from cmd2>=1.0.0->cliff->optuna) (0.2.5)\n",
      "Requirement already satisfied: attrs>=16.3.0 in /Users/namwoo/opt/anaconda3/lib/python3.9/site-packages (from cmd2>=1.0.0->cliff->optuna) (21.4.0)\n",
      "Requirement already satisfied: zipp>=0.5 in /Users/namwoo/opt/anaconda3/lib/python3.9/site-packages (from importlib-metadata>=4.4->cliff->optuna) (3.7.0)\n",
      "Requirement already satisfied: pbr!=2.1.0,>=2.0.0 in /Users/namwoo/opt/anaconda3/lib/python3.9/site-packages (from stevedore>=2.0.1->cliff->optuna) (5.10.0)\n",
      "Requirement already satisfied: MarkupSafe>=0.9.2 in /Users/namwoo/opt/anaconda3/lib/python3.9/site-packages (from Mako->alembic->optuna) (2.0.1)\n"
     ]
    }
   ],
   "source": [
    "!pip install optuna\n"
   ]
  },
  {
   "cell_type": "code",
   "execution_count": 3,
   "id": "7d843c18",
   "metadata": {},
   "outputs": [],
   "source": [
    "import pandas as pd\n",
    "import numpy as np\n",
    "\n",
    "from catboost import CatBoostRegressor\n",
    "\n",
    "from sklearn.model_selection import train_test_split\n",
    "\n",
    "from sklearn.metrics import mean_squared_error\n",
    "\n",
    "import optuna\n",
    "from optuna.samplers import TPESampler"
   ]
  },
  {
   "cell_type": "markdown",
   "id": "0fc0c7f8",
   "metadata": {},
   "source": [
    "# Load Data"
   ]
  },
  {
   "cell_type": "code",
   "execution_count": 4,
   "id": "7105b8ea",
   "metadata": {},
   "outputs": [],
   "source": [
    "df_submission_path = '/Users/namwoo/Desktop/jeju/sample_submission.csv'\n",
    "df_train_path = '/Users/namwoo/Desktop/jeju/preprocessed_df_train_26.csv'\n",
    "df_test_path = '/Users/namwoo/Desktop/jeju/preprocessed_df_test_26.csv'"
   ]
  },
  {
   "cell_type": "code",
   "execution_count": 5,
   "id": "5c658a57",
   "metadata": {},
   "outputs": [],
   "source": [
    "df_train = pd.read_csv(df_train_path)\n",
    "df_test = pd.read_csv(df_test_path)"
   ]
  },
  {
   "cell_type": "markdown",
   "id": "73f71caa",
   "metadata": {},
   "source": [
    "# Preprocessing"
   ]
  },
  {
   "cell_type": "code",
   "execution_count": 6,
   "id": "cb557854",
   "metadata": {},
   "outputs": [],
   "source": [
    "X = df_train.drop(columns=['target', 'base_date'])\n",
    "y = df_train['target']"
   ]
  },
  {
   "cell_type": "code",
   "execution_count": 7,
   "id": "c6794338",
   "metadata": {},
   "outputs": [
    {
     "name": "stdout",
     "output_type": "stream",
     "text": [
      "Number of Categorical features:  36\n"
     ]
    }
   ],
   "source": [
    "cat_cols = X.dtypes[X.dtypes == \"object\"].index.tolist()\n",
    "print(\"Number of Categorical features: \", len(cat_cols))"
   ]
  },
  {
   "cell_type": "code",
   "execution_count": 8,
   "id": "a374e883",
   "metadata": {},
   "outputs": [],
   "source": [
    "X_train, X_valid, y_train, y_valid = train_test_split(X, y,\n",
    "                                                        test_size=0.1,\n",
    "                                                        random_state=2022)"
   ]
  },
  {
   "cell_type": "markdown",
   "id": "3e54d1a0",
   "metadata": {},
   "source": [
    "# Optuna"
   ]
  },
  {
   "cell_type": "code",
   "execution_count": 9,
   "id": "c9fca5c5",
   "metadata": {},
   "outputs": [],
   "source": [
    "EARLY_STOPPING_ROUND = 100\n",
    "\n",
    "def objective(trial):\n",
    "\n",
    "  param = {\n",
    "    \"n_estimators\":1000,\n",
    "    'learning_rate' : trial.suggest_loguniform('learning_rate', 0.1, 0.2),\n",
    "    'bagging_temperature' :trial.suggest_loguniform('bagging_temperature', 0.01, 100.00),\n",
    "    # \"n_estimators\":trial.suggest_int(\"n_estimators\", 1000, 20000),\n",
    "    \"max_depth\":trial.suggest_int(\"max_depth\", 4, 16),\n",
    "    'random_strength' :trial.suggest_int('random_strength', 0, 100),\n",
    "    \"colsample_bylevel\":trial.suggest_float(\"colsample_bylevel\", 0.4, 1.0),\n",
    "    \"l2_leaf_reg\":trial.suggest_float(\"l2_leaf_reg\",1e-8,3e-5),\n",
    "    \"min_child_samples\": trial.suggest_int(\"min_child_samples\", 5, 100),\n",
    "    \"max_bin\": trial.suggest_int(\"max_bin\", 100, 500)\n",
    "    }\n",
    "\n",
    "  regressor = CatBoostRegressor(**param,\n",
    "                                task_type='CPU',\n",
    "                                loss_function='RMSE',\n",
    "                                use_best_model=True)\n",
    "\n",
    "  regressor.fit(X_train.copy(), y_train.copy(),\n",
    "                eval_set=[(X_valid.copy(), y_valid.copy())],\n",
    "                cat_features=cat_cols,\n",
    "                early_stopping_rounds=EARLY_STOPPING_ROUND,\n",
    "                verbose=10)\n",
    "  \n",
    "  loss = mean_squared_error(y_valid, regressor.predict(X_valid.copy()), squared=False)\n",
    "  \n",
    "  return loss"
   ]
  },
  {
   "cell_type": "code",
   "execution_count": 10,
   "id": "39ade2ed",
   "metadata": {
    "scrolled": false
   },
   "outputs": [
    {
     "name": "stderr",
     "output_type": "stream",
     "text": [
      "\u001b[32m[I 2022-10-22 23:06:28,499]\u001b[0m A new study created in memory with name: catboost\u001b[0m\n"
     ]
    },
    {
     "name": "stdout",
     "output_type": "stream",
     "text": [
      "0:\tlearn: 14.7709513\ttest: 14.7448715\tbest: 14.7448715 (0)\ttotal: 6.14s\tremaining: 1h 42m 15s\n",
      "10:\tlearn: 8.6817121\ttest: 8.7031852\tbest: 8.7031852 (10)\ttotal: 38.5s\tremaining: 57m 43s\n",
      "20:\tlearn: 7.1215323\ttest: 7.1575731\tbest: 7.1575731 (20)\ttotal: 1m 10s\tremaining: 55m 6s\n",
      "30:\tlearn: 6.7278783\ttest: 6.7431912\tbest: 6.7431912 (30)\ttotal: 1m 45s\tremaining: 54m 47s\n",
      "40:\tlearn: 6.5539809\ttest: 6.5507704\tbest: 6.5507704 (40)\ttotal: 2m 23s\tremaining: 55m 52s\n",
      "50:\tlearn: 6.4521423\ttest: 6.4393387\tbest: 6.4393387 (50)\ttotal: 3m 4s\tremaining: 57m 16s\n",
      "60:\tlearn: 6.3828520\ttest: 6.3704936\tbest: 6.3704936 (60)\ttotal: 3m 39s\tremaining: 56m 13s\n",
      "70:\tlearn: 6.3268218\ttest: 6.3128484\tbest: 6.3128484 (70)\ttotal: 4m 15s\tremaining: 55m 37s\n",
      "80:\tlearn: 6.2640672\ttest: 6.2462690\tbest: 6.2462690 (80)\ttotal: 4m 52s\tremaining: 55m 20s\n",
      "90:\tlearn: 6.2114049\ttest: 6.1909813\tbest: 6.1909813 (90)\ttotal: 5m 28s\tremaining: 54m 36s\n",
      "100:\tlearn: 6.1739952\ttest: 6.1506509\tbest: 6.1506509 (100)\ttotal: 6m 4s\tremaining: 54m\n",
      "110:\tlearn: 6.1365625\ttest: 6.1117316\tbest: 6.1117316 (110)\ttotal: 6m 38s\tremaining: 53m 15s\n",
      "120:\tlearn: 6.1056727\ttest: 6.0795833\tbest: 6.0795833 (120)\ttotal: 7m 14s\tremaining: 52m 38s\n",
      "130:\tlearn: 6.0743945\ttest: 6.0456327\tbest: 6.0456327 (130)\ttotal: 7m 47s\tremaining: 51m 44s\n",
      "140:\tlearn: 6.0428991\ttest: 6.0126384\tbest: 6.0126384 (140)\ttotal: 8m 25s\tremaining: 51m 18s\n",
      "150:\tlearn: 6.0165940\ttest: 5.9854824\tbest: 5.9854824 (150)\ttotal: 9m 4s\tremaining: 50m 59s\n",
      "160:\tlearn: 5.9899815\ttest: 5.9577461\tbest: 5.9577461 (160)\ttotal: 9m 45s\tremaining: 50m 48s\n",
      "170:\tlearn: 5.9665007\ttest: 5.9336679\tbest: 5.9336679 (170)\ttotal: 10m 24s\tremaining: 50m 25s\n",
      "180:\tlearn: 5.9421695\ttest: 5.9085460\tbest: 5.9085460 (180)\ttotal: 11m 2s\tremaining: 49m 56s\n",
      "190:\tlearn: 5.9241566\ttest: 5.8896964\tbest: 5.8896964 (190)\ttotal: 11m 38s\tremaining: 49m 18s\n",
      "200:\tlearn: 5.9083851\ttest: 5.8731981\tbest: 5.8731981 (200)\ttotal: 12m 15s\tremaining: 48m 43s\n",
      "210:\tlearn: 5.8882842\ttest: 5.8519023\tbest: 5.8519023 (210)\ttotal: 12m 49s\tremaining: 47m 58s\n",
      "220:\tlearn: 5.8705592\ttest: 5.8328552\tbest: 5.8328552 (220)\ttotal: 13m 23s\tremaining: 47m 11s\n",
      "230:\tlearn: 5.8532768\ttest: 5.8152612\tbest: 5.8152612 (230)\ttotal: 14m\tremaining: 46m 37s\n",
      "240:\tlearn: 5.8382793\ttest: 5.8000594\tbest: 5.8000594 (240)\ttotal: 14m 37s\tremaining: 46m 3s\n",
      "250:\tlearn: 5.8253808\ttest: 5.7857783\tbest: 5.7857783 (250)\ttotal: 15m 12s\tremaining: 45m 23s\n",
      "260:\tlearn: 5.8102462\ttest: 5.7699961\tbest: 5.7699961 (260)\ttotal: 15m 49s\tremaining: 44m 48s\n",
      "270:\tlearn: 5.7968884\ttest: 5.7560979\tbest: 5.7560979 (270)\ttotal: 16m 20s\tremaining: 43m 57s\n",
      "280:\tlearn: 5.7861956\ttest: 5.7445212\tbest: 5.7445212 (280)\ttotal: 16m 57s\tremaining: 43m 22s\n",
      "290:\tlearn: 5.7702957\ttest: 5.7284085\tbest: 5.7284085 (290)\ttotal: 17m 34s\tremaining: 42m 49s\n",
      "300:\tlearn: 5.7597481\ttest: 5.7173912\tbest: 5.7173912 (300)\ttotal: 18m 9s\tremaining: 42m 9s\n",
      "310:\tlearn: 5.7475933\ttest: 5.7043385\tbest: 5.7043385 (310)\ttotal: 18m 46s\tremaining: 41m 34s\n",
      "320:\tlearn: 5.7370913\ttest: 5.6937694\tbest: 5.6937694 (320)\ttotal: 19m 22s\tremaining: 40m 59s\n",
      "330:\tlearn: 5.7264218\ttest: 5.6832196\tbest: 5.6832196 (330)\ttotal: 19m 57s\tremaining: 40m 20s\n",
      "340:\tlearn: 5.7155013\ttest: 5.6726870\tbest: 5.6726870 (340)\ttotal: 20m 34s\tremaining: 39m 45s\n",
      "350:\tlearn: 5.7039241\ttest: 5.6607218\tbest: 5.6607218 (350)\ttotal: 21m 5s\tremaining: 39m\n",
      "360:\tlearn: 5.6943003\ttest: 5.6511788\tbest: 5.6511788 (360)\ttotal: 21m 40s\tremaining: 38m 22s\n",
      "370:\tlearn: 5.6845895\ttest: 5.6411591\tbest: 5.6411591 (370)\ttotal: 22m 17s\tremaining: 37m 48s\n",
      "380:\tlearn: 5.6763763\ttest: 5.6326929\tbest: 5.6326929 (380)\ttotal: 22m 56s\tremaining: 37m 17s\n",
      "390:\tlearn: 5.6688733\ttest: 5.6256100\tbest: 5.6256100 (390)\ttotal: 23m 40s\tremaining: 36m 51s\n",
      "400:\tlearn: 5.6622736\ttest: 5.6189805\tbest: 5.6189805 (400)\ttotal: 24m 19s\tremaining: 36m 19s\n",
      "410:\tlearn: 5.6552755\ttest: 5.6121796\tbest: 5.6121796 (410)\ttotal: 24m 55s\tremaining: 35m 42s\n",
      "420:\tlearn: 5.6468198\ttest: 5.6035777\tbest: 5.6035777 (420)\ttotal: 25m 36s\tremaining: 35m 12s\n",
      "430:\tlearn: 5.6402227\ttest: 5.5970685\tbest: 5.5970685 (430)\ttotal: 26m 17s\tremaining: 34m 43s\n",
      "440:\tlearn: 5.6328776\ttest: 5.5896039\tbest: 5.5896039 (440)\ttotal: 26m 54s\tremaining: 34m 5s\n",
      "450:\tlearn: 5.6254856\ttest: 5.5821595\tbest: 5.5821595 (450)\ttotal: 27m 35s\tremaining: 33m 35s\n",
      "460:\tlearn: 5.6181952\ttest: 5.5746124\tbest: 5.5746124 (460)\ttotal: 28m 15s\tremaining: 33m 1s\n",
      "470:\tlearn: 5.6114649\ttest: 5.5678916\tbest: 5.5678916 (470)\ttotal: 28m 50s\tremaining: 32m 23s\n",
      "480:\tlearn: 5.6066613\ttest: 5.5628695\tbest: 5.5628695 (480)\ttotal: 29m 34s\tremaining: 31m 54s\n",
      "490:\tlearn: 5.6012783\ttest: 5.5574134\tbest: 5.5574134 (490)\ttotal: 30m 13s\tremaining: 31m 19s\n",
      "500:\tlearn: 5.5959129\ttest: 5.5522672\tbest: 5.5522672 (500)\ttotal: 30m 48s\tremaining: 30m 41s\n",
      "510:\tlearn: 5.5898677\ttest: 5.5462150\tbest: 5.5462150 (510)\ttotal: 31m 28s\tremaining: 30m 6s\n",
      "520:\tlearn: 5.5834430\ttest: 5.5399178\tbest: 5.5399178 (520)\ttotal: 32m 5s\tremaining: 29m 30s\n",
      "530:\tlearn: 5.5764672\ttest: 5.5329786\tbest: 5.5329786 (530)\ttotal: 32m 40s\tremaining: 28m 51s\n",
      "540:\tlearn: 5.5719711\ttest: 5.5284705\tbest: 5.5284705 (540)\ttotal: 33m 17s\tremaining: 28m 14s\n",
      "550:\tlearn: 5.5676270\ttest: 5.5242642\tbest: 5.5242642 (550)\ttotal: 33m 58s\tremaining: 27m 41s\n",
      "560:\tlearn: 5.5620182\ttest: 5.5186407\tbest: 5.5186407 (560)\ttotal: 34m 38s\tremaining: 27m 6s\n",
      "570:\tlearn: 5.5577515\ttest: 5.5144145\tbest: 5.5144145 (570)\ttotal: 35m 17s\tremaining: 26m 31s\n",
      "580:\tlearn: 5.5526932\ttest: 5.5093121\tbest: 5.5093121 (580)\ttotal: 35m 57s\tremaining: 25m 55s\n"
     ]
    },
    {
     "ename": "KeyboardInterrupt",
     "evalue": "",
     "output_type": "error",
     "traceback": [
      "\u001b[0;31m---------------------------------------------------------------------------\u001b[0m",
      "\u001b[0;31mKeyboardInterrupt\u001b[0m                         Traceback (most recent call last)",
      "Input \u001b[0;32mIn [10]\u001b[0m, in \u001b[0;36m<cell line: 6>\u001b[0;34m()\u001b[0m\n\u001b[1;32m      1\u001b[0m sampler \u001b[38;5;241m=\u001b[39m TPESampler(seed\u001b[38;5;241m=\u001b[39m\u001b[38;5;241m2022\u001b[39m)\n\u001b[1;32m      3\u001b[0m study \u001b[38;5;241m=\u001b[39m optuna\u001b[38;5;241m.\u001b[39mcreate_study(sampler\u001b[38;5;241m=\u001b[39msampler,                          \n\u001b[1;32m      4\u001b[0m                             study_name\u001b[38;5;241m=\u001b[39m\u001b[38;5;124m'\u001b[39m\u001b[38;5;124mcatboost\u001b[39m\u001b[38;5;124m'\u001b[39m)\n\u001b[0;32m----> 6\u001b[0m \u001b[43mstudy\u001b[49m\u001b[38;5;241;43m.\u001b[39;49m\u001b[43moptimize\u001b[49m\u001b[43m(\u001b[49m\u001b[43mobjective\u001b[49m\u001b[43m,\u001b[49m\u001b[43m \u001b[49m\u001b[43mn_trials\u001b[49m\u001b[38;5;241;43m=\u001b[39;49m\u001b[38;5;241;43m30\u001b[39;49m\u001b[43m)\u001b[49m\n\u001b[1;32m      8\u001b[0m \u001b[38;5;28mprint\u001b[39m(study\u001b[38;5;241m.\u001b[39mbest_value)\n\u001b[1;32m      9\u001b[0m \u001b[38;5;28mprint\u001b[39m(study\u001b[38;5;241m.\u001b[39mbest_params)\n",
      "File \u001b[0;32m~/opt/anaconda3/lib/python3.9/site-packages/optuna/study/study.py:400\u001b[0m, in \u001b[0;36mStudy.optimize\u001b[0;34m(self, func, n_trials, timeout, n_jobs, catch, callbacks, gc_after_trial, show_progress_bar)\u001b[0m\n\u001b[1;32m    392\u001b[0m \u001b[38;5;28;01mif\u001b[39;00m n_jobs \u001b[38;5;241m!=\u001b[39m \u001b[38;5;241m1\u001b[39m:\n\u001b[1;32m    393\u001b[0m     warnings\u001b[38;5;241m.\u001b[39mwarn(\n\u001b[1;32m    394\u001b[0m         \u001b[38;5;124m\"\u001b[39m\u001b[38;5;124m`n_jobs` argument has been deprecated in v2.7.0. \u001b[39m\u001b[38;5;124m\"\u001b[39m\n\u001b[1;32m    395\u001b[0m         \u001b[38;5;124m\"\u001b[39m\u001b[38;5;124mThis feature will be removed in v4.0.0. \u001b[39m\u001b[38;5;124m\"\u001b[39m\n\u001b[1;32m    396\u001b[0m         \u001b[38;5;124m\"\u001b[39m\u001b[38;5;124mSee https://github.com/optuna/optuna/releases/tag/v2.7.0.\u001b[39m\u001b[38;5;124m\"\u001b[39m,\n\u001b[1;32m    397\u001b[0m         \u001b[38;5;167;01mFutureWarning\u001b[39;00m,\n\u001b[1;32m    398\u001b[0m     )\n\u001b[0;32m--> 400\u001b[0m \u001b[43m_optimize\u001b[49m\u001b[43m(\u001b[49m\n\u001b[1;32m    401\u001b[0m \u001b[43m    \u001b[49m\u001b[43mstudy\u001b[49m\u001b[38;5;241;43m=\u001b[39;49m\u001b[38;5;28;43mself\u001b[39;49m\u001b[43m,\u001b[49m\n\u001b[1;32m    402\u001b[0m \u001b[43m    \u001b[49m\u001b[43mfunc\u001b[49m\u001b[38;5;241;43m=\u001b[39;49m\u001b[43mfunc\u001b[49m\u001b[43m,\u001b[49m\n\u001b[1;32m    403\u001b[0m \u001b[43m    \u001b[49m\u001b[43mn_trials\u001b[49m\u001b[38;5;241;43m=\u001b[39;49m\u001b[43mn_trials\u001b[49m\u001b[43m,\u001b[49m\n\u001b[1;32m    404\u001b[0m \u001b[43m    \u001b[49m\u001b[43mtimeout\u001b[49m\u001b[38;5;241;43m=\u001b[39;49m\u001b[43mtimeout\u001b[49m\u001b[43m,\u001b[49m\n\u001b[1;32m    405\u001b[0m \u001b[43m    \u001b[49m\u001b[43mn_jobs\u001b[49m\u001b[38;5;241;43m=\u001b[39;49m\u001b[43mn_jobs\u001b[49m\u001b[43m,\u001b[49m\n\u001b[1;32m    406\u001b[0m \u001b[43m    \u001b[49m\u001b[43mcatch\u001b[49m\u001b[38;5;241;43m=\u001b[39;49m\u001b[43mcatch\u001b[49m\u001b[43m,\u001b[49m\n\u001b[1;32m    407\u001b[0m \u001b[43m    \u001b[49m\u001b[43mcallbacks\u001b[49m\u001b[38;5;241;43m=\u001b[39;49m\u001b[43mcallbacks\u001b[49m\u001b[43m,\u001b[49m\n\u001b[1;32m    408\u001b[0m \u001b[43m    \u001b[49m\u001b[43mgc_after_trial\u001b[49m\u001b[38;5;241;43m=\u001b[39;49m\u001b[43mgc_after_trial\u001b[49m\u001b[43m,\u001b[49m\n\u001b[1;32m    409\u001b[0m \u001b[43m    \u001b[49m\u001b[43mshow_progress_bar\u001b[49m\u001b[38;5;241;43m=\u001b[39;49m\u001b[43mshow_progress_bar\u001b[49m\u001b[43m,\u001b[49m\n\u001b[1;32m    410\u001b[0m \u001b[43m\u001b[49m\u001b[43m)\u001b[49m\n",
      "File \u001b[0;32m~/opt/anaconda3/lib/python3.9/site-packages/optuna/study/_optimize.py:66\u001b[0m, in \u001b[0;36m_optimize\u001b[0;34m(study, func, n_trials, timeout, n_jobs, catch, callbacks, gc_after_trial, show_progress_bar)\u001b[0m\n\u001b[1;32m     64\u001b[0m \u001b[38;5;28;01mtry\u001b[39;00m:\n\u001b[1;32m     65\u001b[0m     \u001b[38;5;28;01mif\u001b[39;00m n_jobs \u001b[38;5;241m==\u001b[39m \u001b[38;5;241m1\u001b[39m:\n\u001b[0;32m---> 66\u001b[0m         \u001b[43m_optimize_sequential\u001b[49m\u001b[43m(\u001b[49m\n\u001b[1;32m     67\u001b[0m \u001b[43m            \u001b[49m\u001b[43mstudy\u001b[49m\u001b[43m,\u001b[49m\n\u001b[1;32m     68\u001b[0m \u001b[43m            \u001b[49m\u001b[43mfunc\u001b[49m\u001b[43m,\u001b[49m\n\u001b[1;32m     69\u001b[0m \u001b[43m            \u001b[49m\u001b[43mn_trials\u001b[49m\u001b[43m,\u001b[49m\n\u001b[1;32m     70\u001b[0m \u001b[43m            \u001b[49m\u001b[43mtimeout\u001b[49m\u001b[43m,\u001b[49m\n\u001b[1;32m     71\u001b[0m \u001b[43m            \u001b[49m\u001b[43mcatch\u001b[49m\u001b[43m,\u001b[49m\n\u001b[1;32m     72\u001b[0m \u001b[43m            \u001b[49m\u001b[43mcallbacks\u001b[49m\u001b[43m,\u001b[49m\n\u001b[1;32m     73\u001b[0m \u001b[43m            \u001b[49m\u001b[43mgc_after_trial\u001b[49m\u001b[43m,\u001b[49m\n\u001b[1;32m     74\u001b[0m \u001b[43m            \u001b[49m\u001b[43mreseed_sampler_rng\u001b[49m\u001b[38;5;241;43m=\u001b[39;49m\u001b[38;5;28;43;01mFalse\u001b[39;49;00m\u001b[43m,\u001b[49m\n\u001b[1;32m     75\u001b[0m \u001b[43m            \u001b[49m\u001b[43mtime_start\u001b[49m\u001b[38;5;241;43m=\u001b[39;49m\u001b[38;5;28;43;01mNone\u001b[39;49;00m\u001b[43m,\u001b[49m\n\u001b[1;32m     76\u001b[0m \u001b[43m            \u001b[49m\u001b[43mprogress_bar\u001b[49m\u001b[38;5;241;43m=\u001b[39;49m\u001b[43mprogress_bar\u001b[49m\u001b[43m,\u001b[49m\n\u001b[1;32m     77\u001b[0m \u001b[43m        \u001b[49m\u001b[43m)\u001b[49m\n\u001b[1;32m     78\u001b[0m     \u001b[38;5;28;01melse\u001b[39;00m:\n\u001b[1;32m     79\u001b[0m         \u001b[38;5;28;01mif\u001b[39;00m show_progress_bar:\n",
      "File \u001b[0;32m~/opt/anaconda3/lib/python3.9/site-packages/optuna/study/_optimize.py:163\u001b[0m, in \u001b[0;36m_optimize_sequential\u001b[0;34m(study, func, n_trials, timeout, catch, callbacks, gc_after_trial, reseed_sampler_rng, time_start, progress_bar)\u001b[0m\n\u001b[1;32m    160\u001b[0m         \u001b[38;5;28;01mbreak\u001b[39;00m\n\u001b[1;32m    162\u001b[0m \u001b[38;5;28;01mtry\u001b[39;00m:\n\u001b[0;32m--> 163\u001b[0m     trial \u001b[38;5;241m=\u001b[39m \u001b[43m_run_trial\u001b[49m\u001b[43m(\u001b[49m\u001b[43mstudy\u001b[49m\u001b[43m,\u001b[49m\u001b[43m \u001b[49m\u001b[43mfunc\u001b[49m\u001b[43m,\u001b[49m\u001b[43m \u001b[49m\u001b[43mcatch\u001b[49m\u001b[43m)\u001b[49m\n\u001b[1;32m    164\u001b[0m \u001b[38;5;28;01mexcept\u001b[39;00m \u001b[38;5;167;01mException\u001b[39;00m:\n\u001b[1;32m    165\u001b[0m     \u001b[38;5;28;01mraise\u001b[39;00m\n",
      "File \u001b[0;32m~/opt/anaconda3/lib/python3.9/site-packages/optuna/study/_optimize.py:213\u001b[0m, in \u001b[0;36m_run_trial\u001b[0;34m(study, func, catch)\u001b[0m\n\u001b[1;32m    210\u001b[0m     thread\u001b[38;5;241m.\u001b[39mstart()\n\u001b[1;32m    212\u001b[0m \u001b[38;5;28;01mtry\u001b[39;00m:\n\u001b[0;32m--> 213\u001b[0m     value_or_values \u001b[38;5;241m=\u001b[39m \u001b[43mfunc\u001b[49m\u001b[43m(\u001b[49m\u001b[43mtrial\u001b[49m\u001b[43m)\u001b[49m\n\u001b[1;32m    214\u001b[0m \u001b[38;5;28;01mexcept\u001b[39;00m exceptions\u001b[38;5;241m.\u001b[39mTrialPruned \u001b[38;5;28;01mas\u001b[39;00m e:\n\u001b[1;32m    215\u001b[0m     \u001b[38;5;66;03m# TODO(mamu): Handle multi-objective cases.\u001b[39;00m\n\u001b[1;32m    216\u001b[0m     state \u001b[38;5;241m=\u001b[39m TrialState\u001b[38;5;241m.\u001b[39mPRUNED\n",
      "Input \u001b[0;32mIn [9]\u001b[0m, in \u001b[0;36mobjective\u001b[0;34m(trial)\u001b[0m\n\u001b[1;32m      5\u001b[0m param \u001b[38;5;241m=\u001b[39m {\n\u001b[1;32m      6\u001b[0m   \u001b[38;5;124m\"\u001b[39m\u001b[38;5;124mn_estimators\u001b[39m\u001b[38;5;124m\"\u001b[39m:\u001b[38;5;241m1000\u001b[39m,\n\u001b[1;32m      7\u001b[0m   \u001b[38;5;124m'\u001b[39m\u001b[38;5;124mlearning_rate\u001b[39m\u001b[38;5;124m'\u001b[39m : trial\u001b[38;5;241m.\u001b[39msuggest_loguniform(\u001b[38;5;124m'\u001b[39m\u001b[38;5;124mlearning_rate\u001b[39m\u001b[38;5;124m'\u001b[39m, \u001b[38;5;241m0.1\u001b[39m, \u001b[38;5;241m0.2\u001b[39m),\n\u001b[0;32m   (...)\u001b[0m\n\u001b[1;32m     15\u001b[0m   \u001b[38;5;124m\"\u001b[39m\u001b[38;5;124mmax_bin\u001b[39m\u001b[38;5;124m\"\u001b[39m: trial\u001b[38;5;241m.\u001b[39msuggest_int(\u001b[38;5;124m\"\u001b[39m\u001b[38;5;124mmax_bin\u001b[39m\u001b[38;5;124m\"\u001b[39m, \u001b[38;5;241m100\u001b[39m, \u001b[38;5;241m500\u001b[39m)\n\u001b[1;32m     16\u001b[0m   }\n\u001b[1;32m     18\u001b[0m regressor \u001b[38;5;241m=\u001b[39m CatBoostRegressor(\u001b[38;5;241m*\u001b[39m\u001b[38;5;241m*\u001b[39mparam,\n\u001b[1;32m     19\u001b[0m                               task_type\u001b[38;5;241m=\u001b[39m\u001b[38;5;124m'\u001b[39m\u001b[38;5;124mCPU\u001b[39m\u001b[38;5;124m'\u001b[39m,\n\u001b[1;32m     20\u001b[0m                               loss_function\u001b[38;5;241m=\u001b[39m\u001b[38;5;124m'\u001b[39m\u001b[38;5;124mRMSE\u001b[39m\u001b[38;5;124m'\u001b[39m,\n\u001b[1;32m     21\u001b[0m                               use_best_model\u001b[38;5;241m=\u001b[39m\u001b[38;5;28;01mTrue\u001b[39;00m)\n\u001b[0;32m---> 23\u001b[0m \u001b[43mregressor\u001b[49m\u001b[38;5;241;43m.\u001b[39;49m\u001b[43mfit\u001b[49m\u001b[43m(\u001b[49m\u001b[43mX_train\u001b[49m\u001b[38;5;241;43m.\u001b[39;49m\u001b[43mcopy\u001b[49m\u001b[43m(\u001b[49m\u001b[43m)\u001b[49m\u001b[43m,\u001b[49m\u001b[43m \u001b[49m\u001b[43my_train\u001b[49m\u001b[38;5;241;43m.\u001b[39;49m\u001b[43mcopy\u001b[49m\u001b[43m(\u001b[49m\u001b[43m)\u001b[49m\u001b[43m,\u001b[49m\n\u001b[1;32m     24\u001b[0m \u001b[43m              \u001b[49m\u001b[43meval_set\u001b[49m\u001b[38;5;241;43m=\u001b[39;49m\u001b[43m[\u001b[49m\u001b[43m(\u001b[49m\u001b[43mX_valid\u001b[49m\u001b[38;5;241;43m.\u001b[39;49m\u001b[43mcopy\u001b[49m\u001b[43m(\u001b[49m\u001b[43m)\u001b[49m\u001b[43m,\u001b[49m\u001b[43m \u001b[49m\u001b[43my_valid\u001b[49m\u001b[38;5;241;43m.\u001b[39;49m\u001b[43mcopy\u001b[49m\u001b[43m(\u001b[49m\u001b[43m)\u001b[49m\u001b[43m)\u001b[49m\u001b[43m]\u001b[49m\u001b[43m,\u001b[49m\n\u001b[1;32m     25\u001b[0m \u001b[43m              \u001b[49m\u001b[43mcat_features\u001b[49m\u001b[38;5;241;43m=\u001b[39;49m\u001b[43mcat_cols\u001b[49m\u001b[43m,\u001b[49m\n\u001b[1;32m     26\u001b[0m \u001b[43m              \u001b[49m\u001b[43mearly_stopping_rounds\u001b[49m\u001b[38;5;241;43m=\u001b[39;49m\u001b[43mEARLY_STOPPING_ROUND\u001b[49m\u001b[43m,\u001b[49m\n\u001b[1;32m     27\u001b[0m \u001b[43m              \u001b[49m\u001b[43mverbose\u001b[49m\u001b[38;5;241;43m=\u001b[39;49m\u001b[38;5;241;43m10\u001b[39;49m\u001b[43m)\u001b[49m\n\u001b[1;32m     29\u001b[0m loss \u001b[38;5;241m=\u001b[39m mean_squared_error(y_valid, regressor\u001b[38;5;241m.\u001b[39mpredict(X_valid\u001b[38;5;241m.\u001b[39mcopy()), squared\u001b[38;5;241m=\u001b[39m\u001b[38;5;28;01mFalse\u001b[39;00m)\n\u001b[1;32m     31\u001b[0m \u001b[38;5;28;01mreturn\u001b[39;00m loss\n",
      "File \u001b[0;32m~/opt/anaconda3/lib/python3.9/site-packages/catboost/core.py:5590\u001b[0m, in \u001b[0;36mCatBoostRegressor.fit\u001b[0;34m(self, X, y, cat_features, sample_weight, baseline, use_best_model, eval_set, verbose, logging_level, plot, column_description, verbose_eval, metric_period, silent, early_stopping_rounds, save_snapshot, snapshot_file, snapshot_interval, init_model, callbacks, log_cout, log_cerr)\u001b[0m\n\u001b[1;32m   5587\u001b[0m \u001b[38;5;28;01mif\u001b[39;00m \u001b[38;5;124m'\u001b[39m\u001b[38;5;124mloss_function\u001b[39m\u001b[38;5;124m'\u001b[39m \u001b[38;5;129;01min\u001b[39;00m params:\n\u001b[1;32m   5588\u001b[0m     CatBoostRegressor\u001b[38;5;241m.\u001b[39m_check_is_compatible_loss(params[\u001b[38;5;124m'\u001b[39m\u001b[38;5;124mloss_function\u001b[39m\u001b[38;5;124m'\u001b[39m])\n\u001b[0;32m-> 5590\u001b[0m \u001b[38;5;28;01mreturn\u001b[39;00m \u001b[38;5;28;43mself\u001b[39;49m\u001b[38;5;241;43m.\u001b[39;49m\u001b[43m_fit\u001b[49m\u001b[43m(\u001b[49m\u001b[43mX\u001b[49m\u001b[43m,\u001b[49m\u001b[43m \u001b[49m\u001b[43my\u001b[49m\u001b[43m,\u001b[49m\u001b[43m \u001b[49m\u001b[43mcat_features\u001b[49m\u001b[43m,\u001b[49m\u001b[43m \u001b[49m\u001b[38;5;28;43;01mNone\u001b[39;49;00m\u001b[43m,\u001b[49m\u001b[43m \u001b[49m\u001b[38;5;28;43;01mNone\u001b[39;49;00m\u001b[43m,\u001b[49m\u001b[43m \u001b[49m\u001b[38;5;28;43;01mNone\u001b[39;49;00m\u001b[43m,\u001b[49m\u001b[43m \u001b[49m\u001b[43msample_weight\u001b[49m\u001b[43m,\u001b[49m\u001b[43m \u001b[49m\u001b[38;5;28;43;01mNone\u001b[39;49;00m\u001b[43m,\u001b[49m\u001b[43m \u001b[49m\u001b[38;5;28;43;01mNone\u001b[39;49;00m\u001b[43m,\u001b[49m\u001b[43m \u001b[49m\u001b[38;5;28;43;01mNone\u001b[39;49;00m\u001b[43m,\u001b[49m\u001b[43m \u001b[49m\u001b[38;5;28;43;01mNone\u001b[39;49;00m\u001b[43m,\u001b[49m\u001b[43m \u001b[49m\u001b[43mbaseline\u001b[49m\u001b[43m,\u001b[49m\n\u001b[1;32m   5591\u001b[0m \u001b[43m                 \u001b[49m\u001b[43muse_best_model\u001b[49m\u001b[43m,\u001b[49m\u001b[43m \u001b[49m\u001b[43meval_set\u001b[49m\u001b[43m,\u001b[49m\u001b[43m \u001b[49m\u001b[43mverbose\u001b[49m\u001b[43m,\u001b[49m\u001b[43m \u001b[49m\u001b[43mlogging_level\u001b[49m\u001b[43m,\u001b[49m\u001b[43m \u001b[49m\u001b[43mplot\u001b[49m\u001b[43m,\u001b[49m\u001b[43m \u001b[49m\u001b[43mcolumn_description\u001b[49m\u001b[43m,\u001b[49m\n\u001b[1;32m   5592\u001b[0m \u001b[43m                 \u001b[49m\u001b[43mverbose_eval\u001b[49m\u001b[43m,\u001b[49m\u001b[43m \u001b[49m\u001b[43mmetric_period\u001b[49m\u001b[43m,\u001b[49m\u001b[43m \u001b[49m\u001b[43msilent\u001b[49m\u001b[43m,\u001b[49m\u001b[43m \u001b[49m\u001b[43mearly_stopping_rounds\u001b[49m\u001b[43m,\u001b[49m\n\u001b[1;32m   5593\u001b[0m \u001b[43m                 \u001b[49m\u001b[43msave_snapshot\u001b[49m\u001b[43m,\u001b[49m\u001b[43m \u001b[49m\u001b[43msnapshot_file\u001b[49m\u001b[43m,\u001b[49m\u001b[43m \u001b[49m\u001b[43msnapshot_interval\u001b[49m\u001b[43m,\u001b[49m\u001b[43m \u001b[49m\u001b[43minit_model\u001b[49m\u001b[43m,\u001b[49m\u001b[43m \u001b[49m\u001b[43mcallbacks\u001b[49m\u001b[43m,\u001b[49m\u001b[43m \u001b[49m\u001b[43mlog_cout\u001b[49m\u001b[43m,\u001b[49m\u001b[43m \u001b[49m\u001b[43mlog_cerr\u001b[49m\u001b[43m)\u001b[49m\n",
      "File \u001b[0;32m~/opt/anaconda3/lib/python3.9/site-packages/catboost/core.py:2278\u001b[0m, in \u001b[0;36mCatBoost._fit\u001b[0;34m(self, X, y, cat_features, text_features, embedding_features, pairs, sample_weight, group_id, group_weight, subgroup_id, pairs_weight, baseline, use_best_model, eval_set, verbose, logging_level, plot, column_description, verbose_eval, metric_period, silent, early_stopping_rounds, save_snapshot, snapshot_file, snapshot_interval, init_model, callbacks, log_cout, log_cerr)\u001b[0m\n\u001b[1;32m   2274\u001b[0m allow_clear_pool \u001b[38;5;241m=\u001b[39m train_params[\u001b[38;5;124m\"\u001b[39m\u001b[38;5;124mallow_clear_pool\u001b[39m\u001b[38;5;124m\"\u001b[39m]\n\u001b[1;32m   2276\u001b[0m \u001b[38;5;28;01mwith\u001b[39;00m log_fixup(log_cout, log_cerr), \\\n\u001b[1;32m   2277\u001b[0m     plot_wrapper(plot, [_get_train_dir(\u001b[38;5;28mself\u001b[39m\u001b[38;5;241m.\u001b[39mget_params())]):\n\u001b[0;32m-> 2278\u001b[0m     \u001b[38;5;28;43mself\u001b[39;49m\u001b[38;5;241;43m.\u001b[39;49m\u001b[43m_train\u001b[49m\u001b[43m(\u001b[49m\n\u001b[1;32m   2279\u001b[0m \u001b[43m        \u001b[49m\u001b[43mtrain_pool\u001b[49m\u001b[43m,\u001b[49m\n\u001b[1;32m   2280\u001b[0m \u001b[43m        \u001b[49m\u001b[43mtrain_params\u001b[49m\u001b[43m[\u001b[49m\u001b[38;5;124;43m\"\u001b[39;49m\u001b[38;5;124;43meval_sets\u001b[39;49m\u001b[38;5;124;43m\"\u001b[39;49m\u001b[43m]\u001b[49m\u001b[43m,\u001b[49m\n\u001b[1;32m   2281\u001b[0m \u001b[43m        \u001b[49m\u001b[43mparams\u001b[49m\u001b[43m,\u001b[49m\n\u001b[1;32m   2282\u001b[0m \u001b[43m        \u001b[49m\u001b[43mallow_clear_pool\u001b[49m\u001b[43m,\u001b[49m\n\u001b[1;32m   2283\u001b[0m \u001b[43m        \u001b[49m\u001b[43mtrain_params\u001b[49m\u001b[43m[\u001b[49m\u001b[38;5;124;43m\"\u001b[39;49m\u001b[38;5;124;43minit_model\u001b[39;49m\u001b[38;5;124;43m\"\u001b[39;49m\u001b[43m]\u001b[49m\n\u001b[1;32m   2284\u001b[0m \u001b[43m    \u001b[49m\u001b[43m)\u001b[49m\n\u001b[1;32m   2286\u001b[0m \u001b[38;5;66;03m# Have property feature_importance possibly set\u001b[39;00m\n\u001b[1;32m   2287\u001b[0m loss \u001b[38;5;241m=\u001b[39m \u001b[38;5;28mself\u001b[39m\u001b[38;5;241m.\u001b[39m_object\u001b[38;5;241m.\u001b[39m_get_loss_function_name()\n",
      "File \u001b[0;32m~/opt/anaconda3/lib/python3.9/site-packages/catboost/core.py:1705\u001b[0m, in \u001b[0;36m_CatBoostBase._train\u001b[0;34m(self, train_pool, test_pool, params, allow_clear_pool, init_model)\u001b[0m\n\u001b[1;32m   1704\u001b[0m \u001b[38;5;28;01mdef\u001b[39;00m \u001b[38;5;21m_train\u001b[39m(\u001b[38;5;28mself\u001b[39m, train_pool, test_pool, params, allow_clear_pool, init_model):\n\u001b[0;32m-> 1705\u001b[0m     \u001b[38;5;28;43mself\u001b[39;49m\u001b[38;5;241;43m.\u001b[39;49m\u001b[43m_object\u001b[49m\u001b[38;5;241;43m.\u001b[39;49m\u001b[43m_train\u001b[49m\u001b[43m(\u001b[49m\u001b[43mtrain_pool\u001b[49m\u001b[43m,\u001b[49m\u001b[43m \u001b[49m\u001b[43mtest_pool\u001b[49m\u001b[43m,\u001b[49m\u001b[43m \u001b[49m\u001b[43mparams\u001b[49m\u001b[43m,\u001b[49m\u001b[43m \u001b[49m\u001b[43mallow_clear_pool\u001b[49m\u001b[43m,\u001b[49m\u001b[43m \u001b[49m\u001b[43minit_model\u001b[49m\u001b[38;5;241;43m.\u001b[39;49m\u001b[43m_object\u001b[49m\u001b[43m \u001b[49m\u001b[38;5;28;43;01mif\u001b[39;49;00m\u001b[43m \u001b[49m\u001b[43minit_model\u001b[49m\u001b[43m \u001b[49m\u001b[38;5;28;43;01melse\u001b[39;49;00m\u001b[43m \u001b[49m\u001b[38;5;28;43;01mNone\u001b[39;49;00m\u001b[43m)\u001b[49m\n\u001b[1;32m   1706\u001b[0m     \u001b[38;5;28mself\u001b[39m\u001b[38;5;241m.\u001b[39m_set_trained_model_attributes()\n",
      "File \u001b[0;32m_catboost.pyx:4585\u001b[0m, in \u001b[0;36m_catboost._CatBoost._train\u001b[0;34m()\u001b[0m\n",
      "File \u001b[0;32m_catboost.pyx:4634\u001b[0m, in \u001b[0;36m_catboost._CatBoost._train\u001b[0;34m()\u001b[0m\n",
      "\u001b[0;31mKeyboardInterrupt\u001b[0m: "
     ]
    }
   ],
   "source": [
    "sampler = TPESampler(seed=2022)\n",
    "\n",
    "study = optuna.create_study(sampler=sampler,                          \n",
    "                            study_name='catboost')\n",
    "\n",
    "study.optimize(objective, n_trials=30)\n",
    "\n",
    "print(study.best_value)\n",
    "print(study.best_params)"
   ]
  },
  {
   "cell_type": "code",
   "execution_count": null,
   "id": "6e6913b4",
   "metadata": {},
   "outputs": [],
   "source": [
    "regressor = CatBoostRegressor(**param,\n",
    "                              task_type='CPU',\n",
    "                              loss_function='MAE',\n",
    "                              use_best_model=True)\n",
    "\n",
    "regressor.fit(X_train.copy(), y_train.copy(),\n",
    "                eval_set=[(X_valid.copy(), y_valid.copy())],\n",
    "                cat_features=cat_cols,\n",
    "                early_stopping_rounds=EARLY_STOPPING_ROUND,\n",
    "                verbose=10)"
   ]
  },
  {
   "cell_type": "code",
   "execution_count": null,
   "id": "be412dc4",
   "metadata": {},
   "outputs": [],
   "source": [
    "sample_submission = pd.read_csv(df_submission_path)\n",
    "\n",
    "sample_submission.iloc[:,1:] = regressor.predict(df_testb)"
   ]
  },
  {
   "cell_type": "code",
   "execution_count": null,
   "id": "a2cc366e",
   "metadata": {},
   "outputs": [],
   "source": [
    "sample_submission.to_csv(\"./optuna_Data_26_weight.csv\", index = False)"
   ]
  },
  {
   "cell_type": "code",
   "execution_count": null,
   "id": "0e67c9b6",
   "metadata": {},
   "outputs": [],
   "source": [
    "sample_submission"
   ]
  }
 ],
 "metadata": {
  "kernelspec": {
   "display_name": "Python 3 (ipykernel)",
   "language": "python",
   "name": "python3"
  },
  "language_info": {
   "codemirror_mode": {
    "name": "ipython",
    "version": 3
   },
   "file_extension": ".py",
   "mimetype": "text/x-python",
   "name": "python",
   "nbconvert_exporter": "python",
   "pygments_lexer": "ipython3",
   "version": "3.9.12"
  }
 },
 "nbformat": 4,
 "nbformat_minor": 5
}
