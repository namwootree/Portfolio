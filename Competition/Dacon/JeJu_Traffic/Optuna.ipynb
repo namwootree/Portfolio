{
 "cells": [
  {
   "cell_type": "markdown",
   "id": "f57256ef",
   "metadata": {},
   "source": [
    "# Setting"
   ]
  },
  {
   "cell_type": "code",
   "execution_count": null,
   "id": "8d0a0d3a",
   "metadata": {
    "scrolled": true
   },
   "outputs": [],
   "source": [
    "!pip install catboost"
   ]
  },
  {
   "cell_type": "code",
   "execution_count": null,
   "id": "89d3748a",
   "metadata": {},
   "outputs": [],
   "source": [
    "!pip install optuna\n"
   ]
  },
  {
   "cell_type": "code",
   "execution_count": null,
   "id": "7d843c18",
   "metadata": {},
   "outputs": [],
   "source": [
    "import pandas as pd\n",
    "import numpy as np\n",
    "\n",
    "from catboost import CatBoostRegressor\n",
    "\n",
    "from sklearn.model_selection import train_test_split\n",
    "\n",
    "from sklearn.metrics import mean_squared_error\n",
    "\n",
    "import optuna\n",
    "from optuna.samplers import TPESampler"
   ]
  },
  {
   "cell_type": "markdown",
   "id": "0fc0c7f8",
   "metadata": {},
   "source": [
    "# Load Data"
   ]
  },
  {
   "cell_type": "code",
   "execution_count": null,
   "id": "7105b8ea",
   "metadata": {},
   "outputs": [],
   "source": [
    "df_submission_path = '/Users/namwoo/Desktop/jeju/sample_submission.csv'\n",
    "df_train_path = '/Users/namwoo/Desktop/jeju/preprocessed_df_train_26.csv'\n",
    "df_test_path = '/Users/namwoo/Desktop/jeju/preprocessed_df_test_26.csv'"
   ]
  },
  {
   "cell_type": "code",
   "execution_count": null,
   "id": "5c658a57",
   "metadata": {},
   "outputs": [],
   "source": [
    "df_train = pd.read_csv(df_train_path)\n",
    "df_test = pd.read_csv(df_test_path)"
   ]
  },
  {
   "cell_type": "markdown",
   "id": "73f71caa",
   "metadata": {},
   "source": [
    "# Preprocessing"
   ]
  },
  {
   "cell_type": "code",
   "execution_count": null,
   "id": "cb557854",
   "metadata": {},
   "outputs": [],
   "source": [
    "X = df_train.drop(columns=['target', 'base_date'])\n",
    "y = df_train['target']"
   ]
  },
  {
   "cell_type": "code",
   "execution_count": null,
   "id": "c6794338",
   "metadata": {},
   "outputs": [],
   "source": [
    "cat_cols = X.dtypes[X.dtypes == \"object\"].index.tolist()\n",
    "print(\"Number of Categorical features: \", len(cat_cols))"
   ]
  },
  {
   "cell_type": "code",
   "execution_count": null,
   "id": "a374e883",
   "metadata": {},
   "outputs": [],
   "source": [
    "X_train, X_valid, y_train, y_valid = train_test_split(X, y,\n",
    "                                                        test_size=0.1,\n",
    "                                                        random_state=2022)"
   ]
  },
  {
   "cell_type": "markdown",
   "id": "3e54d1a0",
   "metadata": {},
   "source": [
    "# Optuna"
   ]
  },
  {
   "cell_type": "code",
   "execution_count": null,
   "id": "c9fca5c5",
   "metadata": {},
   "outputs": [],
   "source": [
    "EARLY_STOPPING_ROUND = 100\n",
    "\n",
    "def objective(trial):\n",
    "\n",
    "  param = {\n",
    "    \"n_estimators\":1000,\n",
    "    'learning_rate' : trial.suggest_loguniform('learning_rate', 0.1, 0.2),\n",
    "    'bagging_temperature' :trial.suggest_loguniform('bagging_temperature', 0.01, 100.00),\n",
    "    # \"n_estimators\":trial.suggest_int(\"n_estimators\", 1000, 20000),\n",
    "    \"max_depth\":trial.suggest_int(\"max_depth\", 4, 16),\n",
    "    'random_strength' :trial.suggest_int('random_strength', 0, 100),\n",
    "    \"colsample_bylevel\":trial.suggest_float(\"colsample_bylevel\", 0.4, 1.0),\n",
    "    \"l2_leaf_reg\":trial.suggest_float(\"l2_leaf_reg\",1e-8,3e-5),\n",
    "    \"min_child_samples\": trial.suggest_int(\"min_child_samples\", 5, 100),\n",
    "    \"max_bin\": trial.suggest_int(\"max_bin\", 100, 500)\n",
    "    }\n",
    "\n",
    "  regressor = CatBoostRegressor(**param,\n",
    "                                task_type='CPU',\n",
    "                                loss_function='RMSE',\n",
    "                                use_best_model=True)\n",
    "\n",
    "  regressor.fit(X_train.copy(), y_train.copy(),\n",
    "                eval_set=[(X_valid.copy(), y_valid.copy())],\n",
    "                cat_features=cat_cols,\n",
    "                early_stopping_rounds=EARLY_STOPPING_ROUND,\n",
    "                verbose=10)\n",
    "  \n",
    "  loss = mean_squared_error(y_valid, regressor.predict(X_valid.copy()), squared=False)\n",
    "  \n",
    "  return loss"
   ]
  },
  {
   "cell_type": "code",
   "execution_count": null,
   "id": "39ade2ed",
   "metadata": {
    "scrolled": false
   },
   "outputs": [],
   "source": [
    "sampler = TPESampler(seed=2022)\n",
    "\n",
    "study = optuna.create_study(sampler=sampler,                          \n",
    "                            study_name='catboost')\n",
    "\n",
    "study.optimize(objective, n_trials=30)\n",
    "\n",
    "print(study.best_value)\n",
    "print(study.best_params)"
   ]
  },
  {
   "cell_type": "code",
   "execution_count": null,
   "id": "6e6913b4",
   "metadata": {},
   "outputs": [],
   "source": [
    "regressor = CatBoostRegressor(**param,\n",
    "                              task_type='CPU',\n",
    "                              loss_function='MAE',\n",
    "                              use_best_model=True)\n",
    "\n",
    "regressor.fit(X_train.copy(), y_train.copy(),\n",
    "                eval_set=[(X_valid.copy(), y_valid.copy())],\n",
    "                cat_features=cat_cols,\n",
    "                early_stopping_rounds=EARLY_STOPPING_ROUND,\n",
    "                verbose=10)"
   ]
  },
  {
   "cell_type": "code",
   "execution_count": null,
   "id": "be412dc4",
   "metadata": {},
   "outputs": [],
   "source": [
    "sample_submission = pd.read_csv(df_submission_path)\n",
    "\n",
    "sample_submission.iloc[:,1:] = regressor.predict(df_testb)"
   ]
  },
  {
   "cell_type": "code",
   "execution_count": null,
   "id": "a2cc366e",
   "metadata": {},
   "outputs": [],
   "source": [
    "sample_submission.to_csv(\"./optuna_Data_26_weight.csv\", index = False)"
   ]
  },
  {
   "cell_type": "code",
   "execution_count": null,
   "id": "0e67c9b6",
   "metadata": {},
   "outputs": [],
   "source": [
    "sample_submission"
   ]
  }
 ],
 "metadata": {
  "kernelspec": {
   "display_name": "Python 3 (ipykernel)",
   "language": "python",
   "name": "python3"
  },
  "language_info": {
   "codemirror_mode": {
    "name": "ipython",
    "version": 3
   },
   "file_extension": ".py",
   "mimetype": "text/x-python",
   "name": "python",
   "nbconvert_exporter": "python",
   "pygments_lexer": "ipython3",
   "version": "3.9.12"
  }
 },
 "nbformat": 4,
 "nbformat_minor": 5
}
