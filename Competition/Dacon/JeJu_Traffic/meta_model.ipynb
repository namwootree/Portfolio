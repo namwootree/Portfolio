{
 "cells": [
  {
   "cell_type": "markdown",
   "id": "9d2edb12",
   "metadata": {},
   "source": [
    "# Setting"
   ]
  },
  {
   "cell_type": "markdown",
   "id": "e81f244a",
   "metadata": {},
   "source": [
    "## Library"
   ]
  },
  {
   "cell_type": "code",
   "execution_count": 1,
   "id": "46d243fc",
   "metadata": {},
   "outputs": [],
   "source": [
    "import pandas as pd\n",
    "\n",
    "from sklearn.svm import LinearSVR"
   ]
  },
  {
   "cell_type": "markdown",
   "id": "3ac577f7",
   "metadata": {},
   "source": [
    "# Load Data"
   ]
  },
  {
   "cell_type": "code",
   "execution_count": 2,
   "id": "4c8e586c",
   "metadata": {},
   "outputs": [],
   "source": [
    "train = pd.read_csv('/Users/namwoo/Desktop/jeju/cv_stacking_train_verson_7_depth_14_20.csv')\n",
    "test = pd.read_csv('/Users/namwoo/Desktop/jeju/cv_stacking_test_verson_7_depth_14_20.csv')"
   ]
  },
  {
   "cell_type": "markdown",
   "id": "38d83a73",
   "metadata": {},
   "source": [
    "# Preprocessing"
   ]
  },
  {
   "cell_type": "code",
   "execution_count": 3,
   "id": "928db020",
   "metadata": {},
   "outputs": [
    {
     "data": {
      "text/html": [
       "<div>\n",
       "<style scoped>\n",
       "    .dataframe tbody tr th:only-of-type {\n",
       "        vertical-align: middle;\n",
       "    }\n",
       "\n",
       "    .dataframe tbody tr th {\n",
       "        vertical-align: top;\n",
       "    }\n",
       "\n",
       "    .dataframe thead th {\n",
       "        text-align: right;\n",
       "    }\n",
       "</style>\n",
       "<table border=\"1\" class=\"dataframe\">\n",
       "  <thead>\n",
       "    <tr style=\"text-align: right;\">\n",
       "      <th></th>\n",
       "      <th>0</th>\n",
       "      <th>target</th>\n",
       "    </tr>\n",
       "  </thead>\n",
       "  <tbody>\n",
       "    <tr>\n",
       "      <th>0</th>\n",
       "      <td>50.758128</td>\n",
       "      <td>52.0</td>\n",
       "    </tr>\n",
       "    <tr>\n",
       "      <th>1</th>\n",
       "      <td>25.990756</td>\n",
       "      <td>30.0</td>\n",
       "    </tr>\n",
       "    <tr>\n",
       "      <th>2</th>\n",
       "      <td>64.379205</td>\n",
       "      <td>61.0</td>\n",
       "    </tr>\n",
       "    <tr>\n",
       "      <th>3</th>\n",
       "      <td>19.583195</td>\n",
       "      <td>20.0</td>\n",
       "    </tr>\n",
       "    <tr>\n",
       "      <th>4</th>\n",
       "      <td>38.466784</td>\n",
       "      <td>38.0</td>\n",
       "    </tr>\n",
       "    <tr>\n",
       "      <th>...</th>\n",
       "      <td>...</td>\n",
       "      <td>...</td>\n",
       "    </tr>\n",
       "    <tr>\n",
       "      <th>4701212</th>\n",
       "      <td>25.136037</td>\n",
       "      <td>20.0</td>\n",
       "    </tr>\n",
       "    <tr>\n",
       "      <th>4701213</th>\n",
       "      <td>70.628292</td>\n",
       "      <td>65.0</td>\n",
       "    </tr>\n",
       "    <tr>\n",
       "      <th>4701214</th>\n",
       "      <td>28.406926</td>\n",
       "      <td>30.0</td>\n",
       "    </tr>\n",
       "    <tr>\n",
       "      <th>4701215</th>\n",
       "      <td>64.868473</td>\n",
       "      <td>73.0</td>\n",
       "    </tr>\n",
       "    <tr>\n",
       "      <th>4701216</th>\n",
       "      <td>32.098313</td>\n",
       "      <td>35.0</td>\n",
       "    </tr>\n",
       "  </tbody>\n",
       "</table>\n",
       "<p>4701217 rows × 2 columns</p>\n",
       "</div>"
      ],
      "text/plain": [
       "                 0  target\n",
       "0        50.758128    52.0\n",
       "1        25.990756    30.0\n",
       "2        64.379205    61.0\n",
       "3        19.583195    20.0\n",
       "4        38.466784    38.0\n",
       "...            ...     ...\n",
       "4701212  25.136037    20.0\n",
       "4701213  70.628292    65.0\n",
       "4701214  28.406926    30.0\n",
       "4701215  64.868473    73.0\n",
       "4701216  32.098313    35.0\n",
       "\n",
       "[4701217 rows x 2 columns]"
      ]
     },
     "execution_count": 3,
     "metadata": {},
     "output_type": "execute_result"
    }
   ],
   "source": [
    "train"
   ]
  },
  {
   "cell_type": "code",
   "execution_count": 4,
   "id": "b3ef61dd",
   "metadata": {},
   "outputs": [
    {
     "data": {
      "text/html": [
       "<div>\n",
       "<style scoped>\n",
       "    .dataframe tbody tr th:only-of-type {\n",
       "        vertical-align: middle;\n",
       "    }\n",
       "\n",
       "    .dataframe tbody tr th {\n",
       "        vertical-align: top;\n",
       "    }\n",
       "\n",
       "    .dataframe thead th {\n",
       "        text-align: right;\n",
       "    }\n",
       "</style>\n",
       "<table border=\"1\" class=\"dataframe\">\n",
       "  <thead>\n",
       "    <tr style=\"text-align: right;\">\n",
       "      <th></th>\n",
       "      <th>0</th>\n",
       "    </tr>\n",
       "  </thead>\n",
       "  <tbody>\n",
       "    <tr>\n",
       "      <th>0</th>\n",
       "      <td>25.567762</td>\n",
       "    </tr>\n",
       "    <tr>\n",
       "      <th>1</th>\n",
       "      <td>41.657883</td>\n",
       "    </tr>\n",
       "    <tr>\n",
       "      <th>2</th>\n",
       "      <td>65.437561</td>\n",
       "    </tr>\n",
       "    <tr>\n",
       "      <th>3</th>\n",
       "      <td>38.657729</td>\n",
       "    </tr>\n",
       "    <tr>\n",
       "      <th>4</th>\n",
       "      <td>42.137718</td>\n",
       "    </tr>\n",
       "    <tr>\n",
       "      <th>...</th>\n",
       "      <td>...</td>\n",
       "    </tr>\n",
       "    <tr>\n",
       "      <th>291236</th>\n",
       "      <td>47.159535</td>\n",
       "    </tr>\n",
       "    <tr>\n",
       "      <th>291237</th>\n",
       "      <td>50.621718</td>\n",
       "    </tr>\n",
       "    <tr>\n",
       "      <th>291238</th>\n",
       "      <td>21.342955</td>\n",
       "    </tr>\n",
       "    <tr>\n",
       "      <th>291239</th>\n",
       "      <td>22.856498</td>\n",
       "    </tr>\n",
       "    <tr>\n",
       "      <th>291240</th>\n",
       "      <td>46.856108</td>\n",
       "    </tr>\n",
       "  </tbody>\n",
       "</table>\n",
       "<p>291241 rows × 1 columns</p>\n",
       "</div>"
      ],
      "text/plain": [
       "                0\n",
       "0       25.567762\n",
       "1       41.657883\n",
       "2       65.437561\n",
       "3       38.657729\n",
       "4       42.137718\n",
       "...           ...\n",
       "291236  47.159535\n",
       "291237  50.621718\n",
       "291238  21.342955\n",
       "291239  22.856498\n",
       "291240  46.856108\n",
       "\n",
       "[291241 rows x 1 columns]"
      ]
     },
     "execution_count": 4,
     "metadata": {},
     "output_type": "execute_result"
    }
   ],
   "source": [
    "test"
   ]
  },
  {
   "cell_type": "code",
   "execution_count": null,
   "id": "5fac09da",
   "metadata": {},
   "outputs": [],
   "source": [
    "X = train.drop(columns='target')\n",
    "y = train['target']"
   ]
  },
  {
   "cell_type": "markdown",
   "id": "c360271e",
   "metadata": {},
   "source": [
    "# Modeling"
   ]
  },
  {
   "cell_type": "code",
   "execution_count": null,
   "id": "d149f002",
   "metadata": {},
   "outputs": [],
   "source": [
    "# max_iter= 3000 -> 18분 21초 걸림\n",
    "# max_iter= 10000 -> 38분 2초 걸림\n",
    "# max_iter= 50000 -> 63분 47초 걸림\n",
    "# max_iter= 70000 -> 분 초 걸림\n",
    "\n",
    "svr = LinearSVR(max_iter= 50000, verbose=1)\n",
    "\n",
    "svr.fit(X, y)\n",
    "\n",
    "# 1000 9분 40초\n",
    "# 10000 68분 6초\n",
    "# 50000 152분 29초"
   ]
  },
  {
   "cell_type": "markdown",
   "id": "62a1a9c0",
   "metadata": {},
   "source": [
    "# Submission"
   ]
  },
  {
   "cell_type": "code",
   "execution_count": null,
   "id": "1af8de10",
   "metadata": {},
   "outputs": [],
   "source": [
    "sub = pd.read_csv('/Users/namwoo/Desktop/jeju/sample_submission.csv')\n",
    "\n",
    "sub['target'] = svr.predict(test)\n",
    "sub"
   ]
  },
  {
   "cell_type": "code",
   "execution_count": null,
   "id": "a74076ce",
   "metadata": {},
   "outputs": [],
   "source": [
    "sub.to_csv('/Users/namwoo/Desktop/jeju/Sub_Stacking_cv_verson_467_50000.csv', index=False)"
   ]
  },
  {
   "cell_type": "markdown",
   "id": "650baa5a",
   "metadata": {},
   "source": [
    "# Ensemable"
   ]
  },
  {
   "cell_type": "code",
   "execution_count": null,
   "id": "ff84002e",
   "metadata": {},
   "outputs": [],
   "source": [
    "sub['target'] = (sub['target'] + test['0']) / 2\n",
    "sub"
   ]
  },
  {
   "cell_type": "code",
   "execution_count": null,
   "id": "032e08dc",
   "metadata": {},
   "outputs": [],
   "source": [
    "sub.to_csv('/Users/namwoo/Desktop/jeju/Sub_Stacking_ensemable_verson_4.csv', index=False)"
   ]
  },
  {
   "cell_type": "code",
   "execution_count": null,
   "id": "f1f4e85e",
   "metadata": {},
   "outputs": [],
   "source": []
  }
 ],
 "metadata": {
  "kernelspec": {
   "display_name": "Python 3.10.5 64-bit",
   "language": "python",
   "name": "python3"
  },
  "language_info": {
   "codemirror_mode": {
    "name": "ipython",
    "version": 3
   },
   "file_extension": ".py",
   "mimetype": "text/x-python",
   "name": "python",
   "nbconvert_exporter": "python",
   "pygments_lexer": "ipython3",
   "version": "3.10.5"
  },
  "vscode": {
   "interpreter": {
    "hash": "aee8b7b246df8f9039afb4144a1f6fd8d2ca17a180786b69acc140d282b71a49"
   }
  }
 },
 "nbformat": 4,
 "nbformat_minor": 5
}
