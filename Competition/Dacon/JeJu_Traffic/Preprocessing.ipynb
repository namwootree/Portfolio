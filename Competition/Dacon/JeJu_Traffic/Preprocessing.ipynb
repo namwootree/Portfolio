{
 "cells": [
  {
   "cell_type": "markdown",
   "id": "d4c714ed",
   "metadata": {},
   "source": [
    "# Setting"
   ]
  },
  {
   "cell_type": "code",
   "execution_count": 1,
   "id": "933b780b",
   "metadata": {},
   "outputs": [
    {
     "name": "stdout",
     "output_type": "stream",
     "text": [
      "Requirement already satisfied: pytimekr in /Library/Frameworks/Python.framework/Versions/3.10/lib/python3.10/site-packages (0.1.0)\n",
      "Requirement already satisfied: lunardate>=0.1.5 in /Library/Frameworks/Python.framework/Versions/3.10/lib/python3.10/site-packages (from pytimekr) (0.2.0)\n",
      "\u001b[33mWARNING: You are using pip version 22.0.4; however, version 22.3.1 is available.\n",
      "You should consider upgrading via the '/Library/Frameworks/Python.framework/Versions/3.10/bin/python3.10 -m pip install --upgrade pip' command.\u001b[0m\u001b[33m\n",
      "\u001b[0m"
     ]
    }
   ],
   "source": [
    "!pip3 install pytimekr"
   ]
  },
  {
   "cell_type": "code",
   "execution_count": 2,
   "id": "038836cd",
   "metadata": {},
   "outputs": [],
   "source": [
    "import pandas as pd\n",
    "import numpy as np\n",
    "\n",
    "from pytimekr import pytimekr"
   ]
  },
  {
   "cell_type": "markdown",
   "id": "f966565a",
   "metadata": {},
   "source": [
    "# Load Data Set"
   ]
  },
  {
   "cell_type": "code",
   "execution_count": null,
   "id": "0285774a",
   "metadata": {},
   "outputs": [],
   "source": [
    "df_submission_path = '/Users/namwoo/Desktop/jeju/sample_submission.csv'\n",
    "df_train_path = '/Users/namwoo/Desktop/jeju/train.csv'\n",
    "df_test_path = '/Users/namwoo/Desktop/jeju/test.csv'"
   ]
  },
  {
   "cell_type": "code",
   "execution_count": null,
   "id": "63cb4441",
   "metadata": {},
   "outputs": [],
   "source": [
    "df_train = pd.read_csv(df_train_path)\n",
    "df_test = pd.read_csv(df_test_path)"
   ]
  },
  {
   "cell_type": "code",
   "execution_count": null,
   "id": "c1d62cf1",
   "metadata": {},
   "outputs": [],
   "source": [
    "df_test.columns"
   ]
  },
  {
   "cell_type": "markdown",
   "id": "aa44900d",
   "metadata": {},
   "source": [
    "# 필요한 변수만 사용"
   ]
  },
  {
   "cell_type": "code",
   "execution_count": null,
   "id": "76decd4e",
   "metadata": {},
   "outputs": [],
   "source": [
    "list_features = ['base_date',\n",
    "                 'day_of_week', \n",
    "                 'base_hour',\n",
    "                 'road_name', \n",
    "                 'lane_count',\n",
    "                 'road_rating',\n",
    "                 'multi_linked',\n",
    "                 'connect_code',\n",
    "                 'road_type',\n",
    "                 'maximum_speed_limit',\n",
    "                 'weight_restricted',\n",
    "                 'start_node_name',\n",
    "                 'end_node_name',\n",
    "                 'start_latitude',\n",
    "                 'end_latitude',\n",
    "                 'start_longitude',\n",
    "                 'end_longitude',\n",
    "                 'start_turn_restricted',\n",
    "                 'end_turn_restricted']"
   ]
  },
  {
   "cell_type": "code",
   "execution_count": null,
   "id": "c241c9b9",
   "metadata": {},
   "outputs": [],
   "source": [
    "df_train = df_train[list_features + ['target']]\n",
    "df_test = df_test[list_features]"
   ]
  },
  {
   "cell_type": "markdown",
   "id": "b7f6bb85",
   "metadata": {},
   "source": [
    "# 카테고리화"
   ]
  },
  {
   "cell_type": "markdown",
   "id": "72a2b3b9",
   "metadata": {},
   "source": [
    "latitude"
   ]
  },
  {
   "cell_type": "code",
   "execution_count": null,
   "id": "4242b9c0",
   "metadata": {},
   "outputs": [],
   "source": [
    "def cat_latitude(df):\n",
    "    \n",
    "    list_start_latitude = []\n",
    "    list_end_latitude = []\n",
    "    \n",
    "    for start, end in zip(df['start_latitude'], df['end_latitude']):\n",
    "        \n",
    "        start = '위도 : ' + str(start)\n",
    "        end = '위도 : ' + str(end)\n",
    "        \n",
    "        list_start_latitude.append(start)\n",
    "        list_end_latitude.append(end)\n",
    "        \n",
    "    df['start_latitude'] = list_start_latitude\n",
    "    df['end_latitude'] = list_end_latitude"
   ]
  },
  {
   "cell_type": "code",
   "execution_count": null,
   "id": "0c950bc2",
   "metadata": {},
   "outputs": [],
   "source": [
    "cat_latitude(df_train)\n",
    "cat_latitude(df_test)"
   ]
  },
  {
   "cell_type": "markdown",
   "id": "d7280b24",
   "metadata": {},
   "source": [
    "longitude"
   ]
  },
  {
   "cell_type": "code",
   "execution_count": null,
   "id": "0a75dd66",
   "metadata": {},
   "outputs": [],
   "source": [
    "def cat_longitude(df):\n",
    "    \n",
    "    list_start_longitude = []\n",
    "    list_end_longitude = []\n",
    "    \n",
    "    for start, end in zip(df['start_longitude'], df['end_longitude']):\n",
    "        \n",
    "        start = '경도 : ' + str(start)\n",
    "        end = '경도 : ' + str(end)\n",
    "        \n",
    "        list_start_longitude.append(start)\n",
    "        list_end_longitude.append(end)\n",
    "        \n",
    "    df['start_longitude'] = list_start_longitude\n",
    "    df['end_longitude'] = list_end_longitude"
   ]
  },
  {
   "cell_type": "code",
   "execution_count": null,
   "id": "1744db83",
   "metadata": {},
   "outputs": [],
   "source": [
    "cat_longitude(df_train)\n",
    "cat_longitude(df_test)"
   ]
  },
  {
   "cell_type": "markdown",
   "id": "918dd162",
   "metadata": {},
   "source": [
    "base_hour"
   ]
  },
  {
   "cell_type": "code",
   "execution_count": null,
   "id": "eaa1df7f",
   "metadata": {},
   "outputs": [],
   "source": [
    "def cat_hour(df):\n",
    "    \n",
    "    list_hour = []\n",
    "    \n",
    "    for hour in df['base_hour']:\n",
    "        \n",
    "        hour = str(hour) + '시'\n",
    "        \n",
    "        list_hour.append(hour)\n",
    "    \n",
    "    df['base_hour'] = list_hour"
   ]
  },
  {
   "cell_type": "code",
   "execution_count": null,
   "id": "2d75c0e5",
   "metadata": {},
   "outputs": [],
   "source": [
    "cat_hour(df_train)\n",
    "cat_hour(df_test)"
   ]
  },
  {
   "cell_type": "markdown",
   "id": "1f8f111e",
   "metadata": {},
   "source": [
    "lane_count"
   ]
  },
  {
   "cell_type": "code",
   "execution_count": null,
   "id": "2138a270",
   "metadata": {},
   "outputs": [],
   "source": [
    "def object_lane_count(df):\n",
    "\n",
    "  cond_1 = (df['lane_count'] == 1)\n",
    "  cond_2 = (df['lane_count'] == 2)\n",
    "  cond_3 = (df['lane_count'] == 3)\n",
    "\n",
    "  df.loc[cond_1, 'lane_count'] = '1차선'\n",
    "  df.loc[cond_2, 'lane_count'] = '2차선'\n",
    "  df.loc[cond_3, 'lane_count'] = '3차선'"
   ]
  },
  {
   "cell_type": "code",
   "execution_count": null,
   "id": "6e289c7a",
   "metadata": {},
   "outputs": [],
   "source": [
    "object_lane_count(df_train)\n",
    "object_lane_count(df_test)"
   ]
  },
  {
   "cell_type": "markdown",
   "id": "9eac3ec5",
   "metadata": {},
   "source": [
    "road_rating"
   ]
  },
  {
   "cell_type": "code",
   "execution_count": null,
   "id": "2b2f322b",
   "metadata": {},
   "outputs": [],
   "source": [
    "def object_road_rating(df):\n",
    "\n",
    "  cond_103 = (df['road_rating'] == 103)\n",
    "  cond_106 = (df['road_rating'] == 106)\n",
    "  cond_107 = (df['road_rating'] == 107)\n",
    "\n",
    "  df.loc[cond_103, 'road_rating'] = '일반 국도'\n",
    "  df.loc[cond_106, 'road_rating'] = '지방도'\n",
    "  df.loc[cond_107, 'road_rating'] = '시도'"
   ]
  },
  {
   "cell_type": "code",
   "execution_count": null,
   "id": "1dd1ef8a",
   "metadata": {},
   "outputs": [],
   "source": [
    "object_road_rating(df_train)\n",
    "object_road_rating(df_test)"
   ]
  },
  {
   "cell_type": "markdown",
   "id": "d7d8e799",
   "metadata": {},
   "source": [
    "multi_linked"
   ]
  },
  {
   "cell_type": "code",
   "execution_count": null,
   "id": "9c93c2df",
   "metadata": {},
   "outputs": [],
   "source": [
    "def object_multi_linked(df):\n",
    "\n",
    "  cond_0 = (df['multi_linked'] == 0)\n",
    "  cond_1 = (df['multi_linked'] == 1)\n",
    "\n",
    "  df.loc[cond_0, 'multi_linked'] = '비 중용구간'\n",
    "  df.loc[cond_1, 'multi_linked'] = '중용구간'"
   ]
  },
  {
   "cell_type": "code",
   "execution_count": null,
   "id": "034ae960",
   "metadata": {},
   "outputs": [],
   "source": [
    "object_multi_linked(df_train)\n",
    "object_multi_linked(df_test)"
   ]
  },
  {
   "cell_type": "markdown",
   "id": "84832dde",
   "metadata": {},
   "source": [
    "connect_code"
   ]
  },
  {
   "cell_type": "code",
   "execution_count": null,
   "id": "502e342f",
   "metadata": {},
   "outputs": [],
   "source": [
    "def object_connect_code(df):\n",
    "\n",
    "  cond_0 = (df['connect_code'] == 0)\n",
    "  cond_103 = (df['connect_code'] == 103)\n",
    "\n",
    "  df.loc[cond_0, 'connect_code'] = '없음'\n",
    "  df.loc[cond_103, 'connect_code'] = '연결로-일반도로'"
   ]
  },
  {
   "cell_type": "code",
   "execution_count": null,
   "id": "9dd20df6",
   "metadata": {},
   "outputs": [],
   "source": [
    "object_connect_code(df_train)\n",
    "object_connect_code(df_test)"
   ]
  },
  {
   "cell_type": "markdown",
   "id": "f89e1bec",
   "metadata": {},
   "source": [
    "maximum_speed_limit"
   ]
  },
  {
   "cell_type": "code",
   "execution_count": null,
   "id": "affe6f28",
   "metadata": {},
   "outputs": [],
   "source": [
    "def object_maximum_speed_limit(df):\n",
    "\n",
    "  cond_30 = (df['maximum_speed_limit'] == 30.0)\n",
    "  cond_40 = (df['maximum_speed_limit'] == 40.0)\n",
    "  cond_50 = (df['maximum_speed_limit'] == 50.0)\n",
    "  cond_60 = (df['maximum_speed_limit'] == 60.0)\n",
    "  cond_70 = (df['maximum_speed_limit'] == 70.0)\n",
    "  cond_80 = (df['maximum_speed_limit'] == 80.0)\n",
    "\n",
    "  df.loc[cond_30, 'maximum_speed_limit'] = '30 제한'\n",
    "  df.loc[cond_40, 'maximum_speed_limit'] = '40 제한'\n",
    "  df.loc[cond_50, 'maximum_speed_limit'] = '50 제한'\n",
    "  df.loc[cond_60, 'maximum_speed_limit'] = '60 제한'\n",
    "  df.loc[cond_70, 'maximum_speed_limit'] = '70 제한'\n",
    "  df.loc[cond_80, 'maximum_speed_limit'] = '80 제한'"
   ]
  },
  {
   "cell_type": "code",
   "execution_count": null,
   "id": "1c3e08b7",
   "metadata": {},
   "outputs": [],
   "source": [
    "object_maximum_speed_limit(df_train)\n",
    "object_maximum_speed_limit(df_test)"
   ]
  },
  {
   "cell_type": "markdown",
   "id": "85c9c344",
   "metadata": {},
   "source": [
    "weight_restricted"
   ]
  },
  {
   "cell_type": "code",
   "execution_count": null,
   "id": "f678da52",
   "metadata": {},
   "outputs": [],
   "source": [
    "def object_weight_restricted(df):\n",
    "\n",
    "  cond_0 = (df['weight_restricted'] == 0.0)\n",
    "  cond_32400 = (df['weight_restricted'] == 32400.0)\n",
    "  cond_43200 = (df['weight_restricted'] == 43200.0)\n",
    "  cond_50000 = (df['weight_restricted'] == 50000.0)\n",
    "\n",
    "  df.loc[cond_0, 'weight_restricted'] = '제한 없음'\n",
    "  df.loc[cond_32400, 'weight_restricted'] = '32400 제한'\n",
    "  df.loc[cond_43200, 'weight_restricted'] = '43200 제한'\n",
    "  df.loc[cond_50000, 'weight_restricted'] = '50000 제한'"
   ]
  },
  {
   "cell_type": "code",
   "execution_count": null,
   "id": "ce4216c6",
   "metadata": {},
   "outputs": [],
   "source": [
    "object_weight_restricted(df_train)\n",
    "object_weight_restricted(df_test)"
   ]
  },
  {
   "cell_type": "markdown",
   "id": "2e6919ee",
   "metadata": {},
   "source": [
    "road_type"
   ]
  },
  {
   "cell_type": "code",
   "execution_count": null,
   "id": "77ecba13",
   "metadata": {},
   "outputs": [],
   "source": [
    "def object_road_type(df):\n",
    "\n",
    "  cond_0 = (df['road_type'] == 0)\n",
    "  cond_3 = (df['road_type'] == 3)\n",
    "\n",
    "  df.loc[cond_0, 'road_type'] = '0 유형'\n",
    "  df.loc[cond_3, 'road_type'] = '3 유형'"
   ]
  },
  {
   "cell_type": "code",
   "execution_count": null,
   "id": "61640563",
   "metadata": {},
   "outputs": [],
   "source": [
    "object_road_type(df_train)\n",
    "object_road_type(df_test)"
   ]
  },
  {
   "cell_type": "markdown",
   "id": "1abccc78",
   "metadata": {},
   "source": [
    "# 결측치 대체"
   ]
  },
  {
   "cell_type": "code",
   "execution_count": null,
   "id": "d2dd1d33",
   "metadata": {},
   "outputs": [],
   "source": [
    "def road_name_replace(df):\n",
    "\n",
    "    cond = (df['road_name']=='-')\n",
    "\n",
    "    df.loc[cond, 'road_name_is_start'] = df['start_node_name']\n",
    "    df.loc[~cond, 'road_name_is_start'] = df['road_name']\n",
    "\n",
    "    df.loc[cond, 'road_name_is_end'] = df['end_node_name']\n",
    "    df.loc[~cond, 'road_name_is_end'] = df['road_name']\n",
    "\n",
    "    # df.loc[cond, 'road_name_is_start_end'] = df_train['start_node_name'] + '-' + df_train['end_node_name']\n",
    "    # df.loc[~cond, 'road_name_is_start_end'] = df['road_name']\n",
    "\n"
   ]
  },
  {
   "cell_type": "code",
   "execution_count": null,
   "id": "0146bcb3",
   "metadata": {},
   "outputs": [],
   "source": [
    "road_name_replace(df_train)\n",
    "road_name_replace(df_test)"
   ]
  },
  {
   "cell_type": "code",
   "execution_count": null,
   "id": "7ef80922",
   "metadata": {},
   "outputs": [],
   "source": [
    "df_train.drop(columns='road_name', inplace=True)\n",
    "df_test.drop(columns='road_name', inplace=True)"
   ]
  },
  {
   "cell_type": "markdown",
   "id": "163c4f60",
   "metadata": {},
   "source": [
    "# 파생변수 생성"
   ]
  },
  {
   "cell_type": "markdown",
   "id": "ae38ca32",
   "metadata": {},
   "source": [
    "## 변수 결합"
   ]
  },
  {
   "cell_type": "code",
   "execution_count": null,
   "id": "9646a0e0",
   "metadata": {},
   "outputs": [],
   "source": [
    "df_train['start_2_end'] = df_train['start_node_name'] + '->' + df_train['end_node_name']\n",
    "df_test['start_2_end'] = df_test['start_node_name'] + '->' + df_test['end_node_name']"
   ]
  },
  {
   "cell_type": "code",
   "execution_count": null,
   "id": "beff3402",
   "metadata": {},
   "outputs": [],
   "source": [
    "df_train['end_2_start'] = df_train['end_node_name'] + '<-' + df_train['start_node_name']\n",
    "df_test['end_2_start'] = df_test['end_node_name'] + '<-' + df_test['start_node_name']"
   ]
  },
  {
   "cell_type": "code",
   "execution_count": null,
   "id": "1a698860",
   "metadata": {},
   "outputs": [],
   "source": [
    "df_train['coordinate'] = df_train['start_latitude'] + '+' \\\n",
    "                        + df_train['end_latitude'] + '+' \\\n",
    "                        + df_train['start_longitude'] + '+' \\\n",
    "                        + df_train['end_longitude']\n",
    "\n",
    "df_test['coordinate'] = df_test['start_latitude'] + '+' \\\n",
    "                        + df_test['end_latitude'] + '+' \\\n",
    "                        + df_test['start_longitude'] + '+' \\\n",
    "                        + df_test['end_longitude']"
   ]
  },
  {
   "cell_type": "code",
   "execution_count": null,
   "id": "afbe0f5f",
   "metadata": {},
   "outputs": [],
   "source": [
    "df_train['week_hour'] = df_train['day_of_week'] + '-' + df_train['base_hour']\n",
    "df_test['week_hour'] = df_test['day_of_week'] + '-' + df_test['base_hour']"
   ]
  },
  {
   "cell_type": "code",
   "execution_count": null,
   "id": "b451bad8",
   "metadata": {},
   "outputs": [],
   "source": [
    "df_train['imbalanced'] = df_train['multi_linked'] + '+' + \\\n",
    "                      df_train['connect_code'] + '+' + \\\n",
    "                      df_train['maximum_speed_limit'] + '+' + \\\n",
    "                      df_train['weight_restricted'] + '+' + \\\n",
    "                      df_train['road_type'] + '+' + \\\n",
    "                      df_train['start_turn_restricted'] + '+' + \\\n",
    "                      df_train['end_turn_restricted']\n",
    "\n",
    "df_test['imbalanced'] = df_test['multi_linked'] + '+' + \\\n",
    "                  df_test['connect_code'] + '+' + \\\n",
    "                  df_test['maximum_speed_limit'] + '+' + \\\n",
    "                  df_test['weight_restricted'] + '+' + \\\n",
    "                  df_test['road_type'] + '+' + \\\n",
    "                  df_test['start_turn_restricted'] + '+' + \\\n",
    "                  df_test['end_turn_restricted']"
   ]
  },
  {
   "cell_type": "code",
   "execution_count": null,
   "id": "d934c02b",
   "metadata": {},
   "outputs": [],
   "source": [
    "df_train['turn'] = df_train['start_turn_restricted'] + '-' + df_train['end_turn_restricted']\n",
    "df_test['turn'] = df_test['start_turn_restricted'] + '-' + df_test['end_turn_restricted']"
   ]
  },
  {
   "cell_type": "markdown",
   "id": "d40de519",
   "metadata": {},
   "source": [
    "## 날짜를 활용"
   ]
  },
  {
   "cell_type": "markdown",
   "id": "0922566c",
   "metadata": {},
   "source": [
    "### 공휴일"
   ]
  },
  {
   "cell_type": "code",
   "execution_count": null,
   "id": "e2630521",
   "metadata": {},
   "outputs": [],
   "source": [
    "holidays_2021 = pytimekr.holidays(year=2021)\n",
    "holidays_2021"
   ]
  },
  {
   "cell_type": "code",
   "execution_count": null,
   "id": "402d09bf",
   "metadata": {},
   "outputs": [],
   "source": [
    "holidays_2022 = pytimekr.holidays(year=2022)\n",
    "holidays_2022"
   ]
  },
  {
   "cell_type": "code",
   "execution_count": null,
   "id": "023e3612",
   "metadata": {},
   "outputs": [],
   "source": [
    "def preprocessing_holidays(list_holidays_year):\n",
    "\n",
    "  list_holidays = []\n",
    "\n",
    "  for holiday in list_holidays_year:\n",
    "    \n",
    "    holiday = str(holiday)\n",
    "    holiday = holiday.replace('-', '')\n",
    "\n",
    "    list_holidays.append(holiday)\n",
    "\n",
    "  return list_holidays"
   ]
  },
  {
   "cell_type": "code",
   "execution_count": null,
   "id": "01dd2f63",
   "metadata": {},
   "outputs": [],
   "source": [
    "list_holidays_2021 = preprocessing_holidays(holidays_2021)\n",
    "list_holidays_2022 = preprocessing_holidays(holidays_2022)\n",
    "\n",
    "list_holidays = list_holidays_2021 + list_holidays_2022"
   ]
  },
  {
   "cell_type": "code",
   "execution_count": null,
   "id": "77ba3804",
   "metadata": {},
   "outputs": [],
   "source": [
    "def holidays_yes_or_no(df):\n",
    "\n",
    "  list_holidays_yes_or_no = []\n",
    "\n",
    "  for date in df['base_date']:\n",
    "\n",
    "    if date in list_holidays:\n",
    "\n",
    "      list_holidays_yes_or_no.append('예')\n",
    "\n",
    "    else:\n",
    "\n",
    "      list_holidays_yes_or_no.append('아니요')\n",
    "\n",
    "  df['holiday'] = list_holidays_yes_or_no"
   ]
  },
  {
   "cell_type": "code",
   "execution_count": null,
   "id": "2c5881b2",
   "metadata": {},
   "outputs": [],
   "source": [
    "holidays_yes_or_no(df_train)\n",
    "holidays_yes_or_no(df_test)"
   ]
  },
  {
   "cell_type": "markdown",
   "id": "10203b3f",
   "metadata": {},
   "source": [
    "### 성수기 여부"
   ]
  },
  {
   "cell_type": "code",
   "execution_count": null,
   "id": "d9e855ce",
   "metadata": {},
   "outputs": [],
   "source": [
    "df_train['base_date'] = df_train['base_date'].astype('str')\n",
    "df_test['base_date'] = df_test['base_date'].astype('str')"
   ]
  },
  {
   "cell_type": "code",
   "execution_count": null,
   "id": "df0d5dac",
   "metadata": {},
   "outputs": [],
   "source": [
    "cond1 = (df_train['base_date'] >= '20210101') & (df_train['base_date'] <= '20210103')\n",
    "cond2 = (df_train['base_date'] >= '20210210') & (df_train['base_date'] <= '20210215')\n",
    "cond3 = (df_train['base_date'] >= '20210220') & (df_train['base_date'] <= '20210301')\n",
    "cond4 = (df_train['base_date'] >= '20210501') & (df_train['base_date'] <= '20210505')\n",
    "cond5 = (df_train['base_date'] >= '20210515') & (df_train['base_date'] <= '20210519')\n",
    "cond6 = (df_train['base_date'] >= '20210724') & (df_train['base_date'] <= '20210821')\n",
    "cond7 = (df_train['base_date'] >= '20210918') & (df_train['base_date'] <= '20210923')\n",
    "cond8 = (df_train['base_date'] == '20211231')\n",
    "\n",
    "cond9 = (df_train['base_date'] == '20220101')\n",
    "cond10 = (df_train['base_date'] >= '20220129') & (df_train['base_date'] <= '20220203')\n",
    "cond11 = (df_train['base_date'] >= '20220220') & (df_train['base_date'] <= '20220301')\n",
    "cond12 = (df_train['base_date'] >= '20220504') & (df_train['base_date'] <= '20220508')\n",
    "cond13 = (df_train['base_date'] >= '20220604') & (df_train['base_date'] <= '20220606')\n",
    "cond14 = (df_train['base_date'] >= '20220723') & (df_train['base_date'] <= '20220821')\n",
    "cond15 = (df_train['base_date'] == '20221231')\n",
    "\n",
    "df_train.loc[(cond1 | cond2 | cond3 | cond4 | cond5 | cond6 | cond7 | cond8 | cond9 | \\\n",
    "              cond10 | cond11 | cond12 | cond13 | cond14 | cond15), 'peak_season'] = '예'\n",
    "\n",
    "df_train.loc[~(cond1 | cond2 | cond3 | cond4 | cond5 | cond6 | cond7 | cond8 | cond9 | \\\n",
    "              cond10 | cond11 | cond12 | cond13 | cond14 | cond15), 'peak_season'] = '아니요'"
   ]
  },
  {
   "cell_type": "code",
   "execution_count": null,
   "id": "82516991",
   "metadata": {},
   "outputs": [],
   "source": [
    "cond1 = (df_test['base_date'] >= '20220723') & (df_test['base_date'] <= '20220821')\n",
    "\n",
    "\n",
    "df_test.loc[cond1, 'peak_season'] = '예'\n",
    "df_test.loc[~cond1, 'peak_season'] = '아니요'"
   ]
  },
  {
   "cell_type": "code",
   "execution_count": null,
   "id": "e5dbfa30",
   "metadata": {},
   "outputs": [],
   "source": [
    "df_train['base_date'] = df_train['base_date'].astype('int')\n",
    "df_test['base_date'] = df_test['base_date'].astype('int')"
   ]
  },
  {
   "cell_type": "markdown",
   "id": "6eb047b0",
   "metadata": {},
   "source": [
    "### 주말 여부"
   ]
  },
  {
   "cell_type": "code",
   "execution_count": null,
   "id": "dd0185f9",
   "metadata": {},
   "outputs": [],
   "source": [
    "cond = (df_train['day_of_week'] == '토') | (df_train['day_of_week'] == '일')\n",
    "\n",
    "df_train.loc[cond, 'weekend'] = '예'\n",
    "df_train.loc[~cond, 'weekend'] = '아니요'"
   ]
  },
  {
   "cell_type": "code",
   "execution_count": null,
   "id": "b9ff352a",
   "metadata": {},
   "outputs": [],
   "source": [
    "cond = (df_test['day_of_week'] == '토') | (df_test['day_of_week'] == '일')\n",
    "\n",
    "df_test.loc[cond, 'weekend'] = '예'\n",
    "df_test.loc[~cond, 'weekend'] = '아니요'"
   ]
  },
  {
   "cell_type": "markdown",
   "id": "17af76f3",
   "metadata": {},
   "source": [
    "## 날짜 변수 결합"
   ]
  },
  {
   "cell_type": "code",
   "execution_count": null,
   "id": "1862ca81",
   "metadata": {},
   "outputs": [],
   "source": [
    "df_train['rest_time'] = df_train['holiday'] + '+' + \\\n",
    "                      df_train['peak_season'] + '+' + \\\n",
    "                      df_train['weekend']\n",
    "\n",
    "df_test['rest_time'] = df_test['holiday'] + '+' + \\\n",
    "                     df_test['peak_season'] + '+' + \\\n",
    "                     df_test['weekend']"
   ]
  },
  {
   "cell_type": "code",
   "execution_count": null,
   "id": "4b99a392",
   "metadata": {},
   "outputs": [],
   "source": [
    "df_train['time'] = df_train['holiday'] + '+' + \\\n",
    "                   df_train['peak_season'] + '+' + \\\n",
    "                   df_train['weekend']  + '+' + \\\n",
    "                   df_train['week_hour']\n",
    "\n",
    "df_test['time'] = df_test['holiday'] + '+' + \\\n",
    "                  df_test['peak_season'] + '+' + \\\n",
    "                  df_test['weekend']  + '+' + \\\n",
    "                   df_test['week_hour']"
   ]
  },
  {
   "cell_type": "markdown",
   "id": "4b8edba8",
   "metadata": {},
   "source": [
    "## Part Hour"
   ]
  },
  {
   "cell_type": "code",
   "execution_count": null,
   "id": "36b187fa",
   "metadata": {},
   "outputs": [],
   "source": [
    "def part_4_hour(df):\n",
    "\n",
    "    list_part_hour = []\n",
    "\n",
    "    for hour in df['base_hour']:\n",
    "\n",
    "        if hour in ['0시', '1시', '2시', '3시']:\n",
    "\n",
    "            part_hour = '0~3 시'\n",
    "\n",
    "        elif hour in ['4시', '5시', '6시', '7시']:\n",
    "\n",
    "            part_hour = '4~7 시'\n",
    "\n",
    "        elif hour in ['8시', '9시', '10시', '11시']:\n",
    "\n",
    "            part_hour = '8~11 시'\n",
    "\n",
    "        elif hour in ['12시', '13시', '14시', '15시']:\n",
    "\n",
    "            part_hour = '12~15 시'\n",
    "\n",
    "        elif hour in ['16시', '17시', '18시', '19시']:\n",
    "\n",
    "            part_hour = '16~19 시'\n",
    "\n",
    "        elif hour in ['20시', '21시', '22시', '23시']:\n",
    "\n",
    "            part_hour = '20~23 시'\n",
    "\n",
    "        list_part_hour.append(part_hour)\n",
    "\n",
    "    df['part_4_hour'] = list_part_hour"
   ]
  },
  {
   "cell_type": "code",
   "execution_count": null,
   "id": "73edacac",
   "metadata": {},
   "outputs": [],
   "source": [
    "part_4_hour(df_train)\n",
    "part_4_hour(df_test)"
   ]
  },
  {
   "cell_type": "code",
   "execution_count": null,
   "id": "787530a3",
   "metadata": {},
   "outputs": [],
   "source": [
    "def part_6_hour(df):\n",
    "\n",
    "    list_part_hour = []\n",
    "\n",
    "    for hour in df['base_hour']:\n",
    "\n",
    "        if hour in ['0시', '1시', '2시', '3시', '4시', '5시']:\n",
    "\n",
    "            part_hour = '0~5 시'\n",
    "\n",
    "        elif hour in ['6시', '7시', '8시', '9시', '10시', '11시']:\n",
    "\n",
    "            part_hour = '6~11 시'\n",
    "\n",
    "        elif hour in ['12시', '13시', '14시', '15시', '16시', '17시']:\n",
    "\n",
    "            part_hour = '12~17 시'\n",
    "\n",
    "        elif hour in ['18시', '19시', '20시', '21시', '22시', '23시']:\n",
    "\n",
    "            part_hour = '18~23 시'\n",
    "\n",
    "        list_part_hour.append(part_hour)\n",
    "\n",
    "    df['part_6_hour'] = list_part_hour"
   ]
  },
  {
   "cell_type": "code",
   "execution_count": null,
   "id": "ea3de837",
   "metadata": {},
   "outputs": [],
   "source": [
    "part_6_hour(df_train)\n",
    "part_6_hour(df_test)"
   ]
  },
  {
   "cell_type": "code",
   "execution_count": null,
   "id": "0db39761",
   "metadata": {},
   "outputs": [],
   "source": [
    "df_train['week_part_4_hour'] = df_train['day_of_week'] + '-' + df_train['part_4_hour']\n",
    "df_test['week_part_4_hour'] = df_test['day_of_week'] + '-' + df_test['part_4_hour']"
   ]
  },
  {
   "cell_type": "code",
   "execution_count": null,
   "id": "84cad668",
   "metadata": {},
   "outputs": [],
   "source": [
    "df_train['week_part_6_hour'] = df_train['day_of_week'] + '-' + df_train['part_6_hour']\n",
    "df_test['week_part_6_hour'] = df_test['day_of_week'] + '-' + df_test['part_6_hour']"
   ]
  },
  {
   "cell_type": "markdown",
   "id": "735db69e",
   "metadata": {},
   "source": [
    "# 유사 변수 생성"
   ]
  },
  {
   "cell_type": "code",
   "execution_count": null,
   "id": "db68cf9d",
   "metadata": {},
   "outputs": [],
   "source": [
    "def date_2(df):\n",
    "\n",
    "    list_not_year = []\n",
    "\n",
    "    for date in df['base_date']:\n",
    "\n",
    "        date = str(date)[2:]\n",
    "\n",
    "        date = int(date)\n",
    "        \n",
    "        list_not_year.append(date)\n",
    "\n",
    "    df['date_2'] = list_not_year\n"
   ]
  },
  {
   "cell_type": "code",
   "execution_count": null,
   "id": "ed089da2",
   "metadata": {},
   "outputs": [],
   "source": [
    "date_2(df_train)\n",
    "date_2(df_test)"
   ]
  },
  {
   "cell_type": "markdown",
   "id": "0be892a5",
   "metadata": {},
   "source": [
    "base_hour"
   ]
  },
  {
   "cell_type": "code",
   "execution_count": null,
   "id": "8fa3fc4b",
   "metadata": {},
   "outputs": [],
   "source": [
    "def hour_2(df):\n",
    "    \n",
    "    list_hour_2 = []\n",
    "    \n",
    "    for hour in df['base_hour']:\n",
    "        \n",
    "        hour = hour.replace('시' , '')\n",
    "        \n",
    "        hour = int(hour) * 2\n",
    "        \n",
    "        hour = str(hour) + '시 /2'\n",
    "        \n",
    "        list_hour_2.append(hour)\n",
    "        \n",
    "    df['hour_2'] = list_hour_2"
   ]
  },
  {
   "cell_type": "code",
   "execution_count": null,
   "id": "22f2fd54",
   "metadata": {},
   "outputs": [],
   "source": [
    "hour_2(df_train)\n",
    "hour_2(df_test)"
   ]
  },
  {
   "cell_type": "markdown",
   "id": "8e255ea8",
   "metadata": {},
   "source": [
    "day_of_week"
   ]
  },
  {
   "cell_type": "code",
   "execution_count": null,
   "id": "c7339e52",
   "metadata": {},
   "outputs": [],
   "source": [
    "def week_2(df):\n",
    "    \n",
    "    list_week_2 = []\n",
    "    \n",
    "    for week in df['day_of_week']:\n",
    "        \n",
    "        week = week + '요일'\n",
    "        \n",
    "        list_week_2.append(week)\n",
    "        \n",
    "    df['week_2'] = list_week_2"
   ]
  },
  {
   "cell_type": "code",
   "execution_count": null,
   "id": "0a236acf",
   "metadata": {},
   "outputs": [],
   "source": [
    "week_2(df_train)\n",
    "week_2(df_test)"
   ]
  },
  {
   "cell_type": "markdown",
   "id": "a9da4dea",
   "metadata": {},
   "source": [
    "maximum_speed_limit"
   ]
  },
  {
   "cell_type": "code",
   "execution_count": null,
   "id": "02df7a4c",
   "metadata": {},
   "outputs": [],
   "source": [
    "def speed_2(df):\n",
    "    \n",
    "    list_speed_2 = []\n",
    "    \n",
    "    for speed in df['maximum_speed_limit']:\n",
    "        \n",
    "        speed = speed + '_2'\n",
    "        \n",
    "        list_speed_2.append(speed)\n",
    "        \n",
    "    df['speed_limit_2'] = list_speed_2"
   ]
  },
  {
   "cell_type": "code",
   "execution_count": null,
   "id": "f57e2c2f",
   "metadata": {},
   "outputs": [],
   "source": [
    "speed_2(df_train)\n",
    "speed_2(df_test)"
   ]
  },
  {
   "cell_type": "markdown",
   "id": "e6e14f10",
   "metadata": {},
   "source": [
    "lane_count"
   ]
  },
  {
   "cell_type": "code",
   "execution_count": null,
   "id": "8cb1e0a1",
   "metadata": {},
   "outputs": [],
   "source": [
    "def count_2(df):\n",
    "    \n",
    "    list_count_2 = []\n",
    "    \n",
    "    for count in df['lane_count']:\n",
    "        \n",
    "        count = count + '_2'\n",
    "        \n",
    "        list_count_2.append(count)\n",
    "        \n",
    "    df['count_2'] = list_count_2"
   ]
  },
  {
   "cell_type": "code",
   "execution_count": null,
   "id": "d6b1dbcd",
   "metadata": {},
   "outputs": [],
   "source": [
    "count_2(df_train)\n",
    "count_2(df_test)"
   ]
  },
  {
   "cell_type": "markdown",
   "id": "aa00859b",
   "metadata": {},
   "source": [
    "coordinate"
   ]
  },
  {
   "cell_type": "code",
   "execution_count": null,
   "id": "b6359b63",
   "metadata": {},
   "outputs": [],
   "source": [
    "def coordinate_2(df):\n",
    "    \n",
    "    list_coordinate_2 = []\n",
    "    \n",
    "    for coordinate in df['coordinate']:\n",
    "        \n",
    "        coordinate = coordinate + '_2'\n",
    "        \n",
    "        list_coordinate_2.append(coordinate)\n",
    "        \n",
    "    df['coordinate_2'] = list_coordinate_2"
   ]
  },
  {
   "cell_type": "code",
   "execution_count": null,
   "id": "6159d59b",
   "metadata": {},
   "outputs": [],
   "source": [
    "coordinate_2(df_train)\n",
    "coordinate_2(df_test)"
   ]
  },
  {
   "cell_type": "markdown",
   "id": "c1be68c7",
   "metadata": {},
   "source": [
    "week_hour"
   ]
  },
  {
   "cell_type": "code",
   "execution_count": null,
   "id": "eeec2d75",
   "metadata": {},
   "outputs": [],
   "source": [
    "def week_hour_2(df):\n",
    "    \n",
    "    list_week_hour_2 = []\n",
    "    \n",
    "    for week_hour in df['week_hour']:\n",
    "        \n",
    "        week_hour = week_hour + '_2'\n",
    "        \n",
    "        list_week_hour_2.append(week_hour)\n",
    "    \n",
    "    df['week_hour_2'] = list_week_hour_2"
   ]
  },
  {
   "cell_type": "code",
   "execution_count": null,
   "id": "42af101c",
   "metadata": {},
   "outputs": [],
   "source": [
    "week_hour_2(df_train)\n",
    "week_hour_2(df_test)"
   ]
  },
  {
   "cell_type": "markdown",
   "id": "9eeb1f0c",
   "metadata": {},
   "source": [
    "road_rating"
   ]
  },
  {
   "cell_type": "code",
   "execution_count": null,
   "id": "2c01a1ef",
   "metadata": {},
   "outputs": [],
   "source": [
    "def road_rating_2(df):\n",
    "    \n",
    "    list_road_rating_2 = []\n",
    "    \n",
    "    for road_rating in df['road_rating']:\n",
    "        \n",
    "        road_rating = road_rating + '_2'\n",
    "        \n",
    "        list_road_rating_2.append(road_rating)\n",
    "    \n",
    "    df['road_rating_2'] = list_road_rating_2"
   ]
  },
  {
   "cell_type": "code",
   "execution_count": null,
   "id": "5a151013",
   "metadata": {},
   "outputs": [],
   "source": [
    "road_rating_2(df_train)\n",
    "road_rating_2(df_test)"
   ]
  },
  {
   "cell_type": "markdown",
   "id": "77efbf2e",
   "metadata": {},
   "source": [
    "connect_code"
   ]
  },
  {
   "cell_type": "code",
   "execution_count": null,
   "id": "8ccf7ea2",
   "metadata": {},
   "outputs": [],
   "source": [
    "def connect_code_2(df):\n",
    "    \n",
    "    list_connect_code_2 = []\n",
    "    \n",
    "    for connect_code in df['connect_code']:\n",
    "        \n",
    "        connect_code = connect_code + '_2'\n",
    "        \n",
    "        list_connect_code_2.append(connect_code)\n",
    "    \n",
    "    df['connect_code_2'] = list_connect_code_2"
   ]
  },
  {
   "cell_type": "code",
   "execution_count": null,
   "id": "67ea856d",
   "metadata": {},
   "outputs": [],
   "source": [
    "connect_code_2(df_train)\n",
    "connect_code_2(df_test)"
   ]
  },
  {
   "cell_type": "markdown",
   "id": "5e7d6b90",
   "metadata": {},
   "source": [
    "weight_restricted"
   ]
  },
  {
   "cell_type": "code",
   "execution_count": null,
   "id": "5a23b401",
   "metadata": {},
   "outputs": [],
   "source": [
    "def weight_restricted_2(df):\n",
    "    \n",
    "    list_weight_restricted_2 = []\n",
    "    \n",
    "    for weight_restricted in df['weight_restricted']:\n",
    "        \n",
    "        weight_restricted = weight_restricted + '_2'\n",
    "        \n",
    "        list_weight_restricted_2.append(weight_restricted)\n",
    "    \n",
    "    df['weight_restricted_2'] = list_weight_restricted_2"
   ]
  },
  {
   "cell_type": "code",
   "execution_count": null,
   "id": "95318f97",
   "metadata": {},
   "outputs": [],
   "source": [
    "weight_restricted_2(df_train)\n",
    "weight_restricted_2(df_test)"
   ]
  },
  {
   "cell_type": "markdown",
   "id": "89193fac",
   "metadata": {},
   "source": [
    "road_type"
   ]
  },
  {
   "cell_type": "code",
   "execution_count": null,
   "id": "bc3ebf39",
   "metadata": {},
   "outputs": [],
   "source": [
    "def road_type_2(df):\n",
    "    \n",
    "    list_road_type_2 = []\n",
    "    \n",
    "    for road_type in df['road_type']:\n",
    "        \n",
    "        road_type = road_type + '_2'\n",
    "        \n",
    "        list_road_type_2.append(road_type)\n",
    "    \n",
    "    df['road_type_2'] = list_road_type_2"
   ]
  },
  {
   "cell_type": "code",
   "execution_count": null,
   "id": "e48631a5",
   "metadata": {},
   "outputs": [],
   "source": [
    "road_type_2(df_train)\n",
    "road_type_2(df_test)"
   ]
  },
  {
   "cell_type": "markdown",
   "id": "fa23b42c",
   "metadata": {},
   "source": [
    "start_turn_restricted"
   ]
  },
  {
   "cell_type": "code",
   "execution_count": null,
   "id": "05ccd5d6",
   "metadata": {},
   "outputs": [],
   "source": [
    "def start_turn_restricted_2(df):\n",
    "    \n",
    "    list_start_turn_restricted_2 = []\n",
    "    \n",
    "    for start_turn_restricted in df['start_turn_restricted']:\n",
    "        \n",
    "        start_turn_restricted = start_turn_restricted + '_2'\n",
    "        \n",
    "        list_start_turn_restricted_2.append(start_turn_restricted)\n",
    "    \n",
    "    df['start_turn_restricted_2'] = list_start_turn_restricted_2"
   ]
  },
  {
   "cell_type": "code",
   "execution_count": null,
   "id": "c7c083bc",
   "metadata": {},
   "outputs": [],
   "source": [
    "start_turn_restricted_2(df_train)\n",
    "start_turn_restricted_2(df_test)"
   ]
  },
  {
   "cell_type": "markdown",
   "id": "8f1339a1",
   "metadata": {},
   "source": [
    "end_turn_restricted"
   ]
  },
  {
   "cell_type": "code",
   "execution_count": null,
   "id": "dc2077c4",
   "metadata": {},
   "outputs": [],
   "source": [
    "def end_turn_restricted_2(df):\n",
    "    \n",
    "    list_end_turn_restricted_2 = []\n",
    "    \n",
    "    for end_turn_restricted in df['end_turn_restricted']:\n",
    "        \n",
    "        end_turn_restricted = end_turn_restricted + '_2'\n",
    "        \n",
    "        list_end_turn_restricted_2.append(end_turn_restricted)\n",
    "    \n",
    "    df['end_turn_restricted_2'] = list_end_turn_restricted_2"
   ]
  },
  {
   "cell_type": "code",
   "execution_count": null,
   "id": "75232966",
   "metadata": {},
   "outputs": [],
   "source": [
    "end_turn_restricted_2(df_train)\n",
    "end_turn_restricted_2(df_test)"
   ]
  },
  {
   "cell_type": "markdown",
   "id": "dc4246ac",
   "metadata": {},
   "source": [
    "multi_linked"
   ]
  },
  {
   "cell_type": "code",
   "execution_count": null,
   "id": "c2ab6875",
   "metadata": {},
   "outputs": [],
   "source": [
    "def multi_linked_2(df):\n",
    "    \n",
    "    list_multi_linked_2 = []\n",
    "    \n",
    "    for multi_linked in df['multi_linked']:\n",
    "        \n",
    "        multi_linked = multi_linked + '_2'\n",
    "        \n",
    "        list_multi_linked_2.append(multi_linked)\n",
    "    \n",
    "    df['multi_linked_2'] = list_multi_linked_2"
   ]
  },
  {
   "cell_type": "code",
   "execution_count": null,
   "id": "14f0be95",
   "metadata": {},
   "outputs": [],
   "source": [
    "multi_linked_2(df_train)\n",
    "multi_linked_2(df_test)"
   ]
  },
  {
   "cell_type": "markdown",
   "id": "dae462c1",
   "metadata": {},
   "source": [
    "connect_code"
   ]
  },
  {
   "cell_type": "code",
   "execution_count": null,
   "id": "de924db8",
   "metadata": {},
   "outputs": [],
   "source": [
    "def connect_code_2(df):\n",
    "    \n",
    "    list_connect_code_2 = []\n",
    "    \n",
    "    for connect_code in df['connect_code']:\n",
    "        \n",
    "        connect_code = connect_code + '_2'\n",
    "        \n",
    "        list_connect_code_2.append(connect_code)\n",
    "    \n",
    "    df['connect_code_2'] = list_connect_code_2"
   ]
  },
  {
   "cell_type": "code",
   "execution_count": null,
   "id": "7ab8b090",
   "metadata": {},
   "outputs": [],
   "source": [
    "connect_code_2(df_train)\n",
    "connect_code_2(df_test)"
   ]
  },
  {
   "cell_type": "markdown",
   "id": "12aea84c",
   "metadata": {},
   "source": [
    "# 파일 저장"
   ]
  },
  {
   "cell_type": "code",
   "execution_count": null,
   "id": "ef944c58",
   "metadata": {},
   "outputs": [],
   "source": [
    "df_test.columns"
   ]
  },
  {
   "cell_type": "code",
   "execution_count": null,
   "id": "bb704359",
   "metadata": {},
   "outputs": [],
   "source": [
    "len(df_test.columns)"
   ]
  },
  {
   "cell_type": "code",
   "execution_count": null,
   "id": "bf86d107",
   "metadata": {},
   "outputs": [],
   "source": [
    "del_cols = ['holiday', 'peak_season', 'weekend',\n",
    "            'multi_linked_2', 'date_2', 'rest_time',\n",
    "            'time', 'turn']"
   ]
  },
  {
   "cell_type": "code",
   "execution_count": null,
   "id": "754bf6b2",
   "metadata": {},
   "outputs": [],
   "source": [
    "df_train.drop(columns=del_cols, inplace=True)\n",
    "print('Complete')\n",
    "\n",
    "df_test.drop(columns=del_cols, inplace=True)\n",
    "print('Complete')"
   ]
  },
  {
   "cell_type": "code",
   "execution_count": null,
   "id": "34d87fd9",
   "metadata": {},
   "outputs": [],
   "source": [
    "df_train.to_csv('df_train_V8.csv', encoding='UTF-8')\n",
    "df_test.to_csv('df_test_V8.csv', encoding='UTF-8')"
   ]
  },
  {
   "cell_type": "code",
   "execution_count": null,
   "id": "a463a421",
   "metadata": {},
   "outputs": [],
   "source": []
  }
 ],
 "metadata": {
  "kernelspec": {
   "display_name": "Python 3.10.5 64-bit",
   "language": "python",
   "name": "python3"
  },
  "language_info": {
   "codemirror_mode": {
    "name": "ipython",
    "version": 3
   },
   "file_extension": ".py",
   "mimetype": "text/x-python",
   "name": "python",
   "nbconvert_exporter": "python",
   "pygments_lexer": "ipython3",
   "version": "3.10.5"
  },
  "vscode": {
   "interpreter": {
    "hash": "aee8b7b246df8f9039afb4144a1f6fd8d2ca17a180786b69acc140d282b71a49"
   }
  }
 },
 "nbformat": 4,
 "nbformat_minor": 5
}
